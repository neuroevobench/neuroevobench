{
 "cells": [
  {
   "attachments": {},
   "cell_type": "markdown",
   "id": "ce660e6c-1d05-413d-8dd3-9a3de2671276",
   "metadata": {},
   "source": [
    "# Welcome to `NeuroEvoBench` 👋 [![Colab](https://colab.research.google.com/assets/colab-badge.svg)](https://colab.research.google.com/github/neuroevobench/neuroevobench/blob/main/examples/neb_introduction.ipynb)\n",
    "\n",
    "In the following mini-tutorial we walk through the core functionality of the `NeuroEvoBench` benchmark. More specifically, we show how to run a random search sweep using a Simple Evolution Strategy (ES) implemented in [`evosax`](https://github.com/RobertTLange/evosax/) on a set of simple (and fast to evaluate) BBOB functions. All of the task evaluations follow the same protocol. Let's start by importing the benchmark and `evosax`."
   ]
  },
  {
   "cell_type": "code",
   "execution_count": 1,
   "id": "99e7d883-ecfc-4602-9b8f-816844f7d212",
   "metadata": {},
   "outputs": [
    {
     "name": "stderr",
     "output_type": "stream",
     "text": [
      "<frozen importlib._bootstrap>:228: RuntimeWarning: scipy._lib.messagestream.MessageStream size changed, may indicate binary incompatibility. Expected 56 from C header, got 64 from PyObject\n"
     ]
    },
    {
     "name": "stdout",
     "output_type": "stream",
     "text": [
      "envpool not installed, Atari problems will not work.\n",
      "envpool not installed, Atari problems will not work.\n",
      "You need to install brax for Brax tasks:\n",
      "  pip install git+https://github.com/google/brax.git@main\n"
     ]
    }
   ],
   "source": [
    "%load_ext autoreload\n",
    "%autoreload 2\n",
    "%config InlineBackend.figure_format = 'retina'\n",
    "\n",
    "try:\n",
    "    import evosax\n",
    "    import neuroevobench\n",
    "except Exception:\n",
    "    !pip install -q git+https://github.com/RobertTLange/evosax.git@main\n",
    "    !pip install -q git+https://github.com/neuroevobench/neuroevobench.git@main\n",
    "    \n",
    "    import evosax\n",
    "    import neuroevobench"
   ]
  },
  {
   "attachments": {},
   "cell_type": "markdown",
   "id": "f84e5944",
   "metadata": {},
   "source": [
    "# Evolution Strategy Setup & `evosax` API "
   ]
  },
  {
   "cell_type": "code",
   "execution_count": 1,
   "id": "ba1fb3c7",
   "metadata": {},
   "outputs": [
    {
     "data": {
      "text/plain": [
       "EvoParams(c_sigma=0.1, c_m=1.0, sigma_init=1.0, init_min=-3, init_max=3, clip_min=-3.4028235e+38, clip_max=3.4028235e+38)"
      ]
     },
     "execution_count": 1,
     "metadata": {},
     "output_type": "execute_result"
    }
   ],
   "source": [
    "import jax\n",
    "import jax.numpy as jnp\n",
    "from evosax import SimpleES\n",
    "\n",
    "# Instantiate the evolution strategy instance\n",
    "strategy = SimpleES(num_dims=2, popsize=10)\n",
    "\n",
    "# Get default hyperparameters (e.g. lrate, etc.)\n",
    "es_params = strategy.default_params\n",
    "es_params = es_params.replace(init_min= -3, init_max=3)\n",
    "\n",
    "# Initialize the strategy\n",
    "rng = jax.random.PRNGKey(0)\n",
    "state = strategy.initialize(rng, es_params)\n",
    "\n",
    "# Have a look at the hyperparameters (change if desired)\n",
    "es_params"
   ]
  },
  {
   "attachments": {},
   "cell_type": "markdown",
   "id": "12677cb6",
   "metadata": {},
   "source": [
    "# `BBOB` task setup & running a single eval"
   ]
  },
  {
   "cell_type": "code",
   "execution_count": 3,
   "id": "dacb8390",
   "metadata": {},
   "outputs": [
    {
     "name": "stdout",
     "output_type": "stream",
     "text": [
      "bbob: START EVOLVING 2 PARAMETERS.\n",
      "{'num_gens': 50} {'test_eval_perf': -213.34922790527344, 'Sphere_mean': DeviceArray(0.00208277, dtype=float32), 'RosenbrockRotated_mean': DeviceArray(0.59280723, dtype=float32), 'Discus_mean': DeviceArray(3785.8782, dtype=float32), 'RastriginRotated_mean': DeviceArray(23.384197, dtype=float32), 'Schwefel_mean': DeviceArray(3.7671869, dtype=float32), 'BuecheRastrigin_mean': DeviceArray(28.045166, dtype=float32), 'AttractiveSector_mean': DeviceArray(0.550129, dtype=float32), 'Weierstrass_mean': DeviceArray(29.481977, dtype=float32), 'SchaffersF7_mean': DeviceArray(0.54004943, dtype=float32), 'GriewankRosenbrock_mean': DeviceArray(14.863263, dtype=float32), 'EllipsoidalOriginal_mean': DeviceArray(85.39087, dtype=float32), 'RastriginOriginal_mean': DeviceArray(23.81484, dtype=float32), 'LinearSlope_mean': DeviceArray(-266.49292, dtype=float32), 'StepEllipsoidal_mean': DeviceArray(1.4745407, dtype=float32), 'RosenbrockOriginal_mean': DeviceArray(1.094798, dtype=float32), 'EllipsoidalRotated_mean': DeviceArray(939.9855, dtype=float32), 'BentCigar_mean': DeviceArray(191.62193, dtype=float32), 'SharpRidge_mean': DeviceArray(8.062777, dtype=float32), 'DifferentPowers_mean': DeviceArray(0.03777822, dtype=float32), 'SchaffersF7IllConditioned_mean': DeviceArray(6.764751, dtype=float32), 'Lunacek_mean': DeviceArray(24.104494, dtype=float32), 'Gallagher101Me_mean': DeviceArray(1.7854044, dtype=float32), 'Gallagher21Hi_mean': DeviceArray(2.2823064, dtype=float32), 'Sphere_best': DeviceArray(0.00052762, dtype=float32), 'RosenbrockRotated_best': DeviceArray(0.09125638, dtype=float32), 'Discus_best': DeviceArray(4.812412, dtype=float32), 'RastriginRotated_best': DeviceArray(0.8357393, dtype=float32), 'Schwefel_best': DeviceArray(0.636275, dtype=float32), 'BuecheRastrigin_best': DeviceArray(-17.441784, dtype=float32), 'AttractiveSector_best': DeviceArray(0.02366788, dtype=float32), 'Weierstrass_best': DeviceArray(0.09828302, dtype=float32), 'SchaffersF7_best': DeviceArray(0.09385712, dtype=float32), 'GriewankRosenbrock_best': DeviceArray(0.03621655, dtype=float32), 'EllipsoidalOriginal_best': DeviceArray(2.7046425, dtype=float32), 'RastriginOriginal_best': DeviceArray(0.7496454, dtype=float32), 'LinearSlope_best': DeviceArray(-274.53073, dtype=float32), 'StepEllipsoidal_best': DeviceArray(0.86906856, dtype=float32), 'RosenbrockOriginal_best': DeviceArray(0.08806523, dtype=float32), 'EllipsoidalRotated_best': DeviceArray(2.512314, dtype=float32), 'BentCigar_best': DeviceArray(2.5370705, dtype=float32), 'SharpRidge_best': DeviceArray(0.28246102, dtype=float32), 'DifferentPowers_best': DeviceArray(0.00286201, dtype=float32), 'SchaffersF7IllConditioned_best': DeviceArray(0.5938619, dtype=float32), 'Lunacek_best': DeviceArray(1.6109947, dtype=float32), 'Gallagher101Me_best': DeviceArray(0.5216693, dtype=float32), 'Gallagher21Hi_best': DeviceArray(0.7288467, dtype=float32)}\n"
     ]
    }
   ],
   "source": [
    "from neuroevobench.problems.bbob import BBOBEvaluator\n",
    "\n",
    "popsize = 10\n",
    "num_dims = 2\n",
    "es_config = {}\n",
    "es_params = {}\n",
    "num_eval_runs = 5\n",
    "seed_id = 42\n",
    "num_generations = 50\n",
    "\n",
    "\n",
    "# 1. Setup task evaluator with strategy\n",
    "evaluator = BBOBEvaluator(\n",
    "    popsize=popsize,\n",
    "    num_dims=num_dims,\n",
    "    es_strategy=SimpleES,\n",
    "    es_config=es_config,\n",
    "    es_params=es_params,\n",
    "    num_eval_runs=num_eval_runs,\n",
    "    seed_id=seed_id,\n",
    ")\n",
    "\n",
    "# 2. Run the ES loop with logging\n",
    "evaluator.run(num_generations)"
   ]
  },
  {
   "cell_type": "code",
   "execution_count": 4,
   "id": "3765babe",
   "metadata": {},
   "outputs": [
    {
     "data": {
      "text/plain": [
       "-213.34922790527344"
      ]
     },
     "execution_count": 4,
     "metadata": {},
     "output_type": "execute_result"
    }
   ],
   "source": [
    "# Average task performance across all BBOB functions\n",
    "evaluator.fitness_eval"
   ]
  },
  {
   "attachments": {},
   "cell_type": "markdown",
   "id": "b702c682",
   "metadata": {},
   "source": [
    "# Sequential Random Search Sweep"
   ]
  },
  {
   "cell_type": "code",
   "execution_count": 5,
   "id": "dd8fddf7",
   "metadata": {},
   "outputs": [],
   "source": [
    "import copy\n",
    "from dotmap import DotMap\n",
    "\n",
    "from mle_hyperopt import RandomSearch\n",
    "from neuroevobench.problems import neb_eval_loops"
   ]
  },
  {
   "cell_type": "code",
   "execution_count": 6,
   "id": "36b5d2d0",
   "metadata": {},
   "outputs": [
    {
     "data": {
      "text/html": [
       "<pre style=\"white-space:pre;overflow-x:auto;line-height:normal;font-family:Menlo,'DejaVu Sans Mono',consolas,'Courier New',monospace\">         <span style=\"font-style: italic\">              MLE-Hyperopt Random Hyperspace 🚀               </span>         \n",
       "                                                                                \n",
       "          <span style=\"font-weight: bold\"> 🌻 Variable </span> <span style=\"font-weight: bold\"> Type </span> <span style=\"color: #800000; text-decoration-color: #800000; font-weight: bold\"> Search Range ↔                        </span>          \n",
       "          ────────────────────────────────────────────────────────────          \n",
       "           sigma_init    real  <span style=\"color: #800000; text-decoration-color: #800000\"> Begin: 0.01, End: 0.5, Prior: uniform </span>          \n",
       "                                                                                \n",
       "</pre>\n"
      ],
      "text/plain": [
       "         \u001b[3m              MLE-Hyperopt Random Hyperspace 🚀               \u001b[0m         \n",
       "                                                                                \n",
       "          \u001b[1m \u001b[0m\u001b[1m🌻 Variable\u001b[0m\u001b[1m \u001b[0m \u001b[1m \u001b[0m\u001b[1mType\u001b[0m\u001b[1m \u001b[0m \u001b[1;31m \u001b[0m\u001b[1;31mSearch Range ↔                       \u001b[0m\u001b[1;31m \u001b[0m          \n",
       "          ────────────────────────────────────────────────────────────          \n",
       "           sigma_init    real  \u001b[31m \u001b[0m\u001b[31mBegin: 0.01, End: 0.5, Prior: uniform\u001b[0m\u001b[31m \u001b[0m          \n",
       "                                                                                \n"
      ]
     },
     "metadata": {},
     "output_type": "display_data"
    }
   ],
   "source": [
    "# Setup the search strategy for sequential evaluation\n",
    "hyper_strategy = RandomSearch(\n",
    "    real={\"sigma_init\": {\"begin\": 0.01, \"end\": 0.5, \"prior\": \"uniform\"}},\n",
    "    search_config={\n",
    "        \"refine_after\": 10,\n",
    "        \"refine_top_k\": 5\n",
    "    },\n",
    "    maximize_objective=True,\n",
    "    seed_id=0,\n",
    "    verbose=True,\n",
    ")\n",
    "\n",
    "\n",
    "config = DotMap({\n",
    "    \"strategy_name\": \"SimpleES\",  # Uses SimpleES implemented by evosax\n",
    "    \"popsize\": 10,\n",
    "    \"num_dims\": 2,\n",
    "    \"es_config\": {},\n",
    "    \"es_params\": {},\n",
    "    \"num_eval_runs\": 5,\n",
    "    \"seed_id\": 42,\n",
    "    \"num_generations\": 50\n",
    "})"
   ]
  },
  {
   "cell_type": "code",
   "execution_count": 7,
   "id": "4cd22a70",
   "metadata": {},
   "outputs": [
    {
     "name": "stdout",
     "output_type": "stream",
     "text": [
      "bbob: START EVOLVING 2 PARAMETERS.\n",
      "{'num_gens': 50, 'iter_id': 0} {'test_eval_perf': -21.574684143066406, 'Sphere_mean': DeviceArray(0.00016203, dtype=float32), 'RosenbrockRotated_mean': DeviceArray(0.27455124, dtype=float32), 'Discus_mean': DeviceArray(262.93015, dtype=float32), 'RastriginRotated_mean': DeviceArray(11.297349, dtype=float32), 'Schwefel_mean': DeviceArray(3.3801732, dtype=float32), 'BuecheRastrigin_mean': DeviceArray(2.0099385, dtype=float32), 'AttractiveSector_mean': DeviceArray(0.07498827, dtype=float32), 'Weierstrass_mean': DeviceArray(0.63930243, dtype=float32), 'SchaffersF7_mean': DeviceArray(0.17726558, dtype=float32), 'GriewankRosenbrock_mean': DeviceArray(8.454251, dtype=float32), 'EllipsoidalOriginal_mean': DeviceArray(20.129179, dtype=float32), 'RastriginOriginal_mean': DeviceArray(12.772013, dtype=float32), 'LinearSlope_mean': DeviceArray(-21.587547, dtype=float32), 'StepEllipsoidal_mean': DeviceArray(3.9564817, dtype=float32), 'RosenbrockOriginal_mean': DeviceArray(0.29550186, dtype=float32), 'EllipsoidalRotated_mean': DeviceArray(158.57677, dtype=float32), 'BentCigar_mean': DeviceArray(10.716053, dtype=float32), 'SharpRidge_mean': DeviceArray(2.1852157, dtype=float32), 'DifferentPowers_mean': DeviceArray(0.00733137, dtype=float32), 'SchaffersF7IllConditioned_mean': DeviceArray(1.828768, dtype=float32), 'Lunacek_mean': DeviceArray(18.087488, dtype=float32), 'Gallagher101Me_mean': DeviceArray(0.00092196, dtype=float32), 'Gallagher21Hi_mean': DeviceArray(0.01146854, dtype=float32), 'Sphere_best': DeviceArray(4.1046394e-05, dtype=float32), 'RosenbrockRotated_best': DeviceArray(0.06306902, dtype=float32), 'Discus_best': DeviceArray(0.5317392, dtype=float32), 'RastriginRotated_best': DeviceArray(0.23888297, dtype=float32), 'Schwefel_best': DeviceArray(1.5855554, dtype=float32), 'BuecheRastrigin_best': DeviceArray(-19.356657, dtype=float32), 'AttractiveSector_best': DeviceArray(0.00363927, dtype=float32), 'Weierstrass_best': DeviceArray(0.0052157, dtype=float32), 'SchaffersF7_best': DeviceArray(0.01667425, dtype=float32), 'GriewankRosenbrock_best': DeviceArray(0.00163822, dtype=float32), 'EllipsoidalOriginal_best': DeviceArray(0.19302796, dtype=float32), 'RastriginOriginal_best': DeviceArray(0.26746103, dtype=float32), 'LinearSlope_best': DeviceArray(-23.829435, dtype=float32), 'StepEllipsoidal_best': DeviceArray(0.58198947, dtype=float32), 'RosenbrockOriginal_best': DeviceArray(0.00574644, dtype=float32), 'EllipsoidalRotated_best': DeviceArray(0.37274683, dtype=float32), 'BentCigar_best': DeviceArray(0.07856469, dtype=float32), 'SharpRidge_best': DeviceArray(0.2806678, dtype=float32), 'DifferentPowers_best': DeviceArray(0.00056379, dtype=float32), 'SchaffersF7IllConditioned_best': DeviceArray(0.26324835, dtype=float32), 'Lunacek_best': DeviceArray(2.5511777, dtype=float32), 'Gallagher101Me_best': DeviceArray(6.317738e-07, dtype=float32), 'Gallagher21Hi_best': DeviceArray(2.182004e-05, dtype=float32)}\n",
      "\n"
     ]
    },
    {
     "data": {
      "text/html": [
       "<pre style=\"white-space:pre;overflow-x:auto;line-height:normal;font-family:Menlo,'DejaVu Sans Mono',consolas,'Courier New',monospace\">   ┏━━━━━━━━━━━━━━━┳━━━━┳━━━━━━━━━┳━━━━━━━━━━━━━━━━━━━━━━━━━━━━━━━━━━━━━━━━┓    \n",
       "   ┃<span style=\"font-weight: bold\"> 📥 Total: 1   </span>┃<span style=\"font-weight: bold\"> ID </span>┃<span style=\"font-weight: bold\"> Obj. 📉 </span>┃<span style=\"font-weight: bold\"> Configuration 🔖 - 06/13/2023 15:20:15 </span>┃    \n",
       "   ┡━━━━━━━━━━━━━━━╇━━━━╇━━━━━━━━━╇━━━━━━━━━━━━━━━━━━━━━━━━━━━━━━━━━━━━━━━━┩    \n",
       "   │<span style=\"color: #7f7f7f; text-decoration-color: #7f7f7f\"> Best Overall  </span>│ 0  │ -21.575 │ 'sigma_init': 0.279                    │    \n",
       "   │<span style=\"color: #7f7f7f; text-decoration-color: #7f7f7f\"> Best in Batch </span>│ 0  │ -21.575 │ 'sigma_init': 0.279                    │    \n",
       "   └───────────────┴────┴─────────┴────────────────────────────────────────┘    \n",
       "</pre>\n"
      ],
      "text/plain": [
       "   ┏━━━━━━━━━━━━━━━┳━━━━┳━━━━━━━━━┳━━━━━━━━━━━━━━━━━━━━━━━━━━━━━━━━━━━━━━━━┓    \n",
       "   ┃\u001b[1m \u001b[0m\u001b[1m📥 Total: 1  \u001b[0m\u001b[1m \u001b[0m┃\u001b[1m \u001b[0m\u001b[1mID\u001b[0m\u001b[1m \u001b[0m┃\u001b[1m \u001b[0m\u001b[1mObj. 📉\u001b[0m\u001b[1m \u001b[0m┃\u001b[1m \u001b[0m\u001b[1mConfiguration 🔖 - 06/13/2023 15:20:15\u001b[0m\u001b[1m \u001b[0m┃    \n",
       "   ┡━━━━━━━━━━━━━━━╇━━━━╇━━━━━━━━━╇━━━━━━━━━━━━━━━━━━━━━━━━━━━━━━━━━━━━━━━━┩    \n",
       "   │\u001b[2m \u001b[0m\u001b[2mBest Overall \u001b[0m\u001b[2m \u001b[0m│ 0  │ -21.575 │ 'sigma_init': 0.279                    │    \n",
       "   │\u001b[2m \u001b[0m\u001b[2mBest in Batch\u001b[0m\u001b[2m \u001b[0m│ 0  │ -21.575 │ 'sigma_init': 0.279                    │    \n",
       "   └───────────────┴────┴─────────┴────────────────────────────────────────┘    \n"
      ]
     },
     "metadata": {},
     "output_type": "display_data"
    },
    {
     "name": "stdout",
     "output_type": "stream",
     "text": [
      "bbob: START EVOLVING 2 PARAMETERS.\n",
      "{'num_gens': 50, 'iter_id': 1} {'test_eval_perf': -34.40479278564453, 'Sphere_mean': DeviceArray(0.00027059, dtype=float32), 'RosenbrockRotated_mean': DeviceArray(0.3538096, dtype=float32), 'Discus_mean': DeviceArray(594.74286, dtype=float32), 'RastriginRotated_mean': DeviceArray(17.108307, dtype=float32), 'Schwefel_mean': DeviceArray(2.83757, dtype=float32), 'BuecheRastrigin_mean': DeviceArray(2.1512241, dtype=float32), 'AttractiveSector_mean': DeviceArray(0.11554252, dtype=float32), 'Weierstrass_mean': DeviceArray(1.4634793, dtype=float32), 'SchaffersF7_mean': DeviceArray(0.14000084, dtype=float32), 'GriewankRosenbrock_mean': DeviceArray(8.836069, dtype=float32), 'EllipsoidalOriginal_mean': DeviceArray(18.11529, dtype=float32), 'RastriginOriginal_mean': DeviceArray(12.940608, dtype=float32), 'LinearSlope_mean': DeviceArray(-49.27611, dtype=float32), 'StepEllipsoidal_mean': DeviceArray(1.3231727, dtype=float32), 'RosenbrockOriginal_mean': DeviceArray(0.384131, dtype=float32), 'EllipsoidalRotated_mean': DeviceArray(124.86806, dtype=float32), 'BentCigar_mean': DeviceArray(18.89978, dtype=float32), 'SharpRidge_mean': DeviceArray(3.1437688, dtype=float32), 'DifferentPowers_mean': DeviceArray(0.01126603, dtype=float32), 'SchaffersF7IllConditioned_mean': DeviceArray(3.3888862, dtype=float32), 'Lunacek_mean': DeviceArray(28.435535, dtype=float32), 'Gallagher101Me_mean': DeviceArray(0.44254622, dtype=float32), 'Gallagher21Hi_mean': DeviceArray(0.88408166, dtype=float32), 'Sphere_best': DeviceArray(6.8547626e-05, dtype=float32), 'RosenbrockRotated_best': DeviceArray(0.07741728, dtype=float32), 'Discus_best': DeviceArray(1.2899727, dtype=float32), 'RastriginRotated_best': DeviceArray(0.3249163, dtype=float32), 'Schwefel_best': DeviceArray(0.9785181, dtype=float32), 'BuecheRastrigin_best': DeviceArray(-19.5288, dtype=float32), 'AttractiveSector_best': DeviceArray(0.00292385, dtype=float32), 'Weierstrass_best': DeviceArray(0.04122551, dtype=float32), 'SchaffersF7_best': DeviceArray(0.01401521, dtype=float32), 'GriewankRosenbrock_best': DeviceArray(0.00514755, dtype=float32), 'EllipsoidalOriginal_best': DeviceArray(0.37320217, dtype=float32), 'RastriginOriginal_best': DeviceArray(0.34535077, dtype=float32), 'LinearSlope_best': DeviceArray(-52.173286, dtype=float32), 'StepEllipsoidal_best': DeviceArray(0.72552854, dtype=float32), 'RosenbrockOriginal_best': DeviceArray(0.02460198, dtype=float32), 'EllipsoidalRotated_best': DeviceArray(0.6944162, dtype=float32), 'BentCigar_best': DeviceArray(0.31414634, dtype=float32), 'SharpRidge_best': DeviceArray(0.35207468, dtype=float32), 'DifferentPowers_best': DeviceArray(0.00058492, dtype=float32), 'SchaffersF7IllConditioned_best': DeviceArray(0.20430608, dtype=float32), 'Lunacek_best': DeviceArray(4.5171666, dtype=float32), 'Gallagher101Me_best': DeviceArray(0.00947724, dtype=float32), 'Gallagher21Hi_best': DeviceArray(0.00053497, dtype=float32)}\n",
      "\n"
     ]
    },
    {
     "data": {
      "text/html": [
       "<pre style=\"white-space:pre;overflow-x:auto;line-height:normal;font-family:Menlo,'DejaVu Sans Mono',consolas,'Courier New',monospace\">   ┏━━━━━━━━━━━━━━━┳━━━━┳━━━━━━━━━┳━━━━━━━━━━━━━━━━━━━━━━━━━━━━━━━━━━━━━━━━┓    \n",
       "   ┃<span style=\"font-weight: bold\"> 📥 Total: 2   </span>┃<span style=\"font-weight: bold\"> ID </span>┃<span style=\"font-weight: bold\"> Obj. 📉 </span>┃<span style=\"font-weight: bold\"> Configuration 🔖 - 06/13/2023 15:20:44 </span>┃    \n",
       "   ┡━━━━━━━━━━━━━━━╇━━━━╇━━━━━━━━━╇━━━━━━━━━━━━━━━━━━━━━━━━━━━━━━━━━━━━━━━━┩    \n",
       "   │<span style=\"color: #7f7f7f; text-decoration-color: #7f7f7f\"> Best Overall  </span>│ 0  │ -21.575 │ 'sigma_init': 0.279                    │    \n",
       "   │<span style=\"color: #7f7f7f; text-decoration-color: #7f7f7f\"> Best in Batch </span>│ 1  │ -34.405 │ 'sigma_init': 0.36                     │    \n",
       "   └───────────────┴────┴─────────┴────────────────────────────────────────┘    \n",
       "</pre>\n"
      ],
      "text/plain": [
       "   ┏━━━━━━━━━━━━━━━┳━━━━┳━━━━━━━━━┳━━━━━━━━━━━━━━━━━━━━━━━━━━━━━━━━━━━━━━━━┓    \n",
       "   ┃\u001b[1m \u001b[0m\u001b[1m📥 Total: 2  \u001b[0m\u001b[1m \u001b[0m┃\u001b[1m \u001b[0m\u001b[1mID\u001b[0m\u001b[1m \u001b[0m┃\u001b[1m \u001b[0m\u001b[1mObj. 📉\u001b[0m\u001b[1m \u001b[0m┃\u001b[1m \u001b[0m\u001b[1mConfiguration 🔖 - 06/13/2023 15:20:44\u001b[0m\u001b[1m \u001b[0m┃    \n",
       "   ┡━━━━━━━━━━━━━━━╇━━━━╇━━━━━━━━━╇━━━━━━━━━━━━━━━━━━━━━━━━━━━━━━━━━━━━━━━━┩    \n",
       "   │\u001b[2m \u001b[0m\u001b[2mBest Overall \u001b[0m\u001b[2m \u001b[0m│ 0  │ -21.575 │ 'sigma_init': 0.279                    │    \n",
       "   │\u001b[2m \u001b[0m\u001b[2mBest in Batch\u001b[0m\u001b[2m \u001b[0m│ 1  │ -34.405 │ 'sigma_init': 0.36                     │    \n",
       "   └───────────────┴────┴─────────┴────────────────────────────────────────┘    \n"
      ]
     },
     "metadata": {},
     "output_type": "display_data"
    },
    {
     "name": "stdout",
     "output_type": "stream",
     "text": [
      "bbob: START EVOLVING 2 PARAMETERS.\n",
      "{'num_gens': 50, 'iter_id': 2} {'test_eval_perf': -20.56562614440918, 'Sphere_mean': DeviceArray(0.0001942, dtype=float32), 'RosenbrockRotated_mean': DeviceArray(0.31130585, dtype=float32), 'Discus_mean': DeviceArray(358.07855, dtype=float32), 'RastriginRotated_mean': DeviceArray(12.835216, dtype=float32), 'Schwefel_mean': DeviceArray(2.9397182, dtype=float32), 'BuecheRastrigin_mean': DeviceArray(-6.807995, dtype=float32), 'AttractiveSector_mean': DeviceArray(0.07508777, dtype=float32), 'Weierstrass_mean': DeviceArray(0.54412144, dtype=float32), 'SchaffersF7_mean': DeviceArray(0.2482125, dtype=float32), 'GriewankRosenbrock_mean': DeviceArray(7.413588, dtype=float32), 'EllipsoidalOriginal_mean': DeviceArray(15.42706, dtype=float32), 'RastriginOriginal_mean': DeviceArray(10.985679, dtype=float32), 'LinearSlope_mean': DeviceArray(-30.565994, dtype=float32), 'StepEllipsoidal_mean': DeviceArray(1.5632765, dtype=float32), 'RosenbrockOriginal_mean': DeviceArray(0.32640016, dtype=float32), 'EllipsoidalRotated_mean': DeviceArray(57.99423, dtype=float32), 'BentCigar_mean': DeviceArray(16.490362, dtype=float32), 'SharpRidge_mean': DeviceArray(1.8474873, dtype=float32), 'DifferentPowers_mean': DeviceArray(0.01078648, dtype=float32), 'SchaffersF7IllConditioned_mean': DeviceArray(1.2328006, dtype=float32), 'Lunacek_mean': DeviceArray(22.04131, dtype=float32), 'Gallagher101Me_mean': DeviceArray(0.00016604, dtype=float32), 'Gallagher21Hi_mean': DeviceArray(0.01788264, dtype=float32), 'Sphere_best': DeviceArray(4.9195976e-05, dtype=float32), 'RosenbrockRotated_best': DeviceArray(0.05793387, dtype=float32), 'Discus_best': DeviceArray(0.36698952, dtype=float32), 'RastriginRotated_best': DeviceArray(0.43542862, dtype=float32), 'Schwefel_best': DeviceArray(1.6809555, dtype=float32), 'BuecheRastrigin_best': DeviceArray(-19.66521, dtype=float32), 'AttractiveSector_best': DeviceArray(0.00409702, dtype=float32), 'Weierstrass_best': DeviceArray(0.00977057, dtype=float32), 'SchaffersF7_best': DeviceArray(0.0253008, dtype=float32), 'GriewankRosenbrock_best': DeviceArray(0.00017014, dtype=float32), 'EllipsoidalOriginal_best': DeviceArray(0.5389203, dtype=float32), 'RastriginOriginal_best': DeviceArray(0.2179083, dtype=float32), 'LinearSlope_best': DeviceArray(-33.020374, dtype=float32), 'StepEllipsoidal_best': DeviceArray(0.430621, dtype=float32), 'RosenbrockOriginal_best': DeviceArray(0.005258, dtype=float32), 'EllipsoidalRotated_best': DeviceArray(0.54527956, dtype=float32), 'BentCigar_best': DeviceArray(0.1645761, dtype=float32), 'SharpRidge_best': DeviceArray(0.32741103, dtype=float32), 'DifferentPowers_best': DeviceArray(0.00058112, dtype=float32), 'SchaffersF7IllConditioned_best': DeviceArray(0.11340179, dtype=float32), 'Lunacek_best': DeviceArray(0.81630725, dtype=float32), 'Gallagher101Me_best': DeviceArray(7.855668e-07, dtype=float32), 'Gallagher21Hi_best': DeviceArray(3.2277499e-06, dtype=float32)}\n",
      "\n"
     ]
    },
    {
     "data": {
      "text/html": [
       "<pre style=\"white-space:pre;overflow-x:auto;line-height:normal;font-family:Menlo,'DejaVu Sans Mono',consolas,'Courier New',monospace\">   ┏━━━━━━━━━━━━━━━┳━━━━┳━━━━━━━━━┳━━━━━━━━━━━━━━━━━━━━━━━━━━━━━━━━━━━━━━━━┓    \n",
       "   ┃<span style=\"font-weight: bold\"> 📥 Total: 3   </span>┃<span style=\"font-weight: bold\"> ID </span>┃<span style=\"font-weight: bold\"> Obj. 📉 </span>┃<span style=\"font-weight: bold\"> Configuration 🔖 - 06/13/2023 15:21:12 </span>┃    \n",
       "   ┡━━━━━━━━━━━━━━━╇━━━━╇━━━━━━━━━╇━━━━━━━━━━━━━━━━━━━━━━━━━━━━━━━━━━━━━━━━┩    \n",
       "   │<span style=\"color: #7f7f7f; text-decoration-color: #7f7f7f\"> Best Overall  </span>│ 2  │ -20.566 │ 'sigma_init': 0.305                    │    \n",
       "   │<span style=\"color: #7f7f7f; text-decoration-color: #7f7f7f\"> Best in Batch </span>│ 2  │ -20.566 │ 'sigma_init': 0.305                    │    \n",
       "   └───────────────┴────┴─────────┴────────────────────────────────────────┘    \n",
       "</pre>\n"
      ],
      "text/plain": [
       "   ┏━━━━━━━━━━━━━━━┳━━━━┳━━━━━━━━━┳━━━━━━━━━━━━━━━━━━━━━━━━━━━━━━━━━━━━━━━━┓    \n",
       "   ┃\u001b[1m \u001b[0m\u001b[1m📥 Total: 3  \u001b[0m\u001b[1m \u001b[0m┃\u001b[1m \u001b[0m\u001b[1mID\u001b[0m\u001b[1m \u001b[0m┃\u001b[1m \u001b[0m\u001b[1mObj. 📉\u001b[0m\u001b[1m \u001b[0m┃\u001b[1m \u001b[0m\u001b[1mConfiguration 🔖 - 06/13/2023 15:21:12\u001b[0m\u001b[1m \u001b[0m┃    \n",
       "   ┡━━━━━━━━━━━━━━━╇━━━━╇━━━━━━━━━╇━━━━━━━━━━━━━━━━━━━━━━━━━━━━━━━━━━━━━━━━┩    \n",
       "   │\u001b[2m \u001b[0m\u001b[2mBest Overall \u001b[0m\u001b[2m \u001b[0m│ 2  │ -20.566 │ 'sigma_init': 0.305                    │    \n",
       "   │\u001b[2m \u001b[0m\u001b[2mBest in Batch\u001b[0m\u001b[2m \u001b[0m│ 2  │ -20.566 │ 'sigma_init': 0.305                    │    \n",
       "   └───────────────┴────┴─────────┴────────────────────────────────────────┘    \n"
      ]
     },
     "metadata": {},
     "output_type": "display_data"
    },
    {
     "name": "stdout",
     "output_type": "stream",
     "text": [
      "bbob: START EVOLVING 2 PARAMETERS.\n",
      "{'num_gens': 50, 'iter_id': 3} {'test_eval_perf': -21.532398223876953, 'Sphere_mean': DeviceArray(0.0001598, dtype=float32), 'RosenbrockRotated_mean': DeviceArray(0.24979298, dtype=float32), 'Discus_mean': DeviceArray(259.4808, dtype=float32), 'RastriginRotated_mean': DeviceArray(9.697973, dtype=float32), 'Schwefel_mean': DeviceArray(2.5447729, dtype=float32), 'BuecheRastrigin_mean': DeviceArray(5.2353005, dtype=float32), 'AttractiveSector_mean': DeviceArray(0.06899687, dtype=float32), 'Weierstrass_mean': DeviceArray(0.67652655, dtype=float32), 'SchaffersF7_mean': DeviceArray(0.20517544, dtype=float32), 'GriewankRosenbrock_mean': DeviceArray(11.736759, dtype=float32), 'EllipsoidalOriginal_mean': DeviceArray(17.226957, dtype=float32), 'RastriginOriginal_mean': DeviceArray(11.250839, dtype=float32), 'LinearSlope_mean': DeviceArray(-20.93347, dtype=float32), 'StepEllipsoidal_mean': DeviceArray(3.6041582, dtype=float32), 'RosenbrockOriginal_mean': DeviceArray(0.29349658, dtype=float32), 'EllipsoidalRotated_mean': DeviceArray(155.52258, dtype=float32), 'BentCigar_mean': DeviceArray(11.357356, dtype=float32), 'SharpRidge_mean': DeviceArray(2.1655092, dtype=float32), 'DifferentPowers_mean': DeviceArray(0.0072709, dtype=float32), 'SchaffersF7IllConditioned_mean': DeviceArray(3.2804508, dtype=float32), 'Lunacek_mean': DeviceArray(21.561682, dtype=float32), 'Gallagher101Me_mean': DeviceArray(0.00090032, dtype=float32), 'Gallagher21Hi_mean': DeviceArray(0.01116316, dtype=float32), 'Sphere_best': DeviceArray(4.048171e-05, dtype=float32), 'RosenbrockRotated_best': DeviceArray(0.07786128, dtype=float32), 'Discus_best': DeviceArray(0.5248242, dtype=float32), 'RastriginRotated_best': DeviceArray(0.35035828, dtype=float32), 'Schwefel_best': DeviceArray(1.6056159, dtype=float32), 'BuecheRastrigin_best': DeviceArray(-19.647232, dtype=float32), 'AttractiveSector_best': DeviceArray(0.00292342, dtype=float32), 'Weierstrass_best': DeviceArray(0.00942105, dtype=float32), 'SchaffersF7_best': DeviceArray(0.02654538, dtype=float32), 'GriewankRosenbrock_best': DeviceArray(4.7111513e-05, dtype=float32), 'EllipsoidalOriginal_best': DeviceArray(0.19143508, dtype=float32), 'RastriginOriginal_best': DeviceArray(0.15842463, dtype=float32), 'LinearSlope_best': DeviceArray(-23.159885, dtype=float32), 'StepEllipsoidal_best': DeviceArray(0.58199006, dtype=float32), 'RosenbrockOriginal_best': DeviceArray(0.00569474, dtype=float32), 'EllipsoidalRotated_best': DeviceArray(0.36712846, dtype=float32), 'BentCigar_best': DeviceArray(0.08793469, dtype=float32), 'SharpRidge_best': DeviceArray(0.27759746, dtype=float32), 'DifferentPowers_best': DeviceArray(0.00055728, dtype=float32), 'SchaffersF7IllConditioned_best': DeviceArray(0.15681913, dtype=float32), 'Lunacek_best': DeviceArray(2.7503335, dtype=float32), 'Gallagher101Me_best': DeviceArray(6.170898e-07, dtype=float32), 'Gallagher21Hi_best': DeviceArray(2.1327849e-05, dtype=float32)}\n",
      "\n"
     ]
    },
    {
     "data": {
      "text/html": [
       "<pre style=\"white-space:pre;overflow-x:auto;line-height:normal;font-family:Menlo,'DejaVu Sans Mono',consolas,'Courier New',monospace\">   ┏━━━━━━━━━━━━━━━┳━━━━┳━━━━━━━━━┳━━━━━━━━━━━━━━━━━━━━━━━━━━━━━━━━━━━━━━━━┓    \n",
       "   ┃<span style=\"font-weight: bold\"> 📥 Total: 4   </span>┃<span style=\"font-weight: bold\"> ID </span>┃<span style=\"font-weight: bold\"> Obj. 📉 </span>┃<span style=\"font-weight: bold\"> Configuration 🔖 - 06/13/2023 15:21:39 </span>┃    \n",
       "   ┡━━━━━━━━━━━━━━━╇━━━━╇━━━━━━━━━╇━━━━━━━━━━━━━━━━━━━━━━━━━━━━━━━━━━━━━━━━┩    \n",
       "   │<span style=\"color: #7f7f7f; text-decoration-color: #7f7f7f\"> Best Overall  </span>│ 2  │ -20.566 │ 'sigma_init': 0.305                    │    \n",
       "   │<span style=\"color: #7f7f7f; text-decoration-color: #7f7f7f\"> Best in Batch </span>│ 3  │ -21.532 │ 'sigma_init': 0.277                    │    \n",
       "   └───────────────┴────┴─────────┴────────────────────────────────────────┘    \n",
       "</pre>\n"
      ],
      "text/plain": [
       "   ┏━━━━━━━━━━━━━━━┳━━━━┳━━━━━━━━━┳━━━━━━━━━━━━━━━━━━━━━━━━━━━━━━━━━━━━━━━━┓    \n",
       "   ┃\u001b[1m \u001b[0m\u001b[1m📥 Total: 4  \u001b[0m\u001b[1m \u001b[0m┃\u001b[1m \u001b[0m\u001b[1mID\u001b[0m\u001b[1m \u001b[0m┃\u001b[1m \u001b[0m\u001b[1mObj. 📉\u001b[0m\u001b[1m \u001b[0m┃\u001b[1m \u001b[0m\u001b[1mConfiguration 🔖 - 06/13/2023 15:21:39\u001b[0m\u001b[1m \u001b[0m┃    \n",
       "   ┡━━━━━━━━━━━━━━━╇━━━━╇━━━━━━━━━╇━━━━━━━━━━━━━━━━━━━━━━━━━━━━━━━━━━━━━━━━┩    \n",
       "   │\u001b[2m \u001b[0m\u001b[2mBest Overall \u001b[0m\u001b[2m \u001b[0m│ 2  │ -20.566 │ 'sigma_init': 0.305                    │    \n",
       "   │\u001b[2m \u001b[0m\u001b[2mBest in Batch\u001b[0m\u001b[2m \u001b[0m│ 3  │ -21.532 │ 'sigma_init': 0.277                    │    \n",
       "   └───────────────┴────┴─────────┴────────────────────────────────────────┘    \n"
      ]
     },
     "metadata": {},
     "output_type": "display_data"
    },
    {
     "name": "stdout",
     "output_type": "stream",
     "text": [
      "bbob: START EVOLVING 2 PARAMETERS.\n",
      "{'num_gens': 50, 'iter_id': 4} {'test_eval_perf': -11.510205268859863, 'Sphere_mean': DeviceArray(9.861084e-05, dtype=float32), 'RosenbrockRotated_mean': DeviceArray(0.25958535, dtype=float32), 'Discus_mean': DeviceArray(111.71133, dtype=float32), 'RastriginRotated_mean': DeviceArray(2.9296498, dtype=float32), 'Schwefel_mean': DeviceArray(2.101896, dtype=float32), 'BuecheRastrigin_mean': DeviceArray(1.368709, dtype=float32), 'AttractiveSector_mean': DeviceArray(0.04910212, dtype=float32), 'Weierstrass_mean': DeviceArray(0.53529125, dtype=float32), 'SchaffersF7_mean': DeviceArray(0.17522562, dtype=float32), 'GriewankRosenbrock_mean': DeviceArray(12.614681, dtype=float32), 'EllipsoidalOriginal_mean': DeviceArray(6.6613955, dtype=float32), 'RastriginOriginal_mean': DeviceArray(6.2121634, dtype=float32), 'LinearSlope_mean': DeviceArray(-0.7584179, dtype=float32), 'StepEllipsoidal_mean': DeviceArray(1.2605404, dtype=float32), 'RosenbrockOriginal_mean': DeviceArray(0.13867703, dtype=float32), 'EllipsoidalRotated_mean': DeviceArray(79.04134, dtype=float32), 'BentCigar_mean': DeviceArray(8.891426, dtype=float32), 'SharpRidge_mean': DeviceArray(1.6766165, dtype=float32), 'DifferentPowers_mean': DeviceArray(0.0066466, dtype=float32), 'SchaffersF7IllConditioned_mean': DeviceArray(0.9971716, dtype=float32), 'Lunacek_mean': DeviceArray(28.857313, dtype=float32), 'Gallagher101Me_mean': DeviceArray(0.00042999, dtype=float32), 'Gallagher21Hi_mean': DeviceArray(0.00388183, dtype=float32), 'Sphere_best': DeviceArray(2.4980627e-05, dtype=float32), 'RosenbrockRotated_best': DeviceArray(0.08740041, dtype=float32), 'Discus_best': DeviceArray(0.3114636, dtype=float32), 'RastriginRotated_best': DeviceArray(0.03761577, dtype=float32), 'Schwefel_best': DeviceArray(1.6482521, dtype=float32), 'BuecheRastrigin_best': DeviceArray(-19.726461, dtype=float32), 'AttractiveSector_best': DeviceArray(0.00246445, dtype=float32), 'Weierstrass_best': DeviceArray(0.00265655, dtype=float32), 'SchaffersF7_best': DeviceArray(0.02164163, dtype=float32), 'GriewankRosenbrock_best': DeviceArray(0.0003437, dtype=float32), 'EllipsoidalOriginal_best': DeviceArray(0.12301047, dtype=float32), 'RastriginOriginal_best': DeviceArray(0.45456454, dtype=float32), 'LinearSlope_best': DeviceArray(-2.507369, dtype=float32), 'StepEllipsoidal_best': DeviceArray(0.14354187, dtype=float32), 'RosenbrockOriginal_best': DeviceArray(0.00861, dtype=float32), 'EllipsoidalRotated_best': DeviceArray(0.05684037, dtype=float32), 'BentCigar_best': DeviceArray(0.08025569, dtype=float32), 'SharpRidge_best': DeviceArray(0.20236634, dtype=float32), 'DifferentPowers_best': DeviceArray(0.000546, dtype=float32), 'SchaffersF7IllConditioned_best': DeviceArray(0.1537247, dtype=float32), 'Lunacek_best': DeviceArray(4.153634, dtype=float32), 'Gallagher101Me_best': DeviceArray(1.1318921e-07, dtype=float32), 'Gallagher21Hi_best': DeviceArray(2.2006654e-06, dtype=float32)}\n",
      "\n"
     ]
    },
    {
     "data": {
      "text/html": [
       "<pre style=\"white-space:pre;overflow-x:auto;line-height:normal;font-family:Menlo,'DejaVu Sans Mono',consolas,'Courier New',monospace\">   ┏━━━━━━━━━━━━━━━┳━━━━┳━━━━━━━━━┳━━━━━━━━━━━━━━━━━━━━━━━━━━━━━━━━━━━━━━━━┓    \n",
       "   ┃<span style=\"font-weight: bold\"> 📥 Total: 5   </span>┃<span style=\"font-weight: bold\"> ID </span>┃<span style=\"font-weight: bold\"> Obj. 📉 </span>┃<span style=\"font-weight: bold\"> Configuration 🔖 - 06/13/2023 15:22:07 </span>┃    \n",
       "   ┡━━━━━━━━━━━━━━━╇━━━━╇━━━━━━━━━╇━━━━━━━━━━━━━━━━━━━━━━━━━━━━━━━━━━━━━━━━┩    \n",
       "   │<span style=\"color: #7f7f7f; text-decoration-color: #7f7f7f\"> Best Overall  </span>│ 4  │ -11.51  │ 'sigma_init': 0.218                    │    \n",
       "   │<span style=\"color: #7f7f7f; text-decoration-color: #7f7f7f\"> Best in Batch </span>│ 4  │ -11.51  │ 'sigma_init': 0.218                    │    \n",
       "   └───────────────┴────┴─────────┴────────────────────────────────────────┘    \n",
       "</pre>\n"
      ],
      "text/plain": [
       "   ┏━━━━━━━━━━━━━━━┳━━━━┳━━━━━━━━━┳━━━━━━━━━━━━━━━━━━━━━━━━━━━━━━━━━━━━━━━━┓    \n",
       "   ┃\u001b[1m \u001b[0m\u001b[1m📥 Total: 5  \u001b[0m\u001b[1m \u001b[0m┃\u001b[1m \u001b[0m\u001b[1mID\u001b[0m\u001b[1m \u001b[0m┃\u001b[1m \u001b[0m\u001b[1mObj. 📉\u001b[0m\u001b[1m \u001b[0m┃\u001b[1m \u001b[0m\u001b[1mConfiguration 🔖 - 06/13/2023 15:22:07\u001b[0m\u001b[1m \u001b[0m┃    \n",
       "   ┡━━━━━━━━━━━━━━━╇━━━━╇━━━━━━━━━╇━━━━━━━━━━━━━━━━━━━━━━━━━━━━━━━━━━━━━━━━┩    \n",
       "   │\u001b[2m \u001b[0m\u001b[2mBest Overall \u001b[0m\u001b[2m \u001b[0m│ 4  │ -11.51  │ 'sigma_init': 0.218                    │    \n",
       "   │\u001b[2m \u001b[0m\u001b[2mBest in Batch\u001b[0m\u001b[2m \u001b[0m│ 4  │ -11.51  │ 'sigma_init': 0.218                    │    \n",
       "   └───────────────┴────┴─────────┴────────────────────────────────────────┘    \n"
      ]
     },
     "metadata": {},
     "output_type": "display_data"
    },
    {
     "name": "stdout",
     "output_type": "stream",
     "text": [
      "bbob: START EVOLVING 2 PARAMETERS.\n",
      "{'num_gens': 50, 'iter_id': 5} {'test_eval_perf': -35.76628494262695, 'Sphere_mean': DeviceArray(0.00022201, dtype=float32), 'RosenbrockRotated_mean': DeviceArray(0.29132554, dtype=float32), 'Discus_mean': DeviceArray(652.38855, dtype=float32), 'RastriginRotated_mean': DeviceArray(12.39189, dtype=float32), 'Schwefel_mean': DeviceArray(3.121177, dtype=float32), 'BuecheRastrigin_mean': DeviceArray(10.0717125, dtype=float32), 'AttractiveSector_mean': DeviceArray(0.09824301, dtype=float32), 'Weierstrass_mean': DeviceArray(0.33906385, dtype=float32), 'SchaffersF7_mean': DeviceArray(0.2017144, dtype=float32), 'GriewankRosenbrock_mean': DeviceArray(6.403543, dtype=float32), 'EllipsoidalOriginal_mean': DeviceArray(21.40122, dtype=float32), 'RastriginOriginal_mean': DeviceArray(21.23364, dtype=float32), 'LinearSlope_mean': DeviceArray(-37.743877, dtype=float32), 'StepEllipsoidal_mean': DeviceArray(1.3231727, dtype=float32), 'RosenbrockOriginal_mean': DeviceArray(0.36435965, dtype=float32), 'EllipsoidalRotated_mean': DeviceArray(103.61944, dtype=float32), 'BentCigar_mean': DeviceArray(4.613561, dtype=float32), 'SharpRidge_mean': DeviceArray(2.6861913, dtype=float32), 'DifferentPowers_mean': DeviceArray(0.00908209, dtype=float32), 'SchaffersF7IllConditioned_mean': DeviceArray(2.3010616, dtype=float32), 'Lunacek_mean': DeviceArray(17.10083, dtype=float32), 'Gallagher101Me_mean': DeviceArray(0.00029781, dtype=float32), 'Gallagher21Hi_mean': DeviceArray(0.4081049, dtype=float32), 'Sphere_best': DeviceArray(5.6241388e-05, dtype=float32), 'RosenbrockRotated_best': DeviceArray(0.07403705, dtype=float32), 'Discus_best': DeviceArray(0.45254013, dtype=float32), 'RastriginRotated_best': DeviceArray(0.76293796, dtype=float32), 'Schwefel_best': DeviceArray(1.5682391, dtype=float32), 'BuecheRastrigin_best': DeviceArray(-18.969511, dtype=float32), 'AttractiveSector_best': DeviceArray(0.00303081, dtype=float32), 'Weierstrass_best': DeviceArray(0.02631031, dtype=float32), 'SchaffersF7_best': DeviceArray(0.02626863, dtype=float32), 'GriewankRosenbrock_best': DeviceArray(0.00060806, dtype=float32), 'EllipsoidalOriginal_best': DeviceArray(0.665205, dtype=float32), 'RastriginOriginal_best': DeviceArray(0.4548703, dtype=float32), 'LinearSlope_best': DeviceArray(-40.36813, dtype=float32), 'StepEllipsoidal_best': DeviceArray(0.43062124, dtype=float32), 'RosenbrockOriginal_best': DeviceArray(0.01667488, dtype=float32), 'EllipsoidalRotated_best': DeviceArray(0.5950256, dtype=float32), 'BentCigar_best': DeviceArray(0.10229634, dtype=float32), 'SharpRidge_best': DeviceArray(0.29692987, dtype=float32), 'DifferentPowers_best': DeviceArray(0.00055332, dtype=float32), 'SchaffersF7IllConditioned_best': DeviceArray(0.20399475, dtype=float32), 'Lunacek_best': DeviceArray(0.4986212, dtype=float32), 'Gallagher101Me_best': DeviceArray(1.0997695e-06, dtype=float32), 'Gallagher21Hi_best': DeviceArray(0.00548629, dtype=float32)}\n",
      "\n"
     ]
    },
    {
     "data": {
      "text/html": [
       "<pre style=\"white-space:pre;overflow-x:auto;line-height:normal;font-family:Menlo,'DejaVu Sans Mono',consolas,'Courier New',monospace\">   ┏━━━━━━━━━━━━━━━┳━━━━┳━━━━━━━━━┳━━━━━━━━━━━━━━━━━━━━━━━━━━━━━━━━━━━━━━━━┓    \n",
       "   ┃<span style=\"font-weight: bold\"> 📥 Total: 6   </span>┃<span style=\"font-weight: bold\"> ID </span>┃<span style=\"font-weight: bold\"> Obj. 📉 </span>┃<span style=\"font-weight: bold\"> Configuration 🔖 - 06/13/2023 15:22:34 </span>┃    \n",
       "   ┡━━━━━━━━━━━━━━━╇━━━━╇━━━━━━━━━╇━━━━━━━━━━━━━━━━━━━━━━━━━━━━━━━━━━━━━━━━┩    \n",
       "   │<span style=\"color: #7f7f7f; text-decoration-color: #7f7f7f\"> Best Overall  </span>│ 4  │ -11.51  │ 'sigma_init': 0.218                    │    \n",
       "   │<span style=\"color: #7f7f7f; text-decoration-color: #7f7f7f\"> Best in Batch </span>│ 5  │ -35.766 │ 'sigma_init': 0.326                    │    \n",
       "   └───────────────┴────┴─────────┴────────────────────────────────────────┘    \n",
       "</pre>\n"
      ],
      "text/plain": [
       "   ┏━━━━━━━━━━━━━━━┳━━━━┳━━━━━━━━━┳━━━━━━━━━━━━━━━━━━━━━━━━━━━━━━━━━━━━━━━━┓    \n",
       "   ┃\u001b[1m \u001b[0m\u001b[1m📥 Total: 6  \u001b[0m\u001b[1m \u001b[0m┃\u001b[1m \u001b[0m\u001b[1mID\u001b[0m\u001b[1m \u001b[0m┃\u001b[1m \u001b[0m\u001b[1mObj. 📉\u001b[0m\u001b[1m \u001b[0m┃\u001b[1m \u001b[0m\u001b[1mConfiguration 🔖 - 06/13/2023 15:22:34\u001b[0m\u001b[1m \u001b[0m┃    \n",
       "   ┡━━━━━━━━━━━━━━━╇━━━━╇━━━━━━━━━╇━━━━━━━━━━━━━━━━━━━━━━━━━━━━━━━━━━━━━━━━┩    \n",
       "   │\u001b[2m \u001b[0m\u001b[2mBest Overall \u001b[0m\u001b[2m \u001b[0m│ 4  │ -11.51  │ 'sigma_init': 0.218                    │    \n",
       "   │\u001b[2m \u001b[0m\u001b[2mBest in Batch\u001b[0m\u001b[2m \u001b[0m│ 5  │ -35.766 │ 'sigma_init': 0.326                    │    \n",
       "   └───────────────┴────┴─────────┴────────────────────────────────────────┘    \n"
      ]
     },
     "metadata": {},
     "output_type": "display_data"
    },
    {
     "name": "stdout",
     "output_type": "stream",
     "text": [
      "bbob: START EVOLVING 2 PARAMETERS.\n",
      "{'num_gens': 50, 'iter_id': 6} {'test_eval_perf': -13.989948272705078, 'Sphere_mean': DeviceArray(0.0001049, dtype=float32), 'RosenbrockRotated_mean': DeviceArray(0.23269546, dtype=float32), 'Discus_mean': DeviceArray(117.24387, dtype=float32), 'RastriginRotated_mean': DeviceArray(7.330785, dtype=float32), 'Schwefel_mean': DeviceArray(2.3668888, dtype=float32), 'BuecheRastrigin_mean': DeviceArray(-2.282684, dtype=float32), 'AttractiveSector_mean': DeviceArray(0.04535997, dtype=float32), 'Weierstrass_mean': DeviceArray(0.18937294, dtype=float32), 'SchaffersF7_mean': DeviceArray(0.1843955, dtype=float32), 'GriewankRosenbrock_mean': DeviceArray(10.316733, dtype=float32), 'EllipsoidalOriginal_mean': DeviceArray(8.109244, dtype=float32), 'RastriginOriginal_mean': DeviceArray(6.098723, dtype=float32), 'LinearSlope_mean': DeviceArray(-3.0770617, dtype=float32), 'StepEllipsoidal_mean': DeviceArray(1.2605404, dtype=float32), 'RosenbrockOriginal_mean': DeviceArray(0.11166365, dtype=float32), 'EllipsoidalRotated_mean': DeviceArray(130.76123, dtype=float32), 'BentCigar_mean': DeviceArray(9.538062, dtype=float32), 'SharpRidge_mean': DeviceArray(1.7446362, dtype=float32), 'DifferentPowers_mean': DeviceArray(0.00546596, dtype=float32), 'SchaffersF7IllConditioned_mean': DeviceArray(2.3966415, dtype=float32), 'Lunacek_mean': DeviceArray(29.18718, dtype=float32), 'Gallagher101Me_mean': DeviceArray(0.0005308, dtype=float32), 'Gallagher21Hi_mean': DeviceArray(0.00442703, dtype=float32), 'Sphere_best': DeviceArray(2.6572596e-05, dtype=float32), 'RosenbrockRotated_best': DeviceArray(0.07988361, dtype=float32), 'Discus_best': DeviceArray(0.2541674, dtype=float32), 'RastriginRotated_best': DeviceArray(0.26231745, dtype=float32), 'Schwefel_best': DeviceArray(1.7847865, dtype=float32), 'BuecheRastrigin_best': DeviceArray(-19.82169, dtype=float32), 'AttractiveSector_best': DeviceArray(0.00256261, dtype=float32), 'Weierstrass_best': DeviceArray(0.0105939, dtype=float32), 'SchaffersF7_best': DeviceArray(0.02618291, dtype=float32), 'GriewankRosenbrock_best': DeviceArray(0.0165123, dtype=float32), 'EllipsoidalOriginal_best': DeviceArray(0.11256999, dtype=float32), 'RastriginOriginal_best': DeviceArray(0.33729428, dtype=float32), 'LinearSlope_best': DeviceArray(-4.88089, dtype=float32), 'StepEllipsoidal_best': DeviceArray(0.28708097, dtype=float32), 'RosenbrockOriginal_best': DeviceArray(0.0040925, dtype=float32), 'EllipsoidalRotated_best': DeviceArray(0.22686556, dtype=float32), 'BentCigar_best': DeviceArray(0.10300183, dtype=float32), 'SharpRidge_best': DeviceArray(0.21167491, dtype=float32), 'DifferentPowers_best': DeviceArray(0.00052516, dtype=float32), 'SchaffersF7IllConditioned_best': DeviceArray(0.14085606, dtype=float32), 'Lunacek_best': DeviceArray(5.4441314, dtype=float32), 'Gallagher101Me_best': DeviceArray(1.2726782e-07, dtype=float32), 'Gallagher21Hi_best': DeviceArray(2.6242312e-06, dtype=float32)}\n",
      "\n"
     ]
    },
    {
     "data": {
      "text/html": [
       "<pre style=\"white-space:pre;overflow-x:auto;line-height:normal;font-family:Menlo,'DejaVu Sans Mono',consolas,'Courier New',monospace\">   ┏━━━━━━━━━━━━━━━┳━━━━┳━━━━━━━━━┳━━━━━━━━━━━━━━━━━━━━━━━━━━━━━━━━━━━━━━━━┓    \n",
       "   ┃<span style=\"font-weight: bold\"> 📥 Total: 7   </span>┃<span style=\"font-weight: bold\"> ID </span>┃<span style=\"font-weight: bold\"> Obj. 📉 </span>┃<span style=\"font-weight: bold\"> Configuration 🔖 - 06/13/2023 15:23:04 </span>┃    \n",
       "   ┡━━━━━━━━━━━━━━━╇━━━━╇━━━━━━━━━╇━━━━━━━━━━━━━━━━━━━━━━━━━━━━━━━━━━━━━━━━┩    \n",
       "   │<span style=\"color: #7f7f7f; text-decoration-color: #7f7f7f\"> Best Overall  </span>│ 4  │ -11.51  │ 'sigma_init': 0.218                    │    \n",
       "   │<span style=\"color: #7f7f7f; text-decoration-color: #7f7f7f\"> Best in Batch </span>│ 6  │ -13.99  │ 'sigma_init': 0.224                    │    \n",
       "   └───────────────┴────┴─────────┴────────────────────────────────────────┘    \n",
       "</pre>\n"
      ],
      "text/plain": [
       "   ┏━━━━━━━━━━━━━━━┳━━━━┳━━━━━━━━━┳━━━━━━━━━━━━━━━━━━━━━━━━━━━━━━━━━━━━━━━━┓    \n",
       "   ┃\u001b[1m \u001b[0m\u001b[1m📥 Total: 7  \u001b[0m\u001b[1m \u001b[0m┃\u001b[1m \u001b[0m\u001b[1mID\u001b[0m\u001b[1m \u001b[0m┃\u001b[1m \u001b[0m\u001b[1mObj. 📉\u001b[0m\u001b[1m \u001b[0m┃\u001b[1m \u001b[0m\u001b[1mConfiguration 🔖 - 06/13/2023 15:23:04\u001b[0m\u001b[1m \u001b[0m┃    \n",
       "   ┡━━━━━━━━━━━━━━━╇━━━━╇━━━━━━━━━╇━━━━━━━━━━━━━━━━━━━━━━━━━━━━━━━━━━━━━━━━┩    \n",
       "   │\u001b[2m \u001b[0m\u001b[2mBest Overall \u001b[0m\u001b[2m \u001b[0m│ 4  │ -11.51  │ 'sigma_init': 0.218                    │    \n",
       "   │\u001b[2m \u001b[0m\u001b[2mBest in Batch\u001b[0m\u001b[2m \u001b[0m│ 6  │ -13.99  │ 'sigma_init': 0.224                    │    \n",
       "   └───────────────┴────┴─────────┴────────────────────────────────────────┘    \n"
      ]
     },
     "metadata": {},
     "output_type": "display_data"
    },
    {
     "name": "stdout",
     "output_type": "stream",
     "text": [
      "bbob: START EVOLVING 2 PARAMETERS.\n",
      "{'num_gens': 50, 'iter_id': 7} {'test_eval_perf': -47.748043060302734, 'Sphere_mean': DeviceArray(0.0004161, dtype=float32), 'RosenbrockRotated_mean': DeviceArray(0.3204442, dtype=float32), 'Discus_mean': DeviceArray(784.27423, dtype=float32), 'RastriginRotated_mean': DeviceArray(16.46692, dtype=float32), 'Schwefel_mean': DeviceArray(3.0402076, dtype=float32), 'BuecheRastrigin_mean': DeviceArray(15.003089, dtype=float32), 'AttractiveSector_mean': DeviceArray(0.15439427, dtype=float32), 'Weierstrass_mean': DeviceArray(1.420051, dtype=float32), 'SchaffersF7_mean': DeviceArray(0.38622415, dtype=float32), 'GriewankRosenbrock_mean': DeviceArray(13.053284, dtype=float32), 'EllipsoidalOriginal_mean': DeviceArray(23.361307, dtype=float32), 'RastriginOriginal_mean': DeviceArray(18.989624, dtype=float32), 'LinearSlope_mean': DeviceArray(-78.66348, dtype=float32), 'StepEllipsoidal_mean': DeviceArray(1.4745407, dtype=float32), 'RosenbrockOriginal_mean': DeviceArray(0.55102104, dtype=float32), 'EllipsoidalRotated_mean': DeviceArray(234.35078, dtype=float32), 'BentCigar_mean': DeviceArray(31.175266, dtype=float32), 'SharpRidge_mean': DeviceArray(4.233197, dtype=float32), 'DifferentPowers_mean': DeviceArray(0.01338854, dtype=float32), 'SchaffersF7IllConditioned_mean': DeviceArray(1.7608454, dtype=float32), 'Lunacek_mean': DeviceArray(23.727608, dtype=float32), 'Gallagher101Me_mean': DeviceArray(1.1874641, dtype=float32), 'Gallagher21Hi_mean': DeviceArray(1.9239305, dtype=float32), 'Sphere_best': DeviceArray(0.00010541, dtype=float32), 'RosenbrockRotated_best': DeviceArray(0.06691015, dtype=float32), 'Discus_best': DeviceArray(1.1401391, dtype=float32), 'RastriginRotated_best': DeviceArray(0.5741655, dtype=float32), 'Schwefel_best': DeviceArray(1.1764991, dtype=float32), 'BuecheRastrigin_best': DeviceArray(-18.885265, dtype=float32), 'AttractiveSector_best': DeviceArray(0.00842358, dtype=float32), 'Weierstrass_best': DeviceArray(0.01867823, dtype=float32), 'SchaffersF7_best': DeviceArray(0.03503964, dtype=float32), 'GriewankRosenbrock_best': DeviceArray(0.00513573, dtype=float32), 'EllipsoidalOriginal_best': DeviceArray(0.68006724, dtype=float32), 'RastriginOriginal_best': DeviceArray(0.32563338, dtype=float32), 'LinearSlope_best': DeviceArray(-82.25614, dtype=float32), 'StepEllipsoidal_best': DeviceArray(1.1718047, dtype=float32), 'RosenbrockOriginal_best': DeviceArray(0.07106339, dtype=float32), 'EllipsoidalRotated_best': DeviceArray(0.23906906, dtype=float32), 'BentCigar_best': DeviceArray(0.14102183, dtype=float32), 'SharpRidge_best': DeviceArray(0.34789652, dtype=float32), 'DifferentPowers_best': DeviceArray(0.00170588, dtype=float32), 'SchaffersF7IllConditioned_best': DeviceArray(0.23885158, dtype=float32), 'Lunacek_best': DeviceArray(1.8558314, dtype=float32), 'Gallagher101Me_best': DeviceArray(0.02304981, dtype=float32), 'Gallagher21Hi_best': DeviceArray(0.13953725, dtype=float32)}\n",
      "\n"
     ]
    },
    {
     "data": {
      "text/html": [
       "<pre style=\"white-space:pre;overflow-x:auto;line-height:normal;font-family:Menlo,'DejaVu Sans Mono',consolas,'Courier New',monospace\">   ┏━━━━━━━━━━━━━━━┳━━━━┳━━━━━━━━━┳━━━━━━━━━━━━━━━━━━━━━━━━━━━━━━━━━━━━━━━━┓    \n",
       "   ┃<span style=\"font-weight: bold\"> 📥 Total: 8   </span>┃<span style=\"font-weight: bold\"> ID </span>┃<span style=\"font-weight: bold\"> Obj. 📉 </span>┃<span style=\"font-weight: bold\"> Configuration 🔖 - 06/13/2023 15:23:32 </span>┃    \n",
       "   ┡━━━━━━━━━━━━━━━╇━━━━╇━━━━━━━━━╇━━━━━━━━━━━━━━━━━━━━━━━━━━━━━━━━━━━━━━━━┩    \n",
       "   │<span style=\"color: #7f7f7f; text-decoration-color: #7f7f7f\"> Best Overall  </span>│ 4  │ -11.51  │ 'sigma_init': 0.218                    │    \n",
       "   │<span style=\"color: #7f7f7f; text-decoration-color: #7f7f7f\"> Best in Batch </span>│ 7  │ -47.748 │ 'sigma_init': 0.447                    │    \n",
       "   └───────────────┴────┴─────────┴────────────────────────────────────────┘    \n",
       "</pre>\n"
      ],
      "text/plain": [
       "   ┏━━━━━━━━━━━━━━━┳━━━━┳━━━━━━━━━┳━━━━━━━━━━━━━━━━━━━━━━━━━━━━━━━━━━━━━━━━┓    \n",
       "   ┃\u001b[1m \u001b[0m\u001b[1m📥 Total: 8  \u001b[0m\u001b[1m \u001b[0m┃\u001b[1m \u001b[0m\u001b[1mID\u001b[0m\u001b[1m \u001b[0m┃\u001b[1m \u001b[0m\u001b[1mObj. 📉\u001b[0m\u001b[1m \u001b[0m┃\u001b[1m \u001b[0m\u001b[1mConfiguration 🔖 - 06/13/2023 15:23:32\u001b[0m\u001b[1m \u001b[0m┃    \n",
       "   ┡━━━━━━━━━━━━━━━╇━━━━╇━━━━━━━━━╇━━━━━━━━━━━━━━━━━━━━━━━━━━━━━━━━━━━━━━━━┩    \n",
       "   │\u001b[2m \u001b[0m\u001b[2mBest Overall \u001b[0m\u001b[2m \u001b[0m│ 4  │ -11.51  │ 'sigma_init': 0.218                    │    \n",
       "   │\u001b[2m \u001b[0m\u001b[2mBest in Batch\u001b[0m\u001b[2m \u001b[0m│ 7  │ -47.748 │ 'sigma_init': 0.447                    │    \n",
       "   └───────────────┴────┴─────────┴────────────────────────────────────────┘    \n"
      ]
     },
     "metadata": {},
     "output_type": "display_data"
    },
    {
     "name": "stdout",
     "output_type": "stream",
     "text": [
      "bbob: START EVOLVING 2 PARAMETERS.\n",
      "{'num_gens': 50, 'iter_id': 8} {'test_eval_perf': -58.46377182006836, 'Sphere_mean': DeviceArray(0.00048427, dtype=float32), 'RosenbrockRotated_mean': DeviceArray(0.45827642, dtype=float32), 'Discus_mean': DeviceArray(528.646, dtype=float32), 'RastriginRotated_mean': DeviceArray(17.642885, dtype=float32), 'Schwefel_mean': DeviceArray(2.790366, dtype=float32), 'BuecheRastrigin_mean': DeviceArray(3.714896, dtype=float32), 'AttractiveSector_mean': DeviceArray(0.16452864, dtype=float32), 'Weierstrass_mean': DeviceArray(1.4863092, dtype=float32), 'SchaffersF7_mean': DeviceArray(0.20941137, dtype=float32), 'GriewankRosenbrock_mean': DeviceArray(3.7961311, dtype=float32), 'EllipsoidalOriginal_mean': DeviceArray(20.20664, dtype=float32), 'RastriginOriginal_mean': DeviceArray(14.773859, dtype=float32), 'LinearSlope_mean': DeviceArray(-90.627495, dtype=float32), 'StepEllipsoidal_mean': DeviceArray(1.4745407, dtype=float32), 'RosenbrockOriginal_mean': DeviceArray(0.6387106, dtype=float32), 'EllipsoidalRotated_mean': DeviceArray(515.3536, dtype=float32), 'BentCigar_mean': DeviceArray(289.4033, dtype=float32), 'SharpRidge_mean': DeviceArray(4.061996, dtype=float32), 'DifferentPowers_mean': DeviceArray(0.0071626, dtype=float32), 'SchaffersF7IllConditioned_mean': DeviceArray(2.1518326, dtype=float32), 'Lunacek_mean': DeviceArray(24.605541, dtype=float32), 'Gallagher101Me_mean': DeviceArray(1.0609607, dtype=float32), 'Gallagher21Hi_mean': DeviceArray(2.6467183, dtype=float32), 'Sphere_best': DeviceArray(0.00012268, dtype=float32), 'RosenbrockRotated_best': DeviceArray(0.04786515, dtype=float32), 'Discus_best': DeviceArray(1.5229806, dtype=float32), 'RastriginRotated_best': DeviceArray(0.9595809, dtype=float32), 'Schwefel_best': DeviceArray(0.79486936, dtype=float32), 'BuecheRastrigin_best': DeviceArray(-18.896994, dtype=float32), 'AttractiveSector_best': DeviceArray(0.00765158, dtype=float32), 'Weierstrass_best': DeviceArray(0.10759149, dtype=float32), 'SchaffersF7_best': DeviceArray(0.03381139, dtype=float32), 'GriewankRosenbrock_best': DeviceArray(0.00652885, dtype=float32), 'EllipsoidalOriginal_best': DeviceArray(1.2451655, dtype=float32), 'RastriginOriginal_best': DeviceArray(1.1558057, dtype=float32), 'LinearSlope_best': DeviceArray(-94.50328, dtype=float32), 'StepEllipsoidal_best': DeviceArray(1.0204366, dtype=float32), 'RosenbrockOriginal_best': DeviceArray(0.09291282, dtype=float32), 'EllipsoidalRotated_best': DeviceArray(0.29487553, dtype=float32), 'BentCigar_best': DeviceArray(0.20648463, dtype=float32), 'SharpRidge_best': DeviceArray(0.37597805, dtype=float32), 'DifferentPowers_best': DeviceArray(0.00120929, dtype=float32), 'SchaffersF7IllConditioned_best': DeviceArray(0.27337646, dtype=float32), 'Lunacek_best': DeviceArray(2.445718, dtype=float32), 'Gallagher101Me_best': DeviceArray(0.03073105, dtype=float32), 'Gallagher21Hi_best': DeviceArray(0.09979767, dtype=float32)}\n",
      "\n"
     ]
    },
    {
     "data": {
      "text/html": [
       "<pre style=\"white-space:pre;overflow-x:auto;line-height:normal;font-family:Menlo,'DejaVu Sans Mono',consolas,'Courier New',monospace\">   ┏━━━━━━━━━━━━━━━┳━━━━┳━━━━━━━━━┳━━━━━━━━━━━━━━━━━━━━━━━━━━━━━━━━━━━━━━━━┓    \n",
       "   ┃<span style=\"font-weight: bold\"> 📥 Total: 9   </span>┃<span style=\"font-weight: bold\"> ID </span>┃<span style=\"font-weight: bold\"> Obj. 📉 </span>┃<span style=\"font-weight: bold\"> Configuration 🔖 - 06/13/2023 15:24:00 </span>┃    \n",
       "   ┡━━━━━━━━━━━━━━━╇━━━━╇━━━━━━━━━╇━━━━━━━━━━━━━━━━━━━━━━━━━━━━━━━━━━━━━━━━┩    \n",
       "   │<span style=\"color: #7f7f7f; text-decoration-color: #7f7f7f\"> Best Overall  </span>│ 4  │ -11.51  │ 'sigma_init': 0.218                    │    \n",
       "   │<span style=\"color: #7f7f7f; text-decoration-color: #7f7f7f\"> Best in Batch </span>│ 8  │ -58.464 │ 'sigma_init': 0.482                    │    \n",
       "   └───────────────┴────┴─────────┴────────────────────────────────────────┘    \n",
       "</pre>\n"
      ],
      "text/plain": [
       "   ┏━━━━━━━━━━━━━━━┳━━━━┳━━━━━━━━━┳━━━━━━━━━━━━━━━━━━━━━━━━━━━━━━━━━━━━━━━━┓    \n",
       "   ┃\u001b[1m \u001b[0m\u001b[1m📥 Total: 9  \u001b[0m\u001b[1m \u001b[0m┃\u001b[1m \u001b[0m\u001b[1mID\u001b[0m\u001b[1m \u001b[0m┃\u001b[1m \u001b[0m\u001b[1mObj. 📉\u001b[0m\u001b[1m \u001b[0m┃\u001b[1m \u001b[0m\u001b[1mConfiguration 🔖 - 06/13/2023 15:24:00\u001b[0m\u001b[1m \u001b[0m┃    \n",
       "   ┡━━━━━━━━━━━━━━━╇━━━━╇━━━━━━━━━╇━━━━━━━━━━━━━━━━━━━━━━━━━━━━━━━━━━━━━━━━┩    \n",
       "   │\u001b[2m \u001b[0m\u001b[2mBest Overall \u001b[0m\u001b[2m \u001b[0m│ 4  │ -11.51  │ 'sigma_init': 0.218                    │    \n",
       "   │\u001b[2m \u001b[0m\u001b[2mBest in Batch\u001b[0m\u001b[2m \u001b[0m│ 8  │ -58.464 │ 'sigma_init': 0.482                    │    \n",
       "   └───────────────┴────┴─────────┴────────────────────────────────────────┘    \n"
      ]
     },
     "metadata": {},
     "output_type": "display_data"
    },
    {
     "name": "stdout",
     "output_type": "stream",
     "text": [
      "bbob: START EVOLVING 2 PARAMETERS.\n",
      "{'num_gens': 50, 'iter_id': 9} {'test_eval_perf': -7.899782180786133, 'Sphere_mean': DeviceArray(8.155926e-05, dtype=float32), 'RosenbrockRotated_mean': DeviceArray(0.2507878, dtype=float32), 'Discus_mean': DeviceArray(73.76293, dtype=float32), 'RastriginRotated_mean': DeviceArray(1.3062929, dtype=float32), 'Schwefel_mean': DeviceArray(2.3835824, dtype=float32), 'BuecheRastrigin_mean': DeviceArray(-1.8977839, dtype=float32), 'AttractiveSector_mean': DeviceArray(0.04990822, dtype=float32), 'Weierstrass_mean': DeviceArray(0.44519624, dtype=float32), 'SchaffersF7_mean': DeviceArray(0.10217263, dtype=float32), 'GriewankRosenbrock_mean': DeviceArray(7.4899764, dtype=float32), 'EllipsoidalOriginal_mean': DeviceArray(6.8864884, dtype=float32), 'RastriginOriginal_mean': DeviceArray(5.9448113, dtype=float32), 'LinearSlope_mean': DeviceArray(5.933947, dtype=float32), 'StepEllipsoidal_mean': DeviceArray(1.9312643, dtype=float32), 'RosenbrockOriginal_mean': DeviceArray(0.06621778, dtype=float32), 'EllipsoidalRotated_mean': DeviceArray(32.927166, dtype=float32), 'BentCigar_mean': DeviceArray(20.492605, dtype=float32), 'SharpRidge_mean': DeviceArray(1.3078561, dtype=float32), 'DifferentPowers_mean': DeviceArray(0.00698092, dtype=float32), 'SchaffersF7IllConditioned_mean': DeviceArray(0.8825858, dtype=float32), 'Lunacek_mean': DeviceArray(21.418657, dtype=float32), 'Gallagher101Me_mean': DeviceArray(0.0002459, dtype=float32), 'Gallagher21Hi_mean': DeviceArray(0.00302182, dtype=float32), 'Sphere_best': DeviceArray(2.0661111e-05, dtype=float32), 'RosenbrockRotated_best': DeviceArray(0.09647538, dtype=float32), 'Discus_best': DeviceArray(0.22321193, dtype=float32), 'RastriginRotated_best': DeviceArray(0.23682196, dtype=float32), 'Schwefel_best': DeviceArray(1.6605237, dtype=float32), 'BuecheRastrigin_best': DeviceArray(-19.632519, dtype=float32), 'AttractiveSector_best': DeviceArray(0.00209698, dtype=float32), 'Weierstrass_best': DeviceArray(0.00455103, dtype=float32), 'SchaffersF7_best': DeviceArray(0.01689597, dtype=float32), 'GriewankRosenbrock_best': DeviceArray(0.00372219, dtype=float32), 'EllipsoidalOriginal_best': DeviceArray(0.15993473, dtype=float32), 'RastriginOriginal_best': DeviceArray(0.3374112, dtype=float32), 'LinearSlope_best': DeviceArray(4.343378, dtype=float32), 'StepEllipsoidal_best': DeviceArray(0.28708112, dtype=float32), 'RosenbrockOriginal_best': DeviceArray(0.00920215, dtype=float32), 'EllipsoidalRotated_best': DeviceArray(0.1634562, dtype=float32), 'BentCigar_best': DeviceArray(0.08429074, dtype=float32), 'SharpRidge_best': DeviceArray(0.18485792, dtype=float32), 'DifferentPowers_best': DeviceArray(0.00048357, dtype=float32), 'SchaffersF7IllConditioned_best': DeviceArray(0.08761432, dtype=float32), 'Lunacek_best': DeviceArray(2.7439988, dtype=float32), 'Gallagher101Me_best': DeviceArray(7.330575e-08, dtype=float32), 'Gallagher21Hi_best': DeviceArray(1.7125898e-06, dtype=float32)}\n",
      "\n"
     ]
    },
    {
     "data": {
      "text/html": [
       "<pre style=\"white-space:pre;overflow-x:auto;line-height:normal;font-family:Menlo,'DejaVu Sans Mono',consolas,'Courier New',monospace\">   ┏━━━━━━━━━━━━━━━┳━━━━┳━━━━━━━━━┳━━━━━━━━━━━━━━━━━━━━━━━━━━━━━━━━━━━━━━━━┓    \n",
       "   ┃<span style=\"font-weight: bold\"> 📥 Total: 10  </span>┃<span style=\"font-weight: bold\"> ID </span>┃<span style=\"font-weight: bold\"> Obj. 📉 </span>┃<span style=\"font-weight: bold\"> Configuration 🔖 - 06/13/2023 15:24:27 </span>┃    \n",
       "   ┡━━━━━━━━━━━━━━━╇━━━━╇━━━━━━━━━╇━━━━━━━━━━━━━━━━━━━━━━━━━━━━━━━━━━━━━━━━┩    \n",
       "   │<span style=\"color: #7f7f7f; text-decoration-color: #7f7f7f\"> Best Overall  </span>│ 9  │ -7.9    │ 'sigma_init': 0.198                    │    \n",
       "   │<span style=\"color: #7f7f7f; text-decoration-color: #7f7f7f\"> Best in Batch </span>│ 9  │ -7.9    │ 'sigma_init': 0.198                    │    \n",
       "   └───────────────┴────┴─────────┴────────────────────────────────────────┘    \n",
       "</pre>\n"
      ],
      "text/plain": [
       "   ┏━━━━━━━━━━━━━━━┳━━━━┳━━━━━━━━━┳━━━━━━━━━━━━━━━━━━━━━━━━━━━━━━━━━━━━━━━━┓    \n",
       "   ┃\u001b[1m \u001b[0m\u001b[1m📥 Total: 10 \u001b[0m\u001b[1m \u001b[0m┃\u001b[1m \u001b[0m\u001b[1mID\u001b[0m\u001b[1m \u001b[0m┃\u001b[1m \u001b[0m\u001b[1mObj. 📉\u001b[0m\u001b[1m \u001b[0m┃\u001b[1m \u001b[0m\u001b[1mConfiguration 🔖 - 06/13/2023 15:24:27\u001b[0m\u001b[1m \u001b[0m┃    \n",
       "   ┡━━━━━━━━━━━━━━━╇━━━━╇━━━━━━━━━╇━━━━━━━━━━━━━━━━━━━━━━━━━━━━━━━━━━━━━━━━┩    \n",
       "   │\u001b[2m \u001b[0m\u001b[2mBest Overall \u001b[0m\u001b[2m \u001b[0m│ 9  │ -7.9    │ 'sigma_init': 0.198                    │    \n",
       "   │\u001b[2m \u001b[0m\u001b[2mBest in Batch\u001b[0m\u001b[2m \u001b[0m│ 9  │ -7.9    │ 'sigma_init': 0.198                    │    \n",
       "   └───────────────┴────┴─────────┴────────────────────────────────────────┘    \n"
      ]
     },
     "metadata": {},
     "output_type": "display_data"
    },
    {
     "data": {
      "text/html": [
       "<pre style=\"white-space:pre;overflow-x:auto;line-height:normal;font-family:Menlo,'DejaVu Sans Mono',consolas,'Courier New',monospace\">       <span style=\"font-style: italic\"> MLE-Hyperopt Random - 10 Evals - Top 5 - Refined Hyperspace 🚀  </span>        \n",
       "                                                                                \n",
       "        <span style=\"font-weight: bold\"> 🌻 Variable </span> <span style=\"font-weight: bold\"> Type </span> <span style=\"color: #800000; text-decoration-color: #800000; font-weight: bold\"> Search Range ↔                           </span>         \n",
       "        ───────────────────────────────────────────────────────────────         \n",
       "         sigma_init    real  <span style=\"color: #800000; text-decoration-color: #800000\"> Begin: 0.198, End: 0.305, Prior: uniform </span>         \n",
       "                                                                                \n",
       "</pre>\n"
      ],
      "text/plain": [
       "       \u001b[3m MLE-Hyperopt Random - 10 Evals - Top 5 - Refined Hyperspace 🚀  \u001b[0m        \n",
       "                                                                                \n",
       "        \u001b[1m \u001b[0m\u001b[1m🌻 Variable\u001b[0m\u001b[1m \u001b[0m \u001b[1m \u001b[0m\u001b[1mType\u001b[0m\u001b[1m \u001b[0m \u001b[1;31m \u001b[0m\u001b[1;31mSearch Range ↔                          \u001b[0m\u001b[1;31m \u001b[0m         \n",
       "        ───────────────────────────────────────────────────────────────         \n",
       "         sigma_init    real  \u001b[31m \u001b[0m\u001b[31mBegin: 0.198, End: 0.305, Prior: uniform\u001b[0m\u001b[31m \u001b[0m         \n",
       "                                                                                \n"
      ]
     },
     "metadata": {},
     "output_type": "display_data"
    }
   ],
   "source": [
    "# Run the random search hyperparameter optimization loop\n",
    "for search_iter in range(10):\n",
    "    # Augment the default params with the proposed parameters\n",
    "    proposal_params = hyper_strategy.ask()\n",
    "    eval_config = copy.deepcopy(config)\n",
    "    for k, v in proposal_params.items():\n",
    "        eval_config.es_config[k] = v\n",
    "\n",
    "    # Evaluate the parameter config by running a ES loop\n",
    "    performance, solution = neb_eval_loops[\"bbob\"](\n",
    "        eval_config,\n",
    "        log=None,\n",
    "        search_iter=search_iter,\n",
    "    )\n",
    "\n",
    "    # Update search strategy - Note we minimize!\n",
    "    hyper_strategy.tell(proposal_params, float(performance))"
   ]
  },
  {
   "cell_type": "code",
   "execution_count": 8,
   "id": "debc9a64",
   "metadata": {},
   "outputs": [
    {
     "data": {
      "text/plain": [
       "(<Figure size 432x288 with 1 Axes>,\n",
       " <Axes: title={'center': 'Best Objective Value'}, xlabel='# Config Evaluations', ylabel='Objective'>)"
      ]
     },
     "execution_count": 8,
     "metadata": {},
     "output_type": "execute_result"
    },
    {
     "data": {
      "image/png": "[encoded data removed]",
      "text/plain": [
       "<Figure size 432x288 with 1 Axes>"
      ]
     },
     "metadata": {
      "image/png": {
       "height": 250,
       "width": 402
      }
     },
     "output_type": "display_data"
    }
   ],
   "source": [
    "hyper_strategy.plot_best()"
   ]
  },
  {
   "attachments": {},
   "cell_type": "markdown",
   "id": "5d8b90ac",
   "metadata": {},
   "source": [
    "# Benchmark your own method"
   ]
  },
  {
   "cell_type": "code",
   "execution_count": 11,
   "id": "f5b7eacc",
   "metadata": {},
   "outputs": [],
   "source": [
    "from typing import Tuple, Optional, Union\n",
    "import jax\n",
    "import jax.numpy as jnp\n",
    "import chex\n",
    "from flax import struct\n",
    "from evosax import Strategy\n",
    "\n",
    "\n",
    "@struct.dataclass\n",
    "class EvoState:\n",
    "    mean: chex.Array\n",
    "    best_member: chex.Array\n",
    "    best_fitness: float = jnp.finfo(jnp.float32).max\n",
    "    gen_counter: int = 0\n",
    "\n",
    "\n",
    "@struct.dataclass\n",
    "class EvoParams:\n",
    "    sigma_init: float = 0.1\n",
    "    init_min: float = 0.0\n",
    "    init_max: float = 0.0\n",
    "    clip_min: float = -jnp.finfo(jnp.float32).max\n",
    "    clip_max: float = jnp.finfo(jnp.float32).max\n",
    "\n",
    "\n",
    "class HillClimber(Strategy):\n",
    "    def __init__(\n",
    "        self,\n",
    "        popsize: int,\n",
    "        num_dims: Optional[int] = None,\n",
    "        pholder_params: Optional[Union[chex.ArrayTree, chex.Array]] = None,\n",
    "        sigma_init: float = 1.0,\n",
    "        **fitness_kwargs: Union[bool, int, float]\n",
    "    ):\n",
    "        \"\"\"Hill Climbing Evolutionary Optimizer\"\"\"\n",
    "        super().__init__(\n",
    "            popsize,\n",
    "            num_dims,\n",
    "            pholder_params,\n",
    "            **fitness_kwargs\n",
    "        )\n",
    "        self.strategy_name = \"HillClimber\"\n",
    "        self.sigma_init = sigma_init\n",
    "\n",
    "    @property\n",
    "    def params_strategy(self) -> EvoParams:\n",
    "        \"\"\"Return default parameters of evolution strategy.\"\"\"\n",
    "        return EvoParams(sigma_init=self.sigma_init)\n",
    "\n",
    "    def initialize_strategy(\n",
    "        self, rng: chex.PRNGKey, params: EvoParams\n",
    "    ) -> EvoState:\n",
    "        \"\"\"`initialize` the evolution strategy.\"\"\"\n",
    "        initialization = jax.random.uniform(\n",
    "            rng,\n",
    "            (self.num_dims,),\n",
    "            minval=params.init_min,\n",
    "            maxval=params.init_max,\n",
    "        )\n",
    "        state = EvoState(\n",
    "            mean=initialization,\n",
    "            best_member=initialization,\n",
    "        )\n",
    "        return state\n",
    "\n",
    "    def ask_strategy(\n",
    "        self, rng: chex.PRNGKey, state: EvoState, params: EvoParams\n",
    "    ) -> Tuple[chex.Array, EvoState]:\n",
    "        \"\"\"`ask` for new proposed candidates to evaluate next.\"\"\"\n",
    "        # Sampling of N(0, 1) noise\n",
    "        z = jax.random.normal(\n",
    "            rng,\n",
    "            (self.popsize, self.num_dims),\n",
    "        )\n",
    "        x = state.best_member + params.sigma_init.reshape(-1, 1) * z\n",
    "        return x, state\n",
    "\n",
    "    def tell_strategy(\n",
    "        self,\n",
    "        x: chex.Array,\n",
    "        fitness: chex.Array,\n",
    "        state: EvoState,\n",
    "        params: EvoParams,\n",
    "    ) -> EvoState:\n",
    "        \"\"\"`tell` update to ES state.\"\"\"\n",
    "        # No state update needed - everything happens with best_member update\n",
    "        return state.replace(mean=state.best_member)\n"
   ]
  },
  {
   "cell_type": "code",
   "execution_count": 12,
   "id": "6f16ac58",
   "metadata": {},
   "outputs": [
    {
     "data": {
      "text/html": [
       "<pre style=\"white-space:pre;overflow-x:auto;line-height:normal;font-family:Menlo,'DejaVu Sans Mono',consolas,'Courier New',monospace\">         <span style=\"font-style: italic\">              MLE-Hyperopt Random Hyperspace 🚀               </span>         \n",
       "                                                                                \n",
       "          <span style=\"font-weight: bold\"> 🌻 Variable </span> <span style=\"font-weight: bold\"> Type </span> <span style=\"color: #800000; text-decoration-color: #800000; font-weight: bold\"> Search Range ↔                        </span>          \n",
       "          ────────────────────────────────────────────────────────────          \n",
       "           sigma_init    real  <span style=\"color: #800000; text-decoration-color: #800000\"> Begin: 0.01, End: 0.5, Prior: uniform </span>          \n",
       "                                                                                \n",
       "</pre>\n"
      ],
      "text/plain": [
       "         \u001b[3m              MLE-Hyperopt Random Hyperspace 🚀               \u001b[0m         \n",
       "                                                                                \n",
       "          \u001b[1m \u001b[0m\u001b[1m🌻 Variable\u001b[0m\u001b[1m \u001b[0m \u001b[1m \u001b[0m\u001b[1mType\u001b[0m\u001b[1m \u001b[0m \u001b[1;31m \u001b[0m\u001b[1;31mSearch Range ↔                       \u001b[0m\u001b[1;31m \u001b[0m          \n",
       "          ────────────────────────────────────────────────────────────          \n",
       "           sigma_init    real  \u001b[31m \u001b[0m\u001b[31mBegin: 0.01, End: 0.5, Prior: uniform\u001b[0m\u001b[31m \u001b[0m          \n",
       "                                                                                \n"
      ]
     },
     "metadata": {},
     "output_type": "display_data"
    },
    {
     "name": "stdout",
     "output_type": "stream",
     "text": [
      "bbob: START EVOLVING 2 PARAMETERS.\n",
      "{'num_gens': 50, 'iter_id': 0} {'test_eval_perf': 6.226114749908447, 'Sphere_mean': DeviceArray(0.00039134, dtype=float32), 'RosenbrockRotated_mean': DeviceArray(0.00930365, dtype=float32), 'Discus_mean': DeviceArray(1.9934813, dtype=float32), 'RastriginRotated_mean': DeviceArray(0.9959071, dtype=float32), 'Schwefel_mean': DeviceArray(1.7992586, dtype=float32), 'BuecheRastrigin_mean': DeviceArray(-19.221428, dtype=float32), 'AttractiveSector_mean': DeviceArray(0.00769582, dtype=float32), 'Weierstrass_mean': DeviceArray(0.02210636, dtype=float32), 'SchaffersF7_mean': DeviceArray(0.04755829, dtype=float32), 'GriewankRosenbrock_mean': DeviceArray(0.00654926, dtype=float32), 'EllipsoidalOriginal_mean': DeviceArray(0.97592545, dtype=float32), 'RastriginOriginal_mean': DeviceArray(0.34312344, dtype=float32), 'LinearSlope_mean': DeviceArray(-136.19298, dtype=float32), 'StepEllipsoidal_mean': DeviceArray(0.43844897, dtype=float32), 'RosenbrockOriginal_mean': DeviceArray(0.00565912, dtype=float32), 'EllipsoidalRotated_mean': DeviceArray(0.4394787, dtype=float32), 'BentCigar_mean': DeviceArray(1.8831395, dtype=float32), 'SharpRidge_mean': DeviceArray(0.4696374, dtype=float32), 'DifferentPowers_mean': DeviceArray(0.00143528, dtype=float32), 'SchaffersF7IllConditioned_mean': DeviceArray(0.11749389, dtype=float32), 'Lunacek_mean': DeviceArray(2.6568942, dtype=float32), 'Gallagher101Me_mean': DeviceArray(0.00026853, dtype=float32), 'Gallagher21Hi_mean': DeviceArray(1.625974e-05, dtype=float32), 'Sphere_best': DeviceArray(0.00039134, dtype=float32), 'RosenbrockRotated_best': DeviceArray(0.00930365, dtype=float32), 'Discus_best': DeviceArray(1.9934813, dtype=float32), 'RastriginRotated_best': DeviceArray(0.9959071, dtype=float32), 'Schwefel_best': DeviceArray(1.7992586, dtype=float32), 'BuecheRastrigin_best': DeviceArray(-19.221428, dtype=float32), 'AttractiveSector_best': DeviceArray(0.00769582, dtype=float32), 'Weierstrass_best': DeviceArray(0.02210636, dtype=float32), 'SchaffersF7_best': DeviceArray(0.04755829, dtype=float32), 'GriewankRosenbrock_best': DeviceArray(0.00654926, dtype=float32), 'EllipsoidalOriginal_best': DeviceArray(0.97592545, dtype=float32), 'RastriginOriginal_best': DeviceArray(0.34312344, dtype=float32), 'LinearSlope_best': DeviceArray(-140.8515, dtype=float32), 'StepEllipsoidal_best': DeviceArray(0.43844897, dtype=float32), 'RosenbrockOriginal_best': DeviceArray(0.00370145, dtype=float32), 'EllipsoidalRotated_best': DeviceArray(0.4394787, dtype=float32), 'BentCigar_best': DeviceArray(1.8831395, dtype=float32), 'SharpRidge_best': DeviceArray(0.4652981, dtype=float32), 'DifferentPowers_best': DeviceArray(0.00143528, dtype=float32), 'SchaffersF7IllConditioned_best': DeviceArray(0.11749389, dtype=float32), 'Lunacek_best': DeviceArray(2.5480707, dtype=float32), 'Gallagher101Me_best': DeviceArray(0.00026853, dtype=float32), 'Gallagher21Hi_best': DeviceArray(1.625974e-05, dtype=float32)}\n",
      "\n"
     ]
    },
    {
     "data": {
      "text/html": [
       "<pre style=\"white-space:pre;overflow-x:auto;line-height:normal;font-family:Menlo,'DejaVu Sans Mono',consolas,'Courier New',monospace\">   ┏━━━━━━━━━━━━━━━┳━━━━┳━━━━━━━━━┳━━━━━━━━━━━━━━━━━━━━━━━━━━━━━━━━━━━━━━━━┓    \n",
       "   ┃<span style=\"font-weight: bold\"> 📥 Total: 1   </span>┃<span style=\"font-weight: bold\"> ID </span>┃<span style=\"font-weight: bold\"> Obj. 📉 </span>┃<span style=\"font-weight: bold\"> Configuration 🔖 - 06/13/2023 15:26:44 </span>┃    \n",
       "   ┡━━━━━━━━━━━━━━━╇━━━━╇━━━━━━━━━╇━━━━━━━━━━━━━━━━━━━━━━━━━━━━━━━━━━━━━━━━┩    \n",
       "   │<span style=\"color: #7f7f7f; text-decoration-color: #7f7f7f\"> Best Overall  </span>│ 0  │ 6.226   │ 'sigma_init': 0.279                    │    \n",
       "   │<span style=\"color: #7f7f7f; text-decoration-color: #7f7f7f\"> Best in Batch </span>│ 0  │ 6.226   │ 'sigma_init': 0.279                    │    \n",
       "   └───────────────┴────┴─────────┴────────────────────────────────────────┘    \n",
       "</pre>\n"
      ],
      "text/plain": [
       "   ┏━━━━━━━━━━━━━━━┳━━━━┳━━━━━━━━━┳━━━━━━━━━━━━━━━━━━━━━━━━━━━━━━━━━━━━━━━━┓    \n",
       "   ┃\u001b[1m \u001b[0m\u001b[1m📥 Total: 1  \u001b[0m\u001b[1m \u001b[0m┃\u001b[1m \u001b[0m\u001b[1mID\u001b[0m\u001b[1m \u001b[0m┃\u001b[1m \u001b[0m\u001b[1mObj. 📉\u001b[0m\u001b[1m \u001b[0m┃\u001b[1m \u001b[0m\u001b[1mConfiguration 🔖 - 06/13/2023 15:26:44\u001b[0m\u001b[1m \u001b[0m┃    \n",
       "   ┡━━━━━━━━━━━━━━━╇━━━━╇━━━━━━━━━╇━━━━━━━━━━━━━━━━━━━━━━━━━━━━━━━━━━━━━━━━┩    \n",
       "   │\u001b[2m \u001b[0m\u001b[2mBest Overall \u001b[0m\u001b[2m \u001b[0m│ 0  │ 6.226   │ 'sigma_init': 0.279                    │    \n",
       "   │\u001b[2m \u001b[0m\u001b[2mBest in Batch\u001b[0m\u001b[2m \u001b[0m│ 0  │ 6.226   │ 'sigma_init': 0.279                    │    \n",
       "   └───────────────┴────┴─────────┴────────────────────────────────────────┘    \n"
      ]
     },
     "metadata": {},
     "output_type": "display_data"
    },
    {
     "name": "stdout",
     "output_type": "stream",
     "text": [
      "bbob: START EVOLVING 2 PARAMETERS.\n",
      "{'num_gens': 50, 'iter_id': 1} {'test_eval_perf': 8.689719200134277, 'Sphere_mean': DeviceArray(0.00065354, dtype=float32), 'RosenbrockRotated_mean': DeviceArray(0.00510243, dtype=float32), 'Discus_mean': DeviceArray(3.0792787, dtype=float32), 'RastriginRotated_mean': DeviceArray(0.5276799, dtype=float32), 'Schwefel_mean': DeviceArray(1.5698105, dtype=float32), 'BuecheRastrigin_mean': DeviceArray(-18.927692, dtype=float32), 'AttractiveSector_mean': DeviceArray(0.02009605, dtype=float32), 'Weierstrass_mean': DeviceArray(0.02794836, dtype=float32), 'SchaffersF7_mean': DeviceArray(0.06473983, dtype=float32), 'GriewankRosenbrock_mean': DeviceArray(0.00235233, dtype=float32), 'EllipsoidalOriginal_mean': DeviceArray(1.6498133, dtype=float32), 'RastriginOriginal_mean': DeviceArray(0.4631978, dtype=float32), 'LinearSlope_mean': DeviceArray(-197.37914, dtype=float32), 'StepEllipsoidal_mean': DeviceArray(0.5898178, dtype=float32), 'RosenbrockOriginal_mean': DeviceArray(0.00907254, dtype=float32), 'EllipsoidalRotated_mean': DeviceArray(0.81587887, dtype=float32), 'BentCigar_mean': DeviceArray(3.2055244, dtype=float32), 'SharpRidge_mean': DeviceArray(0.68020934, dtype=float32), 'DifferentPowers_mean': DeviceArray(0.00258918, dtype=float32), 'SchaffersF7IllConditioned_mean': DeviceArray(0.18299994, dtype=float32), 'Lunacek_mean': DeviceArray(3.54582, dtype=float32), 'Gallagher101Me_mean': DeviceArray(0.00065713, dtype=float32), 'Gallagher21Hi_mean': DeviceArray(4.386884e-05, dtype=float32), 'Sphere_best': DeviceArray(0.00065354, dtype=float32), 'RosenbrockRotated_best': DeviceArray(0.00510243, dtype=float32), 'Discus_best': DeviceArray(3.0792787, dtype=float32), 'RastriginRotated_best': DeviceArray(0.5276799, dtype=float32), 'Schwefel_best': DeviceArray(1.5698105, dtype=float32), 'BuecheRastrigin_best': DeviceArray(-18.927692, dtype=float32), 'AttractiveSector_best': DeviceArray(0.02009605, dtype=float32), 'Weierstrass_best': DeviceArray(0.02794836, dtype=float32), 'SchaffersF7_best': DeviceArray(0.06473983, dtype=float32), 'GriewankRosenbrock_best': DeviceArray(0.00228786, dtype=float32), 'EllipsoidalOriginal_best': DeviceArray(1.6498133, dtype=float32), 'RastriginOriginal_best': DeviceArray(0.4631978, dtype=float32), 'LinearSlope_best': DeviceArray(-203.39934, dtype=float32), 'StepEllipsoidal_best': DeviceArray(0.5898178, dtype=float32), 'RosenbrockOriginal_best': DeviceArray(0.00530626, dtype=float32), 'EllipsoidalRotated_best': DeviceArray(0.81587887, dtype=float32), 'BentCigar_best': DeviceArray(3.2055244, dtype=float32), 'SharpRidge_best': DeviceArray(0.68020934, dtype=float32), 'DifferentPowers_best': DeviceArray(0.00258918, dtype=float32), 'SchaffersF7IllConditioned_best': DeviceArray(0.17065421, dtype=float32), 'Lunacek_best': DeviceArray(3.54582, dtype=float32), 'Gallagher101Me_best': DeviceArray(0.00065713, dtype=float32), 'Gallagher21Hi_best': DeviceArray(4.386884e-05, dtype=float32)}\n",
      "\n"
     ]
    },
    {
     "data": {
      "text/html": [
       "<pre style=\"white-space:pre;overflow-x:auto;line-height:normal;font-family:Menlo,'DejaVu Sans Mono',consolas,'Courier New',monospace\">   ┏━━━━━━━━━━━━━━━┳━━━━┳━━━━━━━━━┳━━━━━━━━━━━━━━━━━━━━━━━━━━━━━━━━━━━━━━━━┓    \n",
       "   ┃<span style=\"font-weight: bold\"> 📥 Total: 2   </span>┃<span style=\"font-weight: bold\"> ID </span>┃<span style=\"font-weight: bold\"> Obj. 📉 </span>┃<span style=\"font-weight: bold\"> Configuration 🔖 - 06/13/2023 15:27:13 </span>┃    \n",
       "   ┡━━━━━━━━━━━━━━━╇━━━━╇━━━━━━━━━╇━━━━━━━━━━━━━━━━━━━━━━━━━━━━━━━━━━━━━━━━┩    \n",
       "   │<span style=\"color: #7f7f7f; text-decoration-color: #7f7f7f\"> Best Overall  </span>│ 1  │ 8.69    │ 'sigma_init': 0.36                     │    \n",
       "   │<span style=\"color: #7f7f7f; text-decoration-color: #7f7f7f\"> Best in Batch </span>│ 1  │ 8.69    │ 'sigma_init': 0.36                     │    \n",
       "   └───────────────┴────┴─────────┴────────────────────────────────────────┘    \n",
       "</pre>\n"
      ],
      "text/plain": [
       "   ┏━━━━━━━━━━━━━━━┳━━━━┳━━━━━━━━━┳━━━━━━━━━━━━━━━━━━━━━━━━━━━━━━━━━━━━━━━━┓    \n",
       "   ┃\u001b[1m \u001b[0m\u001b[1m📥 Total: 2  \u001b[0m\u001b[1m \u001b[0m┃\u001b[1m \u001b[0m\u001b[1mID\u001b[0m\u001b[1m \u001b[0m┃\u001b[1m \u001b[0m\u001b[1mObj. 📉\u001b[0m\u001b[1m \u001b[0m┃\u001b[1m \u001b[0m\u001b[1mConfiguration 🔖 - 06/13/2023 15:27:13\u001b[0m\u001b[1m \u001b[0m┃    \n",
       "   ┡━━━━━━━━━━━━━━━╇━━━━╇━━━━━━━━━╇━━━━━━━━━━━━━━━━━━━━━━━━━━━━━━━━━━━━━━━━┩    \n",
       "   │\u001b[2m \u001b[0m\u001b[2mBest Overall \u001b[0m\u001b[2m \u001b[0m│ 1  │ 8.69    │ 'sigma_init': 0.36                     │    \n",
       "   │\u001b[2m \u001b[0m\u001b[2mBest in Batch\u001b[0m\u001b[2m \u001b[0m│ 1  │ 8.69    │ 'sigma_init': 0.36                     │    \n",
       "   └───────────────┴────┴─────────┴────────────────────────────────────────┘    \n"
      ]
     },
     "metadata": {},
     "output_type": "display_data"
    },
    {
     "name": "stdout",
     "output_type": "stream",
     "text": [
      "bbob: START EVOLVING 2 PARAMETERS.\n",
      "{'num_gens': 50, 'iter_id': 2} {'test_eval_perf': 7.087703704833984, 'Sphere_mean': DeviceArray(0.00046904, dtype=float32), 'RosenbrockRotated_mean': DeviceArray(0.00250665, dtype=float32), 'Discus_mean': DeviceArray(1.8247932, dtype=float32), 'RastriginRotated_mean': DeviceArray(0.68864834, dtype=float32), 'Schwefel_mean': DeviceArray(1.8622332, dtype=float32), 'BuecheRastrigin_mean': DeviceArray(-19.01887, dtype=float32), 'AttractiveSector_mean': DeviceArray(0.01115397, dtype=float32), 'Weierstrass_mean': DeviceArray(0.07207473, dtype=float32), 'SchaffersF7_mean': DeviceArray(0.04509301, dtype=float32), 'GriewankRosenbrock_mean': DeviceArray(5.283356e-05, dtype=float32), 'EllipsoidalOriginal_mean': DeviceArray(1.2037247, dtype=float32), 'RastriginOriginal_mean': DeviceArray(0.09531277, dtype=float32), 'LinearSlope_mean': DeviceArray(-156.0335, dtype=float32), 'StepEllipsoidal_mean': DeviceArray(0.73335665, dtype=float32), 'RosenbrockOriginal_mean': DeviceArray(0.00651333, dtype=float32), 'EllipsoidalRotated_mean': DeviceArray(0.54816765, dtype=float32), 'BentCigar_mean': DeviceArray(2.202247, dtype=float32), 'SharpRidge_mean': DeviceArray(0.51600766, dtype=float32), 'DifferentPowers_mean': DeviceArray(0.00166277, dtype=float32), 'SchaffersF7IllConditioned_mean': DeviceArray(0.09089021, dtype=float32), 'Lunacek_mean': DeviceArray(2.1298978, dtype=float32), 'Gallagher101Me_mean': DeviceArray(0.00035345, dtype=float32), 'Gallagher21Hi_mean': DeviceArray(2.4718755e-05, dtype=float32), 'Sphere_best': DeviceArray(0.00046904, dtype=float32), 'RosenbrockRotated_best': DeviceArray(0.00250665, dtype=float32), 'Discus_best': DeviceArray(1.8247932, dtype=float32), 'RastriginRotated_best': DeviceArray(0.68864834, dtype=float32), 'Schwefel_best': DeviceArray(1.8622332, dtype=float32), 'BuecheRastrigin_best': DeviceArray(-19.01887, dtype=float32), 'AttractiveSector_best': DeviceArray(0.01115397, dtype=float32), 'Weierstrass_best': DeviceArray(0.07207473, dtype=float32), 'SchaffersF7_best': DeviceArray(0.04509301, dtype=float32), 'GriewankRosenbrock_best': DeviceArray(5.283356e-05, dtype=float32), 'EllipsoidalOriginal_best': DeviceArray(1.2037247, dtype=float32), 'RastriginOriginal_best': DeviceArray(0.09531277, dtype=float32), 'LinearSlope_best': DeviceArray(-161.13358, dtype=float32), 'StepEllipsoidal_best': DeviceArray(0.73335665, dtype=float32), 'RosenbrockOriginal_best': DeviceArray(0.00405328, dtype=float32), 'EllipsoidalRotated_best': DeviceArray(0.54816765, dtype=float32), 'BentCigar_best': DeviceArray(2.202247, dtype=float32), 'SharpRidge_best': DeviceArray(0.51600766, dtype=float32), 'DifferentPowers_best': DeviceArray(0.00166277, dtype=float32), 'SchaffersF7IllConditioned_best': DeviceArray(0.08085503, dtype=float32), 'Lunacek_best': DeviceArray(2.066669, dtype=float32), 'Gallagher101Me_best': DeviceArray(0.00035345, dtype=float32), 'Gallagher21Hi_best': DeviceArray(2.4718755e-05, dtype=float32)}\n",
      "\n"
     ]
    },
    {
     "data": {
      "text/html": [
       "<pre style=\"white-space:pre;overflow-x:auto;line-height:normal;font-family:Menlo,'DejaVu Sans Mono',consolas,'Courier New',monospace\">   ┏━━━━━━━━━━━━━━━┳━━━━┳━━━━━━━━━┳━━━━━━━━━━━━━━━━━━━━━━━━━━━━━━━━━━━━━━━━┓    \n",
       "   ┃<span style=\"font-weight: bold\"> 📥 Total: 3   </span>┃<span style=\"font-weight: bold\"> ID </span>┃<span style=\"font-weight: bold\"> Obj. 📉 </span>┃<span style=\"font-weight: bold\"> Configuration 🔖 - 06/13/2023 15:27:41 </span>┃    \n",
       "   ┡━━━━━━━━━━━━━━━╇━━━━╇━━━━━━━━━╇━━━━━━━━━━━━━━━━━━━━━━━━━━━━━━━━━━━━━━━━┩    \n",
       "   │<span style=\"color: #7f7f7f; text-decoration-color: #7f7f7f\"> Best Overall  </span>│ 1  │ 8.69    │ 'sigma_init': 0.36                     │    \n",
       "   │<span style=\"color: #7f7f7f; text-decoration-color: #7f7f7f\"> Best in Batch </span>│ 2  │ 7.088   │ 'sigma_init': 0.305                    │    \n",
       "   └───────────────┴────┴─────────┴────────────────────────────────────────┘    \n",
       "</pre>\n"
      ],
      "text/plain": [
       "   ┏━━━━━━━━━━━━━━━┳━━━━┳━━━━━━━━━┳━━━━━━━━━━━━━━━━━━━━━━━━━━━━━━━━━━━━━━━━┓    \n",
       "   ┃\u001b[1m \u001b[0m\u001b[1m📥 Total: 3  \u001b[0m\u001b[1m \u001b[0m┃\u001b[1m \u001b[0m\u001b[1mID\u001b[0m\u001b[1m \u001b[0m┃\u001b[1m \u001b[0m\u001b[1mObj. 📉\u001b[0m\u001b[1m \u001b[0m┃\u001b[1m \u001b[0m\u001b[1mConfiguration 🔖 - 06/13/2023 15:27:41\u001b[0m\u001b[1m \u001b[0m┃    \n",
       "   ┡━━━━━━━━━━━━━━━╇━━━━╇━━━━━━━━━╇━━━━━━━━━━━━━━━━━━━━━━━━━━━━━━━━━━━━━━━━┩    \n",
       "   │\u001b[2m \u001b[0m\u001b[2mBest Overall \u001b[0m\u001b[2m \u001b[0m│ 1  │ 8.69    │ 'sigma_init': 0.36                     │    \n",
       "   │\u001b[2m \u001b[0m\u001b[2mBest in Batch\u001b[0m\u001b[2m \u001b[0m│ 2  │ 7.088   │ 'sigma_init': 0.305                    │    \n",
       "   └───────────────┴────┴─────────┴────────────────────────────────────────┘    \n"
      ]
     },
     "metadata": {},
     "output_type": "display_data"
    },
    {
     "name": "stdout",
     "output_type": "stream",
     "text": [
      "bbob: START EVOLVING 2 PARAMETERS.\n",
      "{'num_gens': 50, 'iter_id': 3} {'test_eval_perf': 6.13919734954834, 'Sphere_mean': DeviceArray(0.00038596, dtype=float32), 'RosenbrockRotated_mean': DeviceArray(0.00496255, dtype=float32), 'Discus_mean': DeviceArray(1.9730377, dtype=float32), 'RastriginRotated_mean': DeviceArray(0.93111515, dtype=float32), 'Schwefel_mean': DeviceArray(1.9036525, dtype=float32), 'BuecheRastrigin_mean': DeviceArray(-19.72016, dtype=float32), 'AttractiveSector_mean': DeviceArray(0.01119483, dtype=float32), 'Weierstrass_mean': DeviceArray(0.03007596, dtype=float32), 'SchaffersF7_mean': DeviceArray(0.05002716, dtype=float32), 'GriewankRosenbrock_mean': DeviceArray(0.0016386, dtype=float32), 'EllipsoidalOriginal_mean': DeviceArray(0.9596121, dtype=float32), 'RastriginOriginal_mean': DeviceArray(0.39255083, dtype=float32), 'LinearSlope_mean': DeviceArray(-134.74754, dtype=float32), 'StepEllipsoidal_mean': DeviceArray(0.43844897, dtype=float32), 'RosenbrockOriginal_mean': DeviceArray(0.00557511, dtype=float32), 'EllipsoidalRotated_mean': DeviceArray(0.43272176, dtype=float32), 'BentCigar_mean': DeviceArray(1.8652296, dtype=float32), 'SharpRidge_mean': DeviceArray(0.46627188, dtype=float32), 'DifferentPowers_mean': DeviceArray(0.0014199, dtype=float32), 'SchaffersF7IllConditioned_mean': DeviceArray(0.11381369, dtype=float32), 'Lunacek_mean': DeviceArray(3.6841378, dtype=float32), 'Gallagher101Me_mean': DeviceArray(0.0002605, dtype=float32), 'Gallagher21Hi_mean': DeviceArray(1.5702919e-05, dtype=float32), 'Sphere_best': DeviceArray(0.00038596, dtype=float32), 'RosenbrockRotated_best': DeviceArray(0.00496255, dtype=float32), 'Discus_best': DeviceArray(1.9730377, dtype=float32), 'RastriginRotated_best': DeviceArray(0.93111515, dtype=float32), 'Schwefel_best': DeviceArray(1.9036525, dtype=float32), 'BuecheRastrigin_best': DeviceArray(-19.72016, dtype=float32), 'AttractiveSector_best': DeviceArray(0.01119483, dtype=float32), 'Weierstrass_best': DeviceArray(0.03007596, dtype=float32), 'SchaffersF7_best': DeviceArray(0.05002716, dtype=float32), 'GriewankRosenbrock_best': DeviceArray(0.0016386, dtype=float32), 'EllipsoidalOriginal_best': DeviceArray(0.9596121, dtype=float32), 'RastriginOriginal_best': DeviceArray(0.39255083, dtype=float32), 'LinearSlope_best': DeviceArray(-139.37395, dtype=float32), 'StepEllipsoidal_best': DeviceArray(0.43844897, dtype=float32), 'RosenbrockOriginal_best': DeviceArray(0.00365122, dtype=float32), 'EllipsoidalRotated_best': DeviceArray(0.43272176, dtype=float32), 'BentCigar_best': DeviceArray(1.8652296, dtype=float32), 'SharpRidge_best': DeviceArray(0.46153155, dtype=float32), 'DifferentPowers_best': DeviceArray(0.0014199, dtype=float32), 'SchaffersF7IllConditioned_best': DeviceArray(0.11381369, dtype=float32), 'Lunacek_best': DeviceArray(3.6841378, dtype=float32), 'Gallagher101Me_best': DeviceArray(0.0002605, dtype=float32), 'Gallagher21Hi_best': DeviceArray(1.5702919e-05, dtype=float32)}\n",
      "\n"
     ]
    },
    {
     "data": {
      "text/html": [
       "<pre style=\"white-space:pre;overflow-x:auto;line-height:normal;font-family:Menlo,'DejaVu Sans Mono',consolas,'Courier New',monospace\">   ┏━━━━━━━━━━━━━━━┳━━━━┳━━━━━━━━━┳━━━━━━━━━━━━━━━━━━━━━━━━━━━━━━━━━━━━━━━━┓    \n",
       "   ┃<span style=\"font-weight: bold\"> 📥 Total: 4   </span>┃<span style=\"font-weight: bold\"> ID </span>┃<span style=\"font-weight: bold\"> Obj. 📉 </span>┃<span style=\"font-weight: bold\"> Configuration 🔖 - 06/13/2023 15:28:08 </span>┃    \n",
       "   ┡━━━━━━━━━━━━━━━╇━━━━╇━━━━━━━━━╇━━━━━━━━━━━━━━━━━━━━━━━━━━━━━━━━━━━━━━━━┩    \n",
       "   │<span style=\"color: #7f7f7f; text-decoration-color: #7f7f7f\"> Best Overall  </span>│ 1  │ 8.69    │ 'sigma_init': 0.36                     │    \n",
       "   │<span style=\"color: #7f7f7f; text-decoration-color: #7f7f7f\"> Best in Batch </span>│ 3  │ 6.139   │ 'sigma_init': 0.277                    │    \n",
       "   └───────────────┴────┴─────────┴────────────────────────────────────────┘    \n",
       "</pre>\n"
      ],
      "text/plain": [
       "   ┏━━━━━━━━━━━━━━━┳━━━━┳━━━━━━━━━┳━━━━━━━━━━━━━━━━━━━━━━━━━━━━━━━━━━━━━━━━┓    \n",
       "   ┃\u001b[1m \u001b[0m\u001b[1m📥 Total: 4  \u001b[0m\u001b[1m \u001b[0m┃\u001b[1m \u001b[0m\u001b[1mID\u001b[0m\u001b[1m \u001b[0m┃\u001b[1m \u001b[0m\u001b[1mObj. 📉\u001b[0m\u001b[1m \u001b[0m┃\u001b[1m \u001b[0m\u001b[1mConfiguration 🔖 - 06/13/2023 15:28:08\u001b[0m\u001b[1m \u001b[0m┃    \n",
       "   ┡━━━━━━━━━━━━━━━╇━━━━╇━━━━━━━━━╇━━━━━━━━━━━━━━━━━━━━━━━━━━━━━━━━━━━━━━━━┩    \n",
       "   │\u001b[2m \u001b[0m\u001b[2mBest Overall \u001b[0m\u001b[2m \u001b[0m│ 1  │ 8.69    │ 'sigma_init': 0.36                     │    \n",
       "   │\u001b[2m \u001b[0m\u001b[2mBest in Batch\u001b[0m\u001b[2m \u001b[0m│ 3  │ 6.139   │ 'sigma_init': 0.277                    │    \n",
       "   └───────────────┴────┴─────────┴────────────────────────────────────────┘    \n"
      ]
     },
     "metadata": {},
     "output_type": "display_data"
    },
    {
     "name": "stdout",
     "output_type": "stream",
     "text": [
      "bbob: START EVOLVING 2 PARAMETERS.\n",
      "{'num_gens': 50, 'iter_id': 4} {'test_eval_perf': 4.181944847106934, 'Sphere_mean': DeviceArray(0.00023817, dtype=float32), 'RosenbrockRotated_mean': DeviceArray(0.01387379, dtype=float32), 'Discus_mean': DeviceArray(1.2601849, dtype=float32), 'RastriginRotated_mean': DeviceArray(0.545439, dtype=float32), 'Schwefel_mean': DeviceArray(2.3292692, dtype=float32), 'BuecheRastrigin_mean': DeviceArray(-19.746027, dtype=float32), 'AttractiveSector_mean': DeviceArray(0.00375075, dtype=float32), 'Weierstrass_mean': DeviceArray(0.05502801, dtype=float32), 'SchaffersF7_mean': DeviceArray(0.02057378, dtype=float32), 'GriewankRosenbrock_mean': DeviceArray(0.00246124, dtype=float32), 'EllipsoidalOriginal_mean': DeviceArray(0.66603124, dtype=float32), 'RastriginOriginal_mean': DeviceArray(0.10694652, dtype=float32), 'LinearSlope_mean': DeviceArray(-90.164734, dtype=float32), 'StepEllipsoidal_mean': DeviceArray(0.28708068, dtype=float32), 'RosenbrockOriginal_mean': DeviceArray(0.00334381, dtype=float32), 'EllipsoidalRotated_mean': DeviceArray(0.29445028, dtype=float32), 'BentCigar_mean': DeviceArray(1.3612226, dtype=float32), 'SharpRidge_mean': DeviceArray(0.36330292, dtype=float32), 'DifferentPowers_mean': DeviceArray(0.00101232, dtype=float32), 'SchaffersF7IllConditioned_mean': DeviceArray(0.08187479, dtype=float32), 'Lunacek_mean': DeviceArray(6.32985, dtype=float32), 'Gallagher101Me_mean': DeviceArray(8.8926136e-05, dtype=float32), 'Gallagher21Hi_mean': DeviceArray(6.4022693e-06, dtype=float32), 'Sphere_best': DeviceArray(0.00023817, dtype=float32), 'RosenbrockRotated_best': DeviceArray(0.01387379, dtype=float32), 'Discus_best': DeviceArray(1.2601849, dtype=float32), 'RastriginRotated_best': DeviceArray(0.545439, dtype=float32), 'Schwefel_best': DeviceArray(2.3292692, dtype=float32), 'BuecheRastrigin_best': DeviceArray(-19.746027, dtype=float32), 'AttractiveSector_best': DeviceArray(0.00375075, dtype=float32), 'Weierstrass_best': DeviceArray(0.05502801, dtype=float32), 'SchaffersF7_best': DeviceArray(0.02057378, dtype=float32), 'GriewankRosenbrock_best': DeviceArray(0.00246124, dtype=float32), 'EllipsoidalOriginal_best': DeviceArray(0.66603124, dtype=float32), 'RastriginOriginal_best': DeviceArray(0.10694652, dtype=float32), 'LinearSlope_best': DeviceArray(-93.79897, dtype=float32), 'StepEllipsoidal_best': DeviceArray(0.28708068, dtype=float32), 'RosenbrockOriginal_best': DeviceArray(0.00228308, dtype=float32), 'EllipsoidalRotated_best': DeviceArray(0.29445028, dtype=float32), 'BentCigar_best': DeviceArray(1.3612226, dtype=float32), 'SharpRidge_best': DeviceArray(0.349143, dtype=float32), 'DifferentPowers_best': DeviceArray(0.00101232, dtype=float32), 'SchaffersF7IllConditioned_best': DeviceArray(0.06735998, dtype=float32), 'Lunacek_best': DeviceArray(6.32985, dtype=float32), 'Gallagher101Me_best': DeviceArray(8.8926136e-05, dtype=float32), 'Gallagher21Hi_best': DeviceArray(6.4022693e-06, dtype=float32)}\n",
      "\n"
     ]
    },
    {
     "data": {
      "text/html": [
       "<pre style=\"white-space:pre;overflow-x:auto;line-height:normal;font-family:Menlo,'DejaVu Sans Mono',consolas,'Courier New',monospace\">   ┏━━━━━━━━━━━━━━━┳━━━━┳━━━━━━━━━┳━━━━━━━━━━━━━━━━━━━━━━━━━━━━━━━━━━━━━━━━┓    \n",
       "   ┃<span style=\"font-weight: bold\"> 📥 Total: 5   </span>┃<span style=\"font-weight: bold\"> ID </span>┃<span style=\"font-weight: bold\"> Obj. 📉 </span>┃<span style=\"font-weight: bold\"> Configuration 🔖 - 06/13/2023 15:28:36 </span>┃    \n",
       "   ┡━━━━━━━━━━━━━━━╇━━━━╇━━━━━━━━━╇━━━━━━━━━━━━━━━━━━━━━━━━━━━━━━━━━━━━━━━━┩    \n",
       "   │<span style=\"color: #7f7f7f; text-decoration-color: #7f7f7f\"> Best Overall  </span>│ 1  │ 8.69    │ 'sigma_init': 0.36                     │    \n",
       "   │<span style=\"color: #7f7f7f; text-decoration-color: #7f7f7f\"> Best in Batch </span>│ 4  │ 4.182   │ 'sigma_init': 0.218                    │    \n",
       "   └───────────────┴────┴─────────┴────────────────────────────────────────┘    \n",
       "</pre>\n"
      ],
      "text/plain": [
       "   ┏━━━━━━━━━━━━━━━┳━━━━┳━━━━━━━━━┳━━━━━━━━━━━━━━━━━━━━━━━━━━━━━━━━━━━━━━━━┓    \n",
       "   ┃\u001b[1m \u001b[0m\u001b[1m📥 Total: 5  \u001b[0m\u001b[1m \u001b[0m┃\u001b[1m \u001b[0m\u001b[1mID\u001b[0m\u001b[1m \u001b[0m┃\u001b[1m \u001b[0m\u001b[1mObj. 📉\u001b[0m\u001b[1m \u001b[0m┃\u001b[1m \u001b[0m\u001b[1mConfiguration 🔖 - 06/13/2023 15:28:36\u001b[0m\u001b[1m \u001b[0m┃    \n",
       "   ┡━━━━━━━━━━━━━━━╇━━━━╇━━━━━━━━━╇━━━━━━━━━━━━━━━━━━━━━━━━━━━━━━━━━━━━━━━━┩    \n",
       "   │\u001b[2m \u001b[0m\u001b[2mBest Overall \u001b[0m\u001b[2m \u001b[0m│ 1  │ 8.69    │ 'sigma_init': 0.36                     │    \n",
       "   │\u001b[2m \u001b[0m\u001b[2mBest in Batch\u001b[0m\u001b[2m \u001b[0m│ 4  │ 4.182   │ 'sigma_init': 0.218                    │    \n",
       "   └───────────────┴────┴─────────┴────────────────────────────────────────┘    \n"
      ]
     },
     "metadata": {},
     "output_type": "display_data"
    },
    {
     "name": "stdout",
     "output_type": "stream",
     "text": [
      "bbob: START EVOLVING 2 PARAMETERS.\n",
      "{'num_gens': 50, 'iter_id': 5} {'test_eval_perf': 7.729166030883789, 'Sphere_mean': DeviceArray(0.00053621, dtype=float32), 'RosenbrockRotated_mean': DeviceArray(0.0127319, dtype=float32), 'Discus_mean': DeviceArray(2.1048124, dtype=float32), 'RastriginRotated_mean': DeviceArray(0.6982812, dtype=float32), 'Schwefel_mean': DeviceArray(1.4710234, dtype=float32), 'BuecheRastrigin_mean': DeviceArray(-18.482258, dtype=float32), 'AttractiveSector_mean': DeviceArray(0.00609142, dtype=float32), 'Weierstrass_mean': DeviceArray(0.08602613, dtype=float32), 'SchaffersF7_mean': DeviceArray(0.04065184, dtype=float32), 'GriewankRosenbrock_mean': DeviceArray(0.0009531, dtype=float32), 'EllipsoidalOriginal_mean': DeviceArray(1.3818747, dtype=float32), 'RastriginOriginal_mean': DeviceArray(0.63452715, dtype=float32), 'LinearSlope_mean': DeviceArray(-171.89519, dtype=float32), 'StepEllipsoidal_mean': DeviceArray(0.73335665, dtype=float32), 'RosenbrockOriginal_mean': DeviceArray(0.0073372, dtype=float32), 'EllipsoidalRotated_mean': DeviceArray(0.6500851, dtype=float32), 'BentCigar_mean': DeviceArray(2.6309965, dtype=float32), 'SharpRidge_mean': DeviceArray(0.5868897, dtype=float32), 'DifferentPowers_mean': DeviceArray(0.00186626, dtype=float32), 'SchaffersF7IllConditioned_mean': DeviceArray(0.14030734, dtype=float32), 'Lunacek_mean': DeviceArray(1.4178526, dtype=float32), 'Gallagher101Me_mean': DeviceArray(0.0004089, dtype=float32), 'Gallagher21Hi_mean': DeviceArray(3.121679e-05, dtype=float32), 'Sphere_best': DeviceArray(0.00053621, dtype=float32), 'RosenbrockRotated_best': DeviceArray(0.0127319, dtype=float32), 'Discus_best': DeviceArray(2.1048124, dtype=float32), 'RastriginRotated_best': DeviceArray(0.6253604, dtype=float32), 'Schwefel_best': DeviceArray(1.4710234, dtype=float32), 'BuecheRastrigin_best': DeviceArray(-18.482258, dtype=float32), 'AttractiveSector_best': DeviceArray(0.00609142, dtype=float32), 'Weierstrass_best': DeviceArray(0.05679668, dtype=float32), 'SchaffersF7_best': DeviceArray(0.04065184, dtype=float32), 'GriewankRosenbrock_best': DeviceArray(0.0009531, dtype=float32), 'EllipsoidalOriginal_best': DeviceArray(1.3818747, dtype=float32), 'RastriginOriginal_best': DeviceArray(0.63452715, dtype=float32), 'LinearSlope_best': DeviceArray(-177.34825, dtype=float32), 'StepEllipsoidal_best': DeviceArray(0.73335665, dtype=float32), 'RosenbrockOriginal_best': DeviceArray(0.00441924, dtype=float32), 'EllipsoidalRotated_best': DeviceArray(0.6500851, dtype=float32), 'BentCigar_best': DeviceArray(2.6309965, dtype=float32), 'SharpRidge_best': DeviceArray(0.5868897, dtype=float32), 'DifferentPowers_best': DeviceArray(0.00186626, dtype=float32), 'SchaffersF7IllConditioned_best': DeviceArray(0.14030734, dtype=float32), 'Lunacek_best': DeviceArray(1.4178526, dtype=float32), 'Gallagher101Me_best': DeviceArray(0.0004089, dtype=float32), 'Gallagher21Hi_best': DeviceArray(3.121679e-05, dtype=float32)}\n",
      "\n"
     ]
    },
    {
     "data": {
      "text/html": [
       "<pre style=\"white-space:pre;overflow-x:auto;line-height:normal;font-family:Menlo,'DejaVu Sans Mono',consolas,'Courier New',monospace\">   ┏━━━━━━━━━━━━━━━┳━━━━┳━━━━━━━━━┳━━━━━━━━━━━━━━━━━━━━━━━━━━━━━━━━━━━━━━━━┓    \n",
       "   ┃<span style=\"font-weight: bold\"> 📥 Total: 6   </span>┃<span style=\"font-weight: bold\"> ID </span>┃<span style=\"font-weight: bold\"> Obj. 📉 </span>┃<span style=\"font-weight: bold\"> Configuration 🔖 - 06/13/2023 15:29:05 </span>┃    \n",
       "   ┡━━━━━━━━━━━━━━━╇━━━━╇━━━━━━━━━╇━━━━━━━━━━━━━━━━━━━━━━━━━━━━━━━━━━━━━━━━┩    \n",
       "   │<span style=\"color: #7f7f7f; text-decoration-color: #7f7f7f\"> Best Overall  </span>│ 1  │ 8.69    │ 'sigma_init': 0.36                     │    \n",
       "   │<span style=\"color: #7f7f7f; text-decoration-color: #7f7f7f\"> Best in Batch </span>│ 5  │ 7.729   │ 'sigma_init': 0.326                    │    \n",
       "   └───────────────┴────┴─────────┴────────────────────────────────────────┘    \n",
       "</pre>\n"
      ],
      "text/plain": [
       "   ┏━━━━━━━━━━━━━━━┳━━━━┳━━━━━━━━━┳━━━━━━━━━━━━━━━━━━━━━━━━━━━━━━━━━━━━━━━━┓    \n",
       "   ┃\u001b[1m \u001b[0m\u001b[1m📥 Total: 6  \u001b[0m\u001b[1m \u001b[0m┃\u001b[1m \u001b[0m\u001b[1mID\u001b[0m\u001b[1m \u001b[0m┃\u001b[1m \u001b[0m\u001b[1mObj. 📉\u001b[0m\u001b[1m \u001b[0m┃\u001b[1m \u001b[0m\u001b[1mConfiguration 🔖 - 06/13/2023 15:29:05\u001b[0m\u001b[1m \u001b[0m┃    \n",
       "   ┡━━━━━━━━━━━━━━━╇━━━━╇━━━━━━━━━╇━━━━━━━━━━━━━━━━━━━━━━━━━━━━━━━━━━━━━━━━┩    \n",
       "   │\u001b[2m \u001b[0m\u001b[2mBest Overall \u001b[0m\u001b[2m \u001b[0m│ 1  │ 8.69    │ 'sigma_init': 0.36                     │    \n",
       "   │\u001b[2m \u001b[0m\u001b[2mBest in Batch\u001b[0m\u001b[2m \u001b[0m│ 5  │ 7.729   │ 'sigma_init': 0.326                    │    \n",
       "   └───────────────┴────┴─────────┴────────────────────────────────────────┘    \n"
      ]
     },
     "metadata": {},
     "output_type": "display_data"
    },
    {
     "name": "stdout",
     "output_type": "stream",
     "text": [
      "bbob: START EVOLVING 2 PARAMETERS.\n",
      "{'num_gens': 50, 'iter_id': 6} {'test_eval_perf': 4.485604286193848, 'Sphere_mean': DeviceArray(0.00025335, dtype=float32), 'RosenbrockRotated_mean': DeviceArray(0.00344335, dtype=float32), 'Discus_mean': DeviceArray(1.3499926, dtype=float32), 'RastriginRotated_mean': DeviceArray(0.514101, dtype=float32), 'Schwefel_mean': DeviceArray(2.19494, dtype=float32), 'BuecheRastrigin_mean': DeviceArray(-19.657042, dtype=float32), 'AttractiveSector_mean': DeviceArray(0.00669591, dtype=float32), 'Weierstrass_mean': DeviceArray(0.03840174, dtype=float32), 'SchaffersF7_mean': DeviceArray(0.0394168, dtype=float32), 'GriewankRosenbrock_mean': DeviceArray(6.9999696e-05, dtype=float32), 'EllipsoidalOriginal_mean': DeviceArray(0.7135505, dtype=float32), 'RastriginOriginal_mean': DeviceArray(0.30997372, dtype=float32), 'LinearSlope_mean': DeviceArray(-95.2885, dtype=float32), 'StepEllipsoidal_mean': DeviceArray(0.28708076, dtype=float32), 'RosenbrockOriginal_mean': DeviceArray(0.00355617, dtype=float32), 'EllipsoidalRotated_mean': DeviceArray(0.30651668, dtype=float32), 'BentCigar_mean': DeviceArray(1.2975229, dtype=float32), 'SharpRidge_mean': DeviceArray(0.37505513, dtype=float32), 'DifferentPowers_mean': DeviceArray(0.00105342, dtype=float32), 'SchaffersF7IllConditioned_mean': DeviceArray(0.1179196, dtype=float32), 'Lunacek_mean': DeviceArray(4.2169867, dtype=float32), 'Gallagher101Me_mean': DeviceArray(9.827568e-05, dtype=float32), 'Gallagher21Hi_mean': DeviceArray(7.233266e-06, dtype=float32), 'Sphere_best': DeviceArray(0.00025335, dtype=float32), 'RosenbrockRotated_best': DeviceArray(0.00344335, dtype=float32), 'Discus_best': DeviceArray(1.3499926, dtype=float32), 'RastriginRotated_best': DeviceArray(0.514101, dtype=float32), 'Schwefel_best': DeviceArray(2.19494, dtype=float32), 'BuecheRastrigin_best': DeviceArray(-19.657042, dtype=float32), 'AttractiveSector_best': DeviceArray(0.00669591, dtype=float32), 'Weierstrass_best': DeviceArray(0.03840174, dtype=float32), 'SchaffersF7_best': DeviceArray(0.0394168, dtype=float32), 'GriewankRosenbrock_best': DeviceArray(6.9999696e-05, dtype=float32), 'EllipsoidalOriginal_best': DeviceArray(0.7135505, dtype=float32), 'RastriginOriginal_best': DeviceArray(0.30997372, dtype=float32), 'LinearSlope_best': DeviceArray(-99.03676, dtype=float32), 'StepEllipsoidal_best': DeviceArray(0.28708076, dtype=float32), 'RosenbrockOriginal_best': DeviceArray(0.00241261, dtype=float32), 'EllipsoidalRotated_best': DeviceArray(0.30651668, dtype=float32), 'BentCigar_best': DeviceArray(1.2975229, dtype=float32), 'SharpRidge_best': DeviceArray(0.36168754, dtype=float32), 'DifferentPowers_best': DeviceArray(0.00105342, dtype=float32), 'SchaffersF7IllConditioned_best': DeviceArray(0.1179196, dtype=float32), 'Lunacek_best': DeviceArray(4.2169867, dtype=float32), 'Gallagher101Me_best': DeviceArray(9.827568e-05, dtype=float32), 'Gallagher21Hi_best': DeviceArray(7.233266e-06, dtype=float32)}\n",
      "\n"
     ]
    },
    {
     "data": {
      "text/html": [
       "<pre style=\"white-space:pre;overflow-x:auto;line-height:normal;font-family:Menlo,'DejaVu Sans Mono',consolas,'Courier New',monospace\">   ┏━━━━━━━━━━━━━━━┳━━━━┳━━━━━━━━━┳━━━━━━━━━━━━━━━━━━━━━━━━━━━━━━━━━━━━━━━━┓    \n",
       "   ┃<span style=\"font-weight: bold\"> 📥 Total: 7   </span>┃<span style=\"font-weight: bold\"> ID </span>┃<span style=\"font-weight: bold\"> Obj. 📉 </span>┃<span style=\"font-weight: bold\"> Configuration 🔖 - 06/13/2023 15:29:34 </span>┃    \n",
       "   ┡━━━━━━━━━━━━━━━╇━━━━╇━━━━━━━━━╇━━━━━━━━━━━━━━━━━━━━━━━━━━━━━━━━━━━━━━━━┩    \n",
       "   │<span style=\"color: #7f7f7f; text-decoration-color: #7f7f7f\"> Best Overall  </span>│ 1  │ 8.69    │ 'sigma_init': 0.36                     │    \n",
       "   │<span style=\"color: #7f7f7f; text-decoration-color: #7f7f7f\"> Best in Batch </span>│ 6  │ 4.486   │ 'sigma_init': 0.224                    │    \n",
       "   └───────────────┴────┴─────────┴────────────────────────────────────────┘    \n",
       "</pre>\n"
      ],
      "text/plain": [
       "   ┏━━━━━━━━━━━━━━━┳━━━━┳━━━━━━━━━┳━━━━━━━━━━━━━━━━━━━━━━━━━━━━━━━━━━━━━━━━┓    \n",
       "   ┃\u001b[1m \u001b[0m\u001b[1m📥 Total: 7  \u001b[0m\u001b[1m \u001b[0m┃\u001b[1m \u001b[0m\u001b[1mID\u001b[0m\u001b[1m \u001b[0m┃\u001b[1m \u001b[0m\u001b[1mObj. 📉\u001b[0m\u001b[1m \u001b[0m┃\u001b[1m \u001b[0m\u001b[1mConfiguration 🔖 - 06/13/2023 15:29:34\u001b[0m\u001b[1m \u001b[0m┃    \n",
       "   ┡━━━━━━━━━━━━━━━╇━━━━╇━━━━━━━━━╇━━━━━━━━━━━━━━━━━━━━━━━━━━━━━━━━━━━━━━━━┩    \n",
       "   │\u001b[2m \u001b[0m\u001b[2mBest Overall \u001b[0m\u001b[2m \u001b[0m│ 1  │ 8.69    │ 'sigma_init': 0.36                     │    \n",
       "   │\u001b[2m \u001b[0m\u001b[2mBest in Batch\u001b[0m\u001b[2m \u001b[0m│ 6  │ 4.486   │ 'sigma_init': 0.224                    │    \n",
       "   └───────────────┴────┴─────────┴────────────────────────────────────────┘    \n"
      ]
     },
     "metadata": {},
     "output_type": "display_data"
    },
    {
     "name": "stdout",
     "output_type": "stream",
     "text": [
      "bbob: START EVOLVING 2 PARAMETERS.\n",
      "{'num_gens': 50, 'iter_id': 7} {'test_eval_perf': 11.432697296142578, 'Sphere_mean': DeviceArray(0.00100498, dtype=float32), 'RosenbrockRotated_mean': DeviceArray(0.01945562, dtype=float32), 'Discus_mean': DeviceArray(5.004496, dtype=float32), 'RastriginRotated_mean': DeviceArray(0.8575798, dtype=float32), 'Schwefel_mean': DeviceArray(0.52520484, dtype=float32), 'BuecheRastrigin_mean': DeviceArray(-18.482512, dtype=float32), 'AttractiveSector_mean': DeviceArray(0.02190237, dtype=float32), 'Weierstrass_mean': DeviceArray(0.16303903, dtype=float32), 'SchaffersF7_mean': DeviceArray(0.0692398, dtype=float32), 'GriewankRosenbrock_mean': DeviceArray(0.01011925, dtype=float32), 'EllipsoidalOriginal_mean': DeviceArray(2.3581567, dtype=float32), 'RastriginOriginal_mean': DeviceArray(0.1751517, dtype=float32), 'LinearSlope_mean': DeviceArray(-262.31937, dtype=float32), 'StepEllipsoidal_mean': DeviceArray(0.43844962, dtype=float32), 'RosenbrockOriginal_mean': DeviceArray(0.01764087, dtype=float32), 'EllipsoidalRotated_mean': DeviceArray(1.1335633, dtype=float32), 'BentCigar_mean': DeviceArray(4.781553, dtype=float32), 'SharpRidge_mean': DeviceArray(0.86099243, dtype=float32), 'DifferentPowers_mean': DeviceArray(0.00270133, dtype=float32), 'SchaffersF7IllConditioned_mean': DeviceArray(0.16108823, dtype=float32), 'Lunacek_mean': DeviceArray(1.1031979, dtype=float32), 'Gallagher101Me_mean': DeviceArray(0.00152911, dtype=float32), 'Gallagher21Hi_mean': DeviceArray(0.14376013, dtype=float32), 'Sphere_best': DeviceArray(0.00100498, dtype=float32), 'RosenbrockRotated_best': DeviceArray(0.01642449, dtype=float32), 'Discus_best': DeviceArray(5.004496, dtype=float32), 'RastriginRotated_best': DeviceArray(0.8575798, dtype=float32), 'Schwefel_best': DeviceArray(0.52520484, dtype=float32), 'BuecheRastrigin_best': DeviceArray(-18.482512, dtype=float32), 'AttractiveSector_best': DeviceArray(0.02190237, dtype=float32), 'Weierstrass_best': DeviceArray(0.16303903, dtype=float32), 'SchaffersF7_best': DeviceArray(0.0692398, dtype=float32), 'GriewankRosenbrock_best': DeviceArray(0.00863743, dtype=float32), 'EllipsoidalOriginal_best': DeviceArray(2.3581567, dtype=float32), 'RastriginOriginal_best': DeviceArray(0.1751517, dtype=float32), 'LinearSlope_best': DeviceArray(-269.7847, dtype=float32), 'StepEllipsoidal_best': DeviceArray(0.43844962, dtype=float32), 'RosenbrockOriginal_best': DeviceArray(0.01099921, dtype=float32), 'EllipsoidalRotated_best': DeviceArray(1.1335633, dtype=float32), 'BentCigar_best': DeviceArray(4.781553, dtype=float32), 'SharpRidge_best': DeviceArray(0.86099243, dtype=float32), 'DifferentPowers_best': DeviceArray(0.00270133, dtype=float32), 'SchaffersF7IllConditioned_best': DeviceArray(0.14752948, dtype=float32), 'Lunacek_best': DeviceArray(1.1031979, dtype=float32), 'Gallagher101Me_best': DeviceArray(0.00152911, dtype=float32), 'Gallagher21Hi_best': DeviceArray(0.14376013, dtype=float32)}\n",
      "\n"
     ]
    },
    {
     "data": {
      "text/html": [
       "<pre style=\"white-space:pre;overflow-x:auto;line-height:normal;font-family:Menlo,'DejaVu Sans Mono',consolas,'Courier New',monospace\">   ┏━━━━━━━━━━━━━━━┳━━━━┳━━━━━━━━━┳━━━━━━━━━━━━━━━━━━━━━━━━━━━━━━━━━━━━━━━━┓    \n",
       "   ┃<span style=\"font-weight: bold\"> 📥 Total: 8   </span>┃<span style=\"font-weight: bold\"> ID </span>┃<span style=\"font-weight: bold\"> Obj. 📉 </span>┃<span style=\"font-weight: bold\"> Configuration 🔖 - 06/13/2023 15:30:02 </span>┃    \n",
       "   ┡━━━━━━━━━━━━━━━╇━━━━╇━━━━━━━━━╇━━━━━━━━━━━━━━━━━━━━━━━━━━━━━━━━━━━━━━━━┩    \n",
       "   │<span style=\"color: #7f7f7f; text-decoration-color: #7f7f7f\"> Best Overall  </span>│ 7  │ 11.433  │ 'sigma_init': 0.447                    │    \n",
       "   │<span style=\"color: #7f7f7f; text-decoration-color: #7f7f7f\"> Best in Batch </span>│ 7  │ 11.433  │ 'sigma_init': 0.447                    │    \n",
       "   └───────────────┴────┴─────────┴────────────────────────────────────────┘    \n",
       "</pre>\n"
      ],
      "text/plain": [
       "   ┏━━━━━━━━━━━━━━━┳━━━━┳━━━━━━━━━┳━━━━━━━━━━━━━━━━━━━━━━━━━━━━━━━━━━━━━━━━┓    \n",
       "   ┃\u001b[1m \u001b[0m\u001b[1m📥 Total: 8  \u001b[0m\u001b[1m \u001b[0m┃\u001b[1m \u001b[0m\u001b[1mID\u001b[0m\u001b[1m \u001b[0m┃\u001b[1m \u001b[0m\u001b[1mObj. 📉\u001b[0m\u001b[1m \u001b[0m┃\u001b[1m \u001b[0m\u001b[1mConfiguration 🔖 - 06/13/2023 15:30:02\u001b[0m\u001b[1m \u001b[0m┃    \n",
       "   ┡━━━━━━━━━━━━━━━╇━━━━╇━━━━━━━━━╇━━━━━━━━━━━━━━━━━━━━━━━━━━━━━━━━━━━━━━━━┩    \n",
       "   │\u001b[2m \u001b[0m\u001b[2mBest Overall \u001b[0m\u001b[2m \u001b[0m│ 7  │ 11.433  │ 'sigma_init': 0.447                    │    \n",
       "   │\u001b[2m \u001b[0m\u001b[2mBest in Batch\u001b[0m\u001b[2m \u001b[0m│ 7  │ 11.433  │ 'sigma_init': 0.447                    │    \n",
       "   └───────────────┴────┴─────────┴────────────────────────────────────────┘    \n"
      ]
     },
     "metadata": {},
     "output_type": "display_data"
    },
    {
     "name": "stdout",
     "output_type": "stream",
     "text": [
      "bbob: START EVOLVING 2 PARAMETERS.\n",
      "{'num_gens': 50, 'iter_id': 8} {'test_eval_perf': 12.212337493896484, 'Sphere_mean': DeviceArray(0.00116962, dtype=float32), 'RosenbrockRotated_mean': DeviceArray(0.0353508, dtype=float32), 'Discus_mean': DeviceArray(5.6637197, dtype=float32), 'RastriginRotated_mean': DeviceArray(1.0030899, dtype=float32), 'Schwefel_mean': DeviceArray(0.57010484, dtype=float32), 'BuecheRastrigin_mean': DeviceArray(-17.596867, dtype=float32), 'AttractiveSector_mean': DeviceArray(0.03760362, dtype=float32), 'Weierstrass_mean': DeviceArray(0.07686033, dtype=float32), 'SchaffersF7_mean': DeviceArray(0.04850486, dtype=float32), 'GriewankRosenbrock_mean': DeviceArray(0.00735588, dtype=float32), 'EllipsoidalOriginal_mean': DeviceArray(2.7149498, dtype=float32), 'RastriginOriginal_mean': DeviceArray(0.8005894, dtype=float32), 'LinearSlope_mean': DeviceArray(-288.75742, dtype=float32), 'StepEllipsoidal_mean': DeviceArray(0.7333573, dtype=float32), 'RosenbrockOriginal_mean': DeviceArray(0.02064241, dtype=float32), 'EllipsoidalRotated_mean': DeviceArray(1.2737231, dtype=float32), 'BentCigar_mean': DeviceArray(8.974385, dtype=float32), 'SharpRidge_mean': DeviceArray(0.93653196, dtype=float32), 'DifferentPowers_mean': DeviceArray(0.00383359, dtype=float32), 'SchaffersF7IllConditioned_mean': DeviceArray(0.33680817, dtype=float32), 'Lunacek_mean': DeviceArray(2.063229, dtype=float32), 'Gallagher101Me_mean': DeviceArray(0.00191019, dtype=float32), 'Gallagher21Hi_mean': DeviceArray(0.16677815, dtype=float32), 'Sphere_best': DeviceArray(0.00116962, dtype=float32), 'RosenbrockRotated_best': DeviceArray(0.0353508, dtype=float32), 'Discus_best': DeviceArray(5.6637197, dtype=float32), 'RastriginRotated_best': DeviceArray(1.0030899, dtype=float32), 'Schwefel_best': DeviceArray(0.57010484, dtype=float32), 'BuecheRastrigin_best': DeviceArray(-17.596867, dtype=float32), 'AttractiveSector_best': DeviceArray(0.03499972, dtype=float32), 'Weierstrass_best': DeviceArray(0.07686033, dtype=float32), 'SchaffersF7_best': DeviceArray(0.04850486, dtype=float32), 'GriewankRosenbrock_best': DeviceArray(0.00587902, dtype=float32), 'EllipsoidalOriginal_best': DeviceArray(2.7149498, dtype=float32), 'RastriginOriginal_best': DeviceArray(0.8005894, dtype=float32), 'LinearSlope_best': DeviceArray(-296.81113, dtype=float32), 'StepEllipsoidal_best': DeviceArray(0.7333573, dtype=float32), 'RosenbrockOriginal_best': DeviceArray(0.01249664, dtype=float32), 'EllipsoidalRotated_best': DeviceArray(1.2737231, dtype=float32), 'BentCigar_best': DeviceArray(8.974385, dtype=float32), 'SharpRidge_best': DeviceArray(0.93653196, dtype=float32), 'DifferentPowers_best': DeviceArray(0.00383359, dtype=float32), 'SchaffersF7IllConditioned_best': DeviceArray(0.32649267, dtype=float32), 'Lunacek_best': DeviceArray(2.063229, dtype=float32), 'Gallagher101Me_best': DeviceArray(0.00191019, dtype=float32), 'Gallagher21Hi_best': DeviceArray(0.16677815, dtype=float32)}\n",
      "\n"
     ]
    },
    {
     "data": {
      "text/html": [
       "<pre style=\"white-space:pre;overflow-x:auto;line-height:normal;font-family:Menlo,'DejaVu Sans Mono',consolas,'Courier New',monospace\">   ┏━━━━━━━━━━━━━━━┳━━━━┳━━━━━━━━━┳━━━━━━━━━━━━━━━━━━━━━━━━━━━━━━━━━━━━━━━━┓    \n",
       "   ┃<span style=\"font-weight: bold\"> 📥 Total: 9   </span>┃<span style=\"font-weight: bold\"> ID </span>┃<span style=\"font-weight: bold\"> Obj. 📉 </span>┃<span style=\"font-weight: bold\"> Configuration 🔖 - 06/13/2023 15:30:29 </span>┃    \n",
       "   ┡━━━━━━━━━━━━━━━╇━━━━╇━━━━━━━━━╇━━━━━━━━━━━━━━━━━━━━━━━━━━━━━━━━━━━━━━━━┩    \n",
       "   │<span style=\"color: #7f7f7f; text-decoration-color: #7f7f7f\"> Best Overall  </span>│ 8  │ 12.212  │ 'sigma_init': 0.482                    │    \n",
       "   │<span style=\"color: #7f7f7f; text-decoration-color: #7f7f7f\"> Best in Batch </span>│ 8  │ 12.212  │ 'sigma_init': 0.482                    │    \n",
       "   └───────────────┴────┴─────────┴────────────────────────────────────────┘    \n",
       "</pre>\n"
      ],
      "text/plain": [
       "   ┏━━━━━━━━━━━━━━━┳━━━━┳━━━━━━━━━┳━━━━━━━━━━━━━━━━━━━━━━━━━━━━━━━━━━━━━━━━┓    \n",
       "   ┃\u001b[1m \u001b[0m\u001b[1m📥 Total: 9  \u001b[0m\u001b[1m \u001b[0m┃\u001b[1m \u001b[0m\u001b[1mID\u001b[0m\u001b[1m \u001b[0m┃\u001b[1m \u001b[0m\u001b[1mObj. 📉\u001b[0m\u001b[1m \u001b[0m┃\u001b[1m \u001b[0m\u001b[1mConfiguration 🔖 - 06/13/2023 15:30:29\u001b[0m\u001b[1m \u001b[0m┃    \n",
       "   ┡━━━━━━━━━━━━━━━╇━━━━╇━━━━━━━━━╇━━━━━━━━━━━━━━━━━━━━━━━━━━━━━━━━━━━━━━━━┩    \n",
       "   │\u001b[2m \u001b[0m\u001b[2mBest Overall \u001b[0m\u001b[2m \u001b[0m│ 8  │ 12.212  │ 'sigma_init': 0.482                    │    \n",
       "   │\u001b[2m \u001b[0m\u001b[2mBest in Batch\u001b[0m\u001b[2m \u001b[0m│ 8  │ 12.212  │ 'sigma_init': 0.482                    │    \n",
       "   └───────────────┴────┴─────────┴────────────────────────────────────────┘    \n"
      ]
     },
     "metadata": {},
     "output_type": "display_data"
    },
    {
     "name": "stdout",
     "output_type": "stream",
     "text": [
      "bbob: START EVOLVING 2 PARAMETERS.\n",
      "{'num_gens': 50, 'iter_id': 9} {'test_eval_perf': 3.6584177017211914, 'Sphere_mean': DeviceArray(0.00019698, dtype=float32), 'RosenbrockRotated_mean': DeviceArray(0.00426588, dtype=float32), 'Discus_mean': DeviceArray(0.98815376, dtype=float32), 'RastriginRotated_mean': DeviceArray(0.7387038, dtype=float32), 'Schwefel_mean': DeviceArray(2.2526588, dtype=float32), 'BuecheRastrigin_mean': DeviceArray(-19.835104, dtype=float32), 'AttractiveSector_mean': DeviceArray(0.00489367, dtype=float32), 'Weierstrass_mean': DeviceArray(0.01832568, dtype=float32), 'SchaffersF7_mean': DeviceArray(0.02566485, dtype=float32), 'GriewankRosenbrock_mean': DeviceArray(8.659363e-05, dtype=float32), 'EllipsoidalOriginal_mean': DeviceArray(0.43808594, dtype=float32), 'RastriginOriginal_mean': DeviceArray(0.07290734, dtype=float32), 'LinearSlope_mean': DeviceArray(-75.37595, dtype=float32), 'StepEllipsoidal_mean': DeviceArray(0.14354067, dtype=float32), 'RosenbrockOriginal_mean': DeviceArray(0.00272086, dtype=float32), 'EllipsoidalRotated_mean': DeviceArray(0.25473717, dtype=float32), 'BentCigar_mean': DeviceArray(1.1081301, dtype=float32), 'SharpRidge_mean': DeviceArray(0.3295054, dtype=float32), 'DifferentPowers_mean': DeviceArray(0.00093954, dtype=float32), 'SchaffersF7IllConditioned_mean': DeviceArray(0.10617032, dtype=float32), 'Lunacek_mean': DeviceArray(4.577695, dtype=float32), 'Gallagher101Me_mean': DeviceArray(6.254561e-05, dtype=float32), 'Gallagher21Hi_mean': DeviceArray(4.089979e-06, dtype=float32), 'Sphere_best': DeviceArray(0.00019698, dtype=float32), 'RosenbrockRotated_best': DeviceArray(0.00426588, dtype=float32), 'Discus_best': DeviceArray(0.98815376, dtype=float32), 'RastriginRotated_best': DeviceArray(0.7387038, dtype=float32), 'Schwefel_best': DeviceArray(2.2526588, dtype=float32), 'BuecheRastrigin_best': DeviceArray(-19.835104, dtype=float32), 'AttractiveSector_best': DeviceArray(0.00489367, dtype=float32), 'Weierstrass_best': DeviceArray(0.01832568, dtype=float32), 'SchaffersF7_best': DeviceArray(0.02566485, dtype=float32), 'GriewankRosenbrock_best': DeviceArray(8.659363e-05, dtype=float32), 'EllipsoidalOriginal_best': DeviceArray(0.43808594, dtype=float32), 'RastriginOriginal_best': DeviceArray(0.07290734, dtype=float32), 'LinearSlope_best': DeviceArray(-78.68108, dtype=float32), 'StepEllipsoidal_best': DeviceArray(0.14354067, dtype=float32), 'RosenbrockOriginal_best': DeviceArray(0.00187747, dtype=float32), 'EllipsoidalRotated_best': DeviceArray(0.25473717, dtype=float32), 'BentCigar_best': DeviceArray(1.1081301, dtype=float32), 'SharpRidge_best': DeviceArray(0.313479, dtype=float32), 'DifferentPowers_best': DeviceArray(0.00093954, dtype=float32), 'SchaffersF7IllConditioned_best': DeviceArray(0.10471423, dtype=float32), 'Lunacek_best': DeviceArray(4.483474, dtype=float32), 'Gallagher101Me_best': DeviceArray(6.254561e-05, dtype=float32), 'Gallagher21Hi_best': DeviceArray(4.089979e-06, dtype=float32)}\n",
      "\n"
     ]
    },
    {
     "data": {
      "text/html": [
       "<pre style=\"white-space:pre;overflow-x:auto;line-height:normal;font-family:Menlo,'DejaVu Sans Mono',consolas,'Courier New',monospace\">   ┏━━━━━━━━━━━━━━━┳━━━━┳━━━━━━━━━┳━━━━━━━━━━━━━━━━━━━━━━━━━━━━━━━━━━━━━━━━┓    \n",
       "   ┃<span style=\"font-weight: bold\"> 📥 Total: 10  </span>┃<span style=\"font-weight: bold\"> ID </span>┃<span style=\"font-weight: bold\"> Obj. 📉 </span>┃<span style=\"font-weight: bold\"> Configuration 🔖 - 06/13/2023 15:30:56 </span>┃    \n",
       "   ┡━━━━━━━━━━━━━━━╇━━━━╇━━━━━━━━━╇━━━━━━━━━━━━━━━━━━━━━━━━━━━━━━━━━━━━━━━━┩    \n",
       "   │<span style=\"color: #7f7f7f; text-decoration-color: #7f7f7f\"> Best Overall  </span>│ 8  │ 12.212  │ 'sigma_init': 0.482                    │    \n",
       "   │<span style=\"color: #7f7f7f; text-decoration-color: #7f7f7f\"> Best in Batch </span>│ 9  │ 3.658   │ 'sigma_init': 0.198                    │    \n",
       "   └───────────────┴────┴─────────┴────────────────────────────────────────┘    \n",
       "</pre>\n"
      ],
      "text/plain": [
       "   ┏━━━━━━━━━━━━━━━┳━━━━┳━━━━━━━━━┳━━━━━━━━━━━━━━━━━━━━━━━━━━━━━━━━━━━━━━━━┓    \n",
       "   ┃\u001b[1m \u001b[0m\u001b[1m📥 Total: 10 \u001b[0m\u001b[1m \u001b[0m┃\u001b[1m \u001b[0m\u001b[1mID\u001b[0m\u001b[1m \u001b[0m┃\u001b[1m \u001b[0m\u001b[1mObj. 📉\u001b[0m\u001b[1m \u001b[0m┃\u001b[1m \u001b[0m\u001b[1mConfiguration 🔖 - 06/13/2023 15:30:56\u001b[0m\u001b[1m \u001b[0m┃    \n",
       "   ┡━━━━━━━━━━━━━━━╇━━━━╇━━━━━━━━━╇━━━━━━━━━━━━━━━━━━━━━━━━━━━━━━━━━━━━━━━━┩    \n",
       "   │\u001b[2m \u001b[0m\u001b[2mBest Overall \u001b[0m\u001b[2m \u001b[0m│ 8  │ 12.212  │ 'sigma_init': 0.482                    │    \n",
       "   │\u001b[2m \u001b[0m\u001b[2mBest in Batch\u001b[0m\u001b[2m \u001b[0m│ 9  │ 3.658   │ 'sigma_init': 0.198                    │    \n",
       "   └───────────────┴────┴─────────┴────────────────────────────────────────┘    \n"
      ]
     },
     "metadata": {},
     "output_type": "display_data"
    },
    {
     "data": {
      "text/html": [
       "<pre style=\"white-space:pre;overflow-x:auto;line-height:normal;font-family:Menlo,'DejaVu Sans Mono',consolas,'Courier New',monospace\">       <span style=\"font-style: italic\"> MLE-Hyperopt Random - 10 Evals - Top 5 - Refined Hyperspace 🚀  </span>        \n",
       "                                                                                \n",
       "        <span style=\"font-weight: bold\"> 🌻 Variable </span> <span style=\"font-weight: bold\"> Type </span> <span style=\"color: #800000; text-decoration-color: #800000; font-weight: bold\"> Search Range ↔                           </span>         \n",
       "        ───────────────────────────────────────────────────────────────         \n",
       "         sigma_init    real  <span style=\"color: #800000; text-decoration-color: #800000\"> Begin: 0.305, End: 0.482, Prior: uniform </span>         \n",
       "                                                                                \n",
       "</pre>\n"
      ],
      "text/plain": [
       "       \u001b[3m MLE-Hyperopt Random - 10 Evals - Top 5 - Refined Hyperspace 🚀  \u001b[0m        \n",
       "                                                                                \n",
       "        \u001b[1m \u001b[0m\u001b[1m🌻 Variable\u001b[0m\u001b[1m \u001b[0m \u001b[1m \u001b[0m\u001b[1mType\u001b[0m\u001b[1m \u001b[0m \u001b[1;31m \u001b[0m\u001b[1;31mSearch Range ↔                          \u001b[0m\u001b[1;31m \u001b[0m         \n",
       "        ───────────────────────────────────────────────────────────────         \n",
       "         sigma_init    real  \u001b[31m \u001b[0m\u001b[31mBegin: 0.305, End: 0.482, Prior: uniform\u001b[0m\u001b[31m \u001b[0m         \n",
       "                                                                                \n"
      ]
     },
     "metadata": {},
     "output_type": "display_data"
    }
   ],
   "source": [
    "# Setup the search strategy for sequential evaluation\n",
    "hyper_strategy = RandomSearch(\n",
    "    real={\"sigma_init\": {\"begin\": 0.01, \"end\": 0.5, \"prior\": \"uniform\"}},\n",
    "    search_config={\n",
    "        \"refine_after\": 10,\n",
    "        \"refine_top_k\": 5\n",
    "    },\n",
    "    maximize_objective=True,\n",
    "    seed_id=0,\n",
    "    verbose=True,\n",
    ")\n",
    "\n",
    "# Don't specify the search strategy name HERE!\n",
    "config = DotMap({\n",
    "    \"popsize\": 10,\n",
    "    \"num_dims\": 2,\n",
    "    \"es_config\": {},\n",
    "    \"es_params\": {},\n",
    "    \"num_eval_runs\": 5,\n",
    "    \"seed_id\": 42,\n",
    "    \"num_generations\": 50\n",
    "})\n",
    "\n",
    "\n",
    "# Run the random search hyperparameter optimization loop\n",
    "for search_iter in range(10):\n",
    "    # Augment the default params with the proposed parameters\n",
    "    proposal_params = hyper_strategy.ask()\n",
    "    eval_config = copy.deepcopy(config)\n",
    "    for k, v in proposal_params.items():\n",
    "        eval_config.es_config[k] = v\n",
    "\n",
    "    # Evaluate the parameter config by running a ES loop\n",
    "    performance, solution = neb_eval_loops[\"bbob\"](\n",
    "        eval_config,\n",
    "        log=None,\n",
    "        search_iter=search_iter,\n",
    "        strategy_class=HillClimber  # Specify it HERE instead!\n",
    "    )\n",
    "\n",
    "    # Update search strategy - Note we minimize!\n",
    "    hyper_strategy.tell(proposal_params, float(performance))"
   ]
  },
  {
   "cell_type": "code",
   "execution_count": 13,
   "id": "c2d688b5",
   "metadata": {},
   "outputs": [
    {
     "data": {
      "text/plain": [
       "(<Figure size 432x288 with 1 Axes>,\n",
       " <Axes: title={'center': 'Best Objective Value'}, xlabel='# Config Evaluations', ylabel='Objective'>)"
      ]
     },
     "execution_count": 13,
     "metadata": {},
     "output_type": "execute_result"
    },
    {
     "data": {
      "image/png": "[encoded data removed]",
      "text/plain": [
       "<Figure size 432x288 with 1 Axes>"
      ]
     },
     "metadata": {
      "image/png": {
       "height": 250,
       "width": 420
      }
     },
     "output_type": "display_data"
    }
   ],
   "source": [
    "hyper_strategy.plot_best()"
   ]
  },
  {
   "cell_type": "code",
   "execution_count": null,
   "id": "186d9747",
   "metadata": {},
   "outputs": [],
   "source": [
    "from neuroevobench.blines import BayesOptJAX"
   ]
  }
 ],
 "metadata": {
  "kernelspec": {
   "display_name": "mle-toolbox",
   "language": "python",
   "name": "python3"
  },
  "language_info": {
   "codemirror_mode": {
    "name": "ipython",
    "version": 3
   },
   "file_extension": ".py",
   "mimetype": "text/x-python",
   "name": "python",
   "nbconvert_exporter": "python",
   "pygments_lexer": "ipython3",
   "version": "3.9.17"
  }
 },
 "nbformat": 4,
 "nbformat_minor": 5
}
