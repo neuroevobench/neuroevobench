{
 "cells": [
  {
   "attachments": {},
   "cell_type": "markdown",
   "id": "ce660e6c-1d05-413d-8dd3-9a3de2671276",
   "metadata": {},
   "source": [
    "# Welcome to `NeuroEvoBench` 👋 [![Colab](https://colab.research.google.com/assets/colab-badge.svg)](https://colab.research.google.com/github/neuroevobench/neuroevobench/blob/main/examples/neb_introduction.ipynb)\n",
    "\n",
    "In the following mini-tutorial we walk through the core functionality of the `NeuroEvoBench` benchmark. More specifically, we show how to run a random search sweep using a Simple Evolution Strategy (ES) implemented in [`evosax`](https://github.com/RobertTLange/evosax/) on a set of simple (and fast to evaluate) BBOB functions. All of the task evaluations follow the same protocol. Let's start by importing the benchmark and `evosax`."
   ]
  },
  {
   "cell_type": "code",
   "execution_count": 1,
   "id": "99e7d883-ecfc-4602-9b8f-816844f7d212",
   "metadata": {},
   "outputs": [
    {
     "name": "stdout",
     "output_type": "stream",
     "text": [
      "envpool not installed, Atari problems will not work.\n",
      "envpool not installed, Atari problems will not work.\n",
      "You need to install brax for Brax tasks:\n",
      "  pip install git+https://github.com/google/brax.git@main\n"
     ]
    },
    {
     "name": "stderr",
     "output_type": "stream",
     "text": [
      "<frozen importlib._bootstrap>:228: RuntimeWarning: scipy._lib.messagestream.MessageStream size changed, may indicate binary incompatibility. Expected 56 from C header, got 64 from PyObject\n"
     ]
    }
   ],
   "source": [
    "%matplotlib inline\n",
    "%load_ext autoreload\n",
    "%autoreload 2\n",
    "%config InlineBackend.figure_format = 'retina'\n",
    "\n",
    "try:\n",
    "    import evosax\n",
    "    import neuroevobench\n",
    "except Exception:\n",
    "    !pip install -q git+https://github.com/RobertTLange/evosax.git@main\n",
    "    !pip install -q git+https://github.com/neuroevobench/neuroevobench.git@main\n",
    "    !pip install --ignore-installed Pillow==9.0.0\n",
    "    \n",
    "    import evosax\n",
    "    import neuroevobench"
   ]
  },
  {
   "attachments": {},
   "cell_type": "markdown",
   "id": "f84e5944",
   "metadata": {},
   "source": [
    "# Evolution Strategy Setup & `evosax` API "
   ]
  },
  {
   "cell_type": "code",
   "execution_count": 2,
   "id": "ba1fb3c7",
   "metadata": {},
   "outputs": [
    {
     "data": {
      "text/plain": [
       "EvoParams(c_sigma=0.1, c_m=1.0, sigma_init=1.0, init_min=-3, init_max=3, clip_min=-3.4028235e+38, clip_max=3.4028235e+38)"
      ]
     },
     "execution_count": 2,
     "metadata": {},
     "output_type": "execute_result"
    }
   ],
   "source": [
    "import jax\n",
    "import jax.numpy as jnp\n",
    "from evosax import SimpleES\n",
    "\n",
    "# Instantiate the evolution strategy instance\n",
    "strategy = SimpleES(num_dims=2, popsize=10)\n",
    "\n",
    "# Get default hyperparameters (e.g. lrate, etc.)\n",
    "es_params = strategy.default_params\n",
    "es_params = es_params.replace(init_min= -3, init_max=3)\n",
    "\n",
    "# Initialize the strategy\n",
    "rng = jax.random.PRNGKey(0)\n",
    "state = strategy.initialize(rng, es_params)\n",
    "\n",
    "# Have a look at the hyperparameters (change if desired)\n",
    "es_params"
   ]
  },
  {
   "attachments": {},
   "cell_type": "markdown",
   "id": "12677cb6",
   "metadata": {},
   "source": [
    "# `BBOB` task setup & running a single eval"
   ]
  },
  {
   "cell_type": "code",
   "execution_count": 3,
   "id": "dacb8390",
   "metadata": {},
   "outputs": [
    {
     "name": "stdout",
     "output_type": "stream",
     "text": [
      "bbob: START EVOLVING 2 PARAMETERS.\n",
      "{'num_gens': 50} {'Sphere_mean': DeviceArray(0.00208277, dtype=float32), 'RosenbrockRotated_mean': DeviceArray(0.59280723, dtype=float32), 'Discus_mean': DeviceArray(3785.8782, dtype=float32), 'RastriginRotated_mean': DeviceArray(23.384197, dtype=float32), 'Schwefel_mean': DeviceArray(3.7671869, dtype=float32), 'BuecheRastrigin_mean': DeviceArray(28.045166, dtype=float32), 'AttractiveSector_mean': DeviceArray(0.550129, dtype=float32), 'Weierstrass_mean': DeviceArray(29.481977, dtype=float32), 'SchaffersF7_mean': DeviceArray(0.54004943, dtype=float32), 'GriewankRosenbrock_mean': DeviceArray(14.863263, dtype=float32), 'EllipsoidalOriginal_mean': DeviceArray(85.39087, dtype=float32), 'RastriginOriginal_mean': DeviceArray(23.81484, dtype=float32), 'LinearSlope_mean': DeviceArray(-266.49292, dtype=float32), 'StepEllipsoidal_mean': DeviceArray(1.4745407, dtype=float32), 'RosenbrockOriginal_mean': DeviceArray(1.094798, dtype=float32), 'EllipsoidalRotated_mean': DeviceArray(939.9855, dtype=float32), 'BentCigar_mean': DeviceArray(191.62193, dtype=float32), 'SharpRidge_mean': DeviceArray(8.062777, dtype=float32), 'DifferentPowers_mean': DeviceArray(0.03777822, dtype=float32), 'SchaffersF7IllConditioned_mean': DeviceArray(6.764751, dtype=float32), 'Lunacek_mean': DeviceArray(24.104494, dtype=float32), 'Gallagher101Me_mean': DeviceArray(1.7854044, dtype=float32), 'Gallagher21Hi_mean': DeviceArray(2.2823064, dtype=float32), 'Sphere_best': DeviceArray(0.00052762, dtype=float32), 'RosenbrockRotated_best': DeviceArray(0.09125638, dtype=float32), 'Discus_best': DeviceArray(4.812412, dtype=float32), 'RastriginRotated_best': DeviceArray(0.8357393, dtype=float32), 'Schwefel_best': DeviceArray(0.636275, dtype=float32), 'BuecheRastrigin_best': DeviceArray(-17.441784, dtype=float32), 'AttractiveSector_best': DeviceArray(0.02366788, dtype=float32), 'Weierstrass_best': DeviceArray(0.09828302, dtype=float32), 'SchaffersF7_best': DeviceArray(0.09385712, dtype=float32), 'GriewankRosenbrock_best': DeviceArray(0.03621655, dtype=float32), 'EllipsoidalOriginal_best': DeviceArray(2.7046425, dtype=float32), 'RastriginOriginal_best': DeviceArray(0.7496454, dtype=float32), 'LinearSlope_best': DeviceArray(-274.53073, dtype=float32), 'StepEllipsoidal_best': DeviceArray(0.86906856, dtype=float32), 'RosenbrockOriginal_best': DeviceArray(0.08806523, dtype=float32), 'EllipsoidalRotated_best': DeviceArray(2.512314, dtype=float32), 'BentCigar_best': DeviceArray(2.5370705, dtype=float32), 'SharpRidge_best': DeviceArray(0.28246102, dtype=float32), 'DifferentPowers_best': DeviceArray(0.00286201, dtype=float32), 'SchaffersF7IllConditioned_best': DeviceArray(0.5938619, dtype=float32), 'Lunacek_best': DeviceArray(1.6109947, dtype=float32), 'Gallagher101Me_best': DeviceArray(0.5216693, dtype=float32), 'Gallagher21Hi_best': DeviceArray(0.7288467, dtype=float32)}\n"
     ]
    }
   ],
   "source": [
    "from neuroevobench.problems.bbob import BBOBEvaluator\n",
    "\n",
    "popsize = 10\n",
    "num_dims = 2\n",
    "es_config = {}\n",
    "es_params = {}\n",
    "num_eval_runs = 5\n",
    "seed_id = 42\n",
    "num_generations = 50\n",
    "\n",
    "\n",
    "# 1. Setup task evaluator with strategy\n",
    "evaluator = BBOBEvaluator(\n",
    "    popsize=popsize,\n",
    "    num_dims=num_dims,\n",
    "    es_strategy=SimpleES,\n",
    "    es_config=es_config,\n",
    "    es_params=es_params,\n",
    "    num_eval_runs=num_eval_runs,\n",
    "    seed_id=seed_id,\n",
    ")\n",
    "\n",
    "# 2. Run the ES loop with logging\n",
    "evaluator.run(num_generations)"
   ]
  },
  {
   "cell_type": "code",
   "execution_count": 4,
   "id": "3765babe",
   "metadata": {},
   "outputs": [
    {
     "data": {
      "text/plain": [
       "-213.34922790527344"
      ]
     },
     "execution_count": 4,
     "metadata": {},
     "output_type": "execute_result"
    }
   ],
   "source": [
    "# Average task performance across all BBOB functions\n",
    "evaluator.fitness_eval"
   ]
  },
  {
   "attachments": {},
   "cell_type": "markdown",
   "id": "b702c682",
   "metadata": {},
   "source": [
    "# Sequential Random Search Sweep"
   ]
  },
  {
   "cell_type": "code",
   "execution_count": 5,
   "id": "dd8fddf7",
   "metadata": {},
   "outputs": [],
   "source": [
    "import copy\n",
    "from mle_hyperopt import RandomSearch\n",
    "from neuroevobench.problems import neb_eval_loops\n",
    "from neuroevobench.hyperparams import HyperSpace"
   ]
  },
  {
   "cell_type": "code",
   "execution_count": 6,
   "id": "36b5d2d0",
   "metadata": {},
   "outputs": [
    {
     "data": {
      "text/html": [
       "<pre style=\"white-space:pre;overflow-x:auto;line-height:normal;font-family:Menlo,'DejaVu Sans Mono',consolas,'Courier New',monospace\">         <span style=\"font-style: italic\">              MLE-Hyperopt Random Hyperspace 🚀               </span>         \n",
       "                                                                                \n",
       "          <span style=\"font-weight: bold\"> 🌻 Variable </span> <span style=\"font-weight: bold\"> Type </span> <span style=\"color: #800000; text-decoration-color: #800000; font-weight: bold\"> Search Range ↔                        </span>          \n",
       "          ────────────────────────────────────────────────────────────          \n",
       "           sigma_init    real  <span style=\"color: #800000; text-decoration-color: #800000\"> Begin: 0.01, End: 0.5, Prior: uniform </span>          \n",
       "                                                                                \n",
       "</pre>\n"
      ],
      "text/plain": [
       "         \u001b[3m              MLE-Hyperopt Random Hyperspace 🚀               \u001b[0m         \n",
       "                                                                                \n",
       "          \u001b[1m \u001b[0m\u001b[1m🌻 Variable\u001b[0m\u001b[1m \u001b[0m \u001b[1m \u001b[0m\u001b[1mType\u001b[0m\u001b[1m \u001b[0m \u001b[1;31m \u001b[0m\u001b[1;31mSearch Range ↔                       \u001b[0m\u001b[1;31m \u001b[0m          \n",
       "          ────────────────────────────────────────────────────────────          \n",
       "           sigma_init    real  \u001b[31m \u001b[0m\u001b[31mBegin: 0.01, End: 0.5, Prior: uniform\u001b[0m\u001b[31m \u001b[0m          \n",
       "                                                                                \n"
      ]
     },
     "metadata": {},
     "output_type": "display_data"
    }
   ],
   "source": [
    "# Setup the strategy search space for sequential evaluation\n",
    "hyperspace = HyperSpace(\n",
    "    space={\"real\":\n",
    "        {\"sigma_init\": {\"begin\": 0.01, \"end\": 0.5, \"prior\": \"uniform\"}}\n",
    "    }\n",
    ")\n",
    "\n",
    "hyper_strategy = RandomSearch(\n",
    "    **hyperspace.space,\n",
    "    search_config={\n",
    "        \"refine_after\": 40,\n",
    "        \"refine_top_k\": 10\n",
    "    },\n",
    "    maximize_objective=True,\n",
    "    seed_id=0,\n",
    "    verbose=True,\n",
    ")\n",
    "\n",
    "\n",
    "from dotmap import DotMap\n",
    "config = DotMap({\n",
    "    \"strategy_name\": \"SimpleES\",\n",
    "    \"popsize\": 10,\n",
    "    \"num_dims\": 2,\n",
    "    \"es_config\": {},\n",
    "    \"es_params\": {},\n",
    "    \"num_eval_runs\": 5,\n",
    "    \"seed_id\": 42,\n",
    "    \"num_generations\": 50\n",
    "})"
   ]
  },
  {
   "cell_type": "code",
   "execution_count": 7,
   "id": "4cd22a70",
   "metadata": {},
   "outputs": [
    {
     "name": "stdout",
     "output_type": "stream",
     "text": [
      "bbob: START EVOLVING 2 PARAMETERS.\n",
      "{'num_gens': 50, 'iter_id': 0} {'Sphere_mean': DeviceArray(0.00016203, dtype=float32), 'RosenbrockRotated_mean': DeviceArray(0.27455124, dtype=float32), 'Discus_mean': DeviceArray(262.93015, dtype=float32), 'RastriginRotated_mean': DeviceArray(11.297349, dtype=float32), 'Schwefel_mean': DeviceArray(3.3801732, dtype=float32), 'BuecheRastrigin_mean': DeviceArray(2.0099385, dtype=float32), 'AttractiveSector_mean': DeviceArray(0.07498827, dtype=float32), 'Weierstrass_mean': DeviceArray(0.63930243, dtype=float32), 'SchaffersF7_mean': DeviceArray(0.17726558, dtype=float32), 'GriewankRosenbrock_mean': DeviceArray(8.454251, dtype=float32), 'EllipsoidalOriginal_mean': DeviceArray(20.129179, dtype=float32), 'RastriginOriginal_mean': DeviceArray(12.772013, dtype=float32), 'LinearSlope_mean': DeviceArray(-21.587547, dtype=float32), 'StepEllipsoidal_mean': DeviceArray(3.9564817, dtype=float32), 'RosenbrockOriginal_mean': DeviceArray(0.29550186, dtype=float32), 'EllipsoidalRotated_mean': DeviceArray(158.57677, dtype=float32), 'BentCigar_mean': DeviceArray(10.716053, dtype=float32), 'SharpRidge_mean': DeviceArray(2.1852157, dtype=float32), 'DifferentPowers_mean': DeviceArray(0.00733137, dtype=float32), 'SchaffersF7IllConditioned_mean': DeviceArray(1.828768, dtype=float32), 'Lunacek_mean': DeviceArray(18.087488, dtype=float32), 'Gallagher101Me_mean': DeviceArray(0.00092196, dtype=float32), 'Gallagher21Hi_mean': DeviceArray(0.01146854, dtype=float32), 'Sphere_best': DeviceArray(4.1046394e-05, dtype=float32), 'RosenbrockRotated_best': DeviceArray(0.06306902, dtype=float32), 'Discus_best': DeviceArray(0.5317392, dtype=float32), 'RastriginRotated_best': DeviceArray(0.23888297, dtype=float32), 'Schwefel_best': DeviceArray(1.5855554, dtype=float32), 'BuecheRastrigin_best': DeviceArray(-19.356657, dtype=float32), 'AttractiveSector_best': DeviceArray(0.00363927, dtype=float32), 'Weierstrass_best': DeviceArray(0.0052157, dtype=float32), 'SchaffersF7_best': DeviceArray(0.01667425, dtype=float32), 'GriewankRosenbrock_best': DeviceArray(0.00163822, dtype=float32), 'EllipsoidalOriginal_best': DeviceArray(0.19302796, dtype=float32), 'RastriginOriginal_best': DeviceArray(0.26746103, dtype=float32), 'LinearSlope_best': DeviceArray(-23.829435, dtype=float32), 'StepEllipsoidal_best': DeviceArray(0.58198947, dtype=float32), 'RosenbrockOriginal_best': DeviceArray(0.00574644, dtype=float32), 'EllipsoidalRotated_best': DeviceArray(0.37274683, dtype=float32), 'BentCigar_best': DeviceArray(0.07856469, dtype=float32), 'SharpRidge_best': DeviceArray(0.2806678, dtype=float32), 'DifferentPowers_best': DeviceArray(0.00056379, dtype=float32), 'SchaffersF7IllConditioned_best': DeviceArray(0.26324835, dtype=float32), 'Lunacek_best': DeviceArray(2.5511777, dtype=float32), 'Gallagher101Me_best': DeviceArray(6.317738e-07, dtype=float32), 'Gallagher21Hi_best': DeviceArray(2.182004e-05, dtype=float32)}\n",
      "\n"
     ]
    },
    {
     "data": {
      "text/html": [
       "<pre style=\"white-space:pre;overflow-x:auto;line-height:normal;font-family:Menlo,'DejaVu Sans Mono',consolas,'Courier New',monospace\">   ┏━━━━━━━━━━━━━━━┳━━━━┳━━━━━━━━━┳━━━━━━━━━━━━━━━━━━━━━━━━━━━━━━━━━━━━━━━━┓    \n",
       "   ┃<span style=\"font-weight: bold\"> 📥 Total: 1   </span>┃<span style=\"font-weight: bold\"> ID </span>┃<span style=\"font-weight: bold\"> Obj. 📉 </span>┃<span style=\"font-weight: bold\"> Configuration 🔖 - 06/12/2023 15:58:33 </span>┃    \n",
       "   ┡━━━━━━━━━━━━━━━╇━━━━╇━━━━━━━━━╇━━━━━━━━━━━━━━━━━━━━━━━━━━━━━━━━━━━━━━━━┩    \n",
       "   │<span style=\"color: #7f7f7f; text-decoration-color: #7f7f7f\"> Best Overall  </span>│ 0  │ -21.575 │ 'sigma_init': 0.279                    │    \n",
       "   │<span style=\"color: #7f7f7f; text-decoration-color: #7f7f7f\"> Best in Batch </span>│ 0  │ -21.575 │ 'sigma_init': 0.279                    │    \n",
       "   └───────────────┴────┴─────────┴────────────────────────────────────────┘    \n",
       "</pre>\n"
      ],
      "text/plain": [
       "   ┏━━━━━━━━━━━━━━━┳━━━━┳━━━━━━━━━┳━━━━━━━━━━━━━━━━━━━━━━━━━━━━━━━━━━━━━━━━┓    \n",
       "   ┃\u001b[1m \u001b[0m\u001b[1m📥 Total: 1  \u001b[0m\u001b[1m \u001b[0m┃\u001b[1m \u001b[0m\u001b[1mID\u001b[0m\u001b[1m \u001b[0m┃\u001b[1m \u001b[0m\u001b[1mObj. 📉\u001b[0m\u001b[1m \u001b[0m┃\u001b[1m \u001b[0m\u001b[1mConfiguration 🔖 - 06/12/2023 15:58:33\u001b[0m\u001b[1m \u001b[0m┃    \n",
       "   ┡━━━━━━━━━━━━━━━╇━━━━╇━━━━━━━━━╇━━━━━━━━━━━━━━━━━━━━━━━━━━━━━━━━━━━━━━━━┩    \n",
       "   │\u001b[2m \u001b[0m\u001b[2mBest Overall \u001b[0m\u001b[2m \u001b[0m│ 0  │ -21.575 │ 'sigma_init': 0.279                    │    \n",
       "   │\u001b[2m \u001b[0m\u001b[2mBest in Batch\u001b[0m\u001b[2m \u001b[0m│ 0  │ -21.575 │ 'sigma_init': 0.279                    │    \n",
       "   └───────────────┴────┴─────────┴────────────────────────────────────────┘    \n"
      ]
     },
     "metadata": {},
     "output_type": "display_data"
    },
    {
     "name": "stdout",
     "output_type": "stream",
     "text": [
      "bbob: START EVOLVING 2 PARAMETERS.\n",
      "{'num_gens': 50, 'iter_id': 1} {'Sphere_mean': DeviceArray(0.00027059, dtype=float32), 'RosenbrockRotated_mean': DeviceArray(0.3538096, dtype=float32), 'Discus_mean': DeviceArray(594.74286, dtype=float32), 'RastriginRotated_mean': DeviceArray(17.108307, dtype=float32), 'Schwefel_mean': DeviceArray(2.83757, dtype=float32), 'BuecheRastrigin_mean': DeviceArray(2.1512241, dtype=float32), 'AttractiveSector_mean': DeviceArray(0.11554252, dtype=float32), 'Weierstrass_mean': DeviceArray(1.4634793, dtype=float32), 'SchaffersF7_mean': DeviceArray(0.14000084, dtype=float32), 'GriewankRosenbrock_mean': DeviceArray(8.836069, dtype=float32), 'EllipsoidalOriginal_mean': DeviceArray(18.11529, dtype=float32), 'RastriginOriginal_mean': DeviceArray(12.940608, dtype=float32), 'LinearSlope_mean': DeviceArray(-49.27611, dtype=float32), 'StepEllipsoidal_mean': DeviceArray(1.3231727, dtype=float32), 'RosenbrockOriginal_mean': DeviceArray(0.384131, dtype=float32), 'EllipsoidalRotated_mean': DeviceArray(124.86806, dtype=float32), 'BentCigar_mean': DeviceArray(18.89978, dtype=float32), 'SharpRidge_mean': DeviceArray(3.1437688, dtype=float32), 'DifferentPowers_mean': DeviceArray(0.01126603, dtype=float32), 'SchaffersF7IllConditioned_mean': DeviceArray(3.3888862, dtype=float32), 'Lunacek_mean': DeviceArray(28.435535, dtype=float32), 'Gallagher101Me_mean': DeviceArray(0.44254622, dtype=float32), 'Gallagher21Hi_mean': DeviceArray(0.88408166, dtype=float32), 'Sphere_best': DeviceArray(6.8547626e-05, dtype=float32), 'RosenbrockRotated_best': DeviceArray(0.07741728, dtype=float32), 'Discus_best': DeviceArray(1.2899727, dtype=float32), 'RastriginRotated_best': DeviceArray(0.3249163, dtype=float32), 'Schwefel_best': DeviceArray(0.9785181, dtype=float32), 'BuecheRastrigin_best': DeviceArray(-19.5288, dtype=float32), 'AttractiveSector_best': DeviceArray(0.00292385, dtype=float32), 'Weierstrass_best': DeviceArray(0.04122551, dtype=float32), 'SchaffersF7_best': DeviceArray(0.01401521, dtype=float32), 'GriewankRosenbrock_best': DeviceArray(0.00514755, dtype=float32), 'EllipsoidalOriginal_best': DeviceArray(0.37320217, dtype=float32), 'RastriginOriginal_best': DeviceArray(0.34535077, dtype=float32), 'LinearSlope_best': DeviceArray(-52.173286, dtype=float32), 'StepEllipsoidal_best': DeviceArray(0.72552854, dtype=float32), 'RosenbrockOriginal_best': DeviceArray(0.02460198, dtype=float32), 'EllipsoidalRotated_best': DeviceArray(0.6944162, dtype=float32), 'BentCigar_best': DeviceArray(0.31414634, dtype=float32), 'SharpRidge_best': DeviceArray(0.35207468, dtype=float32), 'DifferentPowers_best': DeviceArray(0.00058492, dtype=float32), 'SchaffersF7IllConditioned_best': DeviceArray(0.20430608, dtype=float32), 'Lunacek_best': DeviceArray(4.5171666, dtype=float32), 'Gallagher101Me_best': DeviceArray(0.00947724, dtype=float32), 'Gallagher21Hi_best': DeviceArray(0.00053497, dtype=float32)}\n",
      "\n"
     ]
    },
    {
     "data": {
      "text/html": [
       "<pre style=\"white-space:pre;overflow-x:auto;line-height:normal;font-family:Menlo,'DejaVu Sans Mono',consolas,'Courier New',monospace\">   ┏━━━━━━━━━━━━━━━┳━━━━┳━━━━━━━━━┳━━━━━━━━━━━━━━━━━━━━━━━━━━━━━━━━━━━━━━━━┓    \n",
       "   ┃<span style=\"font-weight: bold\"> 📥 Total: 2   </span>┃<span style=\"font-weight: bold\"> ID </span>┃<span style=\"font-weight: bold\"> Obj. 📉 </span>┃<span style=\"font-weight: bold\"> Configuration 🔖 - 06/12/2023 15:59:03 </span>┃    \n",
       "   ┡━━━━━━━━━━━━━━━╇━━━━╇━━━━━━━━━╇━━━━━━━━━━━━━━━━━━━━━━━━━━━━━━━━━━━━━━━━┩    \n",
       "   │<span style=\"color: #7f7f7f; text-decoration-color: #7f7f7f\"> Best Overall  </span>│ 0  │ -21.575 │ 'sigma_init': 0.279                    │    \n",
       "   │<span style=\"color: #7f7f7f; text-decoration-color: #7f7f7f\"> Best in Batch </span>│ 1  │ -34.405 │ 'sigma_init': 0.36                     │    \n",
       "   └───────────────┴────┴─────────┴────────────────────────────────────────┘    \n",
       "</pre>\n"
      ],
      "text/plain": [
       "   ┏━━━━━━━━━━━━━━━┳━━━━┳━━━━━━━━━┳━━━━━━━━━━━━━━━━━━━━━━━━━━━━━━━━━━━━━━━━┓    \n",
       "   ┃\u001b[1m \u001b[0m\u001b[1m📥 Total: 2  \u001b[0m\u001b[1m \u001b[0m┃\u001b[1m \u001b[0m\u001b[1mID\u001b[0m\u001b[1m \u001b[0m┃\u001b[1m \u001b[0m\u001b[1mObj. 📉\u001b[0m\u001b[1m \u001b[0m┃\u001b[1m \u001b[0m\u001b[1mConfiguration 🔖 - 06/12/2023 15:59:03\u001b[0m\u001b[1m \u001b[0m┃    \n",
       "   ┡━━━━━━━━━━━━━━━╇━━━━╇━━━━━━━━━╇━━━━━━━━━━━━━━━━━━━━━━━━━━━━━━━━━━━━━━━━┩    \n",
       "   │\u001b[2m \u001b[0m\u001b[2mBest Overall \u001b[0m\u001b[2m \u001b[0m│ 0  │ -21.575 │ 'sigma_init': 0.279                    │    \n",
       "   │\u001b[2m \u001b[0m\u001b[2mBest in Batch\u001b[0m\u001b[2m \u001b[0m│ 1  │ -34.405 │ 'sigma_init': 0.36                     │    \n",
       "   └───────────────┴────┴─────────┴────────────────────────────────────────┘    \n"
      ]
     },
     "metadata": {},
     "output_type": "display_data"
    },
    {
     "name": "stdout",
     "output_type": "stream",
     "text": [
      "bbob: START EVOLVING 2 PARAMETERS.\n",
      "{'num_gens': 50, 'iter_id': 2} {'Sphere_mean': DeviceArray(0.0001942, dtype=float32), 'RosenbrockRotated_mean': DeviceArray(0.31130585, dtype=float32), 'Discus_mean': DeviceArray(358.07855, dtype=float32), 'RastriginRotated_mean': DeviceArray(12.835216, dtype=float32), 'Schwefel_mean': DeviceArray(2.9397182, dtype=float32), 'BuecheRastrigin_mean': DeviceArray(-6.807995, dtype=float32), 'AttractiveSector_mean': DeviceArray(0.07508777, dtype=float32), 'Weierstrass_mean': DeviceArray(0.54412144, dtype=float32), 'SchaffersF7_mean': DeviceArray(0.2482125, dtype=float32), 'GriewankRosenbrock_mean': DeviceArray(7.413588, dtype=float32), 'EllipsoidalOriginal_mean': DeviceArray(15.42706, dtype=float32), 'RastriginOriginal_mean': DeviceArray(10.985679, dtype=float32), 'LinearSlope_mean': DeviceArray(-30.565994, dtype=float32), 'StepEllipsoidal_mean': DeviceArray(1.5632765, dtype=float32), 'RosenbrockOriginal_mean': DeviceArray(0.32640016, dtype=float32), 'EllipsoidalRotated_mean': DeviceArray(57.99423, dtype=float32), 'BentCigar_mean': DeviceArray(16.490362, dtype=float32), 'SharpRidge_mean': DeviceArray(1.8474873, dtype=float32), 'DifferentPowers_mean': DeviceArray(0.01078648, dtype=float32), 'SchaffersF7IllConditioned_mean': DeviceArray(1.2328006, dtype=float32), 'Lunacek_mean': DeviceArray(22.04131, dtype=float32), 'Gallagher101Me_mean': DeviceArray(0.00016604, dtype=float32), 'Gallagher21Hi_mean': DeviceArray(0.01788264, dtype=float32), 'Sphere_best': DeviceArray(4.9195976e-05, dtype=float32), 'RosenbrockRotated_best': DeviceArray(0.05793387, dtype=float32), 'Discus_best': DeviceArray(0.36698952, dtype=float32), 'RastriginRotated_best': DeviceArray(0.43542862, dtype=float32), 'Schwefel_best': DeviceArray(1.6809555, dtype=float32), 'BuecheRastrigin_best': DeviceArray(-19.66521, dtype=float32), 'AttractiveSector_best': DeviceArray(0.00409702, dtype=float32), 'Weierstrass_best': DeviceArray(0.00977057, dtype=float32), 'SchaffersF7_best': DeviceArray(0.0253008, dtype=float32), 'GriewankRosenbrock_best': DeviceArray(0.00017014, dtype=float32), 'EllipsoidalOriginal_best': DeviceArray(0.5389203, dtype=float32), 'RastriginOriginal_best': DeviceArray(0.2179083, dtype=float32), 'LinearSlope_best': DeviceArray(-33.020374, dtype=float32), 'StepEllipsoidal_best': DeviceArray(0.430621, dtype=float32), 'RosenbrockOriginal_best': DeviceArray(0.005258, dtype=float32), 'EllipsoidalRotated_best': DeviceArray(0.54527956, dtype=float32), 'BentCigar_best': DeviceArray(0.1645761, dtype=float32), 'SharpRidge_best': DeviceArray(0.32741103, dtype=float32), 'DifferentPowers_best': DeviceArray(0.00058112, dtype=float32), 'SchaffersF7IllConditioned_best': DeviceArray(0.11340179, dtype=float32), 'Lunacek_best': DeviceArray(0.81630725, dtype=float32), 'Gallagher101Me_best': DeviceArray(7.855668e-07, dtype=float32), 'Gallagher21Hi_best': DeviceArray(3.2277499e-06, dtype=float32)}\n",
      "\n"
     ]
    },
    {
     "data": {
      "text/html": [
       "<pre style=\"white-space:pre;overflow-x:auto;line-height:normal;font-family:Menlo,'DejaVu Sans Mono',consolas,'Courier New',monospace\">   ┏━━━━━━━━━━━━━━━┳━━━━┳━━━━━━━━━┳━━━━━━━━━━━━━━━━━━━━━━━━━━━━━━━━━━━━━━━━┓    \n",
       "   ┃<span style=\"font-weight: bold\"> 📥 Total: 3   </span>┃<span style=\"font-weight: bold\"> ID </span>┃<span style=\"font-weight: bold\"> Obj. 📉 </span>┃<span style=\"font-weight: bold\"> Configuration 🔖 - 06/12/2023 15:59:32 </span>┃    \n",
       "   ┡━━━━━━━━━━━━━━━╇━━━━╇━━━━━━━━━╇━━━━━━━━━━━━━━━━━━━━━━━━━━━━━━━━━━━━━━━━┩    \n",
       "   │<span style=\"color: #7f7f7f; text-decoration-color: #7f7f7f\"> Best Overall  </span>│ 2  │ -20.566 │ 'sigma_init': 0.305                    │    \n",
       "   │<span style=\"color: #7f7f7f; text-decoration-color: #7f7f7f\"> Best in Batch </span>│ 2  │ -20.566 │ 'sigma_init': 0.305                    │    \n",
       "   └───────────────┴────┴─────────┴────────────────────────────────────────┘    \n",
       "</pre>\n"
      ],
      "text/plain": [
       "   ┏━━━━━━━━━━━━━━━┳━━━━┳━━━━━━━━━┳━━━━━━━━━━━━━━━━━━━━━━━━━━━━━━━━━━━━━━━━┓    \n",
       "   ┃\u001b[1m \u001b[0m\u001b[1m📥 Total: 3  \u001b[0m\u001b[1m \u001b[0m┃\u001b[1m \u001b[0m\u001b[1mID\u001b[0m\u001b[1m \u001b[0m┃\u001b[1m \u001b[0m\u001b[1mObj. 📉\u001b[0m\u001b[1m \u001b[0m┃\u001b[1m \u001b[0m\u001b[1mConfiguration 🔖 - 06/12/2023 15:59:32\u001b[0m\u001b[1m \u001b[0m┃    \n",
       "   ┡━━━━━━━━━━━━━━━╇━━━━╇━━━━━━━━━╇━━━━━━━━━━━━━━━━━━━━━━━━━━━━━━━━━━━━━━━━┩    \n",
       "   │\u001b[2m \u001b[0m\u001b[2mBest Overall \u001b[0m\u001b[2m \u001b[0m│ 2  │ -20.566 │ 'sigma_init': 0.305                    │    \n",
       "   │\u001b[2m \u001b[0m\u001b[2mBest in Batch\u001b[0m\u001b[2m \u001b[0m│ 2  │ -20.566 │ 'sigma_init': 0.305                    │    \n",
       "   └───────────────┴────┴─────────┴────────────────────────────────────────┘    \n"
      ]
     },
     "metadata": {},
     "output_type": "display_data"
    },
    {
     "name": "stdout",
     "output_type": "stream",
     "text": [
      "bbob: START EVOLVING 2 PARAMETERS.\n",
      "{'num_gens': 50, 'iter_id': 3} {'Sphere_mean': DeviceArray(0.0001598, dtype=float32), 'RosenbrockRotated_mean': DeviceArray(0.24979298, dtype=float32), 'Discus_mean': DeviceArray(259.4808, dtype=float32), 'RastriginRotated_mean': DeviceArray(9.697973, dtype=float32), 'Schwefel_mean': DeviceArray(2.5447729, dtype=float32), 'BuecheRastrigin_mean': DeviceArray(5.2353005, dtype=float32), 'AttractiveSector_mean': DeviceArray(0.06899687, dtype=float32), 'Weierstrass_mean': DeviceArray(0.67652655, dtype=float32), 'SchaffersF7_mean': DeviceArray(0.20517544, dtype=float32), 'GriewankRosenbrock_mean': DeviceArray(11.736759, dtype=float32), 'EllipsoidalOriginal_mean': DeviceArray(17.226957, dtype=float32), 'RastriginOriginal_mean': DeviceArray(11.250839, dtype=float32), 'LinearSlope_mean': DeviceArray(-20.93347, dtype=float32), 'StepEllipsoidal_mean': DeviceArray(3.6041582, dtype=float32), 'RosenbrockOriginal_mean': DeviceArray(0.29349658, dtype=float32), 'EllipsoidalRotated_mean': DeviceArray(155.52258, dtype=float32), 'BentCigar_mean': DeviceArray(11.357356, dtype=float32), 'SharpRidge_mean': DeviceArray(2.1655092, dtype=float32), 'DifferentPowers_mean': DeviceArray(0.0072709, dtype=float32), 'SchaffersF7IllConditioned_mean': DeviceArray(3.2804508, dtype=float32), 'Lunacek_mean': DeviceArray(21.561682, dtype=float32), 'Gallagher101Me_mean': DeviceArray(0.00090032, dtype=float32), 'Gallagher21Hi_mean': DeviceArray(0.01116316, dtype=float32), 'Sphere_best': DeviceArray(4.048171e-05, dtype=float32), 'RosenbrockRotated_best': DeviceArray(0.07786128, dtype=float32), 'Discus_best': DeviceArray(0.5248242, dtype=float32), 'RastriginRotated_best': DeviceArray(0.35035828, dtype=float32), 'Schwefel_best': DeviceArray(1.6056159, dtype=float32), 'BuecheRastrigin_best': DeviceArray(-19.647232, dtype=float32), 'AttractiveSector_best': DeviceArray(0.00292342, dtype=float32), 'Weierstrass_best': DeviceArray(0.00942105, dtype=float32), 'SchaffersF7_best': DeviceArray(0.02654538, dtype=float32), 'GriewankRosenbrock_best': DeviceArray(4.7111513e-05, dtype=float32), 'EllipsoidalOriginal_best': DeviceArray(0.19143508, dtype=float32), 'RastriginOriginal_best': DeviceArray(0.15842463, dtype=float32), 'LinearSlope_best': DeviceArray(-23.159885, dtype=float32), 'StepEllipsoidal_best': DeviceArray(0.58199006, dtype=float32), 'RosenbrockOriginal_best': DeviceArray(0.00569474, dtype=float32), 'EllipsoidalRotated_best': DeviceArray(0.36712846, dtype=float32), 'BentCigar_best': DeviceArray(0.08793469, dtype=float32), 'SharpRidge_best': DeviceArray(0.27759746, dtype=float32), 'DifferentPowers_best': DeviceArray(0.00055728, dtype=float32), 'SchaffersF7IllConditioned_best': DeviceArray(0.15681913, dtype=float32), 'Lunacek_best': DeviceArray(2.7503335, dtype=float32), 'Gallagher101Me_best': DeviceArray(6.170898e-07, dtype=float32), 'Gallagher21Hi_best': DeviceArray(2.1327849e-05, dtype=float32)}\n",
      "\n"
     ]
    },
    {
     "data": {
      "text/html": [
       "<pre style=\"white-space:pre;overflow-x:auto;line-height:normal;font-family:Menlo,'DejaVu Sans Mono',consolas,'Courier New',monospace\">   ┏━━━━━━━━━━━━━━━┳━━━━┳━━━━━━━━━┳━━━━━━━━━━━━━━━━━━━━━━━━━━━━━━━━━━━━━━━━┓    \n",
       "   ┃<span style=\"font-weight: bold\"> 📥 Total: 4   </span>┃<span style=\"font-weight: bold\"> ID </span>┃<span style=\"font-weight: bold\"> Obj. 📉 </span>┃<span style=\"font-weight: bold\"> Configuration 🔖 - 06/12/2023 16:00:01 </span>┃    \n",
       "   ┡━━━━━━━━━━━━━━━╇━━━━╇━━━━━━━━━╇━━━━━━━━━━━━━━━━━━━━━━━━━━━━━━━━━━━━━━━━┩    \n",
       "   │<span style=\"color: #7f7f7f; text-decoration-color: #7f7f7f\"> Best Overall  </span>│ 2  │ -20.566 │ 'sigma_init': 0.305                    │    \n",
       "   │<span style=\"color: #7f7f7f; text-decoration-color: #7f7f7f\"> Best in Batch </span>│ 3  │ -21.532 │ 'sigma_init': 0.277                    │    \n",
       "   └───────────────┴────┴─────────┴────────────────────────────────────────┘    \n",
       "</pre>\n"
      ],
      "text/plain": [
       "   ┏━━━━━━━━━━━━━━━┳━━━━┳━━━━━━━━━┳━━━━━━━━━━━━━━━━━━━━━━━━━━━━━━━━━━━━━━━━┓    \n",
       "   ┃\u001b[1m \u001b[0m\u001b[1m📥 Total: 4  \u001b[0m\u001b[1m \u001b[0m┃\u001b[1m \u001b[0m\u001b[1mID\u001b[0m\u001b[1m \u001b[0m┃\u001b[1m \u001b[0m\u001b[1mObj. 📉\u001b[0m\u001b[1m \u001b[0m┃\u001b[1m \u001b[0m\u001b[1mConfiguration 🔖 - 06/12/2023 16:00:01\u001b[0m\u001b[1m \u001b[0m┃    \n",
       "   ┡━━━━━━━━━━━━━━━╇━━━━╇━━━━━━━━━╇━━━━━━━━━━━━━━━━━━━━━━━━━━━━━━━━━━━━━━━━┩    \n",
       "   │\u001b[2m \u001b[0m\u001b[2mBest Overall \u001b[0m\u001b[2m \u001b[0m│ 2  │ -20.566 │ 'sigma_init': 0.305                    │    \n",
       "   │\u001b[2m \u001b[0m\u001b[2mBest in Batch\u001b[0m\u001b[2m \u001b[0m│ 3  │ -21.532 │ 'sigma_init': 0.277                    │    \n",
       "   └───────────────┴────┴─────────┴────────────────────────────────────────┘    \n"
      ]
     },
     "metadata": {},
     "output_type": "display_data"
    },
    {
     "name": "stdout",
     "output_type": "stream",
     "text": [
      "bbob: START EVOLVING 2 PARAMETERS.\n",
      "{'num_gens': 50, 'iter_id': 4} {'Sphere_mean': DeviceArray(9.861084e-05, dtype=float32), 'RosenbrockRotated_mean': DeviceArray(0.25958535, dtype=float32), 'Discus_mean': DeviceArray(111.71133, dtype=float32), 'RastriginRotated_mean': DeviceArray(2.9296498, dtype=float32), 'Schwefel_mean': DeviceArray(2.101896, dtype=float32), 'BuecheRastrigin_mean': DeviceArray(1.368709, dtype=float32), 'AttractiveSector_mean': DeviceArray(0.04910212, dtype=float32), 'Weierstrass_mean': DeviceArray(0.53529125, dtype=float32), 'SchaffersF7_mean': DeviceArray(0.17522562, dtype=float32), 'GriewankRosenbrock_mean': DeviceArray(12.614681, dtype=float32), 'EllipsoidalOriginal_mean': DeviceArray(6.6613955, dtype=float32), 'RastriginOriginal_mean': DeviceArray(6.2121634, dtype=float32), 'LinearSlope_mean': DeviceArray(-0.7584179, dtype=float32), 'StepEllipsoidal_mean': DeviceArray(1.2605404, dtype=float32), 'RosenbrockOriginal_mean': DeviceArray(0.13867703, dtype=float32), 'EllipsoidalRotated_mean': DeviceArray(79.04134, dtype=float32), 'BentCigar_mean': DeviceArray(8.891426, dtype=float32), 'SharpRidge_mean': DeviceArray(1.6766165, dtype=float32), 'DifferentPowers_mean': DeviceArray(0.0066466, dtype=float32), 'SchaffersF7IllConditioned_mean': DeviceArray(0.9971716, dtype=float32), 'Lunacek_mean': DeviceArray(28.857313, dtype=float32), 'Gallagher101Me_mean': DeviceArray(0.00042999, dtype=float32), 'Gallagher21Hi_mean': DeviceArray(0.00388183, dtype=float32), 'Sphere_best': DeviceArray(2.4980627e-05, dtype=float32), 'RosenbrockRotated_best': DeviceArray(0.08740041, dtype=float32), 'Discus_best': DeviceArray(0.3114636, dtype=float32), 'RastriginRotated_best': DeviceArray(0.03761577, dtype=float32), 'Schwefel_best': DeviceArray(1.6482521, dtype=float32), 'BuecheRastrigin_best': DeviceArray(-19.726461, dtype=float32), 'AttractiveSector_best': DeviceArray(0.00246445, dtype=float32), 'Weierstrass_best': DeviceArray(0.00265655, dtype=float32), 'SchaffersF7_best': DeviceArray(0.02164163, dtype=float32), 'GriewankRosenbrock_best': DeviceArray(0.0003437, dtype=float32), 'EllipsoidalOriginal_best': DeviceArray(0.12301047, dtype=float32), 'RastriginOriginal_best': DeviceArray(0.45456454, dtype=float32), 'LinearSlope_best': DeviceArray(-2.507369, dtype=float32), 'StepEllipsoidal_best': DeviceArray(0.14354187, dtype=float32), 'RosenbrockOriginal_best': DeviceArray(0.00861, dtype=float32), 'EllipsoidalRotated_best': DeviceArray(0.05684037, dtype=float32), 'BentCigar_best': DeviceArray(0.08025569, dtype=float32), 'SharpRidge_best': DeviceArray(0.20236634, dtype=float32), 'DifferentPowers_best': DeviceArray(0.000546, dtype=float32), 'SchaffersF7IllConditioned_best': DeviceArray(0.1537247, dtype=float32), 'Lunacek_best': DeviceArray(4.153634, dtype=float32), 'Gallagher101Me_best': DeviceArray(1.1318921e-07, dtype=float32), 'Gallagher21Hi_best': DeviceArray(2.2006654e-06, dtype=float32)}\n",
      "\n"
     ]
    },
    {
     "data": {
      "text/html": [
       "<pre style=\"white-space:pre;overflow-x:auto;line-height:normal;font-family:Menlo,'DejaVu Sans Mono',consolas,'Courier New',monospace\">   ┏━━━━━━━━━━━━━━━┳━━━━┳━━━━━━━━━┳━━━━━━━━━━━━━━━━━━━━━━━━━━━━━━━━━━━━━━━━┓    \n",
       "   ┃<span style=\"font-weight: bold\"> 📥 Total: 5   </span>┃<span style=\"font-weight: bold\"> ID </span>┃<span style=\"font-weight: bold\"> Obj. 📉 </span>┃<span style=\"font-weight: bold\"> Configuration 🔖 - 06/12/2023 16:00:28 </span>┃    \n",
       "   ┡━━━━━━━━━━━━━━━╇━━━━╇━━━━━━━━━╇━━━━━━━━━━━━━━━━━━━━━━━━━━━━━━━━━━━━━━━━┩    \n",
       "   │<span style=\"color: #7f7f7f; text-decoration-color: #7f7f7f\"> Best Overall  </span>│ 4  │ -11.51  │ 'sigma_init': 0.218                    │    \n",
       "   │<span style=\"color: #7f7f7f; text-decoration-color: #7f7f7f\"> Best in Batch </span>│ 4  │ -11.51  │ 'sigma_init': 0.218                    │    \n",
       "   └───────────────┴────┴─────────┴────────────────────────────────────────┘    \n",
       "</pre>\n"
      ],
      "text/plain": [
       "   ┏━━━━━━━━━━━━━━━┳━━━━┳━━━━━━━━━┳━━━━━━━━━━━━━━━━━━━━━━━━━━━━━━━━━━━━━━━━┓    \n",
       "   ┃\u001b[1m \u001b[0m\u001b[1m📥 Total: 5  \u001b[0m\u001b[1m \u001b[0m┃\u001b[1m \u001b[0m\u001b[1mID\u001b[0m\u001b[1m \u001b[0m┃\u001b[1m \u001b[0m\u001b[1mObj. 📉\u001b[0m\u001b[1m \u001b[0m┃\u001b[1m \u001b[0m\u001b[1mConfiguration 🔖 - 06/12/2023 16:00:28\u001b[0m\u001b[1m \u001b[0m┃    \n",
       "   ┡━━━━━━━━━━━━━━━╇━━━━╇━━━━━━━━━╇━━━━━━━━━━━━━━━━━━━━━━━━━━━━━━━━━━━━━━━━┩    \n",
       "   │\u001b[2m \u001b[0m\u001b[2mBest Overall \u001b[0m\u001b[2m \u001b[0m│ 4  │ -11.51  │ 'sigma_init': 0.218                    │    \n",
       "   │\u001b[2m \u001b[0m\u001b[2mBest in Batch\u001b[0m\u001b[2m \u001b[0m│ 4  │ -11.51  │ 'sigma_init': 0.218                    │    \n",
       "   └───────────────┴────┴─────────┴────────────────────────────────────────┘    \n"
      ]
     },
     "metadata": {},
     "output_type": "display_data"
    },
    {
     "name": "stdout",
     "output_type": "stream",
     "text": [
      "bbob: START EVOLVING 2 PARAMETERS.\n",
      "{'num_gens': 50, 'iter_id': 5} {'Sphere_mean': DeviceArray(0.00022201, dtype=float32), 'RosenbrockRotated_mean': DeviceArray(0.29132554, dtype=float32), 'Discus_mean': DeviceArray(652.38855, dtype=float32), 'RastriginRotated_mean': DeviceArray(12.39189, dtype=float32), 'Schwefel_mean': DeviceArray(3.121177, dtype=float32), 'BuecheRastrigin_mean': DeviceArray(10.0717125, dtype=float32), 'AttractiveSector_mean': DeviceArray(0.09824301, dtype=float32), 'Weierstrass_mean': DeviceArray(0.33906385, dtype=float32), 'SchaffersF7_mean': DeviceArray(0.2017144, dtype=float32), 'GriewankRosenbrock_mean': DeviceArray(6.403543, dtype=float32), 'EllipsoidalOriginal_mean': DeviceArray(21.40122, dtype=float32), 'RastriginOriginal_mean': DeviceArray(21.23364, dtype=float32), 'LinearSlope_mean': DeviceArray(-37.743877, dtype=float32), 'StepEllipsoidal_mean': DeviceArray(1.3231727, dtype=float32), 'RosenbrockOriginal_mean': DeviceArray(0.36435965, dtype=float32), 'EllipsoidalRotated_mean': DeviceArray(103.61944, dtype=float32), 'BentCigar_mean': DeviceArray(4.613561, dtype=float32), 'SharpRidge_mean': DeviceArray(2.6861913, dtype=float32), 'DifferentPowers_mean': DeviceArray(0.00908209, dtype=float32), 'SchaffersF7IllConditioned_mean': DeviceArray(2.3010616, dtype=float32), 'Lunacek_mean': DeviceArray(17.10083, dtype=float32), 'Gallagher101Me_mean': DeviceArray(0.00029781, dtype=float32), 'Gallagher21Hi_mean': DeviceArray(0.4081049, dtype=float32), 'Sphere_best': DeviceArray(5.6241388e-05, dtype=float32), 'RosenbrockRotated_best': DeviceArray(0.07403705, dtype=float32), 'Discus_best': DeviceArray(0.45254013, dtype=float32), 'RastriginRotated_best': DeviceArray(0.76293796, dtype=float32), 'Schwefel_best': DeviceArray(1.5682391, dtype=float32), 'BuecheRastrigin_best': DeviceArray(-18.969511, dtype=float32), 'AttractiveSector_best': DeviceArray(0.00303081, dtype=float32), 'Weierstrass_best': DeviceArray(0.02631031, dtype=float32), 'SchaffersF7_best': DeviceArray(0.02626863, dtype=float32), 'GriewankRosenbrock_best': DeviceArray(0.00060806, dtype=float32), 'EllipsoidalOriginal_best': DeviceArray(0.665205, dtype=float32), 'RastriginOriginal_best': DeviceArray(0.4548703, dtype=float32), 'LinearSlope_best': DeviceArray(-40.36813, dtype=float32), 'StepEllipsoidal_best': DeviceArray(0.43062124, dtype=float32), 'RosenbrockOriginal_best': DeviceArray(0.01667488, dtype=float32), 'EllipsoidalRotated_best': DeviceArray(0.5950256, dtype=float32), 'BentCigar_best': DeviceArray(0.10229634, dtype=float32), 'SharpRidge_best': DeviceArray(0.29692987, dtype=float32), 'DifferentPowers_best': DeviceArray(0.00055332, dtype=float32), 'SchaffersF7IllConditioned_best': DeviceArray(0.20399475, dtype=float32), 'Lunacek_best': DeviceArray(0.4986212, dtype=float32), 'Gallagher101Me_best': DeviceArray(1.0997695e-06, dtype=float32), 'Gallagher21Hi_best': DeviceArray(0.00548629, dtype=float32)}\n",
      "\n"
     ]
    },
    {
     "data": {
      "text/html": [
       "<pre style=\"white-space:pre;overflow-x:auto;line-height:normal;font-family:Menlo,'DejaVu Sans Mono',consolas,'Courier New',monospace\">   ┏━━━━━━━━━━━━━━━┳━━━━┳━━━━━━━━━┳━━━━━━━━━━━━━━━━━━━━━━━━━━━━━━━━━━━━━━━━┓    \n",
       "   ┃<span style=\"font-weight: bold\"> 📥 Total: 6   </span>┃<span style=\"font-weight: bold\"> ID </span>┃<span style=\"font-weight: bold\"> Obj. 📉 </span>┃<span style=\"font-weight: bold\"> Configuration 🔖 - 06/12/2023 16:00:57 </span>┃    \n",
       "   ┡━━━━━━━━━━━━━━━╇━━━━╇━━━━━━━━━╇━━━━━━━━━━━━━━━━━━━━━━━━━━━━━━━━━━━━━━━━┩    \n",
       "   │<span style=\"color: #7f7f7f; text-decoration-color: #7f7f7f\"> Best Overall  </span>│ 4  │ -11.51  │ 'sigma_init': 0.218                    │    \n",
       "   │<span style=\"color: #7f7f7f; text-decoration-color: #7f7f7f\"> Best in Batch </span>│ 5  │ -35.766 │ 'sigma_init': 0.326                    │    \n",
       "   └───────────────┴────┴─────────┴────────────────────────────────────────┘    \n",
       "</pre>\n"
      ],
      "text/plain": [
       "   ┏━━━━━━━━━━━━━━━┳━━━━┳━━━━━━━━━┳━━━━━━━━━━━━━━━━━━━━━━━━━━━━━━━━━━━━━━━━┓    \n",
       "   ┃\u001b[1m \u001b[0m\u001b[1m📥 Total: 6  \u001b[0m\u001b[1m \u001b[0m┃\u001b[1m \u001b[0m\u001b[1mID\u001b[0m\u001b[1m \u001b[0m┃\u001b[1m \u001b[0m\u001b[1mObj. 📉\u001b[0m\u001b[1m \u001b[0m┃\u001b[1m \u001b[0m\u001b[1mConfiguration 🔖 - 06/12/2023 16:00:57\u001b[0m\u001b[1m \u001b[0m┃    \n",
       "   ┡━━━━━━━━━━━━━━━╇━━━━╇━━━━━━━━━╇━━━━━━━━━━━━━━━━━━━━━━━━━━━━━━━━━━━━━━━━┩    \n",
       "   │\u001b[2m \u001b[0m\u001b[2mBest Overall \u001b[0m\u001b[2m \u001b[0m│ 4  │ -11.51  │ 'sigma_init': 0.218                    │    \n",
       "   │\u001b[2m \u001b[0m\u001b[2mBest in Batch\u001b[0m\u001b[2m \u001b[0m│ 5  │ -35.766 │ 'sigma_init': 0.326                    │    \n",
       "   └───────────────┴────┴─────────┴────────────────────────────────────────┘    \n"
      ]
     },
     "metadata": {},
     "output_type": "display_data"
    },
    {
     "name": "stdout",
     "output_type": "stream",
     "text": [
      "bbob: START EVOLVING 2 PARAMETERS.\n",
      "{'num_gens': 50, 'iter_id': 6} {'Sphere_mean': DeviceArray(0.0001049, dtype=float32), 'RosenbrockRotated_mean': DeviceArray(0.23269546, dtype=float32), 'Discus_mean': DeviceArray(117.24387, dtype=float32), 'RastriginRotated_mean': DeviceArray(7.330785, dtype=float32), 'Schwefel_mean': DeviceArray(2.3668888, dtype=float32), 'BuecheRastrigin_mean': DeviceArray(-2.282684, dtype=float32), 'AttractiveSector_mean': DeviceArray(0.04535997, dtype=float32), 'Weierstrass_mean': DeviceArray(0.18937294, dtype=float32), 'SchaffersF7_mean': DeviceArray(0.1843955, dtype=float32), 'GriewankRosenbrock_mean': DeviceArray(10.316733, dtype=float32), 'EllipsoidalOriginal_mean': DeviceArray(8.109244, dtype=float32), 'RastriginOriginal_mean': DeviceArray(6.098723, dtype=float32), 'LinearSlope_mean': DeviceArray(-3.0770617, dtype=float32), 'StepEllipsoidal_mean': DeviceArray(1.2605404, dtype=float32), 'RosenbrockOriginal_mean': DeviceArray(0.11166365, dtype=float32), 'EllipsoidalRotated_mean': DeviceArray(130.76123, dtype=float32), 'BentCigar_mean': DeviceArray(9.538062, dtype=float32), 'SharpRidge_mean': DeviceArray(1.7446362, dtype=float32), 'DifferentPowers_mean': DeviceArray(0.00546596, dtype=float32), 'SchaffersF7IllConditioned_mean': DeviceArray(2.3966415, dtype=float32), 'Lunacek_mean': DeviceArray(29.18718, dtype=float32), 'Gallagher101Me_mean': DeviceArray(0.0005308, dtype=float32), 'Gallagher21Hi_mean': DeviceArray(0.00442703, dtype=float32), 'Sphere_best': DeviceArray(2.6572596e-05, dtype=float32), 'RosenbrockRotated_best': DeviceArray(0.07988361, dtype=float32), 'Discus_best': DeviceArray(0.2541674, dtype=float32), 'RastriginRotated_best': DeviceArray(0.26231745, dtype=float32), 'Schwefel_best': DeviceArray(1.7847865, dtype=float32), 'BuecheRastrigin_best': DeviceArray(-19.82169, dtype=float32), 'AttractiveSector_best': DeviceArray(0.00256261, dtype=float32), 'Weierstrass_best': DeviceArray(0.0105939, dtype=float32), 'SchaffersF7_best': DeviceArray(0.02618291, dtype=float32), 'GriewankRosenbrock_best': DeviceArray(0.0165123, dtype=float32), 'EllipsoidalOriginal_best': DeviceArray(0.11256999, dtype=float32), 'RastriginOriginal_best': DeviceArray(0.33729428, dtype=float32), 'LinearSlope_best': DeviceArray(-4.88089, dtype=float32), 'StepEllipsoidal_best': DeviceArray(0.28708097, dtype=float32), 'RosenbrockOriginal_best': DeviceArray(0.0040925, dtype=float32), 'EllipsoidalRotated_best': DeviceArray(0.22686556, dtype=float32), 'BentCigar_best': DeviceArray(0.10300183, dtype=float32), 'SharpRidge_best': DeviceArray(0.21167491, dtype=float32), 'DifferentPowers_best': DeviceArray(0.00052516, dtype=float32), 'SchaffersF7IllConditioned_best': DeviceArray(0.14085606, dtype=float32), 'Lunacek_best': DeviceArray(5.4441314, dtype=float32), 'Gallagher101Me_best': DeviceArray(1.2726782e-07, dtype=float32), 'Gallagher21Hi_best': DeviceArray(2.6242312e-06, dtype=float32)}\n",
      "\n"
     ]
    },
    {
     "data": {
      "text/html": [
       "<pre style=\"white-space:pre;overflow-x:auto;line-height:normal;font-family:Menlo,'DejaVu Sans Mono',consolas,'Courier New',monospace\">   ┏━━━━━━━━━━━━━━━┳━━━━┳━━━━━━━━━┳━━━━━━━━━━━━━━━━━━━━━━━━━━━━━━━━━━━━━━━━┓    \n",
       "   ┃<span style=\"font-weight: bold\"> 📥 Total: 7   </span>┃<span style=\"font-weight: bold\"> ID </span>┃<span style=\"font-weight: bold\"> Obj. 📉 </span>┃<span style=\"font-weight: bold\"> Configuration 🔖 - 06/12/2023 16:01:26 </span>┃    \n",
       "   ┡━━━━━━━━━━━━━━━╇━━━━╇━━━━━━━━━╇━━━━━━━━━━━━━━━━━━━━━━━━━━━━━━━━━━━━━━━━┩    \n",
       "   │<span style=\"color: #7f7f7f; text-decoration-color: #7f7f7f\"> Best Overall  </span>│ 4  │ -11.51  │ 'sigma_init': 0.218                    │    \n",
       "   │<span style=\"color: #7f7f7f; text-decoration-color: #7f7f7f\"> Best in Batch </span>│ 6  │ -13.99  │ 'sigma_init': 0.224                    │    \n",
       "   └───────────────┴────┴─────────┴────────────────────────────────────────┘    \n",
       "</pre>\n"
      ],
      "text/plain": [
       "   ┏━━━━━━━━━━━━━━━┳━━━━┳━━━━━━━━━┳━━━━━━━━━━━━━━━━━━━━━━━━━━━━━━━━━━━━━━━━┓    \n",
       "   ┃\u001b[1m \u001b[0m\u001b[1m📥 Total: 7  \u001b[0m\u001b[1m \u001b[0m┃\u001b[1m \u001b[0m\u001b[1mID\u001b[0m\u001b[1m \u001b[0m┃\u001b[1m \u001b[0m\u001b[1mObj. 📉\u001b[0m\u001b[1m \u001b[0m┃\u001b[1m \u001b[0m\u001b[1mConfiguration 🔖 - 06/12/2023 16:01:26\u001b[0m\u001b[1m \u001b[0m┃    \n",
       "   ┡━━━━━━━━━━━━━━━╇━━━━╇━━━━━━━━━╇━━━━━━━━━━━━━━━━━━━━━━━━━━━━━━━━━━━━━━━━┩    \n",
       "   │\u001b[2m \u001b[0m\u001b[2mBest Overall \u001b[0m\u001b[2m \u001b[0m│ 4  │ -11.51  │ 'sigma_init': 0.218                    │    \n",
       "   │\u001b[2m \u001b[0m\u001b[2mBest in Batch\u001b[0m\u001b[2m \u001b[0m│ 6  │ -13.99  │ 'sigma_init': 0.224                    │    \n",
       "   └───────────────┴────┴─────────┴────────────────────────────────────────┘    \n"
      ]
     },
     "metadata": {},
     "output_type": "display_data"
    },
    {
     "name": "stdout",
     "output_type": "stream",
     "text": [
      "bbob: START EVOLVING 2 PARAMETERS.\n",
      "{'num_gens': 50, 'iter_id': 7} {'Sphere_mean': DeviceArray(0.0004161, dtype=float32), 'RosenbrockRotated_mean': DeviceArray(0.3204442, dtype=float32), 'Discus_mean': DeviceArray(784.27423, dtype=float32), 'RastriginRotated_mean': DeviceArray(16.46692, dtype=float32), 'Schwefel_mean': DeviceArray(3.0402076, dtype=float32), 'BuecheRastrigin_mean': DeviceArray(15.003089, dtype=float32), 'AttractiveSector_mean': DeviceArray(0.15439427, dtype=float32), 'Weierstrass_mean': DeviceArray(1.420051, dtype=float32), 'SchaffersF7_mean': DeviceArray(0.38622415, dtype=float32), 'GriewankRosenbrock_mean': DeviceArray(13.053284, dtype=float32), 'EllipsoidalOriginal_mean': DeviceArray(23.361307, dtype=float32), 'RastriginOriginal_mean': DeviceArray(18.989624, dtype=float32), 'LinearSlope_mean': DeviceArray(-78.66348, dtype=float32), 'StepEllipsoidal_mean': DeviceArray(1.4745407, dtype=float32), 'RosenbrockOriginal_mean': DeviceArray(0.55102104, dtype=float32), 'EllipsoidalRotated_mean': DeviceArray(234.35078, dtype=float32), 'BentCigar_mean': DeviceArray(31.175266, dtype=float32), 'SharpRidge_mean': DeviceArray(4.233197, dtype=float32), 'DifferentPowers_mean': DeviceArray(0.01338854, dtype=float32), 'SchaffersF7IllConditioned_mean': DeviceArray(1.7608454, dtype=float32), 'Lunacek_mean': DeviceArray(23.727608, dtype=float32), 'Gallagher101Me_mean': DeviceArray(1.1874641, dtype=float32), 'Gallagher21Hi_mean': DeviceArray(1.9239305, dtype=float32), 'Sphere_best': DeviceArray(0.00010541, dtype=float32), 'RosenbrockRotated_best': DeviceArray(0.06691015, dtype=float32), 'Discus_best': DeviceArray(1.1401391, dtype=float32), 'RastriginRotated_best': DeviceArray(0.5741655, dtype=float32), 'Schwefel_best': DeviceArray(1.1764991, dtype=float32), 'BuecheRastrigin_best': DeviceArray(-18.885265, dtype=float32), 'AttractiveSector_best': DeviceArray(0.00842358, dtype=float32), 'Weierstrass_best': DeviceArray(0.01867823, dtype=float32), 'SchaffersF7_best': DeviceArray(0.03503964, dtype=float32), 'GriewankRosenbrock_best': DeviceArray(0.00513573, dtype=float32), 'EllipsoidalOriginal_best': DeviceArray(0.68006724, dtype=float32), 'RastriginOriginal_best': DeviceArray(0.32563338, dtype=float32), 'LinearSlope_best': DeviceArray(-82.25614, dtype=float32), 'StepEllipsoidal_best': DeviceArray(1.1718047, dtype=float32), 'RosenbrockOriginal_best': DeviceArray(0.07106339, dtype=float32), 'EllipsoidalRotated_best': DeviceArray(0.23906906, dtype=float32), 'BentCigar_best': DeviceArray(0.14102183, dtype=float32), 'SharpRidge_best': DeviceArray(0.34789652, dtype=float32), 'DifferentPowers_best': DeviceArray(0.00170588, dtype=float32), 'SchaffersF7IllConditioned_best': DeviceArray(0.23885158, dtype=float32), 'Lunacek_best': DeviceArray(1.8558314, dtype=float32), 'Gallagher101Me_best': DeviceArray(0.02304981, dtype=float32), 'Gallagher21Hi_best': DeviceArray(0.13953725, dtype=float32)}\n",
      "\n"
     ]
    },
    {
     "data": {
      "text/html": [
       "<pre style=\"white-space:pre;overflow-x:auto;line-height:normal;font-family:Menlo,'DejaVu Sans Mono',consolas,'Courier New',monospace\">   ┏━━━━━━━━━━━━━━━┳━━━━┳━━━━━━━━━┳━━━━━━━━━━━━━━━━━━━━━━━━━━━━━━━━━━━━━━━━┓    \n",
       "   ┃<span style=\"font-weight: bold\"> 📥 Total: 8   </span>┃<span style=\"font-weight: bold\"> ID </span>┃<span style=\"font-weight: bold\"> Obj. 📉 </span>┃<span style=\"font-weight: bold\"> Configuration 🔖 - 06/12/2023 16:01:54 </span>┃    \n",
       "   ┡━━━━━━━━━━━━━━━╇━━━━╇━━━━━━━━━╇━━━━━━━━━━━━━━━━━━━━━━━━━━━━━━━━━━━━━━━━┩    \n",
       "   │<span style=\"color: #7f7f7f; text-decoration-color: #7f7f7f\"> Best Overall  </span>│ 4  │ -11.51  │ 'sigma_init': 0.218                    │    \n",
       "   │<span style=\"color: #7f7f7f; text-decoration-color: #7f7f7f\"> Best in Batch </span>│ 7  │ -47.748 │ 'sigma_init': 0.447                    │    \n",
       "   └───────────────┴────┴─────────┴────────────────────────────────────────┘    \n",
       "</pre>\n"
      ],
      "text/plain": [
       "   ┏━━━━━━━━━━━━━━━┳━━━━┳━━━━━━━━━┳━━━━━━━━━━━━━━━━━━━━━━━━━━━━━━━━━━━━━━━━┓    \n",
       "   ┃\u001b[1m \u001b[0m\u001b[1m📥 Total: 8  \u001b[0m\u001b[1m \u001b[0m┃\u001b[1m \u001b[0m\u001b[1mID\u001b[0m\u001b[1m \u001b[0m┃\u001b[1m \u001b[0m\u001b[1mObj. 📉\u001b[0m\u001b[1m \u001b[0m┃\u001b[1m \u001b[0m\u001b[1mConfiguration 🔖 - 06/12/2023 16:01:54\u001b[0m\u001b[1m \u001b[0m┃    \n",
       "   ┡━━━━━━━━━━━━━━━╇━━━━╇━━━━━━━━━╇━━━━━━━━━━━━━━━━━━━━━━━━━━━━━━━━━━━━━━━━┩    \n",
       "   │\u001b[2m \u001b[0m\u001b[2mBest Overall \u001b[0m\u001b[2m \u001b[0m│ 4  │ -11.51  │ 'sigma_init': 0.218                    │    \n",
       "   │\u001b[2m \u001b[0m\u001b[2mBest in Batch\u001b[0m\u001b[2m \u001b[0m│ 7  │ -47.748 │ 'sigma_init': 0.447                    │    \n",
       "   └───────────────┴────┴─────────┴────────────────────────────────────────┘    \n"
      ]
     },
     "metadata": {},
     "output_type": "display_data"
    },
    {
     "name": "stdout",
     "output_type": "stream",
     "text": [
      "bbob: START EVOLVING 2 PARAMETERS.\n",
      "{'num_gens': 50, 'iter_id': 8} {'Sphere_mean': DeviceArray(0.00048427, dtype=float32), 'RosenbrockRotated_mean': DeviceArray(0.45827642, dtype=float32), 'Discus_mean': DeviceArray(528.646, dtype=float32), 'RastriginRotated_mean': DeviceArray(17.642885, dtype=float32), 'Schwefel_mean': DeviceArray(2.790366, dtype=float32), 'BuecheRastrigin_mean': DeviceArray(3.714896, dtype=float32), 'AttractiveSector_mean': DeviceArray(0.16452864, dtype=float32), 'Weierstrass_mean': DeviceArray(1.4863092, dtype=float32), 'SchaffersF7_mean': DeviceArray(0.20941137, dtype=float32), 'GriewankRosenbrock_mean': DeviceArray(3.7961311, dtype=float32), 'EllipsoidalOriginal_mean': DeviceArray(20.20664, dtype=float32), 'RastriginOriginal_mean': DeviceArray(14.773859, dtype=float32), 'LinearSlope_mean': DeviceArray(-90.627495, dtype=float32), 'StepEllipsoidal_mean': DeviceArray(1.4745407, dtype=float32), 'RosenbrockOriginal_mean': DeviceArray(0.6387106, dtype=float32), 'EllipsoidalRotated_mean': DeviceArray(515.3536, dtype=float32), 'BentCigar_mean': DeviceArray(289.4033, dtype=float32), 'SharpRidge_mean': DeviceArray(4.061996, dtype=float32), 'DifferentPowers_mean': DeviceArray(0.0071626, dtype=float32), 'SchaffersF7IllConditioned_mean': DeviceArray(2.1518326, dtype=float32), 'Lunacek_mean': DeviceArray(24.605541, dtype=float32), 'Gallagher101Me_mean': DeviceArray(1.0609607, dtype=float32), 'Gallagher21Hi_mean': DeviceArray(2.6467183, dtype=float32), 'Sphere_best': DeviceArray(0.00012268, dtype=float32), 'RosenbrockRotated_best': DeviceArray(0.04786515, dtype=float32), 'Discus_best': DeviceArray(1.5229806, dtype=float32), 'RastriginRotated_best': DeviceArray(0.9595809, dtype=float32), 'Schwefel_best': DeviceArray(0.79486936, dtype=float32), 'BuecheRastrigin_best': DeviceArray(-18.896994, dtype=float32), 'AttractiveSector_best': DeviceArray(0.00765158, dtype=float32), 'Weierstrass_best': DeviceArray(0.10759149, dtype=float32), 'SchaffersF7_best': DeviceArray(0.03381139, dtype=float32), 'GriewankRosenbrock_best': DeviceArray(0.00652885, dtype=float32), 'EllipsoidalOriginal_best': DeviceArray(1.2451655, dtype=float32), 'RastriginOriginal_best': DeviceArray(1.1558057, dtype=float32), 'LinearSlope_best': DeviceArray(-94.50328, dtype=float32), 'StepEllipsoidal_best': DeviceArray(1.0204366, dtype=float32), 'RosenbrockOriginal_best': DeviceArray(0.09291282, dtype=float32), 'EllipsoidalRotated_best': DeviceArray(0.29487553, dtype=float32), 'BentCigar_best': DeviceArray(0.20648463, dtype=float32), 'SharpRidge_best': DeviceArray(0.37597805, dtype=float32), 'DifferentPowers_best': DeviceArray(0.00120929, dtype=float32), 'SchaffersF7IllConditioned_best': DeviceArray(0.27337646, dtype=float32), 'Lunacek_best': DeviceArray(2.445718, dtype=float32), 'Gallagher101Me_best': DeviceArray(0.03073105, dtype=float32), 'Gallagher21Hi_best': DeviceArray(0.09979767, dtype=float32)}\n",
      "\n"
     ]
    },
    {
     "data": {
      "text/html": [
       "<pre style=\"white-space:pre;overflow-x:auto;line-height:normal;font-family:Menlo,'DejaVu Sans Mono',consolas,'Courier New',monospace\">   ┏━━━━━━━━━━━━━━━┳━━━━┳━━━━━━━━━┳━━━━━━━━━━━━━━━━━━━━━━━━━━━━━━━━━━━━━━━━┓    \n",
       "   ┃<span style=\"font-weight: bold\"> 📥 Total: 9   </span>┃<span style=\"font-weight: bold\"> ID </span>┃<span style=\"font-weight: bold\"> Obj. 📉 </span>┃<span style=\"font-weight: bold\"> Configuration 🔖 - 06/12/2023 16:02:24 </span>┃    \n",
       "   ┡━━━━━━━━━━━━━━━╇━━━━╇━━━━━━━━━╇━━━━━━━━━━━━━━━━━━━━━━━━━━━━━━━━━━━━━━━━┩    \n",
       "   │<span style=\"color: #7f7f7f; text-decoration-color: #7f7f7f\"> Best Overall  </span>│ 4  │ -11.51  │ 'sigma_init': 0.218                    │    \n",
       "   │<span style=\"color: #7f7f7f; text-decoration-color: #7f7f7f\"> Best in Batch </span>│ 8  │ -58.464 │ 'sigma_init': 0.482                    │    \n",
       "   └───────────────┴────┴─────────┴────────────────────────────────────────┘    \n",
       "</pre>\n"
      ],
      "text/plain": [
       "   ┏━━━━━━━━━━━━━━━┳━━━━┳━━━━━━━━━┳━━━━━━━━━━━━━━━━━━━━━━━━━━━━━━━━━━━━━━━━┓    \n",
       "   ┃\u001b[1m \u001b[0m\u001b[1m📥 Total: 9  \u001b[0m\u001b[1m \u001b[0m┃\u001b[1m \u001b[0m\u001b[1mID\u001b[0m\u001b[1m \u001b[0m┃\u001b[1m \u001b[0m\u001b[1mObj. 📉\u001b[0m\u001b[1m \u001b[0m┃\u001b[1m \u001b[0m\u001b[1mConfiguration 🔖 - 06/12/2023 16:02:24\u001b[0m\u001b[1m \u001b[0m┃    \n",
       "   ┡━━━━━━━━━━━━━━━╇━━━━╇━━━━━━━━━╇━━━━━━━━━━━━━━━━━━━━━━━━━━━━━━━━━━━━━━━━┩    \n",
       "   │\u001b[2m \u001b[0m\u001b[2mBest Overall \u001b[0m\u001b[2m \u001b[0m│ 4  │ -11.51  │ 'sigma_init': 0.218                    │    \n",
       "   │\u001b[2m \u001b[0m\u001b[2mBest in Batch\u001b[0m\u001b[2m \u001b[0m│ 8  │ -58.464 │ 'sigma_init': 0.482                    │    \n",
       "   └───────────────┴────┴─────────┴────────────────────────────────────────┘    \n"
      ]
     },
     "metadata": {},
     "output_type": "display_data"
    },
    {
     "name": "stdout",
     "output_type": "stream",
     "text": [
      "bbob: START EVOLVING 2 PARAMETERS.\n",
      "{'num_gens': 50, 'iter_id': 9} {'Sphere_mean': DeviceArray(8.155926e-05, dtype=float32), 'RosenbrockRotated_mean': DeviceArray(0.2507878, dtype=float32), 'Discus_mean': DeviceArray(73.76293, dtype=float32), 'RastriginRotated_mean': DeviceArray(1.3062929, dtype=float32), 'Schwefel_mean': DeviceArray(2.3835824, dtype=float32), 'BuecheRastrigin_mean': DeviceArray(-1.8977839, dtype=float32), 'AttractiveSector_mean': DeviceArray(0.04990822, dtype=float32), 'Weierstrass_mean': DeviceArray(0.44519624, dtype=float32), 'SchaffersF7_mean': DeviceArray(0.10217263, dtype=float32), 'GriewankRosenbrock_mean': DeviceArray(7.4899764, dtype=float32), 'EllipsoidalOriginal_mean': DeviceArray(6.8864884, dtype=float32), 'RastriginOriginal_mean': DeviceArray(5.9448113, dtype=float32), 'LinearSlope_mean': DeviceArray(5.933947, dtype=float32), 'StepEllipsoidal_mean': DeviceArray(1.9312643, dtype=float32), 'RosenbrockOriginal_mean': DeviceArray(0.06621778, dtype=float32), 'EllipsoidalRotated_mean': DeviceArray(32.927166, dtype=float32), 'BentCigar_mean': DeviceArray(20.492605, dtype=float32), 'SharpRidge_mean': DeviceArray(1.3078561, dtype=float32), 'DifferentPowers_mean': DeviceArray(0.00698092, dtype=float32), 'SchaffersF7IllConditioned_mean': DeviceArray(0.8825858, dtype=float32), 'Lunacek_mean': DeviceArray(21.418657, dtype=float32), 'Gallagher101Me_mean': DeviceArray(0.0002459, dtype=float32), 'Gallagher21Hi_mean': DeviceArray(0.00302182, dtype=float32), 'Sphere_best': DeviceArray(2.0661111e-05, dtype=float32), 'RosenbrockRotated_best': DeviceArray(0.09647538, dtype=float32), 'Discus_best': DeviceArray(0.22321193, dtype=float32), 'RastriginRotated_best': DeviceArray(0.23682196, dtype=float32), 'Schwefel_best': DeviceArray(1.6605237, dtype=float32), 'BuecheRastrigin_best': DeviceArray(-19.632519, dtype=float32), 'AttractiveSector_best': DeviceArray(0.00209698, dtype=float32), 'Weierstrass_best': DeviceArray(0.00455103, dtype=float32), 'SchaffersF7_best': DeviceArray(0.01689597, dtype=float32), 'GriewankRosenbrock_best': DeviceArray(0.00372219, dtype=float32), 'EllipsoidalOriginal_best': DeviceArray(0.15993473, dtype=float32), 'RastriginOriginal_best': DeviceArray(0.3374112, dtype=float32), 'LinearSlope_best': DeviceArray(4.343378, dtype=float32), 'StepEllipsoidal_best': DeviceArray(0.28708112, dtype=float32), 'RosenbrockOriginal_best': DeviceArray(0.00920215, dtype=float32), 'EllipsoidalRotated_best': DeviceArray(0.1634562, dtype=float32), 'BentCigar_best': DeviceArray(0.08429074, dtype=float32), 'SharpRidge_best': DeviceArray(0.18485792, dtype=float32), 'DifferentPowers_best': DeviceArray(0.00048357, dtype=float32), 'SchaffersF7IllConditioned_best': DeviceArray(0.08761432, dtype=float32), 'Lunacek_best': DeviceArray(2.7439988, dtype=float32), 'Gallagher101Me_best': DeviceArray(7.330575e-08, dtype=float32), 'Gallagher21Hi_best': DeviceArray(1.7125898e-06, dtype=float32)}\n",
      "\n"
     ]
    },
    {
     "data": {
      "text/html": [
       "<pre style=\"white-space:pre;overflow-x:auto;line-height:normal;font-family:Menlo,'DejaVu Sans Mono',consolas,'Courier New',monospace\">   ┏━━━━━━━━━━━━━━━┳━━━━┳━━━━━━━━━┳━━━━━━━━━━━━━━━━━━━━━━━━━━━━━━━━━━━━━━━━┓    \n",
       "   ┃<span style=\"font-weight: bold\"> 📥 Total: 10  </span>┃<span style=\"font-weight: bold\"> ID </span>┃<span style=\"font-weight: bold\"> Obj. 📉 </span>┃<span style=\"font-weight: bold\"> Configuration 🔖 - 06/12/2023 16:02:53 </span>┃    \n",
       "   ┡━━━━━━━━━━━━━━━╇━━━━╇━━━━━━━━━╇━━━━━━━━━━━━━━━━━━━━━━━━━━━━━━━━━━━━━━━━┩    \n",
       "   │<span style=\"color: #7f7f7f; text-decoration-color: #7f7f7f\"> Best Overall  </span>│ 9  │ -7.9    │ 'sigma_init': 0.198                    │    \n",
       "   │<span style=\"color: #7f7f7f; text-decoration-color: #7f7f7f\"> Best in Batch </span>│ 9  │ -7.9    │ 'sigma_init': 0.198                    │    \n",
       "   └───────────────┴────┴─────────┴────────────────────────────────────────┘    \n",
       "</pre>\n"
      ],
      "text/plain": [
       "   ┏━━━━━━━━━━━━━━━┳━━━━┳━━━━━━━━━┳━━━━━━━━━━━━━━━━━━━━━━━━━━━━━━━━━━━━━━━━┓    \n",
       "   ┃\u001b[1m \u001b[0m\u001b[1m📥 Total: 10 \u001b[0m\u001b[1m \u001b[0m┃\u001b[1m \u001b[0m\u001b[1mID\u001b[0m\u001b[1m \u001b[0m┃\u001b[1m \u001b[0m\u001b[1mObj. 📉\u001b[0m\u001b[1m \u001b[0m┃\u001b[1m \u001b[0m\u001b[1mConfiguration 🔖 - 06/12/2023 16:02:53\u001b[0m\u001b[1m \u001b[0m┃    \n",
       "   ┡━━━━━━━━━━━━━━━╇━━━━╇━━━━━━━━━╇━━━━━━━━━━━━━━━━━━━━━━━━━━━━━━━━━━━━━━━━┩    \n",
       "   │\u001b[2m \u001b[0m\u001b[2mBest Overall \u001b[0m\u001b[2m \u001b[0m│ 9  │ -7.9    │ 'sigma_init': 0.198                    │    \n",
       "   │\u001b[2m \u001b[0m\u001b[2mBest in Batch\u001b[0m\u001b[2m \u001b[0m│ 9  │ -7.9    │ 'sigma_init': 0.198                    │    \n",
       "   └───────────────┴────┴─────────┴────────────────────────────────────────┘    \n"
      ]
     },
     "metadata": {},
     "output_type": "display_data"
    },
    {
     "name": "stdout",
     "output_type": "stream",
     "text": [
      "bbob: START EVOLVING 2 PARAMETERS.\n",
      "{'num_gens': 50, 'iter_id': 10} {'Sphere_mean': DeviceArray(0.00032983, dtype=float32), 'RosenbrockRotated_mean': DeviceArray(0.31064746, dtype=float32), 'Discus_mean': DeviceArray(363.70447, dtype=float32), 'RastriginRotated_mean': DeviceArray(16.659079, dtype=float32), 'Schwefel_mean': DeviceArray(2.6761699, dtype=float32), 'BuecheRastrigin_mean': DeviceArray(0.29217932, dtype=float32), 'AttractiveSector_mean': DeviceArray(0.12341143, dtype=float32), 'Weierstrass_mean': DeviceArray(1.4533625, dtype=float32), 'SchaffersF7_mean': DeviceArray(0.1453896, dtype=float32), 'GriewankRosenbrock_mean': DeviceArray(8.276696, dtype=float32), 'EllipsoidalOriginal_mean': DeviceArray(26.52162, dtype=float32), 'RastriginOriginal_mean': DeviceArray(21.510893, dtype=float32), 'LinearSlope_mean': DeviceArray(-62.013294, dtype=float32), 'StepEllipsoidal_mean': DeviceArray(1.1796329, dtype=float32), 'RosenbrockOriginal_mean': DeviceArray(0.5495786, dtype=float32), 'EllipsoidalRotated_mean': DeviceArray(242.34764, dtype=float32), 'BentCigar_mean': DeviceArray(37.13684, dtype=float32), 'SharpRidge_mean': DeviceArray(3.6044545, dtype=float32), 'DifferentPowers_mean': DeviceArray(0.01238747, dtype=float32), 'SchaffersF7IllConditioned_mean': DeviceArray(2.5017745, dtype=float32), 'Lunacek_mean': DeviceArray(28.582487, dtype=float32), 'Gallagher101Me_mean': DeviceArray(0.44079596, dtype=float32), 'Gallagher21Hi_mean': DeviceArray(1.7969128, dtype=float32), 'Sphere_best': DeviceArray(8.355383e-05, dtype=float32), 'RosenbrockRotated_best': DeviceArray(0.08920827, dtype=float32), 'Discus_best': DeviceArray(0.8506385, dtype=float32), 'RastriginRotated_best': DeviceArray(1.4001408, dtype=float32), 'Schwefel_best': DeviceArray(0.78378797, dtype=float32), 'BuecheRastrigin_best': DeviceArray(-19.116705, dtype=float32), 'AttractiveSector_best': DeviceArray(0.00436012, dtype=float32), 'Weierstrass_best': DeviceArray(0.02628394, dtype=float32), 'SchaffersF7_best': DeviceArray(0.04118009, dtype=float32), 'GriewankRosenbrock_best': DeviceArray(0.00227928, dtype=float32), 'EllipsoidalOriginal_best': DeviceArray(0.4268642, dtype=float32), 'RastriginOriginal_best': DeviceArray(0.68703324, dtype=float32), 'LinearSlope_best': DeviceArray(-65.21191, dtype=float32), 'StepEllipsoidal_best': DeviceArray(1.0282645, dtype=float32), 'RosenbrockOriginal_best': DeviceArray(0.04352112, dtype=float32), 'EllipsoidalRotated_best': DeviceArray(0.4778827, dtype=float32), 'BentCigar_best': DeviceArray(0.16599993, dtype=float32), 'SharpRidge_best': DeviceArray(0.37571827, dtype=float32), 'DifferentPowers_best': DeviceArray(0.00077445, dtype=float32), 'SchaffersF7IllConditioned_best': DeviceArray(0.11374853, dtype=float32), 'Lunacek_best': DeviceArray(0.7307516, dtype=float32), 'Gallagher101Me_best': DeviceArray(0.01422216, dtype=float32), 'Gallagher21Hi_best': DeviceArray(0.07677982, dtype=float32)}\n",
      "\n"
     ]
    },
    {
     "data": {
      "text/html": [
       "<pre style=\"white-space:pre;overflow-x:auto;line-height:normal;font-family:Menlo,'DejaVu Sans Mono',consolas,'Courier New',monospace\">   ┏━━━━━━━━━━━━━━━┳━━━━┳━━━━━━━━━┳━━━━━━━━━━━━━━━━━━━━━━━━━━━━━━━━━━━━━━━━┓    \n",
       "   ┃<span style=\"font-weight: bold\"> 📥 Total: 11  </span>┃<span style=\"font-weight: bold\"> ID </span>┃<span style=\"font-weight: bold\"> Obj. 📉 </span>┃<span style=\"font-weight: bold\"> Configuration 🔖 - 06/12/2023 16:03:22 </span>┃    \n",
       "   ┡━━━━━━━━━━━━━━━╇━━━━╇━━━━━━━━━╇━━━━━━━━━━━━━━━━━━━━━━━━━━━━━━━━━━━━━━━━┩    \n",
       "   │<span style=\"color: #7f7f7f; text-decoration-color: #7f7f7f\"> Best Overall  </span>│ 9  │ -7.9    │ 'sigma_init': 0.198                    │    \n",
       "   │<span style=\"color: #7f7f7f; text-decoration-color: #7f7f7f\"> Best in Batch </span>│ 10 │ -30.34  │ 'sigma_init': 0.398                    │    \n",
       "   └───────────────┴────┴─────────┴────────────────────────────────────────┘    \n",
       "</pre>\n"
      ],
      "text/plain": [
       "   ┏━━━━━━━━━━━━━━━┳━━━━┳━━━━━━━━━┳━━━━━━━━━━━━━━━━━━━━━━━━━━━━━━━━━━━━━━━━┓    \n",
       "   ┃\u001b[1m \u001b[0m\u001b[1m📥 Total: 11 \u001b[0m\u001b[1m \u001b[0m┃\u001b[1m \u001b[0m\u001b[1mID\u001b[0m\u001b[1m \u001b[0m┃\u001b[1m \u001b[0m\u001b[1mObj. 📉\u001b[0m\u001b[1m \u001b[0m┃\u001b[1m \u001b[0m\u001b[1mConfiguration 🔖 - 06/12/2023 16:03:22\u001b[0m\u001b[1m \u001b[0m┃    \n",
       "   ┡━━━━━━━━━━━━━━━╇━━━━╇━━━━━━━━━╇━━━━━━━━━━━━━━━━━━━━━━━━━━━━━━━━━━━━━━━━┩    \n",
       "   │\u001b[2m \u001b[0m\u001b[2mBest Overall \u001b[0m\u001b[2m \u001b[0m│ 9  │ -7.9    │ 'sigma_init': 0.198                    │    \n",
       "   │\u001b[2m \u001b[0m\u001b[2mBest in Batch\u001b[0m\u001b[2m \u001b[0m│ 10 │ -30.34  │ 'sigma_init': 0.398                    │    \n",
       "   └───────────────┴────┴─────────┴────────────────────────────────────────┘    \n"
      ]
     },
     "metadata": {},
     "output_type": "display_data"
    },
    {
     "name": "stdout",
     "output_type": "stream",
     "text": [
      "bbob: START EVOLVING 2 PARAMETERS.\n",
      "{'num_gens': 50, 'iter_id': 11} {'Sphere_mean': DeviceArray(0.00015089, dtype=float32), 'RosenbrockRotated_mean': DeviceArray(0.25959837, dtype=float32), 'Discus_mean': DeviceArray(277.515, dtype=float32), 'RastriginRotated_mean': DeviceArray(6.3211327, dtype=float32), 'Schwefel_mean': DeviceArray(2.4839108, dtype=float32), 'BuecheRastrigin_mean': DeviceArray(13.334495, dtype=float32), 'AttractiveSector_mean': DeviceArray(0.06166889, dtype=float32), 'Weierstrass_mean': DeviceArray(0.4186314, dtype=float32), 'SchaffersF7_mean': DeviceArray(0.17961015, dtype=float32), 'GriewankRosenbrock_mean': DeviceArray(8.496559, dtype=float32), 'EllipsoidalOriginal_mean': DeviceArray(12.46865, dtype=float32), 'RastriginOriginal_mean': DeviceArray(5.084898, dtype=float32), 'LinearSlope_mean': DeviceArray(-18.272669, dtype=float32), 'StepEllipsoidal_mean': DeviceArray(1.602425, dtype=float32), 'RosenbrockOriginal_mean': DeviceArray(0.22411914, dtype=float32), 'EllipsoidalRotated_mean': DeviceArray(64.48872, dtype=float32), 'BentCigar_mean': DeviceArray(13.659404, dtype=float32), 'SharpRidge_mean': DeviceArray(1.5818094, dtype=float32), 'DifferentPowers_mean': DeviceArray(0.00784867, dtype=float32), 'SchaffersF7IllConditioned_mean': DeviceArray(1.6612715, dtype=float32), 'Lunacek_mean': DeviceArray(26.542768, dtype=float32), 'Gallagher101Me_mean': DeviceArray(0.00083732, dtype=float32), 'Gallagher21Hi_mean': DeviceArray(0.01001809, dtype=float32), 'Sphere_best': DeviceArray(3.8224407e-05, dtype=float32), 'RosenbrockRotated_best': DeviceArray(0.08215179, dtype=float32), 'Discus_best': DeviceArray(0.47854406, dtype=float32), 'RastriginRotated_best': DeviceArray(0.2873963, dtype=float32), 'Schwefel_best': DeviceArray(1.3877591, dtype=float32), 'BuecheRastrigin_best': DeviceArray(-19.39555, dtype=float32), 'AttractiveSector_best': DeviceArray(0.00295945, dtype=float32), 'Weierstrass_best': DeviceArray(0.01708119, dtype=float32), 'SchaffersF7_best': DeviceArray(0.02664485, dtype=float32), 'GriewankRosenbrock_best': DeviceArray(0.00138855, dtype=float32), 'EllipsoidalOriginal_best': DeviceArray(0.21868122, dtype=float32), 'RastriginOriginal_best': DeviceArray(0.34799126, dtype=float32), 'LinearSlope_best': DeviceArray(-20.436115, dtype=float32), 'StepEllipsoidal_best': DeviceArray(0.5741605, dtype=float32), 'RosenbrockOriginal_best': DeviceArray(0.00391942, dtype=float32), 'EllipsoidalRotated_best': DeviceArray(0.21221451, dtype=float32), 'BentCigar_best': DeviceArray(0.09696466, dtype=float32), 'SharpRidge_best': DeviceArray(0.26529288, dtype=float32), 'DifferentPowers_best': DeviceArray(0.00075386, dtype=float32), 'SchaffersF7IllConditioned_best': DeviceArray(0.11342359, dtype=float32), 'Lunacek_best': DeviceArray(3.0774214, dtype=float32), 'Gallagher101Me_best': DeviceArray(5.5439625e-07, dtype=float32), 'Gallagher21Hi_best': DeviceArray(1.9248693e-05, dtype=float32)}\n",
      "\n"
     ]
    },
    {
     "data": {
      "text/html": [
       "<pre style=\"white-space:pre;overflow-x:auto;line-height:normal;font-family:Menlo,'DejaVu Sans Mono',consolas,'Courier New',monospace\">   ┏━━━━━━━━━━━━━━━┳━━━━┳━━━━━━━━━┳━━━━━━━━━━━━━━━━━━━━━━━━━━━━━━━━━━━━━━━━┓    \n",
       "   ┃<span style=\"font-weight: bold\"> 📥 Total: 12  </span>┃<span style=\"font-weight: bold\"> ID </span>┃<span style=\"font-weight: bold\"> Obj. 📉 </span>┃<span style=\"font-weight: bold\"> Configuration 🔖 - 06/12/2023 16:03:51 </span>┃    \n",
       "   ┡━━━━━━━━━━━━━━━╇━━━━╇━━━━━━━━━╇━━━━━━━━━━━━━━━━━━━━━━━━━━━━━━━━━━━━━━━━┩    \n",
       "   │<span style=\"color: #7f7f7f; text-decoration-color: #7f7f7f\"> Best Overall  </span>│ 9  │ -7.9    │ 'sigma_init': 0.198                    │    \n",
       "   │<span style=\"color: #7f7f7f; text-decoration-color: #7f7f7f\"> Best in Batch </span>│ 11 │ -18.18  │ 'sigma_init': 0.269                    │    \n",
       "   └───────────────┴────┴─────────┴────────────────────────────────────────┘    \n",
       "</pre>\n"
      ],
      "text/plain": [
       "   ┏━━━━━━━━━━━━━━━┳━━━━┳━━━━━━━━━┳━━━━━━━━━━━━━━━━━━━━━━━━━━━━━━━━━━━━━━━━┓    \n",
       "   ┃\u001b[1m \u001b[0m\u001b[1m📥 Total: 12 \u001b[0m\u001b[1m \u001b[0m┃\u001b[1m \u001b[0m\u001b[1mID\u001b[0m\u001b[1m \u001b[0m┃\u001b[1m \u001b[0m\u001b[1mObj. 📉\u001b[0m\u001b[1m \u001b[0m┃\u001b[1m \u001b[0m\u001b[1mConfiguration 🔖 - 06/12/2023 16:03:51\u001b[0m\u001b[1m \u001b[0m┃    \n",
       "   ┡━━━━━━━━━━━━━━━╇━━━━╇━━━━━━━━━╇━━━━━━━━━━━━━━━━━━━━━━━━━━━━━━━━━━━━━━━━┩    \n",
       "   │\u001b[2m \u001b[0m\u001b[2mBest Overall \u001b[0m\u001b[2m \u001b[0m│ 9  │ -7.9    │ 'sigma_init': 0.198                    │    \n",
       "   │\u001b[2m \u001b[0m\u001b[2mBest in Batch\u001b[0m\u001b[2m \u001b[0m│ 11 │ -18.18  │ 'sigma_init': 0.269                    │    \n",
       "   └───────────────┴────┴─────────┴────────────────────────────────────────┘    \n"
      ]
     },
     "metadata": {},
     "output_type": "display_data"
    },
    {
     "name": "stdout",
     "output_type": "stream",
     "text": [
      "bbob: START EVOLVING 2 PARAMETERS.\n",
      "{'num_gens': 50, 'iter_id': 12} {'Sphere_mean': DeviceArray(0.00017316, dtype=float32), 'RosenbrockRotated_mean': DeviceArray(0.2549316, dtype=float32), 'Discus_mean': DeviceArray(325.79294, dtype=float32), 'RastriginRotated_mean': DeviceArray(10.181204, dtype=float32), 'Schwefel_mean': DeviceArray(2.4282892, dtype=float32), 'BuecheRastrigin_mean': DeviceArray(9.361792, dtype=float32), 'AttractiveSector_mean': DeviceArray(0.05848004, dtype=float32), 'Weierstrass_mean': DeviceArray(0.4511353, dtype=float32), 'SchaffersF7_mean': DeviceArray(0.1709491, dtype=float32), 'GriewankRosenbrock_mean': DeviceArray(1.7135333, dtype=float32), 'EllipsoidalOriginal_mean': DeviceArray(19.518482, dtype=float32), 'RastriginOriginal_mean': DeviceArray(10.588834, dtype=float32), 'LinearSlope_mean': DeviceArray(-24.788006, dtype=float32), 'StepEllipsoidal_mean': DeviceArray(1.4197363, dtype=float32), 'RosenbrockOriginal_mean': DeviceArray(0.3038123, dtype=float32), 'EllipsoidalRotated_mean': DeviceArray(64.26945, dtype=float32), 'BentCigar_mean': DeviceArray(16.233465, dtype=float32), 'SharpRidge_mean': DeviceArray(2.2825212, dtype=float32), 'DifferentPowers_mean': DeviceArray(0.00983751, dtype=float32), 'SchaffersF7IllConditioned_mean': DeviceArray(1.424329, dtype=float32), 'Lunacek_mean': DeviceArray(24.640518, dtype=float32), 'Gallagher101Me_mean': DeviceArray(0.00193594, dtype=float32), 'Gallagher21Hi_mean': DeviceArray(0.01300221, dtype=float32), 'Sphere_best': DeviceArray(4.3866577e-05, dtype=float32), 'RosenbrockRotated_best': DeviceArray(0.0690735, dtype=float32), 'Discus_best': DeviceArray(0.4833866, dtype=float32), 'RastriginRotated_best': DeviceArray(0.4679326, dtype=float32), 'Schwefel_best': DeviceArray(1.4665483, dtype=float32), 'BuecheRastrigin_best': DeviceArray(-19.416853, dtype=float32), 'AttractiveSector_best': DeviceArray(0.00440534, dtype=float32), 'Weierstrass_best': DeviceArray(0.01195739, dtype=float32), 'SchaffersF7_best': DeviceArray(0.03329502, dtype=float32), 'GriewankRosenbrock_best': DeviceArray(0.00472813, dtype=float32), 'EllipsoidalOriginal_best': DeviceArray(0.16949026, dtype=float32), 'RastriginOriginal_best': DeviceArray(0.14329039, dtype=float32), 'LinearSlope_best': DeviceArray(-27.10564, dtype=float32), 'StepEllipsoidal_best': DeviceArray(0.43062097, dtype=float32), 'RosenbrockOriginal_best': DeviceArray(0.00512695, dtype=float32), 'EllipsoidalRotated_best': DeviceArray(0.39603937, dtype=float32), 'BentCigar_best': DeviceArray(0.14585242, dtype=float32), 'SharpRidge_best': DeviceArray(0.29589579, dtype=float32), 'DifferentPowers_best': DeviceArray(0.00049318, dtype=float32), 'SchaffersF7IllConditioned_best': DeviceArray(0.18978989, dtype=float32), 'Lunacek_best': DeviceArray(2.3187664, dtype=float32), 'Gallagher101Me_best': DeviceArray(6.7864795e-07, dtype=float32), 'Gallagher21Hi_best': DeviceArray(1.10435385e-05, dtype=float32)}\n",
      "\n"
     ]
    },
    {
     "data": {
      "text/html": [
       "<pre style=\"white-space:pre;overflow-x:auto;line-height:normal;font-family:Menlo,'DejaVu Sans Mono',consolas,'Courier New',monospace\">   ┏━━━━━━━━━━━━━━━┳━━━━┳━━━━━━━━━┳━━━━━━━━━━━━━━━━━━━━━━━━━━━━━━━━━━━━━━━━┓    \n",
       "   ┃<span style=\"font-weight: bold\"> 📥 Total: 13  </span>┃<span style=\"font-weight: bold\"> ID </span>┃<span style=\"font-weight: bold\"> Obj. 📉 </span>┃<span style=\"font-weight: bold\"> Configuration 🔖 - 06/12/2023 16:04:19 </span>┃    \n",
       "   ┡━━━━━━━━━━━━━━━╇━━━━╇━━━━━━━━━╇━━━━━━━━━━━━━━━━━━━━━━━━━━━━━━━━━━━━━━━━┩    \n",
       "   │<span style=\"color: #7f7f7f; text-decoration-color: #7f7f7f\"> Best Overall  </span>│ 9  │ -7.9    │ 'sigma_init': 0.198                    │    \n",
       "   │<span style=\"color: #7f7f7f; text-decoration-color: #7f7f7f\"> Best in Batch </span>│ 12 │ -20.275 │ 'sigma_init': 0.288                    │    \n",
       "   └───────────────┴────┴─────────┴────────────────────────────────────────┘    \n",
       "</pre>\n"
      ],
      "text/plain": [
       "   ┏━━━━━━━━━━━━━━━┳━━━━┳━━━━━━━━━┳━━━━━━━━━━━━━━━━━━━━━━━━━━━━━━━━━━━━━━━━┓    \n",
       "   ┃\u001b[1m \u001b[0m\u001b[1m📥 Total: 13 \u001b[0m\u001b[1m \u001b[0m┃\u001b[1m \u001b[0m\u001b[1mID\u001b[0m\u001b[1m \u001b[0m┃\u001b[1m \u001b[0m\u001b[1mObj. 📉\u001b[0m\u001b[1m \u001b[0m┃\u001b[1m \u001b[0m\u001b[1mConfiguration 🔖 - 06/12/2023 16:04:19\u001b[0m\u001b[1m \u001b[0m┃    \n",
       "   ┡━━━━━━━━━━━━━━━╇━━━━╇━━━━━━━━━╇━━━━━━━━━━━━━━━━━━━━━━━━━━━━━━━━━━━━━━━━┩    \n",
       "   │\u001b[2m \u001b[0m\u001b[2mBest Overall \u001b[0m\u001b[2m \u001b[0m│ 9  │ -7.9    │ 'sigma_init': 0.198                    │    \n",
       "   │\u001b[2m \u001b[0m\u001b[2mBest in Batch\u001b[0m\u001b[2m \u001b[0m│ 12 │ -20.275 │ 'sigma_init': 0.288                    │    \n",
       "   └───────────────┴────┴─────────┴────────────────────────────────────────┘    \n"
      ]
     },
     "metadata": {},
     "output_type": "display_data"
    },
    {
     "name": "stdout",
     "output_type": "stream",
     "text": [
      "bbob: START EVOLVING 2 PARAMETERS.\n",
      "{'num_gens': 50, 'iter_id': 13} {'Sphere_mean': DeviceArray(0.00044753, dtype=float32), 'RosenbrockRotated_mean': DeviceArray(0.3119727, dtype=float32), 'Discus_mean': DeviceArray(435.7115, dtype=float32), 'RastriginRotated_mean': DeviceArray(19.799215, dtype=float32), 'Schwefel_mean': DeviceArray(2.8740168, dtype=float32), 'BuecheRastrigin_mean': DeviceArray(6.3919387, dtype=float32), 'AttractiveSector_mean': DeviceArray(0.14154534, dtype=float32), 'Weierstrass_mean': DeviceArray(2.3930218, dtype=float32), 'SchaffersF7_mean': DeviceArray(0.32094097, dtype=float32), 'GriewankRosenbrock_mean': DeviceArray(10.450421, dtype=float32), 'EllipsoidalOriginal_mean': DeviceArray(18.926971, dtype=float32), 'RastriginOriginal_mean': DeviceArray(16.90872, dtype=float32), 'LinearSlope_mean': DeviceArray(-84.29246, dtype=float32), 'StepEllipsoidal_mean': DeviceArray(1.4745407, dtype=float32), 'RosenbrockOriginal_mean': DeviceArray(0.6183284, dtype=float32), 'EllipsoidalRotated_mean': DeviceArray(162.64551, dtype=float32), 'BentCigar_mean': DeviceArray(68.84587, dtype=float32), 'SharpRidge_mean': DeviceArray(4.3079944, dtype=float32), 'DifferentPowers_mean': DeviceArray(0.00735874, dtype=float32), 'SchaffersF7IllConditioned_mean': DeviceArray(2.5485482, dtype=float32), 'Lunacek_mean': DeviceArray(24.209396, dtype=float32), 'Gallagher101Me_mean': DeviceArray(1.131958, dtype=float32), 'Gallagher21Hi_mean': DeviceArray(2.301822, dtype=float32), 'Sphere_best': DeviceArray(0.00011337, dtype=float32), 'RosenbrockRotated_best': DeviceArray(0.05172555, dtype=float32), 'Discus_best': DeviceArray(1.5826577, dtype=float32), 'RastriginRotated_best': DeviceArray(0.47887975, dtype=float32), 'Schwefel_best': DeviceArray(0.9376122, dtype=float32), 'BuecheRastrigin_best': DeviceArray(-18.708534, dtype=float32), 'AttractiveSector_best': DeviceArray(0.0069568, dtype=float32), 'Weierstrass_best': DeviceArray(0.06286839, dtype=float32), 'SchaffersF7_best': DeviceArray(0.02843352, dtype=float32), 'GriewankRosenbrock_best': DeviceArray(0.00299892, dtype=float32), 'EllipsoidalOriginal_best': DeviceArray(1.4256185, dtype=float32), 'RastriginOriginal_best': DeviceArray(0.46484137, dtype=float32), 'LinearSlope_best': DeviceArray(-88.018326, dtype=float32), 'StepEllipsoidal_best': DeviceArray(1.1718047, dtype=float32), 'RosenbrockOriginal_best': DeviceArray(0.04787727, dtype=float32), 'EllipsoidalRotated_best': DeviceArray(0.28270814, dtype=float32), 'BentCigar_best': DeviceArray(0.15150538, dtype=float32), 'SharpRidge_best': DeviceArray(0.3673279, dtype=float32), 'DifferentPowers_best': DeviceArray(0.00148991, dtype=float32), 'SchaffersF7IllConditioned_best': DeviceArray(0.32033914, dtype=float32), 'Lunacek_best': DeviceArray(2.9216652, dtype=float32), 'Gallagher101Me_best': DeviceArray(0.02520709, dtype=float32), 'Gallagher21Hi_best': DeviceArray(0.09821752, dtype=float32)}\n",
      "\n"
     ]
    },
    {
     "data": {
      "text/html": [
       "<pre style=\"white-space:pre;overflow-x:auto;line-height:normal;font-family:Menlo,'DejaVu Sans Mono',consolas,'Courier New',monospace\">   ┏━━━━━━━━━━━━━━━┳━━━━┳━━━━━━━━━┳━━━━━━━━━━━━━━━━━━━━━━━━━━━━━━━━━━━━━━━━┓    \n",
       "   ┃<span style=\"font-weight: bold\"> 📥 Total: 14  </span>┃<span style=\"font-weight: bold\"> ID </span>┃<span style=\"font-weight: bold\"> Obj. 📉 </span>┃<span style=\"font-weight: bold\"> Configuration 🔖 - 06/12/2023 16:04:47 </span>┃    \n",
       "   ┡━━━━━━━━━━━━━━━╇━━━━╇━━━━━━━━━╇━━━━━━━━━━━━━━━━━━━━━━━━━━━━━━━━━━━━━━━━┩    \n",
       "   │<span style=\"color: #7f7f7f; text-decoration-color: #7f7f7f\"> Best Overall  </span>│ 9  │ -7.9    │ 'sigma_init': 0.198                    │    \n",
       "   │<span style=\"color: #7f7f7f; text-decoration-color: #7f7f7f\"> Best in Batch </span>│ 13 │ -30.349 │ 'sigma_init': 0.464                    │    \n",
       "   └───────────────┴────┴─────────┴────────────────────────────────────────┘    \n",
       "</pre>\n"
      ],
      "text/plain": [
       "   ┏━━━━━━━━━━━━━━━┳━━━━┳━━━━━━━━━┳━━━━━━━━━━━━━━━━━━━━━━━━━━━━━━━━━━━━━━━━┓    \n",
       "   ┃\u001b[1m \u001b[0m\u001b[1m📥 Total: 14 \u001b[0m\u001b[1m \u001b[0m┃\u001b[1m \u001b[0m\u001b[1mID\u001b[0m\u001b[1m \u001b[0m┃\u001b[1m \u001b[0m\u001b[1mObj. 📉\u001b[0m\u001b[1m \u001b[0m┃\u001b[1m \u001b[0m\u001b[1mConfiguration 🔖 - 06/12/2023 16:04:47\u001b[0m\u001b[1m \u001b[0m┃    \n",
       "   ┡━━━━━━━━━━━━━━━╇━━━━╇━━━━━━━━━╇━━━━━━━━━━━━━━━━━━━━━━━━━━━━━━━━━━━━━━━━┩    \n",
       "   │\u001b[2m \u001b[0m\u001b[2mBest Overall \u001b[0m\u001b[2m \u001b[0m│ 9  │ -7.9    │ 'sigma_init': 0.198                    │    \n",
       "   │\u001b[2m \u001b[0m\u001b[2mBest in Batch\u001b[0m\u001b[2m \u001b[0m│ 13 │ -30.349 │ 'sigma_init': 0.464                    │    \n",
       "   └───────────────┴────┴─────────┴────────────────────────────────────────┘    \n"
      ]
     },
     "metadata": {},
     "output_type": "display_data"
    },
    {
     "name": "stdout",
     "output_type": "stream",
     "text": [
      "bbob: START EVOLVING 2 PARAMETERS.\n",
      "{'num_gens': 50, 'iter_id': 14} {'Sphere_mean': DeviceArray(4.1816547e-06, dtype=float32), 'RosenbrockRotated_mean': DeviceArray(0.0964774, dtype=float32), 'Discus_mean': DeviceArray(5.8731365, dtype=float32), 'RastriginRotated_mean': DeviceArray(0.01582567, dtype=float32), 'Schwefel_mean': DeviceArray(31.028696, dtype=float32), 'BuecheRastrigin_mean': DeviceArray(-19.968344, dtype=float32), 'AttractiveSector_mean': DeviceArray(0.92900676, dtype=float32), 'Weierstrass_mean': DeviceArray(0.01446552, dtype=float32), 'SchaffersF7_mean': DeviceArray(0.03155552, dtype=float32), 'GriewankRosenbrock_mean': DeviceArray(0.00015717, dtype=float32), 'EllipsoidalOriginal_mean': DeviceArray(0.16302636, dtype=float32), 'RastriginOriginal_mean': DeviceArray(0.00363609, dtype=float32), 'LinearSlope_mean': DeviceArray(57.92502, dtype=float32), 'StepEllipsoidal_mean': DeviceArray(1.0340987e-07, dtype=float32), 'RosenbrockOriginal_mean': DeviceArray(0.00365154, dtype=float32), 'EllipsoidalRotated_mean': DeviceArray(3.6754014, dtype=float32), 'BentCigar_mean': DeviceArray(1.2357496, dtype=float32), 'SharpRidge_mean': DeviceArray(0.35088214, dtype=float32), 'DifferentPowers_mean': DeviceArray(0.00113926, dtype=float32), 'SchaffersF7IllConditioned_mean': DeviceArray(0.17365877, dtype=float32), 'Lunacek_mean': DeviceArray(20.895853, dtype=float32), 'Gallagher101Me_mean': DeviceArray(7.7460254e-07, dtype=float32), 'Gallagher21Hi_mean': DeviceArray(6.8839795e-06, dtype=float32), 'Sphere_best': DeviceArray(1.0593145e-06, dtype=float32), 'RosenbrockRotated_best': DeviceArray(0.07688984, dtype=float32), 'Discus_best': DeviceArray(0.00813097, dtype=float32), 'RastriginRotated_best': DeviceArray(0.00294956, dtype=float32), 'Schwefel_best': DeviceArray(22.553043, dtype=float32), 'BuecheRastrigin_best': DeviceArray(-19.998474, dtype=float32), 'AttractiveSector_best': DeviceArray(0.856739, dtype=float32), 'Weierstrass_best': DeviceArray(0.00012676, dtype=float32), 'SchaffersF7_best': DeviceArray(0.00216811, dtype=float32), 'GriewankRosenbrock_best': DeviceArray(1.9073487e-07, dtype=float32), 'EllipsoidalOriginal_best': DeviceArray(0.00795379, dtype=float32), 'RastriginOriginal_best': DeviceArray(0.00057079, dtype=float32), 'LinearSlope_best': DeviceArray(57.56486, dtype=float32), 'StepEllipsoidal_best': DeviceArray(6.327949e-09, dtype=float32), 'RosenbrockOriginal_best': DeviceArray(0.00038167, dtype=float32), 'EllipsoidalRotated_best': DeviceArray(0.00862123, dtype=float32), 'BentCigar_best': DeviceArray(0.0034458, dtype=float32), 'SharpRidge_best': DeviceArray(0.03786897, dtype=float32), 'DifferentPowers_best': DeviceArray(0.00015997, dtype=float32), 'SchaffersF7IllConditioned_best': DeviceArray(0.0121918, dtype=float32), 'Lunacek_best': DeviceArray(10.12073, dtype=float32), 'Gallagher101Me_best': DeviceArray(2.0043973e-10, dtype=float32), 'Gallagher21Hi_best': DeviceArray(4.006744e-09, dtype=float32)}\n",
      "\n"
     ]
    },
    {
     "data": {
      "text/html": [
       "<pre style=\"white-space:pre;overflow-x:auto;line-height:normal;font-family:Menlo,'DejaVu Sans Mono',consolas,'Courier New',monospace\">   ┏━━━━━━━━━━━━━━━┳━━━━┳━━━━━━━━━┳━━━━━━━━━━━━━━━━━━━━━━━━━━━━━━━━━━━━━━━━┓    \n",
       "   ┃<span style=\"font-weight: bold\"> 📥 Total: 15  </span>┃<span style=\"font-weight: bold\"> ID </span>┃<span style=\"font-weight: bold\"> Obj. 📉 </span>┃<span style=\"font-weight: bold\"> Configuration 🔖 - 06/12/2023 16:05:16 </span>┃    \n",
       "   ┡━━━━━━━━━━━━━━━╇━━━━╇━━━━━━━━━╇━━━━━━━━━━━━━━━━━━━━━━━━━━━━━━━━━━━━━━━━┩    \n",
       "   │<span style=\"color: #7f7f7f; text-decoration-color: #7f7f7f\"> Best Overall  </span>│ 14 │ -4.454  │ 'sigma_init': 0.045                    │    \n",
       "   │<span style=\"color: #7f7f7f; text-decoration-color: #7f7f7f\"> Best in Batch </span>│ 14 │ -4.454  │ 'sigma_init': 0.045                    │    \n",
       "   └───────────────┴────┴─────────┴────────────────────────────────────────┘    \n",
       "</pre>\n"
      ],
      "text/plain": [
       "   ┏━━━━━━━━━━━━━━━┳━━━━┳━━━━━━━━━┳━━━━━━━━━━━━━━━━━━━━━━━━━━━━━━━━━━━━━━━━┓    \n",
       "   ┃\u001b[1m \u001b[0m\u001b[1m📥 Total: 15 \u001b[0m\u001b[1m \u001b[0m┃\u001b[1m \u001b[0m\u001b[1mID\u001b[0m\u001b[1m \u001b[0m┃\u001b[1m \u001b[0m\u001b[1mObj. 📉\u001b[0m\u001b[1m \u001b[0m┃\u001b[1m \u001b[0m\u001b[1mConfiguration 🔖 - 06/12/2023 16:05:16\u001b[0m\u001b[1m \u001b[0m┃    \n",
       "   ┡━━━━━━━━━━━━━━━╇━━━━╇━━━━━━━━━╇━━━━━━━━━━━━━━━━━━━━━━━━━━━━━━━━━━━━━━━━┩    \n",
       "   │\u001b[2m \u001b[0m\u001b[2mBest Overall \u001b[0m\u001b[2m \u001b[0m│ 14 │ -4.454  │ 'sigma_init': 0.045                    │    \n",
       "   │\u001b[2m \u001b[0m\u001b[2mBest in Batch\u001b[0m\u001b[2m \u001b[0m│ 14 │ -4.454  │ 'sigma_init': 0.045                    │    \n",
       "   └───────────────┴────┴─────────┴────────────────────────────────────────┘    \n"
      ]
     },
     "metadata": {},
     "output_type": "display_data"
    },
    {
     "name": "stdout",
     "output_type": "stream",
     "text": [
      "bbob: START EVOLVING 2 PARAMETERS.\n",
      "{'num_gens': 50, 'iter_id': 15} {'Sphere_mean': DeviceArray(5.7830193e-06, dtype=float32), 'RosenbrockRotated_mean': DeviceArray(0.10289148, dtype=float32), 'Discus_mean': DeviceArray(15.742279, dtype=float32), 'RastriginRotated_mean': DeviceArray(0.0204996, dtype=float32), 'Schwefel_mean': DeviceArray(3.1766968, dtype=float32), 'BuecheRastrigin_mean': DeviceArray(-19.964575, dtype=float32), 'AttractiveSector_mean': DeviceArray(0.42122626, dtype=float32), 'Weierstrass_mean': DeviceArray(0.0225347, dtype=float32), 'SchaffersF7_mean': DeviceArray(0.02547986, dtype=float32), 'GriewankRosenbrock_mean': DeviceArray(0.0015604, dtype=float32), 'EllipsoidalOriginal_mean': DeviceArray(0.16482747, dtype=float32), 'RastriginOriginal_mean': DeviceArray(0.00326827, dtype=float32), 'LinearSlope_mean': DeviceArray(55.246754, dtype=float32), 'StepEllipsoidal_mean': DeviceArray(2.3159001e-07, dtype=float32), 'RosenbrockOriginal_mean': DeviceArray(0.00453593, dtype=float32), 'EllipsoidalRotated_mean': DeviceArray(0.97915983, dtype=float32), 'BentCigar_mean': DeviceArray(1.443557, dtype=float32), 'SharpRidge_mean': DeviceArray(0.41848168, dtype=float32), 'DifferentPowers_mean': DeviceArray(0.00141953, dtype=float32), 'SchaffersF7IllConditioned_mean': DeviceArray(0.33869743, dtype=float32), 'Lunacek_mean': DeviceArray(18.865528, dtype=float32), 'Gallagher101Me_mean': DeviceArray(1.4739679e-06, dtype=float32), 'Gallagher21Hi_mean': DeviceArray(1.5438554e-05, dtype=float32), 'Sphere_best': DeviceArray(1.4649844e-06, dtype=float32), 'RosenbrockRotated_best': DeviceArray(0.07821368, dtype=float32), 'Discus_best': DeviceArray(0.01282661, dtype=float32), 'RastriginRotated_best': DeviceArray(0.00344895, dtype=float32), 'Schwefel_best': DeviceArray(2.9440544, dtype=float32), 'BuecheRastrigin_best': DeviceArray(-19.996878, dtype=float32), 'AttractiveSector_best': DeviceArray(0.36875725, dtype=float32), 'Weierstrass_best': DeviceArray(0.00041731, dtype=float32), 'SchaffersF7_best': DeviceArray(0.00472908, dtype=float32), 'GriewankRosenbrock_best': DeviceArray(5.722046e-07, dtype=float32), 'EllipsoidalOriginal_best': DeviceArray(0.00658729, dtype=float32), 'RastriginOriginal_best': DeviceArray(0.00071912, dtype=float32), 'LinearSlope_best': DeviceArray(54.82321, dtype=float32), 'StepEllipsoidal_best': DeviceArray(4.1051837e-09, dtype=float32), 'RosenbrockOriginal_best': DeviceArray(0.00052775, dtype=float32), 'EllipsoidalRotated_best': DeviceArray(0.00723885, dtype=float32), 'BentCigar_best': DeviceArray(0.00617421, dtype=float32), 'SharpRidge_best': DeviceArray(0.04564318, dtype=float32), 'DifferentPowers_best': DeviceArray(0.00020874, dtype=float32), 'SchaffersF7IllConditioned_best': DeviceArray(0.02734826, dtype=float32), 'Lunacek_best': DeviceArray(10.724248, dtype=float32), 'Gallagher101Me_best': DeviceArray(3.8448206e-10, dtype=float32), 'Gallagher21Hi_best': DeviceArray(1.0311825e-08, dtype=float32)}\n",
      "\n"
     ]
    },
    {
     "data": {
      "text/html": [
       "<pre style=\"white-space:pre;overflow-x:auto;line-height:normal;font-family:Menlo,'DejaVu Sans Mono',consolas,'Courier New',monospace\">   ┏━━━━━━━━━━━━━━━┳━━━━┳━━━━━━━━━┳━━━━━━━━━━━━━━━━━━━━━━━━━━━━━━━━━━━━━━━━┓    \n",
       "   ┃<span style=\"font-weight: bold\"> 📥 Total: 16  </span>┃<span style=\"font-weight: bold\"> ID </span>┃<span style=\"font-weight: bold\"> Obj. 📉 </span>┃<span style=\"font-weight: bold\"> Configuration 🔖 - 06/12/2023 16:05:46 </span>┃    \n",
       "   ┡━━━━━━━━━━━━━━━╇━━━━╇━━━━━━━━━╇━━━━━━━━━━━━━━━━━━━━━━━━━━━━━━━━━━━━━━━━┩    \n",
       "   │<span style=\"color: #7f7f7f; text-decoration-color: #7f7f7f\"> Best Overall  </span>│ 15 │ -3.348  │ 'sigma_init': 0.053                    │    \n",
       "   │<span style=\"color: #7f7f7f; text-decoration-color: #7f7f7f\"> Best in Batch </span>│ 15 │ -3.348  │ 'sigma_init': 0.053                    │    \n",
       "   └───────────────┴────┴─────────┴────────────────────────────────────────┘    \n",
       "</pre>\n"
      ],
      "text/plain": [
       "   ┏━━━━━━━━━━━━━━━┳━━━━┳━━━━━━━━━┳━━━━━━━━━━━━━━━━━━━━━━━━━━━━━━━━━━━━━━━━┓    \n",
       "   ┃\u001b[1m \u001b[0m\u001b[1m📥 Total: 16 \u001b[0m\u001b[1m \u001b[0m┃\u001b[1m \u001b[0m\u001b[1mID\u001b[0m\u001b[1m \u001b[0m┃\u001b[1m \u001b[0m\u001b[1mObj. 📉\u001b[0m\u001b[1m \u001b[0m┃\u001b[1m \u001b[0m\u001b[1mConfiguration 🔖 - 06/12/2023 16:05:46\u001b[0m\u001b[1m \u001b[0m┃    \n",
       "   ┡━━━━━━━━━━━━━━━╇━━━━╇━━━━━━━━━╇━━━━━━━━━━━━━━━━━━━━━━━━━━━━━━━━━━━━━━━━┩    \n",
       "   │\u001b[2m \u001b[0m\u001b[2mBest Overall \u001b[0m\u001b[2m \u001b[0m│ 15 │ -3.348  │ 'sigma_init': 0.053                    │    \n",
       "   │\u001b[2m \u001b[0m\u001b[2mBest in Batch\u001b[0m\u001b[2m \u001b[0m│ 15 │ -3.348  │ 'sigma_init': 0.053                    │    \n",
       "   └───────────────┴────┴─────────┴────────────────────────────────────────┘    \n"
      ]
     },
     "metadata": {},
     "output_type": "display_data"
    },
    {
     "name": "stdout",
     "output_type": "stream",
     "text": [
      "bbob: START EVOLVING 2 PARAMETERS.\n",
      "{'num_gens': 50, 'iter_id': 16} {'Sphere_mean': DeviceArray(8.25383e-07, dtype=float32), 'RosenbrockRotated_mean': DeviceArray(0.1000302, dtype=float32), 'Discus_mean': DeviceArray(1.056579, dtype=float32), 'RastriginRotated_mean': DeviceArray(0.00427134, dtype=float32), 'Schwefel_mean': DeviceArray(1340.3335, dtype=float32), 'BuecheRastrigin_mean': DeviceArray(-19.990143, dtype=float32), 'AttractiveSector_mean': DeviceArray(5.321402, dtype=float32), 'Weierstrass_mean': DeviceArray(0.00298746, dtype=float32), 'SchaffersF7_mean': DeviceArray(0.01558955, dtype=float32), 'GriewankRosenbrock_mean': DeviceArray(2.5749207e-05, dtype=float32), 'EllipsoidalOriginal_mean': DeviceArray(0.05888457, dtype=float32), 'RastriginOriginal_mean': DeviceArray(0.00143992, dtype=float32), 'LinearSlope_mean': DeviceArray(66.38218, dtype=float32), 'StepEllipsoidal_mean': DeviceArray(4.298816e-08, dtype=float32), 'RosenbrockOriginal_mean': DeviceArray(0.00037179, dtype=float32), 'EllipsoidalRotated_mean': DeviceArray(0.5274119, dtype=float32), 'BentCigar_mean': DeviceArray(0.1580789, dtype=float32), 'SharpRidge_mean': DeviceArray(0.1678681, dtype=float32), 'DifferentPowers_mean': DeviceArray(0.00045276, dtype=float32), 'SchaffersF7IllConditioned_mean': DeviceArray(0.22010648, dtype=float32), 'Lunacek_mean': DeviceArray(12.363402, dtype=float32), 'Gallagher101Me_mean': DeviceArray(3.2286103e-08, dtype=float32), 'Gallagher21Hi_mean': DeviceArray(3.194319e-07, dtype=float32), 'Sphere_best': DeviceArray(2.0908907e-07, dtype=float32), 'RosenbrockRotated_best': DeviceArray(0.09615958, dtype=float32), 'Discus_best': DeviceArray(0.00302858, dtype=float32), 'RastriginRotated_best': DeviceArray(0.00015288, dtype=float32), 'Schwefel_best': DeviceArray(1297.4095, dtype=float32), 'BuecheRastrigin_best': DeviceArray(-19.999674, dtype=float32), 'AttractiveSector_best': DeviceArray(5.1957507, dtype=float32), 'Weierstrass_best': DeviceArray(0.00011157, dtype=float32), 'SchaffersF7_best': DeviceArray(0.0017986, dtype=float32), 'GriewankRosenbrock_best': DeviceArray(1.9073487e-07, dtype=float32), 'EllipsoidalOriginal_best': DeviceArray(0.00147094, dtype=float32), 'RastriginOriginal_best': DeviceArray(0.0001512, dtype=float32), 'LinearSlope_best': DeviceArray(66.22217, dtype=float32), 'StepEllipsoidal_best': DeviceArray(1.0058517e-09, dtype=float32), 'RosenbrockOriginal_best': DeviceArray(2.9708393e-05, dtype=float32), 'EllipsoidalRotated_best': DeviceArray(0.00093827, dtype=float32), 'BentCigar_best': DeviceArray(0.00065899, dtype=float32), 'SharpRidge_best': DeviceArray(0.01341664, dtype=float32), 'DifferentPowers_best': DeviceArray(4.7828446e-05, dtype=float32), 'SchaffersF7IllConditioned_best': DeviceArray(0.01265644, dtype=float32), 'Lunacek_best': DeviceArray(11.913135, dtype=float32), 'Gallagher101Me_best': DeviceArray(7.408776e-12, dtype=float32), 'Gallagher21Hi_best': DeviceArray(1.7989439e-10, dtype=float32)}\n",
      "\n"
     ]
    },
    {
     "data": {
      "text/html": [
       "<pre style=\"white-space:pre;overflow-x:auto;line-height:normal;font-family:Menlo,'DejaVu Sans Mono',consolas,'Courier New',monospace\">   ┏━━━━━━━━━━━━━━━┳━━━━┳━━━━━━━━━┳━━━━━━━━━━━━━━━━━━━━━━━━━━━━━━━━━━━━━━━━┓    \n",
       "   ┃<span style=\"font-weight: bold\"> 📥 Total: 17  </span>┃<span style=\"font-weight: bold\"> ID </span>┃<span style=\"font-weight: bold\"> Obj. 📉 </span>┃<span style=\"font-weight: bold\"> Configuration 🔖 - 06/12/2023 16:06:14 </span>┃    \n",
       "   ┡━━━━━━━━━━━━━━━╇━━━━╇━━━━━━━━━╇━━━━━━━━━━━━━━━━━━━━━━━━━━━━━━━━━━━━━━━━┩    \n",
       "   │<span style=\"color: #7f7f7f; text-decoration-color: #7f7f7f\"> Best Overall  </span>│ 15 │ -3.348  │ 'sigma_init': 0.053                    │    \n",
       "   │<span style=\"color: #7f7f7f; text-decoration-color: #7f7f7f\"> Best in Batch </span>│ 16 │ -61.162 │ 'sigma_init': 0.02                     │    \n",
       "   └───────────────┴────┴─────────┴────────────────────────────────────────┘    \n",
       "</pre>\n"
      ],
      "text/plain": [
       "   ┏━━━━━━━━━━━━━━━┳━━━━┳━━━━━━━━━┳━━━━━━━━━━━━━━━━━━━━━━━━━━━━━━━━━━━━━━━━┓    \n",
       "   ┃\u001b[1m \u001b[0m\u001b[1m📥 Total: 17 \u001b[0m\u001b[1m \u001b[0m┃\u001b[1m \u001b[0m\u001b[1mID\u001b[0m\u001b[1m \u001b[0m┃\u001b[1m \u001b[0m\u001b[1mObj. 📉\u001b[0m\u001b[1m \u001b[0m┃\u001b[1m \u001b[0m\u001b[1mConfiguration 🔖 - 06/12/2023 16:06:14\u001b[0m\u001b[1m \u001b[0m┃    \n",
       "   ┡━━━━━━━━━━━━━━━╇━━━━╇━━━━━━━━━╇━━━━━━━━━━━━━━━━━━━━━━━━━━━━━━━━━━━━━━━━┩    \n",
       "   │\u001b[2m \u001b[0m\u001b[2mBest Overall \u001b[0m\u001b[2m \u001b[0m│ 15 │ -3.348  │ 'sigma_init': 0.053                    │    \n",
       "   │\u001b[2m \u001b[0m\u001b[2mBest in Batch\u001b[0m\u001b[2m \u001b[0m│ 16 │ -61.162 │ 'sigma_init': 0.02                     │    \n",
       "   └───────────────┴────┴─────────┴────────────────────────────────────────┘    \n"
      ]
     },
     "metadata": {},
     "output_type": "display_data"
    },
    {
     "name": "stdout",
     "output_type": "stream",
     "text": [
      "bbob: START EVOLVING 2 PARAMETERS.\n",
      "{'num_gens': 50, 'iter_id': 17} {'Sphere_mean': DeviceArray(0.00036388, dtype=float32), 'RosenbrockRotated_mean': DeviceArray(0.39419457, dtype=float32), 'Discus_mean': DeviceArray(655.4555, dtype=float32), 'RastriginRotated_mean': DeviceArray(22.626959, dtype=float32), 'Schwefel_mean': DeviceArray(3.2128627, dtype=float32), 'BuecheRastrigin_mean': DeviceArray(1.8703705, dtype=float32), 'AttractiveSector_mean': DeviceArray(0.14641272, dtype=float32), 'Weierstrass_mean': DeviceArray(1.7326548, dtype=float32), 'SchaffersF7_mean': DeviceArray(0.17193304, dtype=float32), 'GriewankRosenbrock_mean': DeviceArray(9.294263, dtype=float32), 'EllipsoidalOriginal_mean': DeviceArray(33.394794, dtype=float32), 'RastriginOriginal_mean': DeviceArray(12.359451, dtype=float32), 'LinearSlope_mean': DeviceArray(-68.819084, dtype=float32), 'StepEllipsoidal_mean': DeviceArray(1.179633, dtype=float32), 'RosenbrockOriginal_mean': DeviceArray(0.55272055, dtype=float32), 'EllipsoidalRotated_mean': DeviceArray(196.2682, dtype=float32), 'BentCigar_mean': DeviceArray(43.641193, dtype=float32), 'SharpRidge_mean': DeviceArray(3.8654506, dtype=float32), 'DifferentPowers_mean': DeviceArray(0.01191436, dtype=float32), 'SchaffersF7IllConditioned_mean': DeviceArray(2.5207703, dtype=float32), 'Lunacek_mean': DeviceArray(15.447551, dtype=float32), 'Gallagher101Me_mean': DeviceArray(1.1413472, dtype=float32), 'Gallagher21Hi_mean': DeviceArray(1.7902806, dtype=float32), 'Sphere_best': DeviceArray(9.218068e-05, dtype=float32), 'RosenbrockRotated_best': DeviceArray(0.09372312, dtype=float32), 'Discus_best': DeviceArray(1.008909, dtype=float32), 'RastriginRotated_best': DeviceArray(1.1134237, dtype=float32), 'Schwefel_best': DeviceArray(0.6578626, dtype=float32), 'BuecheRastrigin_best': DeviceArray(-18.421713, dtype=float32), 'AttractiveSector_best': DeviceArray(0.00650425, dtype=float32), 'Weierstrass_best': DeviceArray(0.083678, dtype=float32), 'SchaffersF7_best': DeviceArray(0.04492146, dtype=float32), 'GriewankRosenbrock_best': DeviceArray(0.00394211, dtype=float32), 'EllipsoidalOriginal_best': DeviceArray(0.5968039, dtype=float32), 'RastriginOriginal_best': DeviceArray(0.533946, dtype=float32), 'LinearSlope_best': DeviceArray(-72.178764, dtype=float32), 'StepEllipsoidal_best': DeviceArray(0.8768965, dtype=float32), 'RosenbrockOriginal_best': DeviceArray(0.06191621, dtype=float32), 'EllipsoidalRotated_best': DeviceArray(0.76066846, dtype=float32), 'BentCigar_best': DeviceArray(0.17731072, dtype=float32), 'SharpRidge_best': DeviceArray(0.36280495, dtype=float32), 'DifferentPowers_best': DeviceArray(0.00154727, dtype=float32), 'SchaffersF7IllConditioned_best': DeviceArray(0.3316284, dtype=float32), 'Lunacek_best': DeviceArray(1.7623364, dtype=float32), 'Gallagher101Me_best': DeviceArray(0.01820487, dtype=float32), 'Gallagher21Hi_best': DeviceArray(0.10306855, dtype=float32)}\n",
      "\n"
     ]
    },
    {
     "data": {
      "text/html": [
       "<pre style=\"white-space:pre;overflow-x:auto;line-height:normal;font-family:Menlo,'DejaVu Sans Mono',consolas,'Courier New',monospace\">   ┏━━━━━━━━━━━━━━━┳━━━━┳━━━━━━━━━┳━━━━━━━━━━━━━━━━━━━━━━━━━━━━━━━━━━━━━━━━┓    \n",
       "   ┃<span style=\"font-weight: bold\"> 📥 Total: 18  </span>┃<span style=\"font-weight: bold\"> ID </span>┃<span style=\"font-weight: bold\"> Obj. 📉 </span>┃<span style=\"font-weight: bold\"> Configuration 🔖 - 06/12/2023 16:06:42 </span>┃    \n",
       "   ┡━━━━━━━━━━━━━━━╇━━━━╇━━━━━━━━━╇━━━━━━━━━━━━━━━━━━━━━━━━━━━━━━━━━━━━━━━━┩    \n",
       "   │<span style=\"color: #7f7f7f; text-decoration-color: #7f7f7f\"> Best Overall  </span>│ 15 │ -3.348  │ 'sigma_init': 0.053                    │    \n",
       "   │<span style=\"color: #7f7f7f; text-decoration-color: #7f7f7f\"> Best in Batch </span>│ 17 │ -40.794 │ 'sigma_init': 0.418                    │    \n",
       "   └───────────────┴────┴─────────┴────────────────────────────────────────┘    \n",
       "</pre>\n"
      ],
      "text/plain": [
       "   ┏━━━━━━━━━━━━━━━┳━━━━┳━━━━━━━━━┳━━━━━━━━━━━━━━━━━━━━━━━━━━━━━━━━━━━━━━━━┓    \n",
       "   ┃\u001b[1m \u001b[0m\u001b[1m📥 Total: 18 \u001b[0m\u001b[1m \u001b[0m┃\u001b[1m \u001b[0m\u001b[1mID\u001b[0m\u001b[1m \u001b[0m┃\u001b[1m \u001b[0m\u001b[1mObj. 📉\u001b[0m\u001b[1m \u001b[0m┃\u001b[1m \u001b[0m\u001b[1mConfiguration 🔖 - 06/12/2023 16:06:42\u001b[0m\u001b[1m \u001b[0m┃    \n",
       "   ┡━━━━━━━━━━━━━━━╇━━━━╇━━━━━━━━━╇━━━━━━━━━━━━━━━━━━━━━━━━━━━━━━━━━━━━━━━━┩    \n",
       "   │\u001b[2m \u001b[0m\u001b[2mBest Overall \u001b[0m\u001b[2m \u001b[0m│ 15 │ -3.348  │ 'sigma_init': 0.053                    │    \n",
       "   │\u001b[2m \u001b[0m\u001b[2mBest in Batch\u001b[0m\u001b[2m \u001b[0m│ 17 │ -40.794 │ 'sigma_init': 0.418                    │    \n",
       "   └───────────────┴────┴─────────┴────────────────────────────────────────┘    \n"
      ]
     },
     "metadata": {},
     "output_type": "display_data"
    },
    {
     "name": "stdout",
     "output_type": "stream",
     "text": [
      "bbob: START EVOLVING 2 PARAMETERS.\n",
      "{'num_gens': 50, 'iter_id': 18} {'Sphere_mean': DeviceArray(0.0003189, dtype=float32), 'RosenbrockRotated_mean': DeviceArray(0.334426, dtype=float32), 'Discus_mean': DeviceArray(525.035, dtype=float32), 'RastriginRotated_mean': DeviceArray(21.218313, dtype=float32), 'Schwefel_mean': DeviceArray(3.0170515, dtype=float32), 'BuecheRastrigin_mean': DeviceArray(5.6224475, dtype=float32), 'AttractiveSector_mean': DeviceArray(0.1123173, dtype=float32), 'Weierstrass_mean': DeviceArray(1.3902091, dtype=float32), 'SchaffersF7_mean': DeviceArray(0.2665368, dtype=float32), 'GriewankRosenbrock_mean': DeviceArray(8.112602, dtype=float32), 'EllipsoidalOriginal_mean': DeviceArray(17.933517, dtype=float32), 'RastriginOriginal_mean': DeviceArray(6.557978, dtype=float32), 'LinearSlope_mean': DeviceArray(-59.755238, dtype=float32), 'StepEllipsoidal_mean': DeviceArray(1.1796328, dtype=float32), 'RosenbrockOriginal_mean': DeviceArray(0.5474774, dtype=float32), 'EllipsoidalRotated_mean': DeviceArray(188.87881, dtype=float32), 'BentCigar_mean': DeviceArray(46.230076, dtype=float32), 'SharpRidge_mean': DeviceArray(3.8197143, dtype=float32), 'DifferentPowers_mean': DeviceArray(0.01406087, dtype=float32), 'SchaffersF7IllConditioned_mean': DeviceArray(2.451371, dtype=float32), 'Lunacek_mean': DeviceArray(27.245096, dtype=float32), 'Gallagher101Me_mean': DeviceArray(0.44548288, dtype=float32), 'Gallagher21Hi_mean': DeviceArray(1.4897895, dtype=float32), 'Sphere_best': DeviceArray(8.078544e-05, dtype=float32), 'RosenbrockRotated_best': DeviceArray(0.06023595, dtype=float32), 'Discus_best': DeviceArray(0.6904546, dtype=float32), 'RastriginRotated_best': DeviceArray(1.2580662, dtype=float32), 'Schwefel_best': DeviceArray(1.0776697, dtype=float32), 'BuecheRastrigin_best': DeviceArray(-19.560528, dtype=float32), 'AttractiveSector_best': DeviceArray(0.00526447, dtype=float32), 'Weierstrass_best': DeviceArray(0.00808522, dtype=float32), 'SchaffersF7_best': DeviceArray(0.03947261, dtype=float32), 'GriewankRosenbrock_best': DeviceArray(0.00934639, dtype=float32), 'EllipsoidalOriginal_best': DeviceArray(0.37035367, dtype=float32), 'RastriginOriginal_best': DeviceArray(0.6494813, dtype=float32), 'LinearSlope_best': DeviceArray(-62.900417, dtype=float32), 'StepEllipsoidal_best': DeviceArray(0.8768965, dtype=float32), 'RosenbrockOriginal_best': DeviceArray(0.03892727, dtype=float32), 'EllipsoidalRotated_best': DeviceArray(0.4539402, dtype=float32), 'BentCigar_best': DeviceArray(0.19721816, dtype=float32), 'SharpRidge_best': DeviceArray(0.21834941, dtype=float32), 'DifferentPowers_best': DeviceArray(0.00107672, dtype=float32), 'SchaffersF7IllConditioned_best': DeviceArray(0.3082518, dtype=float32), 'Lunacek_best': DeviceArray(2.0209215, dtype=float32), 'Gallagher101Me_best': DeviceArray(0.01316261, dtype=float32), 'Gallagher21Hi_best': DeviceArray(0.0703848, dtype=float32)}\n",
      "\n"
     ]
    },
    {
     "data": {
      "text/html": [
       "<pre style=\"white-space:pre;overflow-x:auto;line-height:normal;font-family:Menlo,'DejaVu Sans Mono',consolas,'Courier New',monospace\">   ┏━━━━━━━━━━━━━━━┳━━━━┳━━━━━━━━━┳━━━━━━━━━━━━━━━━━━━━━━━━━━━━━━━━━━━━━━━━┓    \n",
       "   ┃<span style=\"font-weight: bold\"> 📥 Total: 19  </span>┃<span style=\"font-weight: bold\"> ID </span>┃<span style=\"font-weight: bold\"> Obj. 📉 </span>┃<span style=\"font-weight: bold\"> Configuration 🔖 - 06/12/2023 16:07:11 </span>┃    \n",
       "   ┡━━━━━━━━━━━━━━━╇━━━━╇━━━━━━━━━╇━━━━━━━━━━━━━━━━━━━━━━━━━━━━━━━━━━━━━━━━┩    \n",
       "   │<span style=\"color: #7f7f7f; text-decoration-color: #7f7f7f\"> Best Overall  </span>│ 15 │ -3.348  │ 'sigma_init': 0.053                    │    \n",
       "   │<span style=\"color: #7f7f7f; text-decoration-color: #7f7f7f\"> Best in Batch </span>│ 18 │ -34.876 │ 'sigma_init': 0.391                    │    \n",
       "   └───────────────┴────┴─────────┴────────────────────────────────────────┘    \n",
       "</pre>\n"
      ],
      "text/plain": [
       "   ┏━━━━━━━━━━━━━━━┳━━━━┳━━━━━━━━━┳━━━━━━━━━━━━━━━━━━━━━━━━━━━━━━━━━━━━━━━━┓    \n",
       "   ┃\u001b[1m \u001b[0m\u001b[1m📥 Total: 19 \u001b[0m\u001b[1m \u001b[0m┃\u001b[1m \u001b[0m\u001b[1mID\u001b[0m\u001b[1m \u001b[0m┃\u001b[1m \u001b[0m\u001b[1mObj. 📉\u001b[0m\u001b[1m \u001b[0m┃\u001b[1m \u001b[0m\u001b[1mConfiguration 🔖 - 06/12/2023 16:07:11\u001b[0m\u001b[1m \u001b[0m┃    \n",
       "   ┡━━━━━━━━━━━━━━━╇━━━━╇━━━━━━━━━╇━━━━━━━━━━━━━━━━━━━━━━━━━━━━━━━━━━━━━━━━┩    \n",
       "   │\u001b[2m \u001b[0m\u001b[2mBest Overall \u001b[0m\u001b[2m \u001b[0m│ 15 │ -3.348  │ 'sigma_init': 0.053                    │    \n",
       "   │\u001b[2m \u001b[0m\u001b[2mBest in Batch\u001b[0m\u001b[2m \u001b[0m│ 18 │ -34.876 │ 'sigma_init': 0.391                    │    \n",
       "   └───────────────┴────┴─────────┴────────────────────────────────────────┘    \n"
      ]
     },
     "metadata": {},
     "output_type": "display_data"
    },
    {
     "name": "stdout",
     "output_type": "stream",
     "text": [
      "bbob: START EVOLVING 2 PARAMETERS.\n",
      "{'num_gens': 50, 'iter_id': 19} {'Sphere_mean': DeviceArray(0.00039648, dtype=float32), 'RosenbrockRotated_mean': DeviceArray(0.30356702, dtype=float32), 'Discus_mean': DeviceArray(742.6705, dtype=float32), 'RastriginRotated_mean': DeviceArray(18.594694, dtype=float32), 'Schwefel_mean': DeviceArray(2.7160552, dtype=float32), 'BuecheRastrigin_mean': DeviceArray(13.2978945, dtype=float32), 'AttractiveSector_mean': DeviceArray(0.1302587, dtype=float32), 'Weierstrass_mean': DeviceArray(0.82305014, dtype=float32), 'SchaffersF7_mean': DeviceArray(0.27327645, dtype=float32), 'GriewankRosenbrock_mean': DeviceArray(11.039811, dtype=float32), 'EllipsoidalOriginal_mean': DeviceArray(20.866276, dtype=float32), 'RastriginOriginal_mean': DeviceArray(19.612654, dtype=float32), 'LinearSlope_mean': DeviceArray(-75.041985, dtype=float32), 'StepEllipsoidal_mean': DeviceArray(1.4745407, dtype=float32), 'RosenbrockOriginal_mean': DeviceArray(0.5824335, dtype=float32), 'EllipsoidalRotated_mean': DeviceArray(149.48816, dtype=float32), 'BentCigar_mean': DeviceArray(46.504612, dtype=float32), 'SharpRidge_mean': DeviceArray(4.1088495, dtype=float32), 'DifferentPowers_mean': DeviceArray(0.01339663, dtype=float32), 'SchaffersF7IllConditioned_mean': DeviceArray(2.160618, dtype=float32), 'Lunacek_mean': DeviceArray(25.111326, dtype=float32), 'Gallagher101Me_mean': DeviceArray(1.1830281, dtype=float32), 'Gallagher21Hi_mean': DeviceArray(1.8093575, dtype=float32), 'Sphere_best': DeviceArray(0.00010044, dtype=float32), 'RosenbrockRotated_best': DeviceArray(0.05034152, dtype=float32), 'Discus_best': DeviceArray(1.1071118, dtype=float32), 'RastriginRotated_best': DeviceArray(0.3904366, dtype=float32), 'Schwefel_best': DeviceArray(0.44044948, dtype=float32), 'BuecheRastrigin_best': DeviceArray(-18.07348, dtype=float32), 'AttractiveSector_best': DeviceArray(0.00834912, dtype=float32), 'Weierstrass_best': DeviceArray(0.01651941, dtype=float32), 'SchaffersF7_best': DeviceArray(0.02671988, dtype=float32), 'GriewankRosenbrock_best': DeviceArray(0.00057621, dtype=float32), 'EllipsoidalOriginal_best': DeviceArray(0.90414804, dtype=float32), 'RastriginOriginal_best': DeviceArray(0.9420926, dtype=float32), 'LinearSlope_best': DeviceArray(-78.548935, dtype=float32), 'StepEllipsoidal_best': DeviceArray(1.0204366, dtype=float32), 'RosenbrockOriginal_best': DeviceArray(0.06754692, dtype=float32), 'EllipsoidalRotated_best': DeviceArray(0.6129123, dtype=float32), 'BentCigar_best': DeviceArray(0.1801276, dtype=float32), 'SharpRidge_best': DeviceArray(0.33564445, dtype=float32), 'DifferentPowers_best': DeviceArray(0.00109336, dtype=float32), 'SchaffersF7IllConditioned_best': DeviceArray(0.24293199, dtype=float32), 'Lunacek_best': DeviceArray(3.4291704, dtype=float32), 'Gallagher101Me_best': DeviceArray(0.02165358, dtype=float32), 'Gallagher21Hi_best': DeviceArray(0.07869769, dtype=float32)}\n",
      "\n"
     ]
    },
    {
     "data": {
      "text/html": [
       "<pre style=\"white-space:pre;overflow-x:auto;line-height:normal;font-family:Menlo,'DejaVu Sans Mono',consolas,'Courier New',monospace\">   ┏━━━━━━━━━━━━━━━┳━━━━┳━━━━━━━━━┳━━━━━━━━━━━━━━━━━━━━━━━━━━━━━━━━━━━━━━━━┓    \n",
       "   ┃<span style=\"font-weight: bold\"> 📥 Total: 20  </span>┃<span style=\"font-weight: bold\"> ID </span>┃<span style=\"font-weight: bold\"> Obj. 📉 </span>┃<span style=\"font-weight: bold\"> Configuration 🔖 - 06/12/2023 16:07:40 </span>┃    \n",
       "   ┡━━━━━━━━━━━━━━━╇━━━━╇━━━━━━━━━╇━━━━━━━━━━━━━━━━━━━━━━━━━━━━━━━━━━━━━━━━┩    \n",
       "   │<span style=\"color: #7f7f7f; text-decoration-color: #7f7f7f\"> Best Overall  </span>│ 15 │ -3.348  │ 'sigma_init': 0.053                    │    \n",
       "   │<span style=\"color: #7f7f7f; text-decoration-color: #7f7f7f\"> Best in Batch </span>│ 19 │ -42.944 │ 'sigma_init': 0.436                    │    \n",
       "   └───────────────┴────┴─────────┴────────────────────────────────────────┘    \n",
       "</pre>\n"
      ],
      "text/plain": [
       "   ┏━━━━━━━━━━━━━━━┳━━━━┳━━━━━━━━━┳━━━━━━━━━━━━━━━━━━━━━━━━━━━━━━━━━━━━━━━━┓    \n",
       "   ┃\u001b[1m \u001b[0m\u001b[1m📥 Total: 20 \u001b[0m\u001b[1m \u001b[0m┃\u001b[1m \u001b[0m\u001b[1mID\u001b[0m\u001b[1m \u001b[0m┃\u001b[1m \u001b[0m\u001b[1mObj. 📉\u001b[0m\u001b[1m \u001b[0m┃\u001b[1m \u001b[0m\u001b[1mConfiguration 🔖 - 06/12/2023 16:07:40\u001b[0m\u001b[1m \u001b[0m┃    \n",
       "   ┡━━━━━━━━━━━━━━━╇━━━━╇━━━━━━━━━╇━━━━━━━━━━━━━━━━━━━━━━━━━━━━━━━━━━━━━━━━┩    \n",
       "   │\u001b[2m \u001b[0m\u001b[2mBest Overall \u001b[0m\u001b[2m \u001b[0m│ 15 │ -3.348  │ 'sigma_init': 0.053                    │    \n",
       "   │\u001b[2m \u001b[0m\u001b[2mBest in Batch\u001b[0m\u001b[2m \u001b[0m│ 19 │ -42.944 │ 'sigma_init': 0.436                    │    \n",
       "   └───────────────┴────┴─────────┴────────────────────────────────────────┘    \n"
      ]
     },
     "metadata": {},
     "output_type": "display_data"
    },
    {
     "name": "stdout",
     "output_type": "stream",
     "text": [
      "bbob: START EVOLVING 2 PARAMETERS.\n",
      "{'num_gens': 50, 'iter_id': 20} {'Sphere_mean': DeviceArray(0.0004991, dtype=float32), 'RosenbrockRotated_mean': DeviceArray(0.32591417, dtype=float32), 'Discus_mean': DeviceArray(272.00946, dtype=float32), 'RastriginRotated_mean': DeviceArray(20.476255, dtype=float32), 'Schwefel_mean': DeviceArray(4.2130475, dtype=float32), 'BuecheRastrigin_mean': DeviceArray(14.984728, dtype=float32), 'AttractiveSector_mean': DeviceArray(0.1828114, dtype=float32), 'Weierstrass_mean': DeviceArray(2.4356568, dtype=float32), 'SchaffersF7_mean': DeviceArray(0.43644705, dtype=float32), 'GriewankRosenbrock_mean': DeviceArray(11.8167095, dtype=float32), 'EllipsoidalOriginal_mean': DeviceArray(20.818933, dtype=float32), 'RastriginOriginal_mean': DeviceArray(14.87535, dtype=float32), 'LinearSlope_mean': DeviceArray(-93.11643, dtype=float32), 'StepEllipsoidal_mean': DeviceArray(1.4745407, dtype=float32), 'RosenbrockOriginal_mean': DeviceArray(0.6077477, dtype=float32), 'EllipsoidalRotated_mean': DeviceArray(541.3132, dtype=float32), 'BentCigar_mean': DeviceArray(293.9797, dtype=float32), 'SharpRidge_mean': DeviceArray(4.136243, dtype=float32), 'DifferentPowers_mean': DeviceArray(0.00819296, dtype=float32), 'SchaffersF7IllConditioned_mean': DeviceArray(3.7777512, dtype=float32), 'Lunacek_mean': DeviceArray(23.112272, dtype=float32), 'Gallagher101Me_mean': DeviceArray(1.4250304, dtype=float32), 'Gallagher21Hi_mean': DeviceArray(2.693545, dtype=float32), 'Sphere_best': DeviceArray(0.00012643, dtype=float32), 'RosenbrockRotated_best': DeviceArray(0.06119803, dtype=float32), 'Discus_best': DeviceArray(0.84960747, dtype=float32), 'RastriginRotated_best': DeviceArray(0.66536236, dtype=float32), 'Schwefel_best': DeviceArray(0.8889743, dtype=float32), 'BuecheRastrigin_best': DeviceArray(-19.085539, dtype=float32), 'AttractiveSector_best': DeviceArray(0.0109683, dtype=float32), 'Weierstrass_best': DeviceArray(0.10902192, dtype=float32), 'SchaffersF7_best': DeviceArray(0.05549679, dtype=float32), 'GriewankRosenbrock_best': DeviceArray(0.00720768, dtype=float32), 'EllipsoidalOriginal_best': DeviceArray(1.2778047, dtype=float32), 'RastriginOriginal_best': DeviceArray(0.6711014, dtype=float32), 'LinearSlope_best': DeviceArray(-97.051125, dtype=float32), 'StepEllipsoidal_best': DeviceArray(1.0204366, dtype=float32), 'RosenbrockOriginal_best': DeviceArray(0.05835564, dtype=float32), 'EllipsoidalRotated_best': DeviceArray(0.30304006, dtype=float32), 'BentCigar_best': DeviceArray(0.18857837, dtype=float32), 'SharpRidge_best': DeviceArray(0.38442752, dtype=float32), 'DifferentPowers_best': DeviceArray(0.00062181, dtype=float32), 'SchaffersF7IllConditioned_best': DeviceArray(0.2471662, dtype=float32), 'Lunacek_best': DeviceArray(2.674723, dtype=float32), 'Gallagher101Me_best': DeviceArray(0.03213344, dtype=float32), 'Gallagher21Hi_best': DeviceArray(0.13452771, dtype=float32)}\n",
      "\n"
     ]
    },
    {
     "data": {
      "text/html": [
       "<pre style=\"white-space:pre;overflow-x:auto;line-height:normal;font-family:Menlo,'DejaVu Sans Mono',consolas,'Courier New',monospace\">   ┏━━━━━━━━━━━━━━━┳━━━━┳━━━━━━━━━┳━━━━━━━━━━━━━━━━━━━━━━━━━━━━━━━━━━━━━━━━┓    \n",
       "   ┃<span style=\"font-weight: bold\"> 📥 Total: 21  </span>┃<span style=\"font-weight: bold\"> ID </span>┃<span style=\"font-weight: bold\"> Obj. 📉 </span>┃<span style=\"font-weight: bold\"> Configuration 🔖 - 06/12/2023 16:08:09 </span>┃    \n",
       "   ┡━━━━━━━━━━━━━━━╇━━━━╇━━━━━━━━━╇━━━━━━━━━━━━━━━━━━━━━━━━━━━━━━━━━━━━━━━━┩    \n",
       "   │<span style=\"color: #7f7f7f; text-decoration-color: #7f7f7f\"> Best Overall  </span>│ 15 │ -3.348  │ 'sigma_init': 0.053                    │    \n",
       "   │<span style=\"color: #7f7f7f; text-decoration-color: #7f7f7f\"> Best in Batch </span>│ 20 │ -49.652 │ 'sigma_init': 0.49                     │    \n",
       "   └───────────────┴────┴─────────┴────────────────────────────────────────┘    \n",
       "</pre>\n"
      ],
      "text/plain": [
       "   ┏━━━━━━━━━━━━━━━┳━━━━┳━━━━━━━━━┳━━━━━━━━━━━━━━━━━━━━━━━━━━━━━━━━━━━━━━━━┓    \n",
       "   ┃\u001b[1m \u001b[0m\u001b[1m📥 Total: 21 \u001b[0m\u001b[1m \u001b[0m┃\u001b[1m \u001b[0m\u001b[1mID\u001b[0m\u001b[1m \u001b[0m┃\u001b[1m \u001b[0m\u001b[1mObj. 📉\u001b[0m\u001b[1m \u001b[0m┃\u001b[1m \u001b[0m\u001b[1mConfiguration 🔖 - 06/12/2023 16:08:09\u001b[0m\u001b[1m \u001b[0m┃    \n",
       "   ┡━━━━━━━━━━━━━━━╇━━━━╇━━━━━━━━━╇━━━━━━━━━━━━━━━━━━━━━━━━━━━━━━━━━━━━━━━━┩    \n",
       "   │\u001b[2m \u001b[0m\u001b[2mBest Overall \u001b[0m\u001b[2m \u001b[0m│ 15 │ -3.348  │ 'sigma_init': 0.053                    │    \n",
       "   │\u001b[2m \u001b[0m\u001b[2mBest in Batch\u001b[0m\u001b[2m \u001b[0m│ 20 │ -49.652 │ 'sigma_init': 0.49                     │    \n",
       "   └───────────────┴────┴─────────┴────────────────────────────────────────┘    \n"
      ]
     },
     "metadata": {},
     "output_type": "display_data"
    },
    {
     "name": "stdout",
     "output_type": "stream",
     "text": [
      "bbob: START EVOLVING 2 PARAMETERS.\n",
      "{'num_gens': 50, 'iter_id': 21} {'Sphere_mean': DeviceArray(0.00033589, dtype=float32), 'RosenbrockRotated_mean': DeviceArray(0.3048198, dtype=float32), 'Discus_mean': DeviceArray(555.17255, dtype=float32), 'RastriginRotated_mean': DeviceArray(10.936783, dtype=float32), 'Schwefel_mean': DeviceArray(2.8955247, dtype=float32), 'BuecheRastrigin_mean': DeviceArray(-17.484314, dtype=float32), 'AttractiveSector_mean': DeviceArray(0.09967501, dtype=float32), 'Weierstrass_mean': DeviceArray(0.6619591, dtype=float32), 'SchaffersF7_mean': DeviceArray(0.29490075, dtype=float32), 'GriewankRosenbrock_mean': DeviceArray(11.937079, dtype=float32), 'EllipsoidalOriginal_mean': DeviceArray(29.88268, dtype=float32), 'RastriginOriginal_mean': DeviceArray(12.223853, dtype=float32), 'LinearSlope_mean': DeviceArray(-63.250404, dtype=float32), 'StepEllipsoidal_mean': DeviceArray(1.753793, dtype=float32), 'RosenbrockOriginal_mean': DeviceArray(0.51792043, dtype=float32), 'EllipsoidalRotated_mean': DeviceArray(246.96939, dtype=float32), 'BentCigar_mean': DeviceArray(39.86767, dtype=float32), 'SharpRidge_mean': DeviceArray(3.6482732, dtype=float32), 'DifferentPowers_mean': DeviceArray(0.01161088, dtype=float32), 'SchaffersF7IllConditioned_mean': DeviceArray(2.3489666, dtype=float32), 'Lunacek_mean': DeviceArray(18.968082, dtype=float32), 'Gallagher101Me_mean': DeviceArray(0.4178815, dtype=float32), 'Gallagher21Hi_mean': DeviceArray(1.9588311, dtype=float32), 'Sphere_best': DeviceArray(8.509048e-05, dtype=float32), 'RosenbrockRotated_best': DeviceArray(0.10248961, dtype=float32), 'Discus_best': DeviceArray(0.83377784, dtype=float32), 'RastriginRotated_best': DeviceArray(0.72745734, dtype=float32), 'Schwefel_best': DeviceArray(1.1495703, dtype=float32), 'BuecheRastrigin_best': DeviceArray(-19.389944, dtype=float32), 'AttractiveSector_best': DeviceArray(0.00505442, dtype=float32), 'Weierstrass_best': DeviceArray(0.01830693, dtype=float32), 'SchaffersF7_best': DeviceArray(0.03293581, dtype=float32), 'GriewankRosenbrock_best': DeviceArray(0.00399055, dtype=float32), 'EllipsoidalOriginal_best': DeviceArray(0.5500012, dtype=float32), 'RastriginOriginal_best': DeviceArray(1.187916, dtype=float32), 'LinearSlope_best': DeviceArray(-66.478294, dtype=float32), 'StepEllipsoidal_best': DeviceArray(1.0282645, dtype=float32), 'RosenbrockOriginal_best': DeviceArray(0.04438725, dtype=float32), 'EllipsoidalRotated_best': DeviceArray(0.48439556, dtype=float32), 'BentCigar_best': DeviceArray(0.16904405, dtype=float32), 'SharpRidge_best': DeviceArray(0.38061848, dtype=float32), 'DifferentPowers_best': DeviceArray(0.00091819, dtype=float32), 'SchaffersF7IllConditioned_best': DeviceArray(0.1927848, dtype=float32), 'Lunacek_best': DeviceArray(1.9410743, dtype=float32), 'Gallagher101Me_best': DeviceArray(0.01484084, dtype=float32), 'Gallagher21Hi_best': DeviceArray(0.08113132, dtype=float32)}\n",
      "\n"
     ]
    },
    {
     "data": {
      "text/html": [
       "<pre style=\"white-space:pre;overflow-x:auto;line-height:normal;font-family:Menlo,'DejaVu Sans Mono',consolas,'Courier New',monospace\">   ┏━━━━━━━━━━━━━━━┳━━━━┳━━━━━━━━━┳━━━━━━━━━━━━━━━━━━━━━━━━━━━━━━━━━━━━━━━━┓    \n",
       "   ┃<span style=\"font-weight: bold\"> 📥 Total: 22  </span>┃<span style=\"font-weight: bold\"> ID </span>┃<span style=\"font-weight: bold\"> Obj. 📉 </span>┃<span style=\"font-weight: bold\"> Configuration 🔖 - 06/12/2023 16:08:38 </span>┃    \n",
       "   ┡━━━━━━━━━━━━━━━╇━━━━╇━━━━━━━━━╇━━━━━━━━━━━━━━━━━━━━━━━━━━━━━━━━━━━━━━━━┩    \n",
       "   │<span style=\"color: #7f7f7f; text-decoration-color: #7f7f7f\"> Best Overall  </span>│ 15 │ -3.348  │ 'sigma_init': 0.053                    │    \n",
       "   │<span style=\"color: #7f7f7f; text-decoration-color: #7f7f7f\"> Best in Batch </span>│ 21 │ -37.397 │ 'sigma_init': 0.402                    │    \n",
       "   └───────────────┴────┴─────────┴────────────────────────────────────────┘    \n",
       "</pre>\n"
      ],
      "text/plain": [
       "   ┏━━━━━━━━━━━━━━━┳━━━━┳━━━━━━━━━┳━━━━━━━━━━━━━━━━━━━━━━━━━━━━━━━━━━━━━━━━┓    \n",
       "   ┃\u001b[1m \u001b[0m\u001b[1m📥 Total: 22 \u001b[0m\u001b[1m \u001b[0m┃\u001b[1m \u001b[0m\u001b[1mID\u001b[0m\u001b[1m \u001b[0m┃\u001b[1m \u001b[0m\u001b[1mObj. 📉\u001b[0m\u001b[1m \u001b[0m┃\u001b[1m \u001b[0m\u001b[1mConfiguration 🔖 - 06/12/2023 16:08:38\u001b[0m\u001b[1m \u001b[0m┃    \n",
       "   ┡━━━━━━━━━━━━━━━╇━━━━╇━━━━━━━━━╇━━━━━━━━━━━━━━━━━━━━━━━━━━━━━━━━━━━━━━━━┩    \n",
       "   │\u001b[2m \u001b[0m\u001b[2mBest Overall \u001b[0m\u001b[2m \u001b[0m│ 15 │ -3.348  │ 'sigma_init': 0.053                    │    \n",
       "   │\u001b[2m \u001b[0m\u001b[2mBest in Batch\u001b[0m\u001b[2m \u001b[0m│ 21 │ -37.397 │ 'sigma_init': 0.402                    │    \n",
       "   └───────────────┴────┴─────────┴────────────────────────────────────────┘    \n"
      ]
     },
     "metadata": {},
     "output_type": "display_data"
    },
    {
     "name": "stdout",
     "output_type": "stream",
     "text": [
      "bbob: START EVOLVING 2 PARAMETERS.\n",
      "{'num_gens': 50, 'iter_id': 22} {'Sphere_mean': DeviceArray(0.00011612, dtype=float32), 'RosenbrockRotated_mean': DeviceArray(0.24740782, dtype=float32), 'Discus_mean': DeviceArray(209.8657, dtype=float32), 'RastriginRotated_mean': DeviceArray(4.7576303, dtype=float32), 'Schwefel_mean': DeviceArray(2.5088298, dtype=float32), 'BuecheRastrigin_mean': DeviceArray(-1.7935597, dtype=float32), 'AttractiveSector_mean': DeviceArray(0.05482295, dtype=float32), 'Weierstrass_mean': DeviceArray(0.40474102, dtype=float32), 'SchaffersF7_mean': DeviceArray(0.09557692, dtype=float32), 'GriewankRosenbrock_mean': DeviceArray(3.2379158, dtype=float32), 'EllipsoidalOriginal_mean': DeviceArray(8.829578, dtype=float32), 'RastriginOriginal_mean': DeviceArray(3.1829102, dtype=float32), 'LinearSlope_mean': DeviceArray(-7.0532455, dtype=float32), 'StepEllipsoidal_mean': DeviceArray(1.8425286, dtype=float32), 'RosenbrockOriginal_mean': DeviceArray(0.1388298, dtype=float32), 'EllipsoidalRotated_mean': DeviceArray(86.24582, dtype=float32), 'BentCigar_mean': DeviceArray(43.324352, dtype=float32), 'SharpRidge_mean': DeviceArray(1.9893717, dtype=float32), 'DifferentPowers_mean': DeviceArray(0.00752082, dtype=float32), 'SchaffersF7IllConditioned_mean': DeviceArray(3.195896, dtype=float32), 'Lunacek_mean': DeviceArray(27.896383, dtype=float32), 'Gallagher101Me_mean': DeviceArray(0.00069443, dtype=float32), 'Gallagher21Hi_mean': DeviceArray(0.00568599, dtype=float32), 'Sphere_best': DeviceArray(2.9417331e-05, dtype=float32), 'RosenbrockRotated_best': DeviceArray(0.09543431, dtype=float32), 'Discus_best': DeviceArray(0.52192175, dtype=float32), 'RastriginRotated_best': DeviceArray(0.3986245, dtype=float32), 'Schwefel_best': DeviceArray(1.7039835, dtype=float32), 'BuecheRastrigin_best': DeviceArray(-19.4642, dtype=float32), 'AttractiveSector_best': DeviceArray(0.0026215, dtype=float32), 'Weierstrass_best': DeviceArray(0.01399928, dtype=float32), 'SchaffersF7_best': DeviceArray(0.01740455, dtype=float32), 'GriewankRosenbrock_best': DeviceArray(8.811951e-05, dtype=float32), 'EllipsoidalOriginal_best': DeviceArray(0.10003521, dtype=float32), 'RastriginOriginal_best': DeviceArray(0.39546886, dtype=float32), 'LinearSlope_best': DeviceArray(-8.951172, dtype=float32), 'StepEllipsoidal_best': DeviceArray(0.28708062, dtype=float32), 'RosenbrockOriginal_best': DeviceArray(0.00586947, dtype=float32), 'EllipsoidalRotated_best': DeviceArray(0.20455666, dtype=float32), 'BentCigar_best': DeviceArray(0.11089784, dtype=float32), 'SharpRidge_best': DeviceArray(0.22510664, dtype=float32), 'DifferentPowers_best': DeviceArray(0.00044833, dtype=float32), 'SchaffersF7IllConditioned_best': DeviceArray(0.13025598, dtype=float32), 'Lunacek_best': DeviceArray(4.264544, dtype=float32), 'Gallagher101Me_best': DeviceArray(1.5072202e-07, dtype=float32), 'Gallagher21Hi_best': DeviceArray(3.6873607e-06, dtype=float32)}\n",
      "\n"
     ]
    },
    {
     "data": {
      "text/html": [
       "<pre style=\"white-space:pre;overflow-x:auto;line-height:normal;font-family:Menlo,'DejaVu Sans Mono',consolas,'Courier New',monospace\">   ┏━━━━━━━━━━━━━━━┳━━━━┳━━━━━━━━━┳━━━━━━━━━━━━━━━━━━━━━━━━━━━━━━━━━━━━━━━━┓    \n",
       "   ┃<span style=\"font-weight: bold\"> 📥 Total: 23  </span>┃<span style=\"font-weight: bold\"> ID </span>┃<span style=\"font-weight: bold\"> Obj. 📉 </span>┃<span style=\"font-weight: bold\"> Configuration 🔖 - 06/12/2023 16:09:07 </span>┃    \n",
       "   ┡━━━━━━━━━━━━━━━╇━━━━╇━━━━━━━━━╇━━━━━━━━━━━━━━━━━━━━━━━━━━━━━━━━━━━━━━━━┩    \n",
       "   │<span style=\"color: #7f7f7f; text-decoration-color: #7f7f7f\"> Best Overall  </span>│ 15 │ -3.348  │ 'sigma_init': 0.053                    │    \n",
       "   │<span style=\"color: #7f7f7f; text-decoration-color: #7f7f7f\"> Best in Batch </span>│ 22 │ -16.912 │ 'sigma_init': 0.236                    │    \n",
       "   └───────────────┴────┴─────────┴────────────────────────────────────────┘    \n",
       "</pre>\n"
      ],
      "text/plain": [
       "   ┏━━━━━━━━━━━━━━━┳━━━━┳━━━━━━━━━┳━━━━━━━━━━━━━━━━━━━━━━━━━━━━━━━━━━━━━━━━┓    \n",
       "   ┃\u001b[1m \u001b[0m\u001b[1m📥 Total: 23 \u001b[0m\u001b[1m \u001b[0m┃\u001b[1m \u001b[0m\u001b[1mID\u001b[0m\u001b[1m \u001b[0m┃\u001b[1m \u001b[0m\u001b[1mObj. 📉\u001b[0m\u001b[1m \u001b[0m┃\u001b[1m \u001b[0m\u001b[1mConfiguration 🔖 - 06/12/2023 16:09:07\u001b[0m\u001b[1m \u001b[0m┃    \n",
       "   ┡━━━━━━━━━━━━━━━╇━━━━╇━━━━━━━━━╇━━━━━━━━━━━━━━━━━━━━━━━━━━━━━━━━━━━━━━━━┩    \n",
       "   │\u001b[2m \u001b[0m\u001b[2mBest Overall \u001b[0m\u001b[2m \u001b[0m│ 15 │ -3.348  │ 'sigma_init': 0.053                    │    \n",
       "   │\u001b[2m \u001b[0m\u001b[2mBest in Batch\u001b[0m\u001b[2m \u001b[0m│ 22 │ -16.912 │ 'sigma_init': 0.236                    │    \n",
       "   └───────────────┴────┴─────────┴────────────────────────────────────────┘    \n"
      ]
     },
     "metadata": {},
     "output_type": "display_data"
    },
    {
     "name": "stdout",
     "output_type": "stream",
     "text": [
      "bbob: START EVOLVING 2 PARAMETERS.\n",
      "{'num_gens': 50, 'iter_id': 23} {'Sphere_mean': DeviceArray(0.0003208, dtype=float32), 'RosenbrockRotated_mean': DeviceArray(0.32666093, dtype=float32), 'Discus_mean': DeviceArray(527.8032, dtype=float32), 'RastriginRotated_mean': DeviceArray(15.730403, dtype=float32), 'Schwefel_mean': DeviceArray(2.7901154, dtype=float32), 'BuecheRastrigin_mean': DeviceArray(6.9719024, dtype=float32), 'AttractiveSector_mean': DeviceArray(0.11276738, dtype=float32), 'Weierstrass_mean': DeviceArray(1.5152205, dtype=float32), 'SchaffersF7_mean': DeviceArray(0.2104713, dtype=float32), 'GriewankRosenbrock_mean': DeviceArray(11.439902, dtype=float32), 'EllipsoidalOriginal_mean': DeviceArray(18.039057, dtype=float32), 'RastriginOriginal_mean': DeviceArray(7.022859, dtype=float32), 'LinearSlope_mean': DeviceArray(-60.15008, dtype=float32), 'StepEllipsoidal_mean': DeviceArray(1.3231727, dtype=float32), 'RosenbrockOriginal_mean': DeviceArray(0.539241, dtype=float32), 'EllipsoidalRotated_mean': DeviceArray(190.0192, dtype=float32), 'BentCigar_mean': DeviceArray(46.471096, dtype=float32), 'SharpRidge_mean': DeviceArray(3.8344307, dtype=float32), 'DifferentPowers_mean': DeviceArray(0.01412099, dtype=float32), 'SchaffersF7IllConditioned_mean': DeviceArray(2.8544292, dtype=float32), 'Lunacek_mean': DeviceArray(20.044336, dtype=float32), 'Gallagher101Me_mean': DeviceArray(0.40800652, dtype=float32), 'Gallagher21Hi_mean': DeviceArray(2.035177, dtype=float32), 'Sphere_best': DeviceArray(8.1266204e-05, dtype=float32), 'RosenbrockRotated_best': DeviceArray(0.05945645, dtype=float32), 'Discus_best': DeviceArray(0.6932344, dtype=float32), 'RastriginRotated_best': DeviceArray(0.827321, dtype=float32), 'Schwefel_best': DeviceArray(0.8589409, dtype=float32), 'BuecheRastrigin_best': DeviceArray(-18.800138, dtype=float32), 'AttractiveSector_best': DeviceArray(0.0098316, dtype=float32), 'Weierstrass_best': DeviceArray(0.03578078, dtype=float32), 'SchaffersF7_best': DeviceArray(0.04341016, dtype=float32), 'GriewankRosenbrock_best': DeviceArray(0.00127411, dtype=float32), 'EllipsoidalOriginal_best': DeviceArray(0.37237135, dtype=float32), 'RastriginOriginal_best': DeviceArray(0.47397208, dtype=float32), 'LinearSlope_best': DeviceArray(-63.304592, dtype=float32), 'StepEllipsoidal_best': DeviceArray(0.8768965, dtype=float32), 'RosenbrockOriginal_best': DeviceArray(0.03938634, dtype=float32), 'EllipsoidalRotated_best': DeviceArray(0.4556788, dtype=float32), 'BentCigar_best': DeviceArray(0.19836621, dtype=float32), 'SharpRidge_best': DeviceArray(0.21949647, dtype=float32), 'DifferentPowers_best': DeviceArray(0.00108038, dtype=float32), 'SchaffersF7IllConditioned_best': DeviceArray(0.20973645, dtype=float32), 'Lunacek_best': DeviceArray(1.9441742, dtype=float32), 'Gallagher101Me_best': DeviceArray(0.01334114, dtype=float32), 'Gallagher21Hi_best': DeviceArray(0.07140534, dtype=float32)}\n",
      "\n"
     ]
    },
    {
     "data": {
      "text/html": [
       "<pre style=\"white-space:pre;overflow-x:auto;line-height:normal;font-family:Menlo,'DejaVu Sans Mono',consolas,'Courier New',monospace\">   ┏━━━━━━━━━━━━━━━┳━━━━┳━━━━━━━━━┳━━━━━━━━━━━━━━━━━━━━━━━━━━━━━━━━━━━━━━━━┓    \n",
       "   ┃<span style=\"font-weight: bold\"> 📥 Total: 24  </span>┃<span style=\"font-weight: bold\"> ID </span>┃<span style=\"font-weight: bold\"> Obj. 📉 </span>┃<span style=\"font-weight: bold\"> Configuration 🔖 - 06/12/2023 16:09:37 </span>┃    \n",
       "   ┡━━━━━━━━━━━━━━━╇━━━━╇━━━━━━━━━╇━━━━━━━━━━━━━━━━━━━━━━━━━━━━━━━━━━━━━━━━┩    \n",
       "   │<span style=\"color: #7f7f7f; text-decoration-color: #7f7f7f\"> Best Overall  </span>│ 15 │ -3.348  │ 'sigma_init': 0.053                    │    \n",
       "   │<span style=\"color: #7f7f7f; text-decoration-color: #7f7f7f\"> Best in Batch </span>│ 23 │ -34.755 │ 'sigma_init': 0.392                    │    \n",
       "   └───────────────┴────┴─────────┴────────────────────────────────────────┘    \n",
       "</pre>\n"
      ],
      "text/plain": [
       "   ┏━━━━━━━━━━━━━━━┳━━━━┳━━━━━━━━━┳━━━━━━━━━━━━━━━━━━━━━━━━━━━━━━━━━━━━━━━━┓    \n",
       "   ┃\u001b[1m \u001b[0m\u001b[1m📥 Total: 24 \u001b[0m\u001b[1m \u001b[0m┃\u001b[1m \u001b[0m\u001b[1mID\u001b[0m\u001b[1m \u001b[0m┃\u001b[1m \u001b[0m\u001b[1mObj. 📉\u001b[0m\u001b[1m \u001b[0m┃\u001b[1m \u001b[0m\u001b[1mConfiguration 🔖 - 06/12/2023 16:09:37\u001b[0m\u001b[1m \u001b[0m┃    \n",
       "   ┡━━━━━━━━━━━━━━━╇━━━━╇━━━━━━━━━╇━━━━━━━━━━━━━━━━━━━━━━━━━━━━━━━━━━━━━━━━┩    \n",
       "   │\u001b[2m \u001b[0m\u001b[2mBest Overall \u001b[0m\u001b[2m \u001b[0m│ 15 │ -3.348  │ 'sigma_init': 0.053                    │    \n",
       "   │\u001b[2m \u001b[0m\u001b[2mBest in Batch\u001b[0m\u001b[2m \u001b[0m│ 23 │ -34.755 │ 'sigma_init': 0.392                    │    \n",
       "   └───────────────┴────┴─────────┴────────────────────────────────────────┘    \n"
      ]
     },
     "metadata": {},
     "output_type": "display_data"
    },
    {
     "name": "stdout",
     "output_type": "stream",
     "text": [
      "bbob: START EVOLVING 2 PARAMETERS.\n",
      "{'num_gens': 50, 'iter_id': 24} {'Sphere_mean': DeviceArray(9.617873e-06, dtype=float32), 'RosenbrockRotated_mean': DeviceArray(0.10784122, dtype=float32), 'Discus_mean': DeviceArray(16.580944, dtype=float32), 'RastriginRotated_mean': DeviceArray(0.03159101, dtype=float32), 'Schwefel_mean': DeviceArray(3.0000577, dtype=float32), 'BuecheRastrigin_mean': DeviceArray(-19.911734, dtype=float32), 'AttractiveSector_mean': DeviceArray(0.09178883, dtype=float32), 'Weierstrass_mean': DeviceArray(0.01747667, dtype=float32), 'SchaffersF7_mean': DeviceArray(0.03511859, dtype=float32), 'GriewankRosenbrock_mean': DeviceArray(0.00163498, dtype=float32), 'EllipsoidalOriginal_mean': DeviceArray(0.7098524, dtype=float32), 'RastriginOriginal_mean': DeviceArray(0.00508152, dtype=float32), 'LinearSlope_mean': DeviceArray(50.063526, dtype=float32), 'StepEllipsoidal_mean': DeviceArray(0.29490888, dtype=float32), 'RosenbrockOriginal_mean': DeviceArray(0.00846883, dtype=float32), 'EllipsoidalRotated_mean': DeviceArray(9.80823, dtype=float32), 'BentCigar_mean': DeviceArray(1.8123649, dtype=float32), 'SharpRidge_mean': DeviceArray(0.5702122, dtype=float32), 'DifferentPowers_mean': DeviceArray(0.00172777, dtype=float32), 'SchaffersF7IllConditioned_mean': DeviceArray(0.31613573, dtype=float32), 'Lunacek_mean': DeviceArray(17.07781, dtype=float32), 'Gallagher101Me_mean': DeviceArray(4.669729e-06, dtype=float32), 'Gallagher21Hi_mean': DeviceArray(4.1266365e-05, dtype=float32), 'Sphere_best': DeviceArray(2.436454e-06, dtype=float32), 'RosenbrockRotated_best': DeviceArray(0.06700839, dtype=float32), 'Discus_best': DeviceArray(0.03147092, dtype=float32), 'RastriginRotated_best': DeviceArray(0.00255993, dtype=float32), 'Schwefel_best': DeviceArray(2.7211788, dtype=float32), 'BuecheRastrigin_best': DeviceArray(-19.997377, dtype=float32), 'AttractiveSector_best': DeviceArray(0.07004122, dtype=float32), 'Weierstrass_best': DeviceArray(0.00171712, dtype=float32), 'SchaffersF7_best': DeviceArray(0.00316232, dtype=float32), 'GriewankRosenbrock_best': DeviceArray(2.861023e-06, dtype=float32), 'EllipsoidalOriginal_best': DeviceArray(0.02481788, dtype=float32), 'RastriginOriginal_best': DeviceArray(0.00180822, dtype=float32), 'LinearSlope_best': DeviceArray(49.517315, dtype=float32), 'StepEllipsoidal_best': DeviceArray(1.6391668e-07, dtype=float32), 'RosenbrockOriginal_best': DeviceArray(0.00095173, dtype=float32), 'EllipsoidalRotated_best': DeviceArray(0.02337345, dtype=float32), 'BentCigar_best': DeviceArray(0.01275148, dtype=float32), 'SharpRidge_best': DeviceArray(0.06346226, dtype=float32), 'DifferentPowers_best': DeviceArray(0.00025792, dtype=float32), 'SchaffersF7IllConditioned_best': DeviceArray(0.03297156, dtype=float32), 'Lunacek_best': DeviceArray(9.354766, dtype=float32), 'Gallagher101Me_best': DeviceArray(9.641491e-10, dtype=float32), 'Gallagher21Hi_best': DeviceArray(2.4446939e-08, dtype=float32)}\n",
      "\n"
     ]
    },
    {
     "data": {
      "text/html": [
       "<pre style=\"white-space:pre;overflow-x:auto;line-height:normal;font-family:Menlo,'DejaVu Sans Mono',consolas,'Courier New',monospace\">   ┏━━━━━━━━━━━━━━━┳━━━━┳━━━━━━━━━┳━━━━━━━━━━━━━━━━━━━━━━━━━━━━━━━━━━━━━━━━┓    \n",
       "   ┃<span style=\"font-weight: bold\"> 📥 Total: 25  </span>┃<span style=\"font-weight: bold\"> ID </span>┃<span style=\"font-weight: bold\"> Obj. 📉 </span>┃<span style=\"font-weight: bold\"> Configuration 🔖 - 06/12/2023 16:10:05 </span>┃    \n",
       "   ┡━━━━━━━━━━━━━━━╇━━━━╇━━━━━━━━━╇━━━━━━━━━━━━━━━━━━━━━━━━━━━━━━━━━━━━━━━━┩    \n",
       "   │<span style=\"color: #7f7f7f; text-decoration-color: #7f7f7f\"> Best Overall  </span>│ 15 │ -3.348  │ 'sigma_init': 0.053                    │    \n",
       "   │<span style=\"color: #7f7f7f; text-decoration-color: #7f7f7f\"> Best in Batch </span>│ 24 │ -3.505  │ 'sigma_init': 0.068                    │    \n",
       "   └───────────────┴────┴─────────┴────────────────────────────────────────┘    \n",
       "</pre>\n"
      ],
      "text/plain": [
       "   ┏━━━━━━━━━━━━━━━┳━━━━┳━━━━━━━━━┳━━━━━━━━━━━━━━━━━━━━━━━━━━━━━━━━━━━━━━━━┓    \n",
       "   ┃\u001b[1m \u001b[0m\u001b[1m📥 Total: 25 \u001b[0m\u001b[1m \u001b[0m┃\u001b[1m \u001b[0m\u001b[1mID\u001b[0m\u001b[1m \u001b[0m┃\u001b[1m \u001b[0m\u001b[1mObj. 📉\u001b[0m\u001b[1m \u001b[0m┃\u001b[1m \u001b[0m\u001b[1mConfiguration 🔖 - 06/12/2023 16:10:05\u001b[0m\u001b[1m \u001b[0m┃    \n",
       "   ┡━━━━━━━━━━━━━━━╇━━━━╇━━━━━━━━━╇━━━━━━━━━━━━━━━━━━━━━━━━━━━━━━━━━━━━━━━━┩    \n",
       "   │\u001b[2m \u001b[0m\u001b[2mBest Overall \u001b[0m\u001b[2m \u001b[0m│ 15 │ -3.348  │ 'sigma_init': 0.053                    │    \n",
       "   │\u001b[2m \u001b[0m\u001b[2mBest in Batch\u001b[0m\u001b[2m \u001b[0m│ 24 │ -3.505  │ 'sigma_init': 0.068                    │    \n",
       "   └───────────────┴────┴─────────┴────────────────────────────────────────┘    \n"
      ]
     },
     "metadata": {},
     "output_type": "display_data"
    },
    {
     "name": "stdout",
     "output_type": "stream",
     "text": [
      "bbob: START EVOLVING 2 PARAMETERS.\n",
      "{'num_gens': 50, 'iter_id': 25} {'Sphere_mean': DeviceArray(0.00021805, dtype=float32), 'RosenbrockRotated_mean': DeviceArray(0.35303703, dtype=float32), 'Discus_mean': DeviceArray(316.295, dtype=float32), 'RastriginRotated_mean': DeviceArray(9.409209, dtype=float32), 'Schwefel_mean': DeviceArray(3.2665925, dtype=float32), 'BuecheRastrigin_mean': DeviceArray(4.179046, dtype=float32), 'AttractiveSector_mean': DeviceArray(0.07766122, dtype=float32), 'Weierstrass_mean': DeviceArray(0.5508404, dtype=float32), 'SchaffersF7_mean': DeviceArray(0.10264589, dtype=float32), 'GriewankRosenbrock_mean': DeviceArray(8.087956, dtype=float32), 'EllipsoidalOriginal_mean': DeviceArray(21.01815, dtype=float32), 'RastriginOriginal_mean': DeviceArray(9.638148, dtype=float32), 'LinearSlope_mean': DeviceArray(-36.749825, dtype=float32), 'StepEllipsoidal_mean': DeviceArray(1.3231727, dtype=float32), 'RosenbrockOriginal_mean': DeviceArray(0.3483148, dtype=float32), 'EllipsoidalRotated_mean': DeviceArray(66.73969, dtype=float32), 'BentCigar_mean': DeviceArray(4.580234, dtype=float32), 'SharpRidge_mean': DeviceArray(2.6532917, dtype=float32), 'DifferentPowers_mean': DeviceArray(0.01048962, dtype=float32), 'SchaffersF7IllConditioned_mean': DeviceArray(2.7884166, dtype=float32), 'Lunacek_mean': DeviceArray(14.47393, dtype=float32), 'Gallagher101Me_mean': DeviceArray(0.00031387, dtype=float32), 'Gallagher21Hi_mean': DeviceArray(1.2993003, dtype=float32), 'Sphere_best': DeviceArray(5.5237393e-05, dtype=float32), 'RosenbrockRotated_best': DeviceArray(0.05538082, dtype=float32), 'Discus_best': DeviceArray(0.5106366, dtype=float32), 'RastriginRotated_best': DeviceArray(0.9998011, dtype=float32), 'Schwefel_best': DeviceArray(1.6875063, dtype=float32), 'BuecheRastrigin_best': DeviceArray(-19.157993, dtype=float32), 'AttractiveSector_best': DeviceArray(0.00446905, dtype=float32), 'Weierstrass_best': DeviceArray(0.0195601, dtype=float32), 'SchaffersF7_best': DeviceArray(0.03517975, dtype=float32), 'GriewankRosenbrock_best': DeviceArray(0.01875515, dtype=float32), 'EllipsoidalOriginal_best': DeviceArray(0.65765125, dtype=float32), 'RastriginOriginal_best': DeviceArray(0.3071195, dtype=float32), 'LinearSlope_best': DeviceArray(-39.350548, dtype=float32), 'StepEllipsoidal_best': DeviceArray(0.43062106, dtype=float32), 'RosenbrockOriginal_best': DeviceArray(0.01635844, dtype=float32), 'EllipsoidalRotated_best': DeviceArray(0.5865693, dtype=float32), 'BentCigar_best': DeviceArray(0.10394951, dtype=float32), 'SharpRidge_best': DeviceArray(0.292467, dtype=float32), 'DifferentPowers_best': DeviceArray(0.00054044, dtype=float32), 'SchaffersF7IllConditioned_best': DeviceArray(0.22139989, dtype=float32), 'Lunacek_best': DeviceArray(1.079611, dtype=float32), 'Gallagher101Me_best': DeviceArray(1.0517738e-06, dtype=float32), 'Gallagher21Hi_best': DeviceArray(0.00523923, dtype=float32)}\n",
      "\n"
     ]
    },
    {
     "data": {
      "text/html": [
       "<pre style=\"white-space:pre;overflow-x:auto;line-height:normal;font-family:Menlo,'DejaVu Sans Mono',consolas,'Courier New',monospace\">   ┏━━━━━━━━━━━━━━━┳━━━━┳━━━━━━━━━┳━━━━━━━━━━━━━━━━━━━━━━━━━━━━━━━━━━━━━━━━┓    \n",
       "   ┃<span style=\"font-weight: bold\"> 📥 Total: 26  </span>┃<span style=\"font-weight: bold\"> ID </span>┃<span style=\"font-weight: bold\"> Obj. 📉 </span>┃<span style=\"font-weight: bold\"> Configuration 🔖 - 06/12/2023 16:10:34 </span>┃    \n",
       "   ┡━━━━━━━━━━━━━━━╇━━━━╇━━━━━━━━━╇━━━━━━━━━━━━━━━━━━━━━━━━━━━━━━━━━━━━━━━━┩    \n",
       "   │<span style=\"color: #7f7f7f; text-decoration-color: #7f7f7f\"> Best Overall  </span>│ 15 │ -3.348  │ 'sigma_init': 0.053                    │    \n",
       "   │<span style=\"color: #7f7f7f; text-decoration-color: #7f7f7f\"> Best in Batch </span>│ 25 │ -18.715 │ 'sigma_init': 0.324                    │    \n",
       "   └───────────────┴────┴─────────┴────────────────────────────────────────┘    \n",
       "</pre>\n"
      ],
      "text/plain": [
       "   ┏━━━━━━━━━━━━━━━┳━━━━┳━━━━━━━━━┳━━━━━━━━━━━━━━━━━━━━━━━━━━━━━━━━━━━━━━━━┓    \n",
       "   ┃\u001b[1m \u001b[0m\u001b[1m📥 Total: 26 \u001b[0m\u001b[1m \u001b[0m┃\u001b[1m \u001b[0m\u001b[1mID\u001b[0m\u001b[1m \u001b[0m┃\u001b[1m \u001b[0m\u001b[1mObj. 📉\u001b[0m\u001b[1m \u001b[0m┃\u001b[1m \u001b[0m\u001b[1mConfiguration 🔖 - 06/12/2023 16:10:34\u001b[0m\u001b[1m \u001b[0m┃    \n",
       "   ┡━━━━━━━━━━━━━━━╇━━━━╇━━━━━━━━━╇━━━━━━━━━━━━━━━━━━━━━━━━━━━━━━━━━━━━━━━━┩    \n",
       "   │\u001b[2m \u001b[0m\u001b[2mBest Overall \u001b[0m\u001b[2m \u001b[0m│ 15 │ -3.348  │ 'sigma_init': 0.053                    │    \n",
       "   │\u001b[2m \u001b[0m\u001b[2mBest in Batch\u001b[0m\u001b[2m \u001b[0m│ 25 │ -18.715 │ 'sigma_init': 0.324                    │    \n",
       "   └───────────────┴────┴─────────┴────────────────────────────────────────┘    \n"
      ]
     },
     "metadata": {},
     "output_type": "display_data"
    },
    {
     "name": "stdout",
     "output_type": "stream",
     "text": [
      "bbob: START EVOLVING 2 PARAMETERS.\n",
      "{'num_gens': 50, 'iter_id': 26} {'Sphere_mean': DeviceArray(1.3410913e-05, dtype=float32), 'RosenbrockRotated_mean': DeviceArray(0.11113997, dtype=float32), 'Discus_mean': DeviceArray(13.767528, dtype=float32), 'RastriginRotated_mean': DeviceArray(0.05353105, dtype=float32), 'Schwefel_mean': DeviceArray(2.9195242, dtype=float32), 'BuecheRastrigin_mean': DeviceArray(-19.864449, dtype=float32), 'AttractiveSector_mean': DeviceArray(0.01496881, dtype=float32), 'Weierstrass_mean': DeviceArray(0.05166239, dtype=float32), 'SchaffersF7_mean': DeviceArray(0.06833667, dtype=float32), 'GriewankRosenbrock_mean': DeviceArray(0.01211624, dtype=float32), 'EllipsoidalOriginal_mean': DeviceArray(0.9505381, dtype=float32), 'RastriginOriginal_mean': DeviceArray(0.0084085, dtype=float32), 'LinearSlope_mean': DeviceArray(45.88986, dtype=float32), 'StepEllipsoidal_mean': DeviceArray(0.43844867, dtype=float32), 'RosenbrockOriginal_mean': DeviceArray(0.01041735, dtype=float32), 'EllipsoidalRotated_mean': DeviceArray(12.781061, dtype=float32), 'BentCigar_mean': DeviceArray(0.9597378, dtype=float32), 'SharpRidge_mean': DeviceArray(0.67471594, dtype=float32), 'DifferentPowers_mean': DeviceArray(0.00266281, dtype=float32), 'SchaffersF7IllConditioned_mean': DeviceArray(0.5643263, dtype=float32), 'Lunacek_mean': DeviceArray(21.836151, dtype=float32), 'Gallagher101Me_mean': DeviceArray(6.9778216e-06, dtype=float32), 'Gallagher21Hi_mean': DeviceArray(7.422359e-05, dtype=float32), 'Sphere_best': DeviceArray(3.3973197e-06, dtype=float32), 'RosenbrockRotated_best': DeviceArray(0.0695479, dtype=float32), 'Discus_best': DeviceArray(0.0368027, dtype=float32), 'RastriginRotated_best': DeviceArray(0.00578123, dtype=float32), 'Schwefel_best': DeviceArray(2.6679065, dtype=float32), 'BuecheRastrigin_best': DeviceArray(-19.994497, dtype=float32), 'AttractiveSector_best': DeviceArray(0.00088754, dtype=float32), 'Weierstrass_best': DeviceArray(0.00104853, dtype=float32), 'SchaffersF7_best': DeviceArray(0.00754253, dtype=float32), 'GriewankRosenbrock_best': DeviceArray(6.67572e-06, dtype=float32), 'EllipsoidalOriginal_best': DeviceArray(0.03365345, dtype=float32), 'RastriginOriginal_best': DeviceArray(0.00124534, dtype=float32), 'LinearSlope_best': DeviceArray(45.244873, dtype=float32), 'StepEllipsoidal_best': DeviceArray(1.116423e-06, dtype=float32), 'RosenbrockOriginal_best': DeviceArray(0.00162692, dtype=float32), 'EllipsoidalRotated_best': DeviceArray(0.04147242, dtype=float32), 'BentCigar_best': DeviceArray(0.01505437, dtype=float32), 'SharpRidge_best': DeviceArray(0.06833842, dtype=float32), 'DifferentPowers_best': DeviceArray(0.00033623, dtype=float32), 'SchaffersF7IllConditioned_best': DeviceArray(0.04644157, dtype=float32), 'Lunacek_best': DeviceArray(9.181659, dtype=float32), 'Gallagher101Me_best': DeviceArray(2.2967581e-09, dtype=float32), 'Gallagher21Hi_best': DeviceArray(4.745406e-08, dtype=float32)}\n",
      "\n"
     ]
    },
    {
     "data": {
      "text/html": [
       "<pre style=\"white-space:pre;overflow-x:auto;line-height:normal;font-family:Menlo,'DejaVu Sans Mono',consolas,'Courier New',monospace\">   ┏━━━━━━━━━━━━━━━┳━━━━┳━━━━━━━━━┳━━━━━━━━━━━━━━━━━━━━━━━━━━━━━━━━━━━━━━━━┓    \n",
       "   ┃<span style=\"font-weight: bold\"> 📥 Total: 27  </span>┃<span style=\"font-weight: bold\"> ID </span>┃<span style=\"font-weight: bold\"> Obj. 📉 </span>┃<span style=\"font-weight: bold\"> Configuration 🔖 - 06/12/2023 16:11:02 </span>┃    \n",
       "   ┡━━━━━━━━━━━━━━━╇━━━━╇━━━━━━━━━╇━━━━━━━━━━━━━━━━━━━━━━━━━━━━━━━━━━━━━━━━┩    \n",
       "   │<span style=\"color: #7f7f7f; text-decoration-color: #7f7f7f\"> Best Overall  </span>│ 15 │ -3.348  │ 'sigma_init': 0.053                    │    \n",
       "   │<span style=\"color: #7f7f7f; text-decoration-color: #7f7f7f\"> Best in Batch </span>│ 26 │ -3.533  │ 'sigma_init': 0.08                     │    \n",
       "   └───────────────┴────┴─────────┴────────────────────────────────────────┘    \n",
       "</pre>\n"
      ],
      "text/plain": [
       "   ┏━━━━━━━━━━━━━━━┳━━━━┳━━━━━━━━━┳━━━━━━━━━━━━━━━━━━━━━━━━━━━━━━━━━━━━━━━━┓    \n",
       "   ┃\u001b[1m \u001b[0m\u001b[1m📥 Total: 27 \u001b[0m\u001b[1m \u001b[0m┃\u001b[1m \u001b[0m\u001b[1mID\u001b[0m\u001b[1m \u001b[0m┃\u001b[1m \u001b[0m\u001b[1mObj. 📉\u001b[0m\u001b[1m \u001b[0m┃\u001b[1m \u001b[0m\u001b[1mConfiguration 🔖 - 06/12/2023 16:11:02\u001b[0m\u001b[1m \u001b[0m┃    \n",
       "   ┡━━━━━━━━━━━━━━━╇━━━━╇━━━━━━━━━╇━━━━━━━━━━━━━━━━━━━━━━━━━━━━━━━━━━━━━━━━┩    \n",
       "   │\u001b[2m \u001b[0m\u001b[2mBest Overall \u001b[0m\u001b[2m \u001b[0m│ 15 │ -3.348  │ 'sigma_init': 0.053                    │    \n",
       "   │\u001b[2m \u001b[0m\u001b[2mBest in Batch\u001b[0m\u001b[2m \u001b[0m│ 26 │ -3.533  │ 'sigma_init': 0.08                     │    \n",
       "   └───────────────┴────┴─────────┴────────────────────────────────────────┘    \n"
      ]
     },
     "metadata": {},
     "output_type": "display_data"
    },
    {
     "name": "stdout",
     "output_type": "stream",
     "text": [
      "bbob: START EVOLVING 2 PARAMETERS.\n",
      "{'num_gens': 50, 'iter_id': 27} {'Sphere_mean': DeviceArray(0.00046576, dtype=float32), 'RosenbrockRotated_mean': DeviceArray(0.41851717, dtype=float32), 'Discus_mean': DeviceArray(566.4725, dtype=float32), 'RastriginRotated_mean': DeviceArray(26.254627, dtype=float32), 'Schwefel_mean': DeviceArray(2.424657, dtype=float32), 'BuecheRastrigin_mean': DeviceArray(11.825881, dtype=float32), 'AttractiveSector_mean': DeviceArray(0.13920817, dtype=float32), 'Weierstrass_mean': DeviceArray(1.8271607, dtype=float32), 'SchaffersF7_mean': DeviceArray(0.25511512, dtype=float32), 'GriewankRosenbrock_mean': DeviceArray(4.959266, dtype=float32), 'EllipsoidalOriginal_mean': DeviceArray(21.138168, dtype=float32), 'RastriginOriginal_mean': DeviceArray(16.737288, dtype=float32), 'LinearSlope_mean': DeviceArray(-87.46649, dtype=float32), 'StepEllipsoidal_mean': DeviceArray(1.4745407, dtype=float32), 'RosenbrockOriginal_mean': DeviceArray(0.6256345, dtype=float32), 'EllipsoidalRotated_mean': DeviceArray(170.9578, dtype=float32), 'BentCigar_mean': DeviceArray(66.36214, dtype=float32), 'SharpRidge_mean': DeviceArray(3.256693, dtype=float32), 'DifferentPowers_mean': DeviceArray(0.00812078, dtype=float32), 'SchaffersF7IllConditioned_mean': DeviceArray(3.3703296, dtype=float32), 'Lunacek_mean': DeviceArray(17.064253, dtype=float32), 'Gallagher101Me_mean': DeviceArray(1.1318171, dtype=float32), 'Gallagher21Hi_mean': DeviceArray(2.278363, dtype=float32), 'Sphere_best': DeviceArray(0.00011799, dtype=float32), 'RosenbrockRotated_best': DeviceArray(0.04596334, dtype=float32), 'Discus_best': DeviceArray(1.5875367, dtype=float32), 'RastriginRotated_best': DeviceArray(0.6093313, dtype=float32), 'Schwefel_best': DeviceArray(0.45288333, dtype=float32), 'BuecheRastrigin_best': DeviceArray(-18.380234, dtype=float32), 'AttractiveSector_best': DeviceArray(0.0126088, dtype=float32), 'Weierstrass_best': DeviceArray(0.04553514, dtype=float32), 'SchaffersF7_best': DeviceArray(0.04235108, dtype=float32), 'GriewankRosenbrock_best': DeviceArray(0.00154476, dtype=float32), 'EllipsoidalOriginal_best': DeviceArray(1.1143688, dtype=float32), 'RastriginOriginal_best': DeviceArray(0.35212636, dtype=float32), 'LinearSlope_best': DeviceArray(-91.26748, dtype=float32), 'StepEllipsoidal_best': DeviceArray(1.1718047, dtype=float32), 'RosenbrockOriginal_best': DeviceArray(0.05290828, dtype=float32), 'EllipsoidalRotated_best': DeviceArray(0.29356515, dtype=float32), 'BentCigar_best': DeviceArray(0.19632746, dtype=float32), 'SharpRidge_best': DeviceArray(0.3653651, dtype=float32), 'DifferentPowers_best': DeviceArray(0.00091189, dtype=float32), 'SchaffersF7IllConditioned_best': DeviceArray(0.22805285, dtype=float32), 'Lunacek_best': DeviceArray(1.7015737, dtype=float32), 'Gallagher101Me_best': DeviceArray(0.02636266, dtype=float32), 'Gallagher21Hi_best': DeviceArray(0.19321994, dtype=float32)}\n",
      "\n"
     ]
    },
    {
     "data": {
      "text/html": [
       "<pre style=\"white-space:pre;overflow-x:auto;line-height:normal;font-family:Menlo,'DejaVu Sans Mono',consolas,'Courier New',monospace\">   ┏━━━━━━━━━━━━━━━┳━━━━┳━━━━━━━━━┳━━━━━━━━━━━━━━━━━━━━━━━━━━━━━━━━━━━━━━━━┓    \n",
       "   ┃<span style=\"font-weight: bold\"> 📥 Total: 28  </span>┃<span style=\"font-weight: bold\"> ID </span>┃<span style=\"font-weight: bold\"> Obj. 📉 </span>┃<span style=\"font-weight: bold\"> Configuration 🔖 - 06/12/2023 16:11:31 </span>┃    \n",
       "   ┡━━━━━━━━━━━━━━━╇━━━━╇━━━━━━━━━╇━━━━━━━━━━━━━━━━━━━━━━━━━━━━━━━━━━━━━━━━┩    \n",
       "   │<span style=\"color: #7f7f7f; text-decoration-color: #7f7f7f\"> Best Overall  </span>│ 15 │ -3.348  │ 'sigma_init': 0.053                    │    \n",
       "   │<span style=\"color: #7f7f7f; text-decoration-color: #7f7f7f\"> Best in Batch </span>│ 27 │ -36.153 │ 'sigma_init': 0.473                    │    \n",
       "   └───────────────┴────┴─────────┴────────────────────────────────────────┘    \n",
       "</pre>\n"
      ],
      "text/plain": [
       "   ┏━━━━━━━━━━━━━━━┳━━━━┳━━━━━━━━━┳━━━━━━━━━━━━━━━━━━━━━━━━━━━━━━━━━━━━━━━━┓    \n",
       "   ┃\u001b[1m \u001b[0m\u001b[1m📥 Total: 28 \u001b[0m\u001b[1m \u001b[0m┃\u001b[1m \u001b[0m\u001b[1mID\u001b[0m\u001b[1m \u001b[0m┃\u001b[1m \u001b[0m\u001b[1mObj. 📉\u001b[0m\u001b[1m \u001b[0m┃\u001b[1m \u001b[0m\u001b[1mConfiguration 🔖 - 06/12/2023 16:11:31\u001b[0m\u001b[1m \u001b[0m┃    \n",
       "   ┡━━━━━━━━━━━━━━━╇━━━━╇━━━━━━━━━╇━━━━━━━━━━━━━━━━━━━━━━━━━━━━━━━━━━━━━━━━┩    \n",
       "   │\u001b[2m \u001b[0m\u001b[2mBest Overall \u001b[0m\u001b[2m \u001b[0m│ 15 │ -3.348  │ 'sigma_init': 0.053                    │    \n",
       "   │\u001b[2m \u001b[0m\u001b[2mBest in Batch\u001b[0m\u001b[2m \u001b[0m│ 27 │ -36.153 │ 'sigma_init': 0.473                    │    \n",
       "   └───────────────┴────┴─────────┴────────────────────────────────────────┘    \n"
      ]
     },
     "metadata": {},
     "output_type": "display_data"
    },
    {
     "name": "stdout",
     "output_type": "stream",
     "text": [
      "bbob: START EVOLVING 2 PARAMETERS.\n",
      "{'num_gens': 50, 'iter_id': 28} {'Sphere_mean': DeviceArray(0.00014704, dtype=float32), 'RosenbrockRotated_mean': DeviceArray(0.2774034, dtype=float32), 'Discus_mean': DeviceArray(267.60196, dtype=float32), 'RastriginRotated_mean': DeviceArray(9.372094, dtype=float32), 'Schwefel_mean': DeviceArray(3.1761272, dtype=float32), 'BuecheRastrigin_mean': DeviceArray(-2.261938, dtype=float32), 'AttractiveSector_mean': DeviceArray(0.06417283, dtype=float32), 'Weierstrass_mean': DeviceArray(0.45173237, dtype=float32), 'SchaffersF7_mean': DeviceArray(0.12646559, dtype=float32), 'GriewankRosenbrock_mean': DeviceArray(16.814259, dtype=float32), 'EllipsoidalOriginal_mean': DeviceArray(12.208346, dtype=float32), 'RastriginOriginal_mean': DeviceArray(15.533977, dtype=float32), 'LinearSlope_mean': DeviceArray(-17.099966, dtype=float32), 'StepEllipsoidal_mean': DeviceArray(1.5632764, dtype=float32), 'RosenbrockOriginal_mean': DeviceArray(0.27498564, dtype=float32), 'EllipsoidalRotated_mean': DeviceArray(115.89589, dtype=float32), 'BentCigar_mean': DeviceArray(12.794574, dtype=float32), 'SharpRidge_mean': DeviceArray(1.5542374, dtype=float32), 'DifferentPowers_mean': DeviceArray(0.007717, dtype=float32), 'SchaffersF7IllConditioned_mean': DeviceArray(1.4903187, dtype=float32), 'Lunacek_mean': DeviceArray(22.28277, dtype=float32), 'Gallagher101Me_mean': DeviceArray(0.00084976, dtype=float32), 'Gallagher21Hi_mean': DeviceArray(0.00955034, dtype=float32), 'Sphere_best': DeviceArray(3.7249465e-05, dtype=float32), 'RosenbrockRotated_best': DeviceArray(0.09673311, dtype=float32), 'Discus_best': DeviceArray(0.36394092, dtype=float32), 'RastriginRotated_best': DeviceArray(0.52294314, dtype=float32), 'Schwefel_best': DeviceArray(1.7818041, dtype=float32), 'BuecheRastrigin_best': DeviceArray(-19.394205, dtype=float32), 'AttractiveSector_best': DeviceArray(0.00191443, dtype=float32), 'Weierstrass_best': DeviceArray(0.00160221, dtype=float32), 'SchaffersF7_best': DeviceArray(0.01789161, dtype=float32), 'GriewankRosenbrock_best': DeviceArray(0.00223198, dtype=float32), 'EllipsoidalOriginal_best': DeviceArray(0.21140265, dtype=float32), 'RastriginOriginal_best': DeviceArray(0.11535305, dtype=float32), 'LinearSlope_best': DeviceArray(-19.23566, dtype=float32), 'StepEllipsoidal_best': DeviceArray(0.57416046, dtype=float32), 'RosenbrockOriginal_best': DeviceArray(0.00385095, dtype=float32), 'EllipsoidalRotated_best': DeviceArray(0.20750263, dtype=float32), 'BentCigar_best': DeviceArray(0.09334935, dtype=float32), 'SharpRidge_best': DeviceArray(0.25994948, dtype=float32), 'DifferentPowers_best': DeviceArray(0.0007344, dtype=float32), 'SchaffersF7IllConditioned_best': DeviceArray(0.16908835, dtype=float32), 'Lunacek_best': DeviceArray(2.8229666, dtype=float32), 'Gallagher101Me_best': DeviceArray(2.5222704e-07, dtype=float32), 'Gallagher21Hi_best': DeviceArray(1.8280874e-05, dtype=float32)}\n",
      "\n"
     ]
    },
    {
     "data": {
      "text/html": [
       "<pre style=\"white-space:pre;overflow-x:auto;line-height:normal;font-family:Menlo,'DejaVu Sans Mono',consolas,'Courier New',monospace\">   ┏━━━━━━━━━━━━━━━┳━━━━┳━━━━━━━━━┳━━━━━━━━━━━━━━━━━━━━━━━━━━━━━━━━━━━━━━━━┓    \n",
       "   ┃<span style=\"font-weight: bold\"> 📥 Total: 29  </span>┃<span style=\"font-weight: bold\"> ID </span>┃<span style=\"font-weight: bold\"> Obj. 📉 </span>┃<span style=\"font-weight: bold\"> Configuration 🔖 - 06/12/2023 16:12:00 </span>┃    \n",
       "   ┡━━━━━━━━━━━━━━━╇━━━━╇━━━━━━━━━╇━━━━━━━━━━━━━━━━━━━━━━━━━━━━━━━━━━━━━━━━┩    \n",
       "   │<span style=\"color: #7f7f7f; text-decoration-color: #7f7f7f\"> Best Overall  </span>│ 15 │ -3.348  │ 'sigma_init': 0.053                    │    \n",
       "   │<span style=\"color: #7f7f7f; text-decoration-color: #7f7f7f\"> Best in Batch </span>│ 28 │ -20.093 │ 'sigma_init': 0.266                    │    \n",
       "   └───────────────┴────┴─────────┴────────────────────────────────────────┘    \n",
       "</pre>\n"
      ],
      "text/plain": [
       "   ┏━━━━━━━━━━━━━━━┳━━━━┳━━━━━━━━━┳━━━━━━━━━━━━━━━━━━━━━━━━━━━━━━━━━━━━━━━━┓    \n",
       "   ┃\u001b[1m \u001b[0m\u001b[1m📥 Total: 29 \u001b[0m\u001b[1m \u001b[0m┃\u001b[1m \u001b[0m\u001b[1mID\u001b[0m\u001b[1m \u001b[0m┃\u001b[1m \u001b[0m\u001b[1mObj. 📉\u001b[0m\u001b[1m \u001b[0m┃\u001b[1m \u001b[0m\u001b[1mConfiguration 🔖 - 06/12/2023 16:12:00\u001b[0m\u001b[1m \u001b[0m┃    \n",
       "   ┡━━━━━━━━━━━━━━━╇━━━━╇━━━━━━━━━╇━━━━━━━━━━━━━━━━━━━━━━━━━━━━━━━━━━━━━━━━┩    \n",
       "   │\u001b[2m \u001b[0m\u001b[2mBest Overall \u001b[0m\u001b[2m \u001b[0m│ 15 │ -3.348  │ 'sigma_init': 0.053                    │    \n",
       "   │\u001b[2m \u001b[0m\u001b[2mBest in Batch\u001b[0m\u001b[2m \u001b[0m│ 28 │ -20.093 │ 'sigma_init': 0.266                    │    \n",
       "   └───────────────┴────┴─────────┴────────────────────────────────────────┘    \n"
      ]
     },
     "metadata": {},
     "output_type": "display_data"
    },
    {
     "name": "stdout",
     "output_type": "stream",
     "text": [
      "bbob: START EVOLVING 2 PARAMETERS.\n",
      "{'num_gens': 50, 'iter_id': 29} {'Sphere_mean': DeviceArray(9.4656876e-05, dtype=float32), 'RosenbrockRotated_mean': DeviceArray(0.24826589, dtype=float32), 'Discus_mean': DeviceArray(120.04382, dtype=float32), 'RastriginRotated_mean': DeviceArray(4.384857, dtype=float32), 'Schwefel_mean': DeviceArray(2.1548352, dtype=float32), 'BuecheRastrigin_mean': DeviceArray(-2.9286363, dtype=float32), 'AttractiveSector_mean': DeviceArray(0.04163537, dtype=float32), 'Weierstrass_mean': DeviceArray(0.30776983, dtype=float32), 'SchaffersF7_mean': DeviceArray(0.1995235, dtype=float32), 'GriewankRosenbrock_mean': DeviceArray(7.689894, dtype=float32), 'EllipsoidalOriginal_mean': DeviceArray(6.4478755, dtype=float32), 'RastriginOriginal_mean': DeviceArray(4.376311, dtype=float32), 'LinearSlope_mean': DeviceArray(0.7381844, dtype=float32), 'StepEllipsoidal_mean': DeviceArray(2.043484, dtype=float32), 'RosenbrockOriginal_mean': DeviceArray(0.0904858, dtype=float32), 'EllipsoidalRotated_mean': DeviceArray(118.46226, dtype=float32), 'BentCigar_mean': DeviceArray(5.832424, dtype=float32), 'SharpRidge_mean': DeviceArray(1.6332041, dtype=float32), 'DifferentPowers_mean': DeviceArray(0.00635545, dtype=float32), 'SchaffersF7IllConditioned_mean': DeviceArray(1.8483181, dtype=float32), 'Lunacek_mean': DeviceArray(21.27699, dtype=float32), 'Gallagher101Me_mean': DeviceArray(0.00037266, dtype=float32), 'Gallagher21Hi_mean': DeviceArray(0.00361067, dtype=float32), 'Sphere_best': DeviceArray(2.3979064e-05, dtype=float32), 'RosenbrockRotated_best': DeviceArray(0.11308882, dtype=float32), 'Discus_best': DeviceArray(0.27936506, dtype=float32), 'RastriginRotated_best': DeviceArray(0.04931741, dtype=float32), 'Schwefel_best': DeviceArray(1.6514502, dtype=float32), 'BuecheRastrigin_best': DeviceArray(-19.378782, dtype=float32), 'AttractiveSector_best': DeviceArray(0.00334693, dtype=float32), 'Weierstrass_best': DeviceArray(0.00757341, dtype=float32), 'SchaffersF7_best': DeviceArray(0.01898205, dtype=float32), 'GriewankRosenbrock_best': DeviceArray(0.00056934, dtype=float32), 'EllipsoidalOriginal_best': DeviceArray(0.11862432, dtype=float32), 'RastriginOriginal_best': DeviceArray(0.11067076, dtype=float32), 'LinearSlope_best': DeviceArray(-0.9753496, dtype=float32), 'StepEllipsoidal_best': DeviceArray(0.28708097, dtype=float32), 'RosenbrockOriginal_best': DeviceArray(0.01332899, dtype=float32), 'EllipsoidalRotated_best': DeviceArray(0.07655164, dtype=float32), 'BentCigar_best': DeviceArray(0.0802688, dtype=float32), 'SharpRidge_best': DeviceArray(0.19645286, dtype=float32), 'DifferentPowers_best': DeviceArray(0.00070118, dtype=float32), 'SchaffersF7IllConditioned_best': DeviceArray(0.09456467, dtype=float32), 'Lunacek_best': DeviceArray(2.6753528, dtype=float32), 'Gallagher101Me_best': DeviceArray(1.0371112e-07, dtype=float32), 'Gallagher21Hi_best': DeviceArray(2.0099126e-06, dtype=float32)}\n",
      "\n"
     ]
    },
    {
     "data": {
      "text/html": [
       "<pre style=\"white-space:pre;overflow-x:auto;line-height:normal;font-family:Menlo,'DejaVu Sans Mono',consolas,'Courier New',monospace\">   ┏━━━━━━━━━━━━━━━┳━━━━┳━━━━━━━━━┳━━━━━━━━━━━━━━━━━━━━━━━━━━━━━━━━━━━━━━━━┓    \n",
       "   ┃<span style=\"font-weight: bold\"> 📥 Total: 30  </span>┃<span style=\"font-weight: bold\"> ID </span>┃<span style=\"font-weight: bold\"> Obj. 📉 </span>┃<span style=\"font-weight: bold\"> Configuration 🔖 - 06/12/2023 16:12:29 </span>┃    \n",
       "   ┡━━━━━━━━━━━━━━━╇━━━━╇━━━━━━━━━╇━━━━━━━━━━━━━━━━━━━━━━━━━━━━━━━━━━━━━━━━┩    \n",
       "   │<span style=\"color: #7f7f7f; text-decoration-color: #7f7f7f\"> Best Overall  </span>│ 15 │ -3.348  │ 'sigma_init': 0.053                    │    \n",
       "   │<span style=\"color: #7f7f7f; text-decoration-color: #7f7f7f\"> Best in Batch </span>│ 29 │ -12.822 │ 'sigma_init': 0.213                    │    \n",
       "   └───────────────┴────┴─────────┴────────────────────────────────────────┘    \n",
       "</pre>\n"
      ],
      "text/plain": [
       "   ┏━━━━━━━━━━━━━━━┳━━━━┳━━━━━━━━━┳━━━━━━━━━━━━━━━━━━━━━━━━━━━━━━━━━━━━━━━━┓    \n",
       "   ┃\u001b[1m \u001b[0m\u001b[1m📥 Total: 30 \u001b[0m\u001b[1m \u001b[0m┃\u001b[1m \u001b[0m\u001b[1mID\u001b[0m\u001b[1m \u001b[0m┃\u001b[1m \u001b[0m\u001b[1mObj. 📉\u001b[0m\u001b[1m \u001b[0m┃\u001b[1m \u001b[0m\u001b[1mConfiguration 🔖 - 06/12/2023 16:12:29\u001b[0m\u001b[1m \u001b[0m┃    \n",
       "   ┡━━━━━━━━━━━━━━━╇━━━━╇━━━━━━━━━╇━━━━━━━━━━━━━━━━━━━━━━━━━━━━━━━━━━━━━━━━┩    \n",
       "   │\u001b[2m \u001b[0m\u001b[2mBest Overall \u001b[0m\u001b[2m \u001b[0m│ 15 │ -3.348  │ 'sigma_init': 0.053                    │    \n",
       "   │\u001b[2m \u001b[0m\u001b[2mBest in Batch\u001b[0m\u001b[2m \u001b[0m│ 29 │ -12.822 │ 'sigma_init': 0.213                    │    \n",
       "   └───────────────┴────┴─────────┴────────────────────────────────────────┘    \n"
      ]
     },
     "metadata": {},
     "output_type": "display_data"
    },
    {
     "name": "stdout",
     "output_type": "stream",
     "text": [
      "bbob: START EVOLVING 2 PARAMETERS.\n",
      "{'num_gens': 50, 'iter_id': 30} {'Sphere_mean': DeviceArray(4.0608076e-05, dtype=float32), 'RosenbrockRotated_mean': DeviceArray(0.19837289, dtype=float32), 'Discus_mean': DeviceArray(54.61616, dtype=float32), 'RastriginRotated_mean': DeviceArray(0.31199867, dtype=float32), 'Schwefel_mean': DeviceArray(2.1521003, dtype=float32), 'BuecheRastrigin_mean': DeviceArray(-16.315588, dtype=float32), 'AttractiveSector_mean': DeviceArray(0.02709462, dtype=float32), 'Weierstrass_mean': DeviceArray(0.08711156, dtype=float32), 'SchaffersF7_mean': DeviceArray(0.04915683, dtype=float32), 'GriewankRosenbrock_mean': DeviceArray(3.9843335, dtype=float32), 'EllipsoidalOriginal_mean': DeviceArray(1.3251306, dtype=float32), 'RastriginOriginal_mean': DeviceArray(1.3727645, dtype=float32), 'LinearSlope_mean': DeviceArray(25.719152, dtype=float32), 'StepEllipsoidal_mean': DeviceArray(0.5741605, dtype=float32), 'RosenbrockOriginal_mean': DeviceArray(0.03947063, dtype=float32), 'EllipsoidalRotated_mean': DeviceArray(14.201331, dtype=float32), 'BentCigar_mean': DeviceArray(7.8068247, dtype=float32), 'SharpRidge_mean': DeviceArray(1.0570678, dtype=float32), 'DifferentPowers_mean': DeviceArray(0.00380023, dtype=float32), 'SchaffersF7IllConditioned_mean': DeviceArray(1.0818617, dtype=float32), 'Lunacek_mean': DeviceArray(18.228983, dtype=float32), 'Gallagher101Me_mean': DeviceArray(6.674791e-05, dtype=float32), 'Gallagher21Hi_mean': DeviceArray(0.00075701, dtype=float32), 'Sphere_best': DeviceArray(1.0287067e-05, dtype=float32), 'RosenbrockRotated_best': DeviceArray(0.08399926, dtype=float32), 'Discus_best': DeviceArray(0.12902686, dtype=float32), 'RastriginRotated_best': DeviceArray(0.02886476, dtype=float32), 'Schwefel_best': DeviceArray(2.027408, dtype=float32), 'BuecheRastrigin_best': DeviceArray(-19.425367, dtype=float32), 'AttractiveSector_best': DeviceArray(0.00153984, dtype=float32), 'Weierstrass_best': DeviceArray(0.00173987, dtype=float32), 'SchaffersF7_best': DeviceArray(0.01491798, dtype=float32), 'GriewankRosenbrock_best': DeviceArray(9.479523e-05, dtype=float32), 'EllipsoidalOriginal_best': DeviceArray(0.08749118, dtype=float32), 'RastriginOriginal_best': DeviceArray(0.15924704, dtype=float32), 'LinearSlope_best': DeviceArray(24.596815, dtype=float32), 'StepEllipsoidal_best': DeviceArray(0.14354096, dtype=float32), 'RosenbrockOriginal_best': DeviceArray(0.00543528, dtype=float32), 'EllipsoidalRotated_best': DeviceArray(0.03380687, dtype=float32), 'BentCigar_best': DeviceArray(0.03825055, dtype=float32), 'SharpRidge_best': DeviceArray(0.12347301, dtype=float32), 'DifferentPowers_best': DeviceArray(0.00034101, dtype=float32), 'SchaffersF7IllConditioned_best': DeviceArray(0.04280247, dtype=float32), 'Lunacek_best': DeviceArray(4.7097154, dtype=float32), 'Gallagher101Me_best': DeviceArray(1.633125e-08, dtype=float32), 'Gallagher21Hi_best': DeviceArray(4.3120454e-07, dtype=float32)}\n",
      "\n"
     ]
    },
    {
     "data": {
      "text/html": [
       "<pre style=\"white-space:pre;overflow-x:auto;line-height:normal;font-family:Menlo,'DejaVu Sans Mono',consolas,'Courier New',monospace\">   ┏━━━━━━━━━━━━━━━┳━━━━┳━━━━━━━━━┳━━━━━━━━━━━━━━━━━━━━━━━━━━━━━━━━━━━━━━━━┓    \n",
       "   ┃<span style=\"font-weight: bold\"> 📥 Total: 31  </span>┃<span style=\"font-weight: bold\"> ID </span>┃<span style=\"font-weight: bold\"> Obj. 📉 </span>┃<span style=\"font-weight: bold\"> Configuration 🔖 - 06/12/2023 16:12:59 </span>┃    \n",
       "   ┡━━━━━━━━━━━━━━━╇━━━━╇━━━━━━━━━╇━━━━━━━━━━━━━━━━━━━━━━━━━━━━━━━━━━━━━━━━┩    \n",
       "   │<span style=\"color: #7f7f7f; text-decoration-color: #7f7f7f\"> Best Overall  </span>│ 15 │ -3.348  │ 'sigma_init': 0.053                    │    \n",
       "   │<span style=\"color: #7f7f7f; text-decoration-color: #7f7f7f\"> Best in Batch </span>│ 30 │ -5.066  │ 'sigma_init': 0.14                     │    \n",
       "   └───────────────┴────┴─────────┴────────────────────────────────────────┘    \n",
       "</pre>\n"
      ],
      "text/plain": [
       "   ┏━━━━━━━━━━━━━━━┳━━━━┳━━━━━━━━━┳━━━━━━━━━━━━━━━━━━━━━━━━━━━━━━━━━━━━━━━━┓    \n",
       "   ┃\u001b[1m \u001b[0m\u001b[1m📥 Total: 31 \u001b[0m\u001b[1m \u001b[0m┃\u001b[1m \u001b[0m\u001b[1mID\u001b[0m\u001b[1m \u001b[0m┃\u001b[1m \u001b[0m\u001b[1mObj. 📉\u001b[0m\u001b[1m \u001b[0m┃\u001b[1m \u001b[0m\u001b[1mConfiguration 🔖 - 06/12/2023 16:12:59\u001b[0m\u001b[1m \u001b[0m┃    \n",
       "   ┡━━━━━━━━━━━━━━━╇━━━━╇━━━━━━━━━╇━━━━━━━━━━━━━━━━━━━━━━━━━━━━━━━━━━━━━━━━┩    \n",
       "   │\u001b[2m \u001b[0m\u001b[2mBest Overall \u001b[0m\u001b[2m \u001b[0m│ 15 │ -3.348  │ 'sigma_init': 0.053                    │    \n",
       "   │\u001b[2m \u001b[0m\u001b[2mBest in Batch\u001b[0m\u001b[2m \u001b[0m│ 30 │ -5.066  │ 'sigma_init': 0.14                     │    \n",
       "   └───────────────┴────┴─────────┴────────────────────────────────────────┘    \n"
      ]
     },
     "metadata": {},
     "output_type": "display_data"
    },
    {
     "name": "stdout",
     "output_type": "stream",
     "text": [
      "bbob: START EVOLVING 2 PARAMETERS.\n",
      "{'num_gens': 50, 'iter_id': 31} {'Sphere_mean': DeviceArray(0.00031578, dtype=float32), 'RosenbrockRotated_mean': DeviceArray(0.30904502, dtype=float32), 'Discus_mean': DeviceArray(321.805, dtype=float32), 'RastriginRotated_mean': DeviceArray(15.188567, dtype=float32), 'Schwefel_mean': DeviceArray(2.9312527, dtype=float32), 'BuecheRastrigin_mean': DeviceArray(7.567328, dtype=float32), 'AttractiveSector_mean': DeviceArray(0.11145736, dtype=float32), 'Weierstrass_mean': DeviceArray(0.8097553, dtype=float32), 'SchaffersF7_mean': DeviceArray(0.26139456, dtype=float32), 'GriewankRosenbrock_mean': DeviceArray(9.78371, dtype=float32), 'EllipsoidalOriginal_mean': DeviceArray(17.75921, dtype=float32), 'RastriginOriginal_mean': DeviceArray(13.2250395, dtype=float32), 'LinearSlope_mean': DeviceArray(-59.102364, dtype=float32), 'StepEllipsoidal_mean': DeviceArray(1.7146444, dtype=float32), 'RosenbrockOriginal_mean': DeviceArray(0.5413008, dtype=float32), 'EllipsoidalRotated_mean': DeviceArray(187.01021, dtype=float32), 'BentCigar_mean': DeviceArray(42.593437, dtype=float32), 'SharpRidge_mean': DeviceArray(3.79544, dtype=float32), 'DifferentPowers_mean': DeviceArray(0.0152962, dtype=float32), 'SchaffersF7IllConditioned_mean': DeviceArray(2.345616, dtype=float32), 'Lunacek_mean': DeviceArray(25.854559, dtype=float32), 'Gallagher101Me_mean': DeviceArray(0.4220616, dtype=float32), 'Gallagher21Hi_mean': DeviceArray(2.102036, dtype=float32), 'Sphere_best': DeviceArray(7.999376e-05, dtype=float32), 'RosenbrockRotated_best': DeviceArray(0.06370472, dtype=float32), 'Discus_best': DeviceArray(0.68565416, dtype=float32), 'RastriginRotated_best': DeviceArray(0.7325269, dtype=float32), 'Schwefel_best': DeviceArray(0.8755025, dtype=float32), 'BuecheRastrigin_best': DeviceArray(-19.193836, dtype=float32), 'AttractiveSector_best': DeviceArray(0.0064773, dtype=float32), 'Weierstrass_best': DeviceArray(0.05784879, dtype=float32), 'SchaffersF7_best': DeviceArray(0.02738707, dtype=float32), 'GriewankRosenbrock_best': DeviceArray(0.00254021, dtype=float32), 'EllipsoidalOriginal_best': DeviceArray(0.3670611, dtype=float32), 'RastriginOriginal_best': DeviceArray(0.5364526, dtype=float32), 'LinearSlope_best': DeviceArray(-62.232067, dtype=float32), 'StepEllipsoidal_best': DeviceArray(0.876897, dtype=float32), 'RosenbrockOriginal_best': DeviceArray(0.0381796, dtype=float32), 'EllipsoidalRotated_best': DeviceArray(0.45111248, dtype=float32), 'BentCigar_best': DeviceArray(0.19527392, dtype=float32), 'SharpRidge_best': DeviceArray(0.21646975, dtype=float32), 'DifferentPowers_best': DeviceArray(0.00099364, dtype=float32), 'SchaffersF7IllConditioned_best': DeviceArray(0.27171063, dtype=float32), 'Lunacek_best': DeviceArray(2.0214083, dtype=float32), 'Gallagher101Me_best': DeviceArray(0.01287659, dtype=float32), 'Gallagher21Hi_best': DeviceArray(0.06878344, dtype=float32)}\n",
      "\n"
     ]
    },
    {
     "data": {
      "text/html": [
       "<pre style=\"white-space:pre;overflow-x:auto;line-height:normal;font-family:Menlo,'DejaVu Sans Mono',consolas,'Courier New',monospace\">   ┏━━━━━━━━━━━━━━━┳━━━━┳━━━━━━━━━┳━━━━━━━━━━━━━━━━━━━━━━━━━━━━━━━━━━━━━━━━┓    \n",
       "   ┃<span style=\"font-weight: bold\"> 📥 Total: 32  </span>┃<span style=\"font-weight: bold\"> ID </span>┃<span style=\"font-weight: bold\"> Obj. 📉 </span>┃<span style=\"font-weight: bold\"> Configuration 🔖 - 06/12/2023 16:13:27 </span>┃    \n",
       "   ┡━━━━━━━━━━━━━━━╇━━━━╇━━━━━━━━━╇━━━━━━━━━━━━━━━━━━━━━━━━━━━━━━━━━━━━━━━━┩    \n",
       "   │<span style=\"color: #7f7f7f; text-decoration-color: #7f7f7f\"> Best Overall  </span>│ 15 │ -3.348  │ 'sigma_init': 0.053                    │    \n",
       "   │<span style=\"color: #7f7f7f; text-decoration-color: #7f7f7f\"> Best in Batch </span>│ 31 │ -25.958 │ 'sigma_init': 0.389                    │    \n",
       "   └───────────────┴────┴─────────┴────────────────────────────────────────┘    \n",
       "</pre>\n"
      ],
      "text/plain": [
       "   ┏━━━━━━━━━━━━━━━┳━━━━┳━━━━━━━━━┳━━━━━━━━━━━━━━━━━━━━━━━━━━━━━━━━━━━━━━━━┓    \n",
       "   ┃\u001b[1m \u001b[0m\u001b[1m📥 Total: 32 \u001b[0m\u001b[1m \u001b[0m┃\u001b[1m \u001b[0m\u001b[1mID\u001b[0m\u001b[1m \u001b[0m┃\u001b[1m \u001b[0m\u001b[1mObj. 📉\u001b[0m\u001b[1m \u001b[0m┃\u001b[1m \u001b[0m\u001b[1mConfiguration 🔖 - 06/12/2023 16:13:27\u001b[0m\u001b[1m \u001b[0m┃    \n",
       "   ┡━━━━━━━━━━━━━━━╇━━━━╇━━━━━━━━━╇━━━━━━━━━━━━━━━━━━━━━━━━━━━━━━━━━━━━━━━━┩    \n",
       "   │\u001b[2m \u001b[0m\u001b[2mBest Overall \u001b[0m\u001b[2m \u001b[0m│ 15 │ -3.348  │ 'sigma_init': 0.053                    │    \n",
       "   │\u001b[2m \u001b[0m\u001b[2mBest in Batch\u001b[0m\u001b[2m \u001b[0m│ 31 │ -25.958 │ 'sigma_init': 0.389                    │    \n",
       "   └───────────────┴────┴─────────┴────────────────────────────────────────┘    \n"
      ]
     },
     "metadata": {},
     "output_type": "display_data"
    },
    {
     "name": "stdout",
     "output_type": "stream",
     "text": [
      "bbob: START EVOLVING 2 PARAMETERS.\n",
      "{'num_gens': 50, 'iter_id': 32} {'Sphere_mean': DeviceArray(0.00011357, dtype=float32), 'RosenbrockRotated_mean': DeviceArray(0.22205253, dtype=float32), 'Discus_mean': DeviceArray(205.75581, dtype=float32), 'RastriginRotated_mean': DeviceArray(3.699794, dtype=float32), 'Schwefel_mean': DeviceArray(2.749079, dtype=float32), 'BuecheRastrigin_mean': DeviceArray(-1.7431103, dtype=float32), 'AttractiveSector_mean': DeviceArray(0.05257183, dtype=float32), 'Weierstrass_mean': DeviceArray(0.6177849, dtype=float32), 'SchaffersF7_mean': DeviceArray(0.14724433, dtype=float32), 'GriewankRosenbrock_mean': DeviceArray(4.230398, dtype=float32), 'EllipsoidalOriginal_mean': DeviceArray(11.051425, dtype=float32), 'RastriginOriginal_mean': DeviceArray(5.8840404, dtype=float32), 'LinearSlope_mean': DeviceArray(-6.1663775, dtype=float32), 'StepEllipsoidal_mean': DeviceArray(2.4166894, dtype=float32), 'RosenbrockOriginal_mean': DeviceArray(0.13141544, dtype=float32), 'EllipsoidalRotated_mean': DeviceArray(83.96808, dtype=float32), 'BentCigar_mean': DeviceArray(15.365499, dtype=float32), 'SharpRidge_mean': DeviceArray(1.8367316, dtype=float32), 'DifferentPowers_mean': DeviceArray(0.00822268, dtype=float32), 'SchaffersF7IllConditioned_mean': DeviceArray(1.0759712, dtype=float32), 'Lunacek_mean': DeviceArray(22.21784, dtype=float32), 'Gallagher101Me_mean': DeviceArray(0.00066245, dtype=float32), 'Gallagher21Hi_mean': DeviceArray(0.00537665, dtype=float32), 'Sphere_best': DeviceArray(2.8770379e-05, dtype=float32), 'RosenbrockRotated_best': DeviceArray(0.08899911, dtype=float32), 'Discus_best': DeviceArray(0.5110232, dtype=float32), 'RastriginRotated_best': DeviceArray(0.18061183, dtype=float32), 'Schwefel_best': DeviceArray(1.7455772, dtype=float32), 'BuecheRastrigin_best': DeviceArray(-19.632053, dtype=float32), 'AttractiveSector_best': DeviceArray(0.00304666, dtype=float32), 'Weierstrass_best': DeviceArray(0.00488196, dtype=float32), 'SchaffersF7_best': DeviceArray(0.02312254, dtype=float32), 'GriewankRosenbrock_best': DeviceArray(0.00078869, dtype=float32), 'EllipsoidalOriginal_best': DeviceArray(0.13971013, dtype=float32), 'RastriginOriginal_best': DeviceArray(0.2975993, dtype=float32), 'LinearSlope_best': DeviceArray(-8.043311, dtype=float32), 'StepEllipsoidal_best': DeviceArray(0.2870805, dtype=float32), 'RosenbrockOriginal_best': DeviceArray(0.00416062, dtype=float32), 'EllipsoidalRotated_best': DeviceArray(0.20117807, dtype=float32), 'BentCigar_best': DeviceArray(0.10777414, dtype=float32), 'SharpRidge_best': DeviceArray(0.22436014, dtype=float32), 'DifferentPowers_best': DeviceArray(0.00039455, dtype=float32), 'SchaffersF7IllConditioned_best': DeviceArray(0.1710879, dtype=float32), 'Lunacek_best': DeviceArray(3.3457057, dtype=float32), 'Gallagher101Me_best': DeviceArray(1.4531567e-07, dtype=float32), 'Gallagher21Hi_best': DeviceArray(3.4213153e-06, dtype=float32)}\n",
      "\n"
     ]
    },
    {
     "data": {
      "text/html": [
       "<pre style=\"white-space:pre;overflow-x:auto;line-height:normal;font-family:Menlo,'DejaVu Sans Mono',consolas,'Courier New',monospace\">   ┏━━━━━━━━━━━━━━━┳━━━━┳━━━━━━━━━┳━━━━━━━━━━━━━━━━━━━━━━━━━━━━━━━━━━━━━━━━┓    \n",
       "   ┃<span style=\"font-weight: bold\"> 📥 Total: 33  </span>┃<span style=\"font-weight: bold\"> ID </span>┃<span style=\"font-weight: bold\"> Obj. 📉 </span>┃<span style=\"font-weight: bold\"> Configuration 🔖 - 06/12/2023 16:13:56 </span>┃    \n",
       "   ┡━━━━━━━━━━━━━━━╇━━━━╇━━━━━━━━━╇━━━━━━━━━━━━━━━━━━━━━━━━━━━━━━━━━━━━━━━━┩    \n",
       "   │<span style=\"color: #7f7f7f; text-decoration-color: #7f7f7f\"> Best Overall  </span>│ 15 │ -3.348  │ 'sigma_init': 0.053                    │    \n",
       "   │<span style=\"color: #7f7f7f; text-decoration-color: #7f7f7f\"> Best in Batch </span>│ 32 │ -15.371 │ 'sigma_init': 0.234                    │    \n",
       "   └───────────────┴────┴─────────┴────────────────────────────────────────┘    \n",
       "</pre>\n"
      ],
      "text/plain": [
       "   ┏━━━━━━━━━━━━━━━┳━━━━┳━━━━━━━━━┳━━━━━━━━━━━━━━━━━━━━━━━━━━━━━━━━━━━━━━━━┓    \n",
       "   ┃\u001b[1m \u001b[0m\u001b[1m📥 Total: 33 \u001b[0m\u001b[1m \u001b[0m┃\u001b[1m \u001b[0m\u001b[1mID\u001b[0m\u001b[1m \u001b[0m┃\u001b[1m \u001b[0m\u001b[1mObj. 📉\u001b[0m\u001b[1m \u001b[0m┃\u001b[1m \u001b[0m\u001b[1mConfiguration 🔖 - 06/12/2023 16:13:56\u001b[0m\u001b[1m \u001b[0m┃    \n",
       "   ┡━━━━━━━━━━━━━━━╇━━━━╇━━━━━━━━━╇━━━━━━━━━━━━━━━━━━━━━━━━━━━━━━━━━━━━━━━━┩    \n",
       "   │\u001b[2m \u001b[0m\u001b[2mBest Overall \u001b[0m\u001b[2m \u001b[0m│ 15 │ -3.348  │ 'sigma_init': 0.053                    │    \n",
       "   │\u001b[2m \u001b[0m\u001b[2mBest in Batch\u001b[0m\u001b[2m \u001b[0m│ 32 │ -15.371 │ 'sigma_init': 0.234                    │    \n",
       "   └───────────────┴────┴─────────┴────────────────────────────────────────┘    \n"
      ]
     },
     "metadata": {},
     "output_type": "display_data"
    },
    {
     "name": "stdout",
     "output_type": "stream",
     "text": [
      "bbob: START EVOLVING 2 PARAMETERS.\n",
      "{'num_gens': 50, 'iter_id': 33} {'Sphere_mean': DeviceArray(0.00017339, dtype=float32), 'RosenbrockRotated_mean': DeviceArray(0.25457898, dtype=float32), 'Discus_mean': DeviceArray(326.25473, dtype=float32), 'RastriginRotated_mean': DeviceArray(9.515458, dtype=float32), 'Schwefel_mean': DeviceArray(2.8449283, dtype=float32), 'BuecheRastrigin_mean': DeviceArray(-2.6667745, dtype=float32), 'AttractiveSector_mean': DeviceArray(0.0614952, dtype=float32), 'Weierstrass_mean': DeviceArray(0.22888999, dtype=float32), 'SchaffersF7_mean': DeviceArray(0.19556813, dtype=float32), 'GriewankRosenbrock_mean': DeviceArray(11.392036, dtype=float32), 'EllipsoidalOriginal_mean': DeviceArray(14.6178665, dtype=float32), 'RastriginOriginal_mean': DeviceArray(3.556135, dtype=float32), 'LinearSlope_mean': DeviceArray(-24.852833, dtype=float32), 'StepEllipsoidal_mean': DeviceArray(1.4197363, dtype=float32), 'RosenbrockOriginal_mean': DeviceArray(0.30435264, dtype=float32), 'EllipsoidalRotated_mean': DeviceArray(64.35475, dtype=float32), 'BentCigar_mean': DeviceArray(16.267776, dtype=float32), 'SharpRidge_mean': DeviceArray(2.2845085, dtype=float32), 'DifferentPowers_mean': DeviceArray(0.00984755, dtype=float32), 'SchaffersF7IllConditioned_mean': DeviceArray(1.7563527, dtype=float32), 'Lunacek_mean': DeviceArray(28.876291, dtype=float32), 'Gallagher101Me_mean': DeviceArray(0.00194367, dtype=float32), 'Gallagher21Hi_mean': DeviceArray(0.01303909, dtype=float32), 'Sphere_best': DeviceArray(4.392483e-05, dtype=float32), 'RosenbrockRotated_best': DeviceArray(0.06891965, dtype=float32), 'Discus_best': DeviceArray(0.48389608, dtype=float32), 'RastriginRotated_best': DeviceArray(0.09451603, dtype=float32), 'Schwefel_best': DeviceArray(1.708963, dtype=float32), 'BuecheRastrigin_best': DeviceArray(-19.390629, dtype=float32), 'AttractiveSector_best': DeviceArray(0.00432791, dtype=float32), 'Weierstrass_best': DeviceArray(0.0252115, dtype=float32), 'SchaffersF7_best': DeviceArray(0.03408158, dtype=float32), 'GriewankRosenbrock_best': DeviceArray(0.00763245, dtype=float32), 'EllipsoidalOriginal_best': DeviceArray(0.4221823, dtype=float32), 'RastriginOriginal_best': DeviceArray(0.20310345, dtype=float32), 'LinearSlope_best': DeviceArray(-27.171995, dtype=float32), 'StepEllipsoidal_best': DeviceArray(0.43062097, dtype=float32), 'RosenbrockOriginal_best': DeviceArray(0.00513211, dtype=float32), 'EllipsoidalRotated_best': DeviceArray(0.39660504, dtype=float32), 'BentCigar_best': DeviceArray(0.14411013, dtype=float32), 'SharpRidge_best': DeviceArray(0.29620722, dtype=float32), 'DifferentPowers_best': DeviceArray(0.00049356, dtype=float32), 'SchaffersF7IllConditioned_best': DeviceArray(0.19644044, dtype=float32), 'Lunacek_best': DeviceArray(1.9001684, dtype=float32), 'Gallagher101Me_best': DeviceArray(6.796833e-07, dtype=float32), 'Gallagher21Hi_best': DeviceArray(1.1069648e-05, dtype=float32)}\n",
      "\n"
     ]
    },
    {
     "data": {
      "text/html": [
       "<pre style=\"white-space:pre;overflow-x:auto;line-height:normal;font-family:Menlo,'DejaVu Sans Mono',consolas,'Courier New',monospace\">   ┏━━━━━━━━━━━━━━━┳━━━━┳━━━━━━━━━┳━━━━━━━━━━━━━━━━━━━━━━━━━━━━━━━━━━━━━━━━┓    \n",
       "   ┃<span style=\"font-weight: bold\"> 📥 Total: 34  </span>┃<span style=\"font-weight: bold\"> ID </span>┃<span style=\"font-weight: bold\"> Obj. 📉 </span>┃<span style=\"font-weight: bold\"> Configuration 🔖 - 06/12/2023 16:14:25 </span>┃    \n",
       "   ┡━━━━━━━━━━━━━━━╇━━━━╇━━━━━━━━━╇━━━━━━━━━━━━━━━━━━━━━━━━━━━━━━━━━━━━━━━━┩    \n",
       "   │<span style=\"color: #7f7f7f; text-decoration-color: #7f7f7f\"> Best Overall  </span>│ 15 │ -3.348  │ 'sigma_init': 0.053                    │    \n",
       "   │<span style=\"color: #7f7f7f; text-decoration-color: #7f7f7f\"> Best in Batch </span>│ 33 │ -19.856 │ 'sigma_init': 0.289                    │    \n",
       "   └───────────────┴────┴─────────┴────────────────────────────────────────┘    \n",
       "</pre>\n"
      ],
      "text/plain": [
       "   ┏━━━━━━━━━━━━━━━┳━━━━┳━━━━━━━━━┳━━━━━━━━━━━━━━━━━━━━━━━━━━━━━━━━━━━━━━━━┓    \n",
       "   ┃\u001b[1m \u001b[0m\u001b[1m📥 Total: 34 \u001b[0m\u001b[1m \u001b[0m┃\u001b[1m \u001b[0m\u001b[1mID\u001b[0m\u001b[1m \u001b[0m┃\u001b[1m \u001b[0m\u001b[1mObj. 📉\u001b[0m\u001b[1m \u001b[0m┃\u001b[1m \u001b[0m\u001b[1mConfiguration 🔖 - 06/12/2023 16:14:25\u001b[0m\u001b[1m \u001b[0m┃    \n",
       "   ┡━━━━━━━━━━━━━━━╇━━━━╇━━━━━━━━━╇━━━━━━━━━━━━━━━━━━━━━━━━━━━━━━━━━━━━━━━━┩    \n",
       "   │\u001b[2m \u001b[0m\u001b[2mBest Overall \u001b[0m\u001b[2m \u001b[0m│ 15 │ -3.348  │ 'sigma_init': 0.053                    │    \n",
       "   │\u001b[2m \u001b[0m\u001b[2mBest in Batch\u001b[0m\u001b[2m \u001b[0m│ 33 │ -19.856 │ 'sigma_init': 0.289                    │    \n",
       "   └───────────────┴────┴─────────┴────────────────────────────────────────┘    \n"
      ]
     },
     "metadata": {},
     "output_type": "display_data"
    },
    {
     "name": "stdout",
     "output_type": "stream",
     "text": [
      "bbob: START EVOLVING 2 PARAMETERS.\n",
      "{'num_gens': 50, 'iter_id': 34} {'Sphere_mean': DeviceArray(7.683546e-07, dtype=float32), 'RosenbrockRotated_mean': DeviceArray(0.10435422, dtype=float32), 'Discus_mean': DeviceArray(0.9434652, dtype=float32), 'RastriginRotated_mean': DeviceArray(0.00291601, dtype=float32), 'Schwefel_mean': DeviceArray(1431.8633, dtype=float32), 'BuecheRastrigin_mean': DeviceArray(-19.98816, dtype=float32), 'AttractiveSector_mean': DeviceArray(5.5651255, dtype=float32), 'Weierstrass_mean': DeviceArray(0.00269164, dtype=float32), 'SchaffersF7_mean': DeviceArray(0.0130155, dtype=float32), 'GriewankRosenbrock_mean': DeviceArray(2.2506714e-05, dtype=float32), 'EllipsoidalOriginal_mean': DeviceArray(0.04325657, dtype=float32), 'RastriginOriginal_mean': DeviceArray(0.00131842, dtype=float32), 'LinearSlope_mean': DeviceArray(66.619934, dtype=float32), 'StepEllipsoidal_mean': DeviceArray(4.595521e-08, dtype=float32), 'RosenbrockOriginal_mean': DeviceArray(0.00034661, dtype=float32), 'EllipsoidalRotated_mean': DeviceArray(0.66811466, dtype=float32), 'BentCigar_mean': DeviceArray(0.13866065, dtype=float32), 'SharpRidge_mean': DeviceArray(0.1613918, dtype=float32), 'DifferentPowers_mean': DeviceArray(0.0004362, dtype=float32), 'SchaffersF7IllConditioned_mean': DeviceArray(0.17498764, dtype=float32), 'Lunacek_mean': DeviceArray(13.435454, dtype=float32), 'Gallagher101Me_mean': DeviceArray(2.7276512e-08, dtype=float32), 'Gallagher21Hi_mean': DeviceArray(2.8973977e-07, dtype=float32), 'Sphere_best': DeviceArray(1.9464277e-07, dtype=float32), 'RosenbrockRotated_best': DeviceArray(0.10006139, dtype=float32), 'Discus_best': DeviceArray(0.00309404, dtype=float32), 'RastriginRotated_best': DeviceArray(0.000202, dtype=float32), 'Schwefel_best': DeviceArray(1388.5883, dtype=float32), 'BuecheRastrigin_best': DeviceArray(-19.99941, dtype=float32), 'AttractiveSector_best': DeviceArray(5.4430795, dtype=float32), 'Weierstrass_best': DeviceArray(4.916647e-05, dtype=float32), 'SchaffersF7_best': DeviceArray(0.00162294, dtype=float32), 'GriewankRosenbrock_best': DeviceArray(1.9073487e-07, dtype=float32), 'EllipsoidalOriginal_best': DeviceArray(0.00164774, dtype=float32), 'RastriginOriginal_best': DeviceArray(0.00016774, dtype=float32), 'LinearSlope_best': DeviceArray(66.46555, dtype=float32), 'StepEllipsoidal_best': DeviceArray(1.3744773e-09, dtype=float32), 'RosenbrockOriginal_best': DeviceArray(2.7614238e-05, dtype=float32), 'EllipsoidalRotated_best': DeviceArray(0.00121872, dtype=float32), 'BentCigar_best': DeviceArray(0.00043658, dtype=float32), 'SharpRidge_best': DeviceArray(0.01270345, dtype=float32), 'DifferentPowers_best': DeviceArray(4.553569e-05, dtype=float32), 'SchaffersF7IllConditioned_best': DeviceArray(0.00794865, dtype=float32), 'Lunacek_best': DeviceArray(12.203406, dtype=float32), 'Gallagher101Me_best': DeviceArray(5.588869e-12, dtype=float32), 'Gallagher21Hi_best': DeviceArray(1.500463e-10, dtype=float32)}\n",
      "\n"
     ]
    },
    {
     "data": {
      "text/html": [
       "<pre style=\"white-space:pre;overflow-x:auto;line-height:normal;font-family:Menlo,'DejaVu Sans Mono',consolas,'Courier New',monospace\">   ┏━━━━━━━━━━━━━━━┳━━━━┳━━━━━━━━━┳━━━━━━━━━━━━━━━━━━━━━━━━━━━━━━━━━━━━━━━━┓    \n",
       "   ┃<span style=\"font-weight: bold\"> 📥 Total: 35  </span>┃<span style=\"font-weight: bold\"> ID </span>┃<span style=\"font-weight: bold\"> Obj. 📉 </span>┃<span style=\"font-weight: bold\"> Configuration 🔖 - 06/12/2023 16:14:56 </span>┃    \n",
       "   ┡━━━━━━━━━━━━━━━╇━━━━╇━━━━━━━━━╇━━━━━━━━━━━━━━━━━━━━━━━━━━━━━━━━━━━━━━━━┩    \n",
       "   │<span style=\"color: #7f7f7f; text-decoration-color: #7f7f7f\"> Best Overall  </span>│ 15 │ -3.348  │ 'sigma_init': 0.053                    │    \n",
       "   │<span style=\"color: #7f7f7f; text-decoration-color: #7f7f7f\"> Best in Batch </span>│ 34 │ -65.207 │ 'sigma_init': 0.019                    │    \n",
       "   └───────────────┴────┴─────────┴────────────────────────────────────────┘    \n",
       "</pre>\n"
      ],
      "text/plain": [
       "   ┏━━━━━━━━━━━━━━━┳━━━━┳━━━━━━━━━┳━━━━━━━━━━━━━━━━━━━━━━━━━━━━━━━━━━━━━━━━┓    \n",
       "   ┃\u001b[1m \u001b[0m\u001b[1m📥 Total: 35 \u001b[0m\u001b[1m \u001b[0m┃\u001b[1m \u001b[0m\u001b[1mID\u001b[0m\u001b[1m \u001b[0m┃\u001b[1m \u001b[0m\u001b[1mObj. 📉\u001b[0m\u001b[1m \u001b[0m┃\u001b[1m \u001b[0m\u001b[1mConfiguration 🔖 - 06/12/2023 16:14:56\u001b[0m\u001b[1m \u001b[0m┃    \n",
       "   ┡━━━━━━━━━━━━━━━╇━━━━╇━━━━━━━━━╇━━━━━━━━━━━━━━━━━━━━━━━━━━━━━━━━━━━━━━━━┩    \n",
       "   │\u001b[2m \u001b[0m\u001b[2mBest Overall \u001b[0m\u001b[2m \u001b[0m│ 15 │ -3.348  │ 'sigma_init': 0.053                    │    \n",
       "   │\u001b[2m \u001b[0m\u001b[2mBest in Batch\u001b[0m\u001b[2m \u001b[0m│ 34 │ -65.207 │ 'sigma_init': 0.019                    │    \n",
       "   └───────────────┴────┴─────────┴────────────────────────────────────────┘    \n"
      ]
     },
     "metadata": {},
     "output_type": "display_data"
    },
    {
     "name": "stdout",
     "output_type": "stream",
     "text": [
      "bbob: START EVOLVING 2 PARAMETERS.\n",
      "{'num_gens': 50, 'iter_id': 35} {'Sphere_mean': DeviceArray(0.00020358, dtype=float32), 'RosenbrockRotated_mean': DeviceArray(0.2845727, dtype=float32), 'Discus_mean': DeviceArray(362.1674, dtype=float32), 'RastriginRotated_mean': DeviceArray(14.238975, dtype=float32), 'Schwefel_mean': DeviceArray(3.232599, dtype=float32), 'BuecheRastrigin_mean': DeviceArray(14.680074, dtype=float32), 'AttractiveSector_mean': DeviceArray(0.07486325, dtype=float32), 'Weierstrass_mean': DeviceArray(0.30592307, dtype=float32), 'SchaffersF7_mean': DeviceArray(0.19244096, dtype=float32), 'GriewankRosenbrock_mean': DeviceArray(15.566032, dtype=float32), 'EllipsoidalOriginal_mean': DeviceArray(13.644439, dtype=float32), 'RastriginOriginal_mean': DeviceArray(18.49353, dtype=float32), 'LinearSlope_mean': DeviceArray(-33.041035, dtype=float32), 'StepEllipsoidal_mean': DeviceArray(1.1796328, dtype=float32), 'RosenbrockOriginal_mean': DeviceArray(0.34629697, dtype=float32), 'EllipsoidalRotated_mean': DeviceArray(61.04441, dtype=float32), 'BentCigar_mean': DeviceArray(15.389066, dtype=float32), 'SharpRidge_mean': DeviceArray(2.5319433, dtype=float32), 'DifferentPowers_mean': DeviceArray(0.01072753, dtype=float32), 'SchaffersF7IllConditioned_mean': DeviceArray(2.228101, dtype=float32), 'Lunacek_mean': DeviceArray(19.980423, dtype=float32), 'Gallagher101Me_mean': DeviceArray(0.00018177, dtype=float32), 'Gallagher21Hi_mean': DeviceArray(0.9191252, dtype=float32), 'Sphere_best': DeviceArray(5.1571576e-05, dtype=float32), 'RosenbrockRotated_best': DeviceArray(0.05481836, dtype=float32), 'Discus_best': DeviceArray(0.3919694, dtype=float32), 'RastriginRotated_best': DeviceArray(0.21519874, dtype=float32), 'Schwefel_best': DeviceArray(1.7183355, dtype=float32), 'BuecheRastrigin_best': DeviceArray(-19.518059, dtype=float32), 'AttractiveSector_best': DeviceArray(0.00620728, dtype=float32), 'Weierstrass_best': DeviceArray(0.01055864, dtype=float32), 'SchaffersF7_best': DeviceArray(0.01925986, dtype=float32), 'GriewankRosenbrock_best': DeviceArray(0.01055775, dtype=float32), 'EllipsoidalOriginal_best': DeviceArray(0.5667132, dtype=float32), 'RastriginOriginal_best': DeviceArray(0.06774338, dtype=float32), 'LinearSlope_best': DeviceArray(-35.55398, dtype=float32), 'StepEllipsoidal_best': DeviceArray(0.430621, dtype=float32), 'RosenbrockOriginal_best': DeviceArray(0.01486618, dtype=float32), 'EllipsoidalRotated_best': DeviceArray(0.5678775, dtype=float32), 'BentCigar_best': DeviceArray(0.2044159, dtype=float32), 'SharpRidge_best': DeviceArray(0.27610883, dtype=float32), 'DifferentPowers_best': DeviceArray(0.00070731, dtype=float32), 'SchaffersF7IllConditioned_best': DeviceArray(0.12991674, dtype=float32), 'Lunacek_best': DeviceArray(1.0971638, dtype=float32), 'Gallagher101Me_best': DeviceArray(8.3628237e-07, dtype=float32), 'Gallagher21Hi_best': DeviceArray(0.00316652, dtype=float32)}\n",
      "\n"
     ]
    },
    {
     "data": {
      "text/html": [
       "<pre style=\"white-space:pre;overflow-x:auto;line-height:normal;font-family:Menlo,'DejaVu Sans Mono',consolas,'Courier New',monospace\">   ┏━━━━━━━━━━━━━━━┳━━━━┳━━━━━━━━━┳━━━━━━━━━━━━━━━━━━━━━━━━━━━━━━━━━━━━━━━━┓    \n",
       "   ┃<span style=\"font-weight: bold\"> 📥 Total: 36  </span>┃<span style=\"font-weight: bold\"> ID </span>┃<span style=\"font-weight: bold\"> Obj. 📉 </span>┃<span style=\"font-weight: bold\"> Configuration 🔖 - 06/12/2023 16:15:25 </span>┃    \n",
       "   ┡━━━━━━━━━━━━━━━╇━━━━╇━━━━━━━━━╇━━━━━━━━━━━━━━━━━━━━━━━━━━━━━━━━━━━━━━━━┩    \n",
       "   │<span style=\"color: #7f7f7f; text-decoration-color: #7f7f7f\"> Best Overall  </span>│ 15 │ -3.348  │ 'sigma_init': 0.053                    │    \n",
       "   │<span style=\"color: #7f7f7f; text-decoration-color: #7f7f7f\"> Best in Batch </span>│ 35 │ -22.325 │ 'sigma_init': 0.313                    │    \n",
       "   └───────────────┴────┴─────────┴────────────────────────────────────────┘    \n",
       "</pre>\n"
      ],
      "text/plain": [
       "   ┏━━━━━━━━━━━━━━━┳━━━━┳━━━━━━━━━┳━━━━━━━━━━━━━━━━━━━━━━━━━━━━━━━━━━━━━━━━┓    \n",
       "   ┃\u001b[1m \u001b[0m\u001b[1m📥 Total: 36 \u001b[0m\u001b[1m \u001b[0m┃\u001b[1m \u001b[0m\u001b[1mID\u001b[0m\u001b[1m \u001b[0m┃\u001b[1m \u001b[0m\u001b[1mObj. 📉\u001b[0m\u001b[1m \u001b[0m┃\u001b[1m \u001b[0m\u001b[1mConfiguration 🔖 - 06/12/2023 16:15:25\u001b[0m\u001b[1m \u001b[0m┃    \n",
       "   ┡━━━━━━━━━━━━━━━╇━━━━╇━━━━━━━━━╇━━━━━━━━━━━━━━━━━━━━━━━━━━━━━━━━━━━━━━━━┩    \n",
       "   │\u001b[2m \u001b[0m\u001b[2mBest Overall \u001b[0m\u001b[2m \u001b[0m│ 15 │ -3.348  │ 'sigma_init': 0.053                    │    \n",
       "   │\u001b[2m \u001b[0m\u001b[2mBest in Batch\u001b[0m\u001b[2m \u001b[0m│ 35 │ -22.325 │ 'sigma_init': 0.313                    │    \n",
       "   └───────────────┴────┴─────────┴────────────────────────────────────────┘    \n"
      ]
     },
     "metadata": {},
     "output_type": "display_data"
    },
    {
     "name": "stdout",
     "output_type": "stream",
     "text": [
      "bbob: START EVOLVING 2 PARAMETERS.\n",
      "{'num_gens': 50, 'iter_id': 36} {'Sphere_mean': DeviceArray(0.00020006, dtype=float32), 'RosenbrockRotated_mean': DeviceArray(0.26912436, dtype=float32), 'Discus_mean': DeviceArray(368.0254, dtype=float32), 'RastriginRotated_mean': DeviceArray(6.4149866, dtype=float32), 'Schwefel_mean': DeviceArray(2.9724398, dtype=float32), 'BuecheRastrigin_mean': DeviceArray(0.80120564, dtype=float32), 'AttractiveSector_mean': DeviceArray(0.09054913, dtype=float32), 'Weierstrass_mean': DeviceArray(1.0764315, dtype=float32), 'SchaffersF7_mean': DeviceArray(0.19854794, dtype=float32), 'GriewankRosenbrock_mean': DeviceArray(6.7541704, dtype=float32), 'EllipsoidalOriginal_mean': DeviceArray(13.412714, dtype=float32), 'RastriginOriginal_mean': DeviceArray(7.5135393, dtype=float32), 'LinearSlope_mean': DeviceArray(-32.11909, dtype=float32), 'StepEllipsoidal_mean': DeviceArray(1.3231727, dtype=float32), 'RosenbrockOriginal_mean': DeviceArray(0.33447263, dtype=float32), 'EllipsoidalRotated_mean': DeviceArray(59.901306, dtype=float32), 'BentCigar_mean': DeviceArray(21.637964, dtype=float32), 'SharpRidge_mean': DeviceArray(1.885099, dtype=float32), 'DifferentPowers_mean': DeviceArray(0.01049235, dtype=float32), 'SchaffersF7IllConditioned_mean': DeviceArray(1.4809824, dtype=float32), 'Lunacek_mean': DeviceArray(25.13071, dtype=float32), 'Gallagher101Me_mean': DeviceArray(0.00017566, dtype=float32), 'Gallagher21Hi_mean': DeviceArray(0.01802717, dtype=float32), 'Sphere_best': DeviceArray(5.0679933e-05, dtype=float32), 'RosenbrockRotated_best': DeviceArray(0.08148457, dtype=float32), 'Discus_best': DeviceArray(0.3824698, dtype=float32), 'RastriginRotated_best': DeviceArray(0.54490155, dtype=float32), 'Schwefel_best': DeviceArray(1.4899911, dtype=float32), 'BuecheRastrigin_best': DeviceArray(-19.173157, dtype=float32), 'AttractiveSector_best': DeviceArray(0.00509512, dtype=float32), 'Weierstrass_best': DeviceArray(0.01264941, dtype=float32), 'SchaffersF7_best': DeviceArray(0.02351866, dtype=float32), 'GriewankRosenbrock_best': DeviceArray(0.00253887, dtype=float32), 'EllipsoidalOriginal_best': DeviceArray(0.55840695, dtype=float32), 'RastriginOriginal_best': DeviceArray(0.38744769, dtype=float32), 'LinearSlope_best': DeviceArray(-34.610226, dtype=float32), 'StepEllipsoidal_best': DeviceArray(0.430621, dtype=float32), 'RosenbrockOriginal_best': DeviceArray(0.01465174, dtype=float32), 'EllipsoidalRotated_best': DeviceArray(0.5595654, dtype=float32), 'BentCigar_best': DeviceArray(0.19771534, dtype=float32), 'SharpRidge_best': DeviceArray(0.335111, dtype=float32), 'DifferentPowers_best': DeviceArray(0.00070033, dtype=float32), 'SchaffersF7IllConditioned_best': DeviceArray(0.11060768, dtype=float32), 'Lunacek_best': DeviceArray(2.8297791, dtype=float32), 'Gallagher101Me_best': DeviceArray(8.1619646e-07, dtype=float32), 'Gallagher21Hi_best': DeviceArray(2.8143753e-05, dtype=float32)}\n",
      "\n"
     ]
    },
    {
     "data": {
      "text/html": [
       "<pre style=\"white-space:pre;overflow-x:auto;line-height:normal;font-family:Menlo,'DejaVu Sans Mono',consolas,'Courier New',monospace\">   ┏━━━━━━━━━━━━━━━┳━━━━┳━━━━━━━━━┳━━━━━━━━━━━━━━━━━━━━━━━━━━━━━━━━━━━━━━━━┓    \n",
       "   ┃<span style=\"font-weight: bold\"> 📥 Total: 37  </span>┃<span style=\"font-weight: bold\"> ID </span>┃<span style=\"font-weight: bold\"> Obj. 📉 </span>┃<span style=\"font-weight: bold\"> Configuration 🔖 - 06/12/2023 16:15:55 </span>┃    \n",
       "   ┡━━━━━━━━━━━━━━━╇━━━━╇━━━━━━━━━╇━━━━━━━━━━━━━━━━━━━━━━━━━━━━━━━━━━━━━━━━┩    \n",
       "   │<span style=\"color: #7f7f7f; text-decoration-color: #7f7f7f\"> Best Overall  </span>│ 15 │ -3.348  │ 'sigma_init': 0.053                    │    \n",
       "   │<span style=\"color: #7f7f7f; text-decoration-color: #7f7f7f\"> Best in Batch </span>│ 36 │ -21.18  │ 'sigma_init': 0.31                     │    \n",
       "   └───────────────┴────┴─────────┴────────────────────────────────────────┘    \n",
       "</pre>\n"
      ],
      "text/plain": [
       "   ┏━━━━━━━━━━━━━━━┳━━━━┳━━━━━━━━━┳━━━━━━━━━━━━━━━━━━━━━━━━━━━━━━━━━━━━━━━━┓    \n",
       "   ┃\u001b[1m \u001b[0m\u001b[1m📥 Total: 37 \u001b[0m\u001b[1m \u001b[0m┃\u001b[1m \u001b[0m\u001b[1mID\u001b[0m\u001b[1m \u001b[0m┃\u001b[1m \u001b[0m\u001b[1mObj. 📉\u001b[0m\u001b[1m \u001b[0m┃\u001b[1m \u001b[0m\u001b[1mConfiguration 🔖 - 06/12/2023 16:15:55\u001b[0m\u001b[1m \u001b[0m┃    \n",
       "   ┡━━━━━━━━━━━━━━━╇━━━━╇━━━━━━━━━╇━━━━━━━━━━━━━━━━━━━━━━━━━━━━━━━━━━━━━━━━┩    \n",
       "   │\u001b[2m \u001b[0m\u001b[2mBest Overall \u001b[0m\u001b[2m \u001b[0m│ 15 │ -3.348  │ 'sigma_init': 0.053                    │    \n",
       "   │\u001b[2m \u001b[0m\u001b[2mBest in Batch\u001b[0m\u001b[2m \u001b[0m│ 36 │ -21.18  │ 'sigma_init': 0.31                     │    \n",
       "   └───────────────┴────┴─────────┴────────────────────────────────────────┘    \n"
      ]
     },
     "metadata": {},
     "output_type": "display_data"
    },
    {
     "name": "stdout",
     "output_type": "stream",
     "text": [
      "bbob: START EVOLVING 2 PARAMETERS.\n",
      "{'num_gens': 50, 'iter_id': 37} {'Sphere_mean': DeviceArray(0.00020313, dtype=float32), 'RosenbrockRotated_mean': DeviceArray(0.28826907, dtype=float32), 'Discus_mean': DeviceArray(373.0754, dtype=float32), 'RastriginRotated_mean': DeviceArray(16.254276, dtype=float32), 'Schwefel_mean': DeviceArray(2.8556821, dtype=float32), 'BuecheRastrigin_mean': DeviceArray(13.351424, dtype=float32), 'AttractiveSector_mean': DeviceArray(0.08196878, dtype=float32), 'Weierstrass_mean': DeviceArray(0.81394416, dtype=float32), 'SchaffersF7_mean': DeviceArray(0.26918563, dtype=float32), 'GriewankRosenbrock_mean': DeviceArray(9.83312, dtype=float32), 'EllipsoidalOriginal_mean': DeviceArray(13.615107, dtype=float32), 'RastriginOriginal_mean': DeviceArray(14.3561125, dtype=float32), 'LinearSlope_mean': DeviceArray(-32.924294, dtype=float32), 'StepEllipsoidal_mean': DeviceArray(1.1796328, dtype=float32), 'RosenbrockOriginal_mean': DeviceArray(0.34860906, dtype=float32), 'EllipsoidalRotated_mean': DeviceArray(60.898693, dtype=float32), 'BentCigar_mean': DeviceArray(15.321372, dtype=float32), 'SharpRidge_mean': DeviceArray(2.528168, dtype=float32), 'DifferentPowers_mean': DeviceArray(0.01070805, dtype=float32), 'SchaffersF7IllConditioned_mean': DeviceArray(2.140339, dtype=float32), 'Lunacek_mean': DeviceArray(25.5949, dtype=float32), 'Gallagher101Me_mean': DeviceArray(0.00018098, dtype=float32), 'Gallagher21Hi_mean': DeviceArray(0.8102331, dtype=float32), 'Sphere_best': DeviceArray(5.1458675e-05, dtype=float32), 'RosenbrockRotated_best': DeviceArray(0.06036576, dtype=float32), 'Discus_best': DeviceArray(0.39072275, dtype=float32), 'RastriginRotated_best': DeviceArray(0.18533526, dtype=float32), 'Schwefel_best': DeviceArray(1.5947767, dtype=float32), 'BuecheRastrigin_best': DeviceArray(-19.656088, dtype=float32), 'AttractiveSector_best': DeviceArray(0.00263049, dtype=float32), 'Weierstrass_best': DeviceArray(0.00824435, dtype=float32), 'SchaffersF7_best': DeviceArray(0.02193934, dtype=float32), 'GriewankRosenbrock_best': DeviceArray(0.01611862, dtype=float32), 'EllipsoidalOriginal_best': DeviceArray(0.56565946, dtype=float32), 'RastriginOriginal_best': DeviceArray(0.06522106, dtype=float32), 'LinearSlope_best': DeviceArray(-35.43448, dtype=float32), 'StepEllipsoidal_best': DeviceArray(0.430621, dtype=float32), 'RosenbrockOriginal_best': DeviceArray(0.01483836, dtype=float32), 'EllipsoidalRotated_best': DeviceArray(0.56680423, dtype=float32), 'BentCigar_best': DeviceArray(0.2047878, dtype=float32), 'SharpRidge_best': DeviceArray(0.27560815, dtype=float32), 'DifferentPowers_best': DeviceArray(0.00070643, dtype=float32), 'SchaffersF7IllConditioned_best': DeviceArray(0.1114602, dtype=float32), 'Lunacek_best': DeviceArray(2.69695, dtype=float32), 'Gallagher101Me_best': DeviceArray(8.3356844e-07, dtype=float32), 'Gallagher21Hi_best': DeviceArray(0.00315781, dtype=float32)}\n",
      "\n"
     ]
    },
    {
     "data": {
      "text/html": [
       "<pre style=\"white-space:pre;overflow-x:auto;line-height:normal;font-family:Menlo,'DejaVu Sans Mono',consolas,'Courier New',monospace\">   ┏━━━━━━━━━━━━━━━┳━━━━┳━━━━━━━━━┳━━━━━━━━━━━━━━━━━━━━━━━━━━━━━━━━━━━━━━━━┓    \n",
       "   ┃<span style=\"font-weight: bold\"> 📥 Total: 38  </span>┃<span style=\"font-weight: bold\"> ID </span>┃<span style=\"font-weight: bold\"> Obj. 📉 </span>┃<span style=\"font-weight: bold\"> Configuration 🔖 - 06/12/2023 16:16:25 </span>┃    \n",
       "   ┡━━━━━━━━━━━━━━━╇━━━━╇━━━━━━━━━╇━━━━━━━━━━━━━━━━━━━━━━━━━━━━━━━━━━━━━━━━┩    \n",
       "   │<span style=\"color: #7f7f7f; text-decoration-color: #7f7f7f\"> Best Overall  </span>│ 15 │ -3.348  │ 'sigma_init': 0.053                    │    \n",
       "   │<span style=\"color: #7f7f7f; text-decoration-color: #7f7f7f\"> Best in Batch </span>│ 37 │ -22.639 │ 'sigma_init': 0.312                    │    \n",
       "   └───────────────┴────┴─────────┴────────────────────────────────────────┘    \n",
       "</pre>\n"
      ],
      "text/plain": [
       "   ┏━━━━━━━━━━━━━━━┳━━━━┳━━━━━━━━━┳━━━━━━━━━━━━━━━━━━━━━━━━━━━━━━━━━━━━━━━━┓    \n",
       "   ┃\u001b[1m \u001b[0m\u001b[1m📥 Total: 38 \u001b[0m\u001b[1m \u001b[0m┃\u001b[1m \u001b[0m\u001b[1mID\u001b[0m\u001b[1m \u001b[0m┃\u001b[1m \u001b[0m\u001b[1mObj. 📉\u001b[0m\u001b[1m \u001b[0m┃\u001b[1m \u001b[0m\u001b[1mConfiguration 🔖 - 06/12/2023 16:16:25\u001b[0m\u001b[1m \u001b[0m┃    \n",
       "   ┡━━━━━━━━━━━━━━━╇━━━━╇━━━━━━━━━╇━━━━━━━━━━━━━━━━━━━━━━━━━━━━━━━━━━━━━━━━┩    \n",
       "   │\u001b[2m \u001b[0m\u001b[2mBest Overall \u001b[0m\u001b[2m \u001b[0m│ 15 │ -3.348  │ 'sigma_init': 0.053                    │    \n",
       "   │\u001b[2m \u001b[0m\u001b[2mBest in Batch\u001b[0m\u001b[2m \u001b[0m│ 37 │ -22.639 │ 'sigma_init': 0.312                    │    \n",
       "   └───────────────┴────┴─────────┴────────────────────────────────────────┘    \n"
      ]
     },
     "metadata": {},
     "output_type": "display_data"
    },
    {
     "name": "stdout",
     "output_type": "stream",
     "text": [
      "bbob: START EVOLVING 2 PARAMETERS.\n",
      "{'num_gens': 50, 'iter_id': 38} {'Sphere_mean': DeviceArray(0.00046487, dtype=float32), 'RosenbrockRotated_mean': DeviceArray(0.4189178, dtype=float32), 'Discus_mean': DeviceArray(565.43475, dtype=float32), 'RastriginRotated_mean': DeviceArray(17.81543, dtype=float32), 'Schwefel_mean': DeviceArray(2.7667294, dtype=float32), 'BuecheRastrigin_mean': DeviceArray(13.083353, dtype=float32), 'AttractiveSector_mean': DeviceArray(0.1526869, dtype=float32), 'Weierstrass_mean': DeviceArray(6.3092055, dtype=float32), 'SchaffersF7_mean': DeviceArray(0.16177596, dtype=float32), 'GriewankRosenbrock_mean': DeviceArray(13.136642, dtype=float32), 'EllipsoidalOriginal_mean': DeviceArray(21.101917, dtype=float32), 'RastriginOriginal_mean': DeviceArray(17.633026, dtype=float32), 'LinearSlope_mean': DeviceArray(-87.31325, dtype=float32), 'StepEllipsoidal_mean': DeviceArray(1.4745407, dtype=float32), 'RosenbrockOriginal_mean': DeviceArray(0.6266008, dtype=float32), 'EllipsoidalRotated_mean': DeviceArray(170.55022, dtype=float32), 'BentCigar_mean': DeviceArray(66.33161, dtype=float32), 'SharpRidge_mean': DeviceArray(3.2528713, dtype=float32), 'DifferentPowers_mean': DeviceArray(0.00810812, dtype=float32), 'SchaffersF7IllConditioned_mean': DeviceArray(3.447083, dtype=float32), 'Lunacek_mean': DeviceArray(18.359877, dtype=float32), 'Gallagher101Me_mean': DeviceArray(1.1421709, dtype=float32), 'Gallagher21Hi_mean': DeviceArray(3.2908237, dtype=float32), 'Sphere_best': DeviceArray(0.00011776, dtype=float32), 'RosenbrockRotated_best': DeviceArray(0.04564499, dtype=float32), 'Discus_best': DeviceArray(1.5846922, dtype=float32), 'RastriginRotated_best': DeviceArray(0.8910985, dtype=float32), 'Schwefel_best': DeviceArray(0.7550613, dtype=float32), 'BuecheRastrigin_best': DeviceArray(-18.845488, dtype=float32), 'AttractiveSector_best': DeviceArray(0.0102225, dtype=float32), 'Weierstrass_best': DeviceArray(0.07511333, dtype=float32), 'SchaffersF7_best': DeviceArray(0.02606298, dtype=float32), 'GriewankRosenbrock_best': DeviceArray(0.00125828, dtype=float32), 'EllipsoidalOriginal_best': DeviceArray(1.1123972, dtype=float32), 'RastriginOriginal_best': DeviceArray(0.48944783, dtype=float32), 'LinearSlope_best': DeviceArray(-91.110596, dtype=float32), 'StepEllipsoidal_best': DeviceArray(1.1718047, dtype=float32), 'RosenbrockOriginal_best': DeviceArray(0.03580567, dtype=float32), 'EllipsoidalRotated_best': DeviceArray(0.29301816, dtype=float32), 'BentCigar_best': DeviceArray(0.19594692, dtype=float32), 'SharpRidge_best': DeviceArray(0.3648489, dtype=float32), 'DifferentPowers_best': DeviceArray(0.00091043, dtype=float32), 'SchaffersF7IllConditioned_best': DeviceArray(0.3016348, dtype=float32), 'Lunacek_best': DeviceArray(1.0333484, dtype=float32), 'Gallagher101Me_best': DeviceArray(0.02630579, dtype=float32), 'Gallagher21Hi_best': DeviceArray(0.19265567, dtype=float32)}\n",
      "\n"
     ]
    },
    {
     "data": {
      "text/html": [
       "<pre style=\"white-space:pre;overflow-x:auto;line-height:normal;font-family:Menlo,'DejaVu Sans Mono',consolas,'Courier New',monospace\">   ┏━━━━━━━━━━━━━━━┳━━━━┳━━━━━━━━━┳━━━━━━━━━━━━━━━━━━━━━━━━━━━━━━━━━━━━━━━━┓    \n",
       "   ┃<span style=\"font-weight: bold\"> 📥 Total: 39  </span>┃<span style=\"font-weight: bold\"> ID </span>┃<span style=\"font-weight: bold\"> Obj. 📉 </span>┃<span style=\"font-weight: bold\"> Configuration 🔖 - 06/12/2023 16:16:54 </span>┃    \n",
       "   ┡━━━━━━━━━━━━━━━╇━━━━╇━━━━━━━━━╇━━━━━━━━━━━━━━━━━━━━━━━━━━━━━━━━━━━━━━━━┩    \n",
       "   │<span style=\"color: #7f7f7f; text-decoration-color: #7f7f7f\"> Best Overall  </span>│ 15 │ -3.348  │ 'sigma_init': 0.053                    │    \n",
       "   │<span style=\"color: #7f7f7f; text-decoration-color: #7f7f7f\"> Best in Batch </span>│ 38 │ -36.486 │ 'sigma_init': 0.472                    │    \n",
       "   └───────────────┴────┴─────────┴────────────────────────────────────────┘    \n",
       "</pre>\n"
      ],
      "text/plain": [
       "   ┏━━━━━━━━━━━━━━━┳━━━━┳━━━━━━━━━┳━━━━━━━━━━━━━━━━━━━━━━━━━━━━━━━━━━━━━━━━┓    \n",
       "   ┃\u001b[1m \u001b[0m\u001b[1m📥 Total: 39 \u001b[0m\u001b[1m \u001b[0m┃\u001b[1m \u001b[0m\u001b[1mID\u001b[0m\u001b[1m \u001b[0m┃\u001b[1m \u001b[0m\u001b[1mObj. 📉\u001b[0m\u001b[1m \u001b[0m┃\u001b[1m \u001b[0m\u001b[1mConfiguration 🔖 - 06/12/2023 16:16:54\u001b[0m\u001b[1m \u001b[0m┃    \n",
       "   ┡━━━━━━━━━━━━━━━╇━━━━╇━━━━━━━━━╇━━━━━━━━━━━━━━━━━━━━━━━━━━━━━━━━━━━━━━━━┩    \n",
       "   │\u001b[2m \u001b[0m\u001b[2mBest Overall \u001b[0m\u001b[2m \u001b[0m│ 15 │ -3.348  │ 'sigma_init': 0.053                    │    \n",
       "   │\u001b[2m \u001b[0m\u001b[2mBest in Batch\u001b[0m\u001b[2m \u001b[0m│ 38 │ -36.486 │ 'sigma_init': 0.472                    │    \n",
       "   └───────────────┴────┴─────────┴────────────────────────────────────────┘    \n"
      ]
     },
     "metadata": {},
     "output_type": "display_data"
    },
    {
     "name": "stdout",
     "output_type": "stream",
     "text": [
      "bbob: START EVOLVING 2 PARAMETERS.\n",
      "{'num_gens': 50, 'iter_id': 39} {'Sphere_mean': DeviceArray(0.0002466, dtype=float32), 'RosenbrockRotated_mean': DeviceArray(0.3349832, dtype=float32), 'Discus_mean': DeviceArray(447.48868, dtype=float32), 'RastriginRotated_mean': DeviceArray(12.7360115, dtype=float32), 'Schwefel_mean': DeviceArray(3.6236496, dtype=float32), 'BuecheRastrigin_mean': DeviceArray(5.169311, dtype=float32), 'AttractiveSector_mean': DeviceArray(0.10264345, dtype=float32), 'Weierstrass_mean': DeviceArray(0.6893645, dtype=float32), 'SchaffersF7_mean': DeviceArray(0.19558945, dtype=float32), 'GriewankRosenbrock_mean': DeviceArray(4.8327336, dtype=float32), 'EllipsoidalOriginal_mean': DeviceArray(22.61534, dtype=float32), 'RastriginOriginal_mean': DeviceArray(9.979867, dtype=float32), 'LinearSlope_mean': DeviceArray(-43.722763, dtype=float32), 'StepEllipsoidal_mean': DeviceArray(1.753793, dtype=float32), 'RosenbrockOriginal_mean': DeviceArray(0.38090736, dtype=float32), 'EllipsoidalRotated_mean': DeviceArray(124.06475, dtype=float32), 'BentCigar_mean': DeviceArray(19.445461, dtype=float32), 'SharpRidge_mean': DeviceArray(2.7938764, dtype=float32), 'DifferentPowers_mean': DeviceArray(0.00741327, dtype=float32), 'SchaffersF7IllConditioned_mean': DeviceArray(3.051236, dtype=float32), 'Lunacek_mean': DeviceArray(24.864946, dtype=float32), 'Gallagher101Me_mean': DeviceArray(0.48669073, dtype=float32), 'Gallagher21Hi_mean': DeviceArray(1.1764807, dtype=float32), 'Sphere_best': DeviceArray(6.246943e-05, dtype=float32), 'RosenbrockRotated_best': DeviceArray(0.05441711, dtype=float32), 'Discus_best': DeviceArray(0.80365753, dtype=float32), 'RastriginRotated_best': DeviceArray(0.7255796, dtype=float32), 'Schwefel_best': DeviceArray(1.0087267, dtype=float32), 'BuecheRastrigin_best': DeviceArray(-19.387344, dtype=float32), 'AttractiveSector_best': DeviceArray(0.00453287, dtype=float32), 'Weierstrass_best': DeviceArray(0.0151739, dtype=float32), 'SchaffersF7_best': DeviceArray(0.05056867, dtype=float32), 'GriewankRosenbrock_best': DeviceArray(0.0013155, dtype=float32), 'EllipsoidalOriginal_best': DeviceArray(0.6949793, dtype=float32), 'RastriginOriginal_best': DeviceArray(0.16098477, dtype=float32), 'LinearSlope_best': DeviceArray(-46.488506, dtype=float32), 'StepEllipsoidal_best': DeviceArray(0.72552854, dtype=float32), 'RosenbrockOriginal_best': DeviceArray(0.02170177, dtype=float32), 'EllipsoidalRotated_best': DeviceArray(0.64533126, dtype=float32), 'BentCigar_best': DeviceArray(0.2318826, dtype=float32), 'SharpRidge_best': DeviceArray(0.3302439, dtype=float32), 'DifferentPowers_best': DeviceArray(0.00080121, dtype=float32), 'SchaffersF7IllConditioned_best': DeviceArray(0.25366345, dtype=float32), 'Lunacek_best': DeviceArray(1.4473263, dtype=float32), 'Gallagher101Me_best': DeviceArray(0.00801954, dtype=float32), 'Gallagher21Hi_best': DeviceArray(0.00107911, dtype=float32)}\n",
      "\n"
     ]
    },
    {
     "data": {
      "text/html": [
       "<pre style=\"white-space:pre;overflow-x:auto;line-height:normal;font-family:Menlo,'DejaVu Sans Mono',consolas,'Courier New',monospace\">   ┏━━━━━━━━━━━━━━━┳━━━━┳━━━━━━━━━┳━━━━━━━━━━━━━━━━━━━━━━━━━━━━━━━━━━━━━━━━┓    \n",
       "   ┃<span style=\"font-weight: bold\"> 📥 Total: 40  </span>┃<span style=\"font-weight: bold\"> ID </span>┃<span style=\"font-weight: bold\"> Obj. 📉 </span>┃<span style=\"font-weight: bold\"> Configuration 🔖 - 06/12/2023 16:17:23 </span>┃    \n",
       "   ┡━━━━━━━━━━━━━━━╇━━━━╇━━━━━━━━━╇━━━━━━━━━━━━━━━━━━━━━━━━━━━━━━━━━━━━━━━━┩    \n",
       "   │<span style=\"color: #7f7f7f; text-decoration-color: #7f7f7f\"> Best Overall  </span>│ 15 │ -3.348  │ 'sigma_init': 0.053                    │    \n",
       "   │<span style=\"color: #7f7f7f; text-decoration-color: #7f7f7f\"> Best in Batch </span>│ 39 │ -27.916 │ 'sigma_init': 0.344                    │    \n",
       "   └───────────────┴────┴─────────┴────────────────────────────────────────┘    \n",
       "</pre>\n"
      ],
      "text/plain": [
       "   ┏━━━━━━━━━━━━━━━┳━━━━┳━━━━━━━━━┳━━━━━━━━━━━━━━━━━━━━━━━━━━━━━━━━━━━━━━━━┓    \n",
       "   ┃\u001b[1m \u001b[0m\u001b[1m📥 Total: 40 \u001b[0m\u001b[1m \u001b[0m┃\u001b[1m \u001b[0m\u001b[1mID\u001b[0m\u001b[1m \u001b[0m┃\u001b[1m \u001b[0m\u001b[1mObj. 📉\u001b[0m\u001b[1m \u001b[0m┃\u001b[1m \u001b[0m\u001b[1mConfiguration 🔖 - 06/12/2023 16:17:23\u001b[0m\u001b[1m \u001b[0m┃    \n",
       "   ┡━━━━━━━━━━━━━━━╇━━━━╇━━━━━━━━━╇━━━━━━━━━━━━━━━━━━━━━━━━━━━━━━━━━━━━━━━━┩    \n",
       "   │\u001b[2m \u001b[0m\u001b[2mBest Overall \u001b[0m\u001b[2m \u001b[0m│ 15 │ -3.348  │ 'sigma_init': 0.053                    │    \n",
       "   │\u001b[2m \u001b[0m\u001b[2mBest in Batch\u001b[0m\u001b[2m \u001b[0m│ 39 │ -27.916 │ 'sigma_init': 0.344                    │    \n",
       "   └───────────────┴────┴─────────┴────────────────────────────────────────┘    \n"
      ]
     },
     "metadata": {},
     "output_type": "display_data"
    },
    {
     "data": {
      "text/html": [
       "<pre style=\"white-space:pre;overflow-x:auto;line-height:normal;font-family:Menlo,'DejaVu Sans Mono',consolas,'Courier New',monospace\">       <span style=\"font-style: italic\"> MLE-Hyperopt Random - 40 Evals - Top 10 - Refined Hyperspace 🚀 </span>        \n",
       "                                                                                \n",
       "        <span style=\"font-weight: bold\"> 🌻 Variable </span> <span style=\"font-weight: bold\"> Type </span> <span style=\"color: #800000; text-decoration-color: #800000; font-weight: bold\"> Search Range ↔                           </span>         \n",
       "        ───────────────────────────────────────────────────────────────         \n",
       "         sigma_init    real  <span style=\"color: #800000; text-decoration-color: #800000\"> Begin: 0.045, End: 0.234, Prior: uniform </span>         \n",
       "                                                                                \n",
       "</pre>\n"
      ],
      "text/plain": [
       "       \u001b[3m MLE-Hyperopt Random - 40 Evals - Top 10 - Refined Hyperspace 🚀 \u001b[0m        \n",
       "                                                                                \n",
       "        \u001b[1m \u001b[0m\u001b[1m🌻 Variable\u001b[0m\u001b[1m \u001b[0m \u001b[1m \u001b[0m\u001b[1mType\u001b[0m\u001b[1m \u001b[0m \u001b[1;31m \u001b[0m\u001b[1;31mSearch Range ↔                          \u001b[0m\u001b[1;31m \u001b[0m         \n",
       "        ───────────────────────────────────────────────────────────────         \n",
       "         sigma_init    real  \u001b[31m \u001b[0m\u001b[31mBegin: 0.045, End: 0.234, Prior: uniform\u001b[0m\u001b[31m \u001b[0m         \n",
       "                                                                                \n"
      ]
     },
     "metadata": {},
     "output_type": "display_data"
    },
    {
     "name": "stdout",
     "output_type": "stream",
     "text": [
      "bbob: START EVOLVING 2 PARAMETERS.\n",
      "{'num_gens': 50, 'iter_id': 40} {'Sphere_mean': DeviceArray(2.6570031e-05, dtype=float32), 'RosenbrockRotated_mean': DeviceArray(0.1558234, dtype=float32), 'Discus_mean': DeviceArray(34.120888, dtype=float32), 'RastriginRotated_mean': DeviceArray(0.08476529, dtype=float32), 'Schwefel_mean': DeviceArray(2.287239, dtype=float32), 'BuecheRastrigin_mean': DeviceArray(-18.966465, dtype=float32), 'AttractiveSector_mean': DeviceArray(0.02132243, dtype=float32), 'Weierstrass_mean': DeviceArray(0.03054016, dtype=float32), 'SchaffersF7_mean': DeviceArray(0.07331005, dtype=float32), 'GriewankRosenbrock_mean': DeviceArray(1.7583269, dtype=float32), 'EllipsoidalOriginal_mean': DeviceArray(3.1988409, dtype=float32), 'RastriginOriginal_mean': DeviceArray(0.02990141, dtype=float32), 'LinearSlope_mean': DeviceArray(34.78243, dtype=float32), 'StepEllipsoidal_mean': DeviceArray(0.57416046, dtype=float32), 'RosenbrockOriginal_mean': DeviceArray(0.02956348, dtype=float32), 'EllipsoidalRotated_mean': DeviceArray(9.445083, dtype=float32), 'BentCigar_mean': DeviceArray(2.570065, dtype=float32), 'SharpRidge_mean': DeviceArray(0.9501905, dtype=float32), 'DifferentPowers_mean': DeviceArray(0.0035099, dtype=float32), 'SchaffersF7IllConditioned_mean': DeviceArray(0.7311388, dtype=float32), 'Lunacek_mean': DeviceArray(25.348953, dtype=float32), 'Gallagher101Me_mean': DeviceArray(3.0374997e-05, dtype=float32), 'Gallagher21Hi_mean': DeviceArray(0.00026936, dtype=float32), 'Sphere_best': DeviceArray(6.7308356e-06, dtype=float32), 'RosenbrockRotated_best': DeviceArray(0.07129409, dtype=float32), 'Discus_best': DeviceArray(0.09092897, dtype=float32), 'RastriginRotated_best': DeviceArray(0.00540645, dtype=float32), 'Schwefel_best': DeviceArray(2.2138536, dtype=float32), 'BuecheRastrigin_best': DeviceArray(-19.972689, dtype=float32), 'AttractiveSector_best': DeviceArray(0.00089151, dtype=float32), 'Weierstrass_best': DeviceArray(0.00104272, dtype=float32), 'SchaffersF7_best': DeviceArray(0.00754105, dtype=float32), 'GriewankRosenbrock_best': DeviceArray(2.155304e-05, dtype=float32), 'EllipsoidalOriginal_best': DeviceArray(0.0541802, dtype=float32), 'RastriginOriginal_best': DeviceArray(0.00304134, dtype=float32), 'LinearSlope_best': DeviceArray(33.874584, dtype=float32), 'StepEllipsoidal_best': DeviceArray(1.3713053e-06, dtype=float32), 'RosenbrockOriginal_best': DeviceArray(0.00365432, dtype=float32), 'EllipsoidalRotated_best': DeviceArray(0.026816, dtype=float32), 'BentCigar_best': DeviceArray(0.02156829, dtype=float32), 'SharpRidge_best': DeviceArray(0.08787458, dtype=float32), 'DifferentPowers_best': DeviceArray(0.00039049, dtype=float32), 'SchaffersF7IllConditioned_best': DeviceArray(0.05922947, dtype=float32), 'Lunacek_best': DeviceArray(6.798735, dtype=float32), 'Gallagher101Me_best': DeviceArray(9.278837e-09, dtype=float32), 'Gallagher21Hi_best': DeviceArray(1.790098e-07, dtype=float32)}\n",
      "\n"
     ]
    },
    {
     "data": {
      "text/html": [
       "<pre style=\"white-space:pre;overflow-x:auto;line-height:normal;font-family:Menlo,'DejaVu Sans Mono',consolas,'Courier New',monospace\">   ┏━━━━━━━━━━━━━━━┳━━━━┳━━━━━━━━━┳━━━━━━━━━━━━━━━━━━━━━━━━━━━━━━━━━━━━━━━━┓    \n",
       "   ┃<span style=\"font-weight: bold\"> 📥 Total: 41  </span>┃<span style=\"font-weight: bold\"> ID </span>┃<span style=\"font-weight: bold\"> Obj. 📉 </span>┃<span style=\"font-weight: bold\"> Configuration 🔖 - 06/12/2023 16:17:51 </span>┃    \n",
       "   ┡━━━━━━━━━━━━━━━╇━━━━╇━━━━━━━━━╇━━━━━━━━━━━━━━━━━━━━━━━━━━━━━━━━━━━━━━━━┩    \n",
       "   │<span style=\"color: #7f7f7f; text-decoration-color: #7f7f7f\"> Best Overall  </span>│ 15 │ -3.348  │ 'sigma_init': 0.053                    │    \n",
       "   │<span style=\"color: #7f7f7f; text-decoration-color: #7f7f7f\"> Best in Batch </span>│ 40 │ -4.227  │ 'sigma_init': 0.113                    │    \n",
       "   └───────────────┴────┴─────────┴────────────────────────────────────────┘    \n",
       "</pre>\n"
      ],
      "text/plain": [
       "   ┏━━━━━━━━━━━━━━━┳━━━━┳━━━━━━━━━┳━━━━━━━━━━━━━━━━━━━━━━━━━━━━━━━━━━━━━━━━┓    \n",
       "   ┃\u001b[1m \u001b[0m\u001b[1m📥 Total: 41 \u001b[0m\u001b[1m \u001b[0m┃\u001b[1m \u001b[0m\u001b[1mID\u001b[0m\u001b[1m \u001b[0m┃\u001b[1m \u001b[0m\u001b[1mObj. 📉\u001b[0m\u001b[1m \u001b[0m┃\u001b[1m \u001b[0m\u001b[1mConfiguration 🔖 - 06/12/2023 16:17:51\u001b[0m\u001b[1m \u001b[0m┃    \n",
       "   ┡━━━━━━━━━━━━━━━╇━━━━╇━━━━━━━━━╇━━━━━━━━━━━━━━━━━━━━━━━━━━━━━━━━━━━━━━━━┩    \n",
       "   │\u001b[2m \u001b[0m\u001b[2mBest Overall \u001b[0m\u001b[2m \u001b[0m│ 15 │ -3.348  │ 'sigma_init': 0.053                    │    \n",
       "   │\u001b[2m \u001b[0m\u001b[2mBest in Batch\u001b[0m\u001b[2m \u001b[0m│ 40 │ -4.227  │ 'sigma_init': 0.113                    │    \n",
       "   └───────────────┴────┴─────────┴────────────────────────────────────────┘    \n"
      ]
     },
     "metadata": {},
     "output_type": "display_data"
    },
    {
     "name": "stdout",
     "output_type": "stream",
     "text": [
      "bbob: START EVOLVING 2 PARAMETERS.\n",
      "{'num_gens': 50, 'iter_id': 41} {'Sphere_mean': DeviceArray(3.3910757e-05, dtype=float32), 'RosenbrockRotated_mean': DeviceArray(0.18047142, dtype=float32), 'Discus_mean': DeviceArray(38.331856, dtype=float32), 'RastriginRotated_mean': DeviceArray(0.20925419, dtype=float32), 'Schwefel_mean': DeviceArray(2.1168344, dtype=float32), 'BuecheRastrigin_mean': DeviceArray(-18.749313, dtype=float32), 'AttractiveSector_mean': DeviceArray(0.02581627, dtype=float32), 'Weierstrass_mean': DeviceArray(0.07469413, dtype=float32), 'SchaffersF7_mean': DeviceArray(0.08398601, dtype=float32), 'GriewankRosenbrock_mean': DeviceArray(8.864914, dtype=float32), 'EllipsoidalOriginal_mean': DeviceArray(2.6615942, dtype=float32), 'RastriginOriginal_mean': DeviceArray(0.05767384, dtype=float32), 'LinearSlope_mean': DeviceArray(29.806065, dtype=float32), 'StepEllipsoidal_mean': DeviceArray(0.96563226, dtype=float32), 'RosenbrockOriginal_mean': DeviceArray(0.02955025, dtype=float32), 'EllipsoidalRotated_mean': DeviceArray(14.884509, dtype=float32), 'BentCigar_mean': DeviceArray(3.5120125, dtype=float32), 'SharpRidge_mean': DeviceArray(1.059586, dtype=float32), 'DifferentPowers_mean': DeviceArray(0.00274907, dtype=float32), 'SchaffersF7IllConditioned_mean': DeviceArray(0.96943825, dtype=float32), 'Lunacek_mean': DeviceArray(17.207464, dtype=float32), 'Gallagher101Me_mean': DeviceArray(5.000458e-05, dtype=float32), 'Gallagher21Hi_mean': DeviceArray(0.000601, dtype=float32), 'Sphere_best': DeviceArray(8.590431e-06, dtype=float32), 'RosenbrockRotated_best': DeviceArray(0.09372192, dtype=float32), 'Discus_best': DeviceArray(0.12031337, dtype=float32), 'RastriginRotated_best': DeviceArray(0.01830248, dtype=float32), 'Schwefel_best': DeviceArray(2.104627, dtype=float32), 'BuecheRastrigin_best': DeviceArray(-19.911879, dtype=float32), 'AttractiveSector_best': DeviceArray(0.0010168, dtype=float32), 'Weierstrass_best': DeviceArray(0.00225189, dtype=float32), 'SchaffersF7_best': DeviceArray(0.01041172, dtype=float32), 'GriewankRosenbrock_best': DeviceArray(4.1007996e-05, dtype=float32), 'EllipsoidalOriginal_best': DeviceArray(0.09522293, dtype=float32), 'RastriginOriginal_best': DeviceArray(0.00176461, dtype=float32), 'LinearSlope_best': DeviceArray(28.780447, dtype=float32), 'StepEllipsoidal_best': DeviceArray(0.14354137, dtype=float32), 'RosenbrockOriginal_best': DeviceArray(0.00425183, dtype=float32), 'EllipsoidalRotated_best': DeviceArray(0.04150715, dtype=float32), 'BentCigar_best': DeviceArray(0.02706086, dtype=float32), 'SharpRidge_best': DeviceArray(0.10475788, dtype=float32), 'DifferentPowers_best': DeviceArray(0.00036494, dtype=float32), 'SchaffersF7IllConditioned_best': DeviceArray(0.0989142, dtype=float32), 'Lunacek_best': DeviceArray(4.8857164, dtype=float32), 'Gallagher101Me_best': DeviceArray(1.3110203e-08, dtype=float32), 'Gallagher21Hi_best': DeviceArray(3.3126193e-07, dtype=float32)}\n",
      "\n"
     ]
    },
    {
     "data": {
      "text/html": [
       "<pre style=\"white-space:pre;overflow-x:auto;line-height:normal;font-family:Menlo,'DejaVu Sans Mono',consolas,'Courier New',monospace\">   ┏━━━━━━━━━━━━━━━┳━━━━┳━━━━━━━━━┳━━━━━━━━━━━━━━━━━━━━━━━━━━━━━━━━━━━━━━━━┓    \n",
       "   ┃<span style=\"font-weight: bold\"> 📥 Total: 42  </span>┃<span style=\"font-weight: bold\"> ID </span>┃<span style=\"font-weight: bold\"> Obj. 📉 </span>┃<span style=\"font-weight: bold\"> Configuration 🔖 - 06/12/2023 16:18:19 </span>┃    \n",
       "   ┡━━━━━━━━━━━━━━━╇━━━━╇━━━━━━━━━╇━━━━━━━━━━━━━━━━━━━━━━━━━━━━━━━━━━━━━━━━┩    \n",
       "   │<span style=\"color: #7f7f7f; text-decoration-color: #7f7f7f\"> Best Overall  </span>│ 15 │ -3.348  │ 'sigma_init': 0.053                    │    \n",
       "   │<span style=\"color: #7f7f7f; text-decoration-color: #7f7f7f\"> Best in Batch </span>│ 41 │ -4.448  │ 'sigma_init': 0.128                    │    \n",
       "   └───────────────┴────┴─────────┴────────────────────────────────────────┘    \n",
       "</pre>\n"
      ],
      "text/plain": [
       "   ┏━━━━━━━━━━━━━━━┳━━━━┳━━━━━━━━━┳━━━━━━━━━━━━━━━━━━━━━━━━━━━━━━━━━━━━━━━━┓    \n",
       "   ┃\u001b[1m \u001b[0m\u001b[1m📥 Total: 42 \u001b[0m\u001b[1m \u001b[0m┃\u001b[1m \u001b[0m\u001b[1mID\u001b[0m\u001b[1m \u001b[0m┃\u001b[1m \u001b[0m\u001b[1mObj. 📉\u001b[0m\u001b[1m \u001b[0m┃\u001b[1m \u001b[0m\u001b[1mConfiguration 🔖 - 06/12/2023 16:18:19\u001b[0m\u001b[1m \u001b[0m┃    \n",
       "   ┡━━━━━━━━━━━━━━━╇━━━━╇━━━━━━━━━╇━━━━━━━━━━━━━━━━━━━━━━━━━━━━━━━━━━━━━━━━┩    \n",
       "   │\u001b[2m \u001b[0m\u001b[2mBest Overall \u001b[0m\u001b[2m \u001b[0m│ 15 │ -3.348  │ 'sigma_init': 0.053                    │    \n",
       "   │\u001b[2m \u001b[0m\u001b[2mBest in Batch\u001b[0m\u001b[2m \u001b[0m│ 41 │ -4.448  │ 'sigma_init': 0.128                    │    \n",
       "   └───────────────┴────┴─────────┴────────────────────────────────────────┘    \n"
      ]
     },
     "metadata": {},
     "output_type": "display_data"
    },
    {
     "name": "stdout",
     "output_type": "stream",
     "text": [
      "bbob: START EVOLVING 2 PARAMETERS.\n",
      "{'num_gens': 50, 'iter_id': 42} {'Sphere_mean': DeviceArray(6.5142456e-05, dtype=float32), 'RosenbrockRotated_mean': DeviceArray(0.20614956, dtype=float32), 'Discus_mean': DeviceArray(88.2617, dtype=float32), 'RastriginRotated_mean': DeviceArray(1.0638783, dtype=float32), 'Schwefel_mean': DeviceArray(2.4078043, dtype=float32), 'BuecheRastrigin_mean': DeviceArray(-8.355277, dtype=float32), 'AttractiveSector_mean': DeviceArray(0.03281518, dtype=float32), 'Weierstrass_mean': DeviceArray(0.4463625, dtype=float32), 'SchaffersF7_mean': DeviceArray(0.11186017, dtype=float32), 'GriewankRosenbrock_mean': DeviceArray(8.976089, dtype=float32), 'EllipsoidalOriginal_mean': DeviceArray(1.455251, dtype=float32), 'RastriginOriginal_mean': DeviceArray(5.3039184, dtype=float32), 'LinearSlope_mean': DeviceArray(13.077872, dtype=float32), 'StepEllipsoidal_mean': DeviceArray(1.2996887, dtype=float32), 'RosenbrockOriginal_mean': DeviceArray(0.09246635, dtype=float32), 'EllipsoidalRotated_mean': DeviceArray(48.56021, dtype=float32), 'BentCigar_mean': DeviceArray(10.416656, dtype=float32), 'SharpRidge_mean': DeviceArray(1.1383815, dtype=float32), 'DifferentPowers_mean': DeviceArray(0.00511381, dtype=float32), 'SchaffersF7IllConditioned_mean': DeviceArray(0.88805974, dtype=float32), 'Lunacek_mean': DeviceArray(26.125074, dtype=float32), 'Gallagher101Me_mean': DeviceArray(0.00019473, dtype=float32), 'Gallagher21Hi_mean': DeviceArray(0.0020508, dtype=float32), 'Sphere_best': DeviceArray(1.65021e-05, dtype=float32), 'RosenbrockRotated_best': DeviceArray(0.09336988, dtype=float32), 'Discus_best': DeviceArray(0.11947498, dtype=float32), 'RastriginRotated_best': DeviceArray(0.23488687, dtype=float32), 'Schwefel_best': DeviceArray(1.7593342, dtype=float32), 'BuecheRastrigin_best': DeviceArray(-19.731277, dtype=float32), 'AttractiveSector_best': DeviceArray(0.00176184, dtype=float32), 'Weierstrass_best': DeviceArray(0.00410121, dtype=float32), 'SchaffersF7_best': DeviceArray(0.01623306, dtype=float32), 'GriewankRosenbrock_best': DeviceArray(2.117157e-05, dtype=float32), 'EllipsoidalOriginal_best': DeviceArray(0.07399271, dtype=float32), 'RastriginOriginal_best': DeviceArray(0.3058722, dtype=float32), 'LinearSlope_best': DeviceArray(11.656365, dtype=float32), 'StepEllipsoidal_best': DeviceArray(0.4306205, dtype=float32), 'RosenbrockOriginal_best': DeviceArray(0.00779822, dtype=float32), 'EllipsoidalRotated_best': DeviceArray(0.03769153, dtype=float32), 'BentCigar_best': DeviceArray(0.08179375, dtype=float32), 'SharpRidge_best': DeviceArray(0.16667956, dtype=float32), 'DifferentPowers_best': DeviceArray(0.00043013, dtype=float32), 'SchaffersF7IllConditioned_best': DeviceArray(0.09587853, dtype=float32), 'Lunacek_best': DeviceArray(4.1014543, dtype=float32), 'Gallagher101Me_best': DeviceArray(4.9576084e-08, dtype=float32), 'Gallagher21Hi_best': DeviceArray(1.2943775e-06, dtype=float32)}\n",
      "\n"
     ]
    },
    {
     "data": {
      "text/html": [
       "<pre style=\"white-space:pre;overflow-x:auto;line-height:normal;font-family:Menlo,'DejaVu Sans Mono',consolas,'Courier New',monospace\">   ┏━━━━━━━━━━━━━━━┳━━━━┳━━━━━━━━━┳━━━━━━━━━━━━━━━━━━━━━━━━━━━━━━━━━━━━━━━━┓    \n",
       "   ┃<span style=\"font-weight: bold\"> 📥 Total: 43  </span>┃<span style=\"font-weight: bold\"> ID </span>┃<span style=\"font-weight: bold\"> Obj. 📉 </span>┃<span style=\"font-weight: bold\"> Configuration 🔖 - 06/12/2023 16:18:48 </span>┃    \n",
       "   ┡━━━━━━━━━━━━━━━╇━━━━╇━━━━━━━━━╇━━━━━━━━━━━━━━━━━━━━━━━━━━━━━━━━━━━━━━━━┩    \n",
       "   │<span style=\"color: #7f7f7f; text-decoration-color: #7f7f7f\"> Best Overall  </span>│ 15 │ -3.348  │ 'sigma_init': 0.053                    │    \n",
       "   │<span style=\"color: #7f7f7f; text-decoration-color: #7f7f7f\"> Best in Batch </span>│ 42 │ -8.762  │ 'sigma_init': 0.177                    │    \n",
       "   └───────────────┴────┴─────────┴────────────────────────────────────────┘    \n",
       "</pre>\n"
      ],
      "text/plain": [
       "   ┏━━━━━━━━━━━━━━━┳━━━━┳━━━━━━━━━┳━━━━━━━━━━━━━━━━━━━━━━━━━━━━━━━━━━━━━━━━┓    \n",
       "   ┃\u001b[1m \u001b[0m\u001b[1m📥 Total: 43 \u001b[0m\u001b[1m \u001b[0m┃\u001b[1m \u001b[0m\u001b[1mID\u001b[0m\u001b[1m \u001b[0m┃\u001b[1m \u001b[0m\u001b[1mObj. 📉\u001b[0m\u001b[1m \u001b[0m┃\u001b[1m \u001b[0m\u001b[1mConfiguration 🔖 - 06/12/2023 16:18:48\u001b[0m\u001b[1m \u001b[0m┃    \n",
       "   ┡━━━━━━━━━━━━━━━╇━━━━╇━━━━━━━━━╇━━━━━━━━━━━━━━━━━━━━━━━━━━━━━━━━━━━━━━━━┩    \n",
       "   │\u001b[2m \u001b[0m\u001b[2mBest Overall \u001b[0m\u001b[2m \u001b[0m│ 15 │ -3.348  │ 'sigma_init': 0.053                    │    \n",
       "   │\u001b[2m \u001b[0m\u001b[2mBest in Batch\u001b[0m\u001b[2m \u001b[0m│ 42 │ -8.762  │ 'sigma_init': 0.177                    │    \n",
       "   └───────────────┴────┴─────────┴────────────────────────────────────────┘    \n"
      ]
     },
     "metadata": {},
     "output_type": "display_data"
    },
    {
     "name": "stdout",
     "output_type": "stream",
     "text": [
      "bbob: START EVOLVING 2 PARAMETERS.\n",
      "{'num_gens': 50, 'iter_id': 43} {'Sphere_mean': DeviceArray(6.621142e-06, dtype=float32), 'RosenbrockRotated_mean': DeviceArray(0.10553219, dtype=float32), 'Discus_mean': DeviceArray(10.99319, dtype=float32), 'RastriginRotated_mean': DeviceArray(0.02742291, dtype=float32), 'Schwefel_mean': DeviceArray(3.189509, dtype=float32), 'BuecheRastrigin_mean': DeviceArray(-19.928009, dtype=float32), 'AttractiveSector_mean': DeviceArray(0.33916357, dtype=float32), 'Weierstrass_mean': DeviceArray(0.01769549, dtype=float32), 'SchaffersF7_mean': DeviceArray(0.01691572, dtype=float32), 'GriewankRosenbrock_mean': DeviceArray(0.00011597, dtype=float32), 'EllipsoidalOriginal_mean': DeviceArray(0.9338606, dtype=float32), 'RastriginOriginal_mean': DeviceArray(0.00488, dtype=float32), 'LinearSlope_mean': DeviceArray(53.993744, dtype=float32), 'StepEllipsoidal_mean': DeviceArray(0.29490837, dtype=float32), 'RosenbrockOriginal_mean': DeviceArray(0.005524, dtype=float32), 'EllipsoidalRotated_mean': DeviceArray(1.8663327, dtype=float32), 'BentCigar_mean': DeviceArray(1.4747367, dtype=float32), 'SharpRidge_mean': DeviceArray(0.45390478, dtype=float32), 'DifferentPowers_mean': DeviceArray(0.00176921, dtype=float32), 'SchaffersF7IllConditioned_mean': DeviceArray(0.45484838, dtype=float32), 'Lunacek_mean': DeviceArray(19.384491, dtype=float32), 'Gallagher101Me_mean': DeviceArray(1.6256832e-06, dtype=float32), 'Gallagher21Hi_mean': DeviceArray(1.9795747e-05, dtype=float32), 'Sphere_best': DeviceArray(1.6772876e-06, dtype=float32), 'RosenbrockRotated_best': DeviceArray(0.07642607, dtype=float32), 'Discus_best': DeviceArray(0.02248712, dtype=float32), 'RastriginRotated_best': DeviceArray(0.00236104, dtype=float32), 'Schwefel_best': DeviceArray(2.8929079, dtype=float32), 'BuecheRastrigin_best': DeviceArray(-19.996017, dtype=float32), 'AttractiveSector_best': DeviceArray(0.25997218, dtype=float32), 'Weierstrass_best': DeviceArray(0.00025849, dtype=float32), 'SchaffersF7_best': DeviceArray(0.0067002, dtype=float32), 'GriewankRosenbrock_best': DeviceArray(5.722046e-07, dtype=float32), 'EllipsoidalOriginal_best': DeviceArray(0.00995119, dtype=float32), 'RastriginOriginal_best': DeviceArray(0.00089381, dtype=float32), 'LinearSlope_best': DeviceArray(53.540554, dtype=float32), 'StepEllipsoidal_best': DeviceArray(6.019945e-08, dtype=float32), 'RosenbrockOriginal_best': DeviceArray(0.0006177, dtype=float32), 'EllipsoidalRotated_best': DeviceArray(0.01018192, dtype=float32), 'BentCigar_best': DeviceArray(0.00584851, dtype=float32), 'SharpRidge_best': DeviceArray(0.05094482, dtype=float32), 'DifferentPowers_best': DeviceArray(0.0002318, dtype=float32), 'SchaffersF7IllConditioned_best': DeviceArray(0.02667476, dtype=float32), 'Lunacek_best': DeviceArray(9.331854, dtype=float32), 'Gallagher101Me_best': DeviceArray(5.116911e-10, dtype=float32), 'Gallagher21Hi_best': DeviceArray(1.2034966e-08, dtype=float32)}\n",
      "\n"
     ]
    },
    {
     "data": {
      "text/html": [
       "<pre style=\"white-space:pre;overflow-x:auto;line-height:normal;font-family:Menlo,'DejaVu Sans Mono',consolas,'Courier New',monospace\">   ┏━━━━━━━━━━━━━━━┳━━━━┳━━━━━━━━━┳━━━━━━━━━━━━━━━━━━━━━━━━━━━━━━━━━━━━━━━━┓    \n",
       "   ┃<span style=\"font-weight: bold\"> 📥 Total: 44  </span>┃<span style=\"font-weight: bold\"> ID </span>┃<span style=\"font-weight: bold\"> Obj. 📉 </span>┃<span style=\"font-weight: bold\"> Configuration 🔖 - 06/12/2023 16:19:17 </span>┃    \n",
       "   ┡━━━━━━━━━━━━━━━╇━━━━╇━━━━━━━━━╇━━━━━━━━━━━━━━━━━━━━━━━━━━━━━━━━━━━━━━━━┩    \n",
       "   │<span style=\"color: #7f7f7f; text-decoration-color: #7f7f7f\"> Best Overall  </span>│ 43 │ -3.201  │ 'sigma_init': 0.056                    │    \n",
       "   │<span style=\"color: #7f7f7f; text-decoration-color: #7f7f7f\"> Best in Batch </span>│ 43 │ -3.201  │ 'sigma_init': 0.056                    │    \n",
       "   └───────────────┴────┴─────────┴────────────────────────────────────────┘    \n",
       "</pre>\n"
      ],
      "text/plain": [
       "   ┏━━━━━━━━━━━━━━━┳━━━━┳━━━━━━━━━┳━━━━━━━━━━━━━━━━━━━━━━━━━━━━━━━━━━━━━━━━┓    \n",
       "   ┃\u001b[1m \u001b[0m\u001b[1m📥 Total: 44 \u001b[0m\u001b[1m \u001b[0m┃\u001b[1m \u001b[0m\u001b[1mID\u001b[0m\u001b[1m \u001b[0m┃\u001b[1m \u001b[0m\u001b[1mObj. 📉\u001b[0m\u001b[1m \u001b[0m┃\u001b[1m \u001b[0m\u001b[1mConfiguration 🔖 - 06/12/2023 16:19:17\u001b[0m\u001b[1m \u001b[0m┃    \n",
       "   ┡━━━━━━━━━━━━━━━╇━━━━╇━━━━━━━━━╇━━━━━━━━━━━━━━━━━━━━━━━━━━━━━━━━━━━━━━━━┩    \n",
       "   │\u001b[2m \u001b[0m\u001b[2mBest Overall \u001b[0m\u001b[2m \u001b[0m│ 43 │ -3.201  │ 'sigma_init': 0.056                    │    \n",
       "   │\u001b[2m \u001b[0m\u001b[2mBest in Batch\u001b[0m\u001b[2m \u001b[0m│ 43 │ -3.201  │ 'sigma_init': 0.056                    │    \n",
       "   └───────────────┴────┴─────────┴────────────────────────────────────────┘    \n"
      ]
     },
     "metadata": {},
     "output_type": "display_data"
    },
    {
     "name": "stdout",
     "output_type": "stream",
     "text": [
      "bbob: START EVOLVING 2 PARAMETERS.\n",
      "{'num_gens': 50, 'iter_id': 44} {'Sphere_mean': DeviceArray(6.0915954e-05, dtype=float32), 'RosenbrockRotated_mean': DeviceArray(0.21290126, dtype=float32), 'Discus_mean': DeviceArray(84.64119, dtype=float32), 'RastriginRotated_mean': DeviceArray(1.1870044, dtype=float32), 'Schwefel_mean': DeviceArray(2.8040376, dtype=float32), 'BuecheRastrigin_mean': DeviceArray(-15.996078, dtype=float32), 'AttractiveSector_mean': DeviceArray(0.03545693, dtype=float32), 'Weierstrass_mean': DeviceArray(0.16272318, dtype=float32), 'SchaffersF7_mean': DeviceArray(0.11470697, dtype=float32), 'GriewankRosenbrock_mean': DeviceArray(5.624177, dtype=float32), 'EllipsoidalOriginal_mean': DeviceArray(1.5381317, dtype=float32), 'RastriginOriginal_mean': DeviceArray(3.5001926, dtype=float32), 'LinearSlope_mean': DeviceArray(15.059096, dtype=float32), 'StepEllipsoidal_mean': DeviceArray(1.5084722, dtype=float32), 'RosenbrockOriginal_mean': DeviceArray(0.07913718, dtype=float32), 'EllipsoidalRotated_mean': DeviceArray(36.715267, dtype=float32), 'BentCigar_mean': DeviceArray(7.626123, dtype=float32), 'SharpRidge_mean': DeviceArray(1.3715128, dtype=float32), 'DifferentPowers_mean': DeviceArray(0.00511093, dtype=float32), 'SchaffersF7IllConditioned_mean': DeviceArray(0.82216066, dtype=float32), 'Lunacek_mean': DeviceArray(27.684095, dtype=float32), 'Gallagher101Me_mean': DeviceArray(0.00017982, dtype=float32), 'Gallagher21Hi_mean': DeviceArray(0.00166396, dtype=float32), 'Sphere_best': DeviceArray(1.5431537e-05, dtype=float32), 'RosenbrockRotated_best': DeviceArray(0.08026135, dtype=float32), 'Discus_best': DeviceArray(0.08364686, dtype=float32), 'RastriginRotated_best': DeviceArray(0.35327682, dtype=float32), 'Schwefel_best': DeviceArray(1.8480967, dtype=float32), 'BuecheRastrigin_best': DeviceArray(-19.530506, dtype=float32), 'AttractiveSector_best': DeviceArray(0.00159075, dtype=float32), 'Weierstrass_best': DeviceArray(0.00349223, dtype=float32), 'SchaffersF7_best': DeviceArray(0.02068286, dtype=float32), 'GriewankRosenbrock_best': DeviceArray(7.610321e-05, dtype=float32), 'EllipsoidalOriginal_best': DeviceArray(0.10474399, dtype=float32), 'RastriginOriginal_best': DeviceArray(0.25531515, dtype=float32), 'LinearSlope_best': DeviceArray(13.684482, dtype=float32), 'StepEllipsoidal_best': DeviceArray(0.43062034, dtype=float32), 'RosenbrockOriginal_best': DeviceArray(0.00788066, dtype=float32), 'EllipsoidalRotated_best': DeviceArray(0.03213769, dtype=float32), 'BentCigar_best': DeviceArray(0.08364079, dtype=float32), 'SharpRidge_best': DeviceArray(0.15934388, dtype=float32), 'DifferentPowers_best': DeviceArray(0.00035343, dtype=float32), 'SchaffersF7IllConditioned_best': DeviceArray(0.0671027, dtype=float32), 'Lunacek_best': DeviceArray(3.717674, dtype=float32), 'Gallagher101Me_best': DeviceArray(4.5485304e-08, dtype=float32), 'Gallagher21Hi_best': DeviceArray(1.069491e-06, dtype=float32)}\n",
      "\n"
     ]
    },
    {
     "data": {
      "text/html": [
       "<pre style=\"white-space:pre;overflow-x:auto;line-height:normal;font-family:Menlo,'DejaVu Sans Mono',consolas,'Courier New',monospace\">   ┏━━━━━━━━━━━━━━━┳━━━━┳━━━━━━━━━┳━━━━━━━━━━━━━━━━━━━━━━━━━━━━━━━━━━━━━━━━┓    \n",
       "   ┃<span style=\"font-weight: bold\"> 📥 Total: 45  </span>┃<span style=\"font-weight: bold\"> ID </span>┃<span style=\"font-weight: bold\"> Obj. 📉 </span>┃<span style=\"font-weight: bold\"> Configuration 🔖 - 06/12/2023 16:19:45 </span>┃    \n",
       "   ┡━━━━━━━━━━━━━━━╇━━━━╇━━━━━━━━━╇━━━━━━━━━━━━━━━━━━━━━━━━━━━━━━━━━━━━━━━━┩    \n",
       "   │<span style=\"color: #7f7f7f; text-decoration-color: #7f7f7f\"> Best Overall  </span>│ 43 │ -3.201  │ 'sigma_init': 0.056                    │    \n",
       "   │<span style=\"color: #7f7f7f; text-decoration-color: #7f7f7f\"> Best in Batch </span>│ 44 │ -7.596  │ 'sigma_init': 0.171                    │    \n",
       "   └───────────────┴────┴─────────┴────────────────────────────────────────┘    \n",
       "</pre>\n"
      ],
      "text/plain": [
       "   ┏━━━━━━━━━━━━━━━┳━━━━┳━━━━━━━━━┳━━━━━━━━━━━━━━━━━━━━━━━━━━━━━━━━━━━━━━━━┓    \n",
       "   ┃\u001b[1m \u001b[0m\u001b[1m📥 Total: 45 \u001b[0m\u001b[1m \u001b[0m┃\u001b[1m \u001b[0m\u001b[1mID\u001b[0m\u001b[1m \u001b[0m┃\u001b[1m \u001b[0m\u001b[1mObj. 📉\u001b[0m\u001b[1m \u001b[0m┃\u001b[1m \u001b[0m\u001b[1mConfiguration 🔖 - 06/12/2023 16:19:45\u001b[0m\u001b[1m \u001b[0m┃    \n",
       "   ┡━━━━━━━━━━━━━━━╇━━━━╇━━━━━━━━━╇━━━━━━━━━━━━━━━━━━━━━━━━━━━━━━━━━━━━━━━━┩    \n",
       "   │\u001b[2m \u001b[0m\u001b[2mBest Overall \u001b[0m\u001b[2m \u001b[0m│ 43 │ -3.201  │ 'sigma_init': 0.056                    │    \n",
       "   │\u001b[2m \u001b[0m\u001b[2mBest in Batch\u001b[0m\u001b[2m \u001b[0m│ 44 │ -7.596  │ 'sigma_init': 0.171                    │    \n",
       "   └───────────────┴────┴─────────┴────────────────────────────────────────┘    \n"
      ]
     },
     "metadata": {},
     "output_type": "display_data"
    },
    {
     "name": "stdout",
     "output_type": "stream",
     "text": [
      "bbob: START EVOLVING 2 PARAMETERS.\n",
      "{'num_gens': 50, 'iter_id': 45} {'Sphere_mean': DeviceArray(6.1438324e-05, dtype=float32), 'RosenbrockRotated_mean': DeviceArray(0.21036915, dtype=float32), 'Discus_mean': DeviceArray(85.486115, dtype=float32), 'RastriginRotated_mean': DeviceArray(1.4108952, dtype=float32), 'Schwefel_mean': DeviceArray(1.9520863, dtype=float32), 'BuecheRastrigin_mean': DeviceArray(-14.795056, dtype=float32), 'AttractiveSector_mean': DeviceArray(0.03458323, dtype=float32), 'Weierstrass_mean': DeviceArray(0.18965264, dtype=float32), 'SchaffersF7_mean': DeviceArray(0.05894163, dtype=float32), 'GriewankRosenbrock_mean': DeviceArray(12.309303, dtype=float32), 'EllipsoidalOriginal_mean': DeviceArray(1.3433033, dtype=float32), 'RastriginOriginal_mean': DeviceArray(1.6879708, dtype=float32), 'LinearSlope_mean': DeviceArray(14.810611, dtype=float32), 'StepEllipsoidal_mean': DeviceArray(2.5054245, dtype=float32), 'RosenbrockOriginal_mean': DeviceArray(0.07394268, dtype=float32), 'EllipsoidalRotated_mean': DeviceArray(45.3039, dtype=float32), 'BentCigar_mean': DeviceArray(7.7003303, dtype=float32), 'SharpRidge_mean': DeviceArray(1.379053, dtype=float32), 'DifferentPowers_mean': DeviceArray(0.00490568, dtype=float32), 'SchaffersF7IllConditioned_mean': DeviceArray(1.3701457, dtype=float32), 'Lunacek_mean': DeviceArray(20.500513, dtype=float32), 'Gallagher101Me_mean': DeviceArray(0.00018208, dtype=float32), 'Gallagher21Hi_mean': DeviceArray(0.00171161, dtype=float32), 'Sphere_best': DeviceArray(1.5563794e-05, dtype=float32), 'RosenbrockRotated_best': DeviceArray(0.08156221, dtype=float32), 'Discus_best': DeviceArray(0.08428981, dtype=float32), 'RastriginRotated_best': DeviceArray(0.29752114, dtype=float32), 'Schwefel_best': DeviceArray(1.8242168, dtype=float32), 'BuecheRastrigin_best': DeviceArray(-19.409077, dtype=float32), 'AttractiveSector_best': DeviceArray(0.00120808, dtype=float32), 'Weierstrass_best': DeviceArray(0.00394327, dtype=float32), 'SchaffersF7_best': DeviceArray(0.01444614, dtype=float32), 'GriewankRosenbrock_best': DeviceArray(6.809235e-05, dtype=float32), 'EllipsoidalOriginal_best': DeviceArray(0.0888729, dtype=float32), 'RastriginOriginal_best': DeviceArray(0.15372054, dtype=float32), 'LinearSlope_best': DeviceArray(13.430114, dtype=float32), 'StepEllipsoidal_best': DeviceArray(0.28708076, dtype=float32), 'RosenbrockOriginal_best': DeviceArray(0.0079737, dtype=float32), 'EllipsoidalRotated_best': DeviceArray(0.04938813, dtype=float32), 'BentCigar_best': DeviceArray(0.08249371, dtype=float32), 'SharpRidge_best': DeviceArray(0.16025734, dtype=float32), 'DifferentPowers_best': DeviceArray(0.00040039, dtype=float32), 'SchaffersF7IllConditioned_best': DeviceArray(0.08873059, dtype=float32), 'Lunacek_best': DeviceArray(4.6683397, dtype=float32), 'Gallagher101Me_best': DeviceArray(4.6106845e-08, dtype=float32), 'Gallagher21Hi_best': DeviceArray(1.0976773e-06, dtype=float32)}\n",
      "\n"
     ]
    },
    {
     "data": {
      "text/html": [
       "<pre style=\"white-space:pre;overflow-x:auto;line-height:normal;font-family:Menlo,'DejaVu Sans Mono',consolas,'Courier New',monospace\">   ┏━━━━━━━━━━━━━━━┳━━━━┳━━━━━━━━━┳━━━━━━━━━━━━━━━━━━━━━━━━━━━━━━━━━━━━━━━━┓    \n",
       "   ┃<span style=\"font-weight: bold\"> 📥 Total: 46  </span>┃<span style=\"font-weight: bold\"> ID </span>┃<span style=\"font-weight: bold\"> Obj. 📉 </span>┃<span style=\"font-weight: bold\"> Configuration 🔖 - 06/12/2023 16:20:14 </span>┃    \n",
       "   ┡━━━━━━━━━━━━━━━╇━━━━╇━━━━━━━━━╇━━━━━━━━━━━━━━━━━━━━━━━━━━━━━━━━━━━━━━━━┩    \n",
       "   │<span style=\"color: #7f7f7f; text-decoration-color: #7f7f7f\"> Best Overall  </span>│ 43 │ -3.201  │ 'sigma_init': 0.056                    │    \n",
       "   │<span style=\"color: #7f7f7f; text-decoration-color: #7f7f7f\"> Best in Batch </span>│ 45 │ -7.98   │ 'sigma_init': 0.172                    │    \n",
       "   └───────────────┴────┴─────────┴────────────────────────────────────────┘    \n",
       "</pre>\n"
      ],
      "text/plain": [
       "   ┏━━━━━━━━━━━━━━━┳━━━━┳━━━━━━━━━┳━━━━━━━━━━━━━━━━━━━━━━━━━━━━━━━━━━━━━━━━┓    \n",
       "   ┃\u001b[1m \u001b[0m\u001b[1m📥 Total: 46 \u001b[0m\u001b[1m \u001b[0m┃\u001b[1m \u001b[0m\u001b[1mID\u001b[0m\u001b[1m \u001b[0m┃\u001b[1m \u001b[0m\u001b[1mObj. 📉\u001b[0m\u001b[1m \u001b[0m┃\u001b[1m \u001b[0m\u001b[1mConfiguration 🔖 - 06/12/2023 16:20:14\u001b[0m\u001b[1m \u001b[0m┃    \n",
       "   ┡━━━━━━━━━━━━━━━╇━━━━╇━━━━━━━━━╇━━━━━━━━━━━━━━━━━━━━━━━━━━━━━━━━━━━━━━━━┩    \n",
       "   │\u001b[2m \u001b[0m\u001b[2mBest Overall \u001b[0m\u001b[2m \u001b[0m│ 43 │ -3.201  │ 'sigma_init': 0.056                    │    \n",
       "   │\u001b[2m \u001b[0m\u001b[2mBest in Batch\u001b[0m\u001b[2m \u001b[0m│ 45 │ -7.98   │ 'sigma_init': 0.172                    │    \n",
       "   └───────────────┴────┴─────────┴────────────────────────────────────────┘    \n"
      ]
     },
     "metadata": {},
     "output_type": "display_data"
    },
    {
     "name": "stdout",
     "output_type": "stream",
     "text": [
      "bbob: START EVOLVING 2 PARAMETERS.\n",
      "{'num_gens': 50, 'iter_id': 46} {'Sphere_mean': DeviceArray(1.4963999e-05, dtype=float32), 'RosenbrockRotated_mean': DeviceArray(0.11227699, dtype=float32), 'Discus_mean': DeviceArray(21.88178, dtype=float32), 'RastriginRotated_mean': DeviceArray(0.06704564, dtype=float32), 'Schwefel_mean': DeviceArray(2.8947926, dtype=float32), 'BuecheRastrigin_mean': DeviceArray(-19.78901, dtype=float32), 'AttractiveSector_mean': DeviceArray(0.01874131, dtype=float32), 'Weierstrass_mean': DeviceArray(0.08192282, dtype=float32), 'SchaffersF7_mean': DeviceArray(0.0562936, dtype=float32), 'GriewankRosenbrock_mean': DeviceArray(0.20187207, dtype=float32), 'EllipsoidalOriginal_mean': DeviceArray(0.84047693, dtype=float32), 'RastriginOriginal_mean': DeviceArray(0.01685132, dtype=float32), 'LinearSlope_mean': DeviceArray(44.354973, dtype=float32), 'StepEllipsoidal_mean': DeviceArray(0.28708068, dtype=float32), 'RosenbrockOriginal_mean': DeviceArray(0.01308097, dtype=float32), 'EllipsoidalRotated_mean': DeviceArray(13.0277195, dtype=float32), 'BentCigar_mean': DeviceArray(1.076507, dtype=float32), 'SharpRidge_mean': DeviceArray(0.72324336, dtype=float32), 'DifferentPowers_mean': DeviceArray(0.00290733, dtype=float32), 'SchaffersF7IllConditioned_mean': DeviceArray(0.64679116, dtype=float32), 'Lunacek_mean': DeviceArray(19.372166, dtype=float32), 'Gallagher101Me_mean': DeviceArray(8.899179e-06, dtype=float32), 'Gallagher21Hi_mean': DeviceArray(0.00010166, dtype=float32), 'Sphere_best': DeviceArray(3.7907519e-06, dtype=float32), 'RosenbrockRotated_best': DeviceArray(0.07318848, dtype=float32), 'Discus_best': DeviceArray(0.03896202, dtype=float32), 'RastriginRotated_best': DeviceArray(0.0044767, dtype=float32), 'Schwefel_best': DeviceArray(2.676422, dtype=float32), 'BuecheRastrigin_best': DeviceArray(-19.997051, dtype=float32), 'AttractiveSector_best': DeviceArray(0.00234466, dtype=float32), 'Weierstrass_best': DeviceArray(0.00061296, dtype=float32), 'SchaffersF7_best': DeviceArray(0.00358538, dtype=float32), 'GriewankRosenbrock_best': DeviceArray(1.1444092e-06, dtype=float32), 'EllipsoidalOriginal_best': DeviceArray(0.03042802, dtype=float32), 'RastriginOriginal_best': DeviceArray(0.00234618, dtype=float32), 'LinearSlope_best': DeviceArray(43.673668, dtype=float32), 'StepEllipsoidal_best': DeviceArray(1.0132323e-06, dtype=float32), 'RosenbrockOriginal_best': DeviceArray(0.00186773, dtype=float32), 'EllipsoidalRotated_best': DeviceArray(0.04676821, dtype=float32), 'BentCigar_best': DeviceArray(0.01500453, dtype=float32), 'SharpRidge_best': DeviceArray(0.07483605, dtype=float32), 'DifferentPowers_best': DeviceArray(0.00036077, dtype=float32), 'SchaffersF7IllConditioned_best': DeviceArray(0.04507174, dtype=float32), 'Lunacek_best': DeviceArray(8.699817, dtype=float32), 'Gallagher101Me_best': DeviceArray(2.9544545e-09, dtype=float32), 'Gallagher21Hi_best': DeviceArray(5.6422813e-08, dtype=float32)}\n",
      "\n"
     ]
    },
    {
     "data": {
      "text/html": [
       "<pre style=\"white-space:pre;overflow-x:auto;line-height:normal;font-family:Menlo,'DejaVu Sans Mono',consolas,'Courier New',monospace\">   ┏━━━━━━━━━━━━━━━┳━━━━┳━━━━━━━━━┳━━━━━━━━━━━━━━━━━━━━━━━━━━━━━━━━━━━━━━━━┓    \n",
       "   ┃<span style=\"font-weight: bold\"> 📥 Total: 47  </span>┃<span style=\"font-weight: bold\"> ID </span>┃<span style=\"font-weight: bold\"> Obj. 📉 </span>┃<span style=\"font-weight: bold\"> Configuration 🔖 - 06/12/2023 16:20:42 </span>┃    \n",
       "   ┡━━━━━━━━━━━━━━━╇━━━━╇━━━━━━━━━╇━━━━━━━━━━━━━━━━━━━━━━━━━━━━━━━━━━━━━━━━┩    \n",
       "   │<span style=\"color: #7f7f7f; text-decoration-color: #7f7f7f\"> Best Overall  </span>│ 43 │ -3.201  │ 'sigma_init': 0.056                    │    \n",
       "   │<span style=\"color: #7f7f7f; text-decoration-color: #7f7f7f\"> Best in Batch </span>│ 46 │ -3.734  │ 'sigma_init': 0.085                    │    \n",
       "   └───────────────┴────┴─────────┴────────────────────────────────────────┘    \n",
       "</pre>\n"
      ],
      "text/plain": [
       "   ┏━━━━━━━━━━━━━━━┳━━━━┳━━━━━━━━━┳━━━━━━━━━━━━━━━━━━━━━━━━━━━━━━━━━━━━━━━━┓    \n",
       "   ┃\u001b[1m \u001b[0m\u001b[1m📥 Total: 47 \u001b[0m\u001b[1m \u001b[0m┃\u001b[1m \u001b[0m\u001b[1mID\u001b[0m\u001b[1m \u001b[0m┃\u001b[1m \u001b[0m\u001b[1mObj. 📉\u001b[0m\u001b[1m \u001b[0m┃\u001b[1m \u001b[0m\u001b[1mConfiguration 🔖 - 06/12/2023 16:20:42\u001b[0m\u001b[1m \u001b[0m┃    \n",
       "   ┡━━━━━━━━━━━━━━━╇━━━━╇━━━━━━━━━╇━━━━━━━━━━━━━━━━━━━━━━━━━━━━━━━━━━━━━━━━┩    \n",
       "   │\u001b[2m \u001b[0m\u001b[2mBest Overall \u001b[0m\u001b[2m \u001b[0m│ 43 │ -3.201  │ 'sigma_init': 0.056                    │    \n",
       "   │\u001b[2m \u001b[0m\u001b[2mBest in Batch\u001b[0m\u001b[2m \u001b[0m│ 46 │ -3.734  │ 'sigma_init': 0.085                    │    \n",
       "   └───────────────┴────┴─────────┴────────────────────────────────────────┘    \n"
      ]
     },
     "metadata": {},
     "output_type": "display_data"
    },
    {
     "name": "stdout",
     "output_type": "stream",
     "text": [
      "bbob: START EVOLVING 2 PARAMETERS.\n",
      "{'num_gens': 50, 'iter_id': 47} {'Sphere_mean': DeviceArray(1.0021869e-05, dtype=float32), 'RosenbrockRotated_mean': DeviceArray(0.1053529, dtype=float32), 'Discus_mean': DeviceArray(17.235289, dtype=float32), 'RastriginRotated_mean': DeviceArray(0.05905597, dtype=float32), 'Schwefel_mean': DeviceArray(3.0738225, dtype=float32), 'BuecheRastrigin_mean': DeviceArray(-19.935272, dtype=float32), 'AttractiveSector_mean': DeviceArray(0.0699041, dtype=float32), 'Weierstrass_mean': DeviceArray(0.0386447, dtype=float32), 'SchaffersF7_mean': DeviceArray(0.03678426, dtype=float32), 'GriewankRosenbrock_mean': DeviceArray(0.00314617, dtype=float32), 'EllipsoidalOriginal_mean': DeviceArray(0.69269437, dtype=float32), 'RastriginOriginal_mean': DeviceArray(0.00634244, dtype=float32), 'LinearSlope_mean': DeviceArray(49.58375, dtype=float32), 'StepEllipsoidal_mean': DeviceArray(0.43844852, dtype=float32), 'RosenbrockOriginal_mean': DeviceArray(0.00915745, dtype=float32), 'EllipsoidalRotated_mean': DeviceArray(8.737487, dtype=float32), 'BentCigar_mean': DeviceArray(1.8732872, dtype=float32), 'SharpRidge_mean': DeviceArray(0.5849492, dtype=float32), 'DifferentPowers_mean': DeviceArray(0.00179476, dtype=float32), 'SchaffersF7IllConditioned_mean': DeviceArray(1.0073947, dtype=float32), 'Lunacek_mean': DeviceArray(15.873713, dtype=float32), 'Gallagher101Me_mean': DeviceArray(5.0701833e-06, dtype=float32), 'Gallagher21Hi_mean': DeviceArray(4.4222536e-05, dtype=float32), 'Sphere_best': DeviceArray(2.5387806e-06, dtype=float32), 'RosenbrockRotated_best': DeviceArray(0.07011515, dtype=float32), 'Discus_best': DeviceArray(0.02689266, dtype=float32), 'RastriginRotated_best': DeviceArray(0.00272982, dtype=float32), 'Schwefel_best': DeviceArray(2.765006, dtype=float32), 'BuecheRastrigin_best': DeviceArray(-19.99439, dtype=float32), 'AttractiveSector_best': DeviceArray(0.04469047, dtype=float32), 'Weierstrass_best': DeviceArray(0.00034664, dtype=float32), 'SchaffersF7_best': DeviceArray(0.00613107, dtype=float32), 'GriewankRosenbrock_best': DeviceArray(4.0054324e-06, dtype=float32), 'EllipsoidalOriginal_best': DeviceArray(0.02186929, dtype=float32), 'RastriginOriginal_best': DeviceArray(0.0010431, dtype=float32), 'LinearSlope_best': DeviceArray(49.02619, dtype=float32), 'StepEllipsoidal_best': DeviceArray(3.6148322e-07, dtype=float32), 'RosenbrockOriginal_best': DeviceArray(0.00109007, dtype=float32), 'EllipsoidalRotated_best': DeviceArray(0.0192854, dtype=float32), 'BentCigar_best': DeviceArray(0.01508577, dtype=float32), 'SharpRidge_best': DeviceArray(0.06487869, dtype=float32), 'DifferentPowers_best': DeviceArray(0.00026362, dtype=float32), 'SchaffersF7IllConditioned_best': DeviceArray(0.03321279, dtype=float32), 'Lunacek_best': DeviceArray(9.7754, dtype=float32), 'Gallagher101Me_best': DeviceArray(1.0253042e-09, dtype=float32), 'Gallagher21Hi_best': DeviceArray(2.7835066e-08, dtype=float32)}\n",
      "\n"
     ]
    },
    {
     "data": {
      "text/html": [
       "<pre style=\"white-space:pre;overflow-x:auto;line-height:normal;font-family:Menlo,'DejaVu Sans Mono',consolas,'Courier New',monospace\">   ┏━━━━━━━━━━━━━━━┳━━━━┳━━━━━━━━━┳━━━━━━━━━━━━━━━━━━━━━━━━━━━━━━━━━━━━━━━━┓    \n",
       "   ┃<span style=\"font-weight: bold\"> 📥 Total: 48  </span>┃<span style=\"font-weight: bold\"> ID </span>┃<span style=\"font-weight: bold\"> Obj. 📉 </span>┃<span style=\"font-weight: bold\"> Configuration 🔖 - 06/12/2023 16:21:13 </span>┃    \n",
       "   ┡━━━━━━━━━━━━━━━╇━━━━╇━━━━━━━━━╇━━━━━━━━━━━━━━━━━━━━━━━━━━━━━━━━━━━━━━━━┩    \n",
       "   │<span style=\"color: #7f7f7f; text-decoration-color: #7f7f7f\"> Best Overall  </span>│ 43 │ -3.201  │ 'sigma_init': 0.056                    │    \n",
       "   │<span style=\"color: #7f7f7f; text-decoration-color: #7f7f7f\"> Best in Batch </span>│ 47 │ -3.456  │ 'sigma_init': 0.069                    │    \n",
       "   └───────────────┴────┴─────────┴────────────────────────────────────────┘    \n",
       "</pre>\n"
      ],
      "text/plain": [
       "   ┏━━━━━━━━━━━━━━━┳━━━━┳━━━━━━━━━┳━━━━━━━━━━━━━━━━━━━━━━━━━━━━━━━━━━━━━━━━┓    \n",
       "   ┃\u001b[1m \u001b[0m\u001b[1m📥 Total: 48 \u001b[0m\u001b[1m \u001b[0m┃\u001b[1m \u001b[0m\u001b[1mID\u001b[0m\u001b[1m \u001b[0m┃\u001b[1m \u001b[0m\u001b[1mObj. 📉\u001b[0m\u001b[1m \u001b[0m┃\u001b[1m \u001b[0m\u001b[1mConfiguration 🔖 - 06/12/2023 16:21:13\u001b[0m\u001b[1m \u001b[0m┃    \n",
       "   ┡━━━━━━━━━━━━━━━╇━━━━╇━━━━━━━━━╇━━━━━━━━━━━━━━━━━━━━━━━━━━━━━━━━━━━━━━━━┩    \n",
       "   │\u001b[2m \u001b[0m\u001b[2mBest Overall \u001b[0m\u001b[2m \u001b[0m│ 43 │ -3.201  │ 'sigma_init': 0.056                    │    \n",
       "   │\u001b[2m \u001b[0m\u001b[2mBest in Batch\u001b[0m\u001b[2m \u001b[0m│ 47 │ -3.456  │ 'sigma_init': 0.069                    │    \n",
       "   └───────────────┴────┴─────────┴────────────────────────────────────────┘    \n"
      ]
     },
     "metadata": {},
     "output_type": "display_data"
    },
    {
     "name": "stdout",
     "output_type": "stream",
     "text": [
      "bbob: START EVOLVING 2 PARAMETERS.\n",
      "{'num_gens': 50, 'iter_id': 48} {'Sphere_mean': DeviceArray(2.2794926e-05, dtype=float32), 'RosenbrockRotated_mean': DeviceArray(0.14651646, dtype=float32), 'Discus_mean': DeviceArray(19.32934, dtype=float32), 'RastriginRotated_mean': DeviceArray(0.1075053, dtype=float32), 'Schwefel_mean': DeviceArray(2.495427, dtype=float32), 'BuecheRastrigin_mean': DeviceArray(-19.495842, dtype=float32), 'AttractiveSector_mean': DeviceArray(0.02144763, dtype=float32), 'Weierstrass_mean': DeviceArray(0.04983287, dtype=float32), 'SchaffersF7_mean': DeviceArray(0.04306168, dtype=float32), 'GriewankRosenbrock_mean': DeviceArray(1.4581302, dtype=float32), 'EllipsoidalOriginal_mean': DeviceArray(1.4922802, dtype=float32), 'RastriginOriginal_mean': DeviceArray(0.02808023, dtype=float32), 'LinearSlope_mean': DeviceArray(37.61195, dtype=float32), 'StepEllipsoidal_mean': DeviceArray(0.5741604, dtype=float32), 'RosenbrockOriginal_mean': DeviceArray(0.023311, dtype=float32), 'EllipsoidalRotated_mean': DeviceArray(16.336388, dtype=float32), 'BentCigar_mean': DeviceArray(2.9611318, dtype=float32), 'SharpRidge_mean': DeviceArray(0.8814084, dtype=float32), 'DifferentPowers_mean': DeviceArray(0.00359374, dtype=float32), 'SchaffersF7IllConditioned_mean': DeviceArray(0.6079573, dtype=float32), 'Lunacek_mean': DeviceArray(24.508947, dtype=float32), 'Gallagher101Me_mean': DeviceArray(2.2757944e-05, dtype=float32), 'Gallagher21Hi_mean': DeviceArray(0.00020023, dtype=float32), 'Sphere_best': DeviceArray(5.7744965e-06, dtype=float32), 'RosenbrockRotated_best': DeviceArray(0.07576177, dtype=float32), 'Discus_best': DeviceArray(0.07342084, dtype=float32), 'RastriginRotated_best': DeviceArray(0.00561804, dtype=float32), 'Schwefel_best': DeviceArray(2.3280492, dtype=float32), 'BuecheRastrigin_best': DeviceArray(-19.974745, dtype=float32), 'AttractiveSector_best': DeviceArray(0.00129119, dtype=float32), 'Weierstrass_best': DeviceArray(0.00253665, dtype=float32), 'SchaffersF7_best': DeviceArray(0.00727263, dtype=float32), 'GriewankRosenbrock_best': DeviceArray(5.8555604e-05, dtype=float32), 'EllipsoidalOriginal_best': DeviceArray(0.05400638, dtype=float32), 'RastriginOriginal_best': DeviceArray(0.0011181, dtype=float32), 'LinearSlope_best': DeviceArray(36.77107, dtype=float32), 'StepEllipsoidal_best': DeviceArray(6.848299e-07, dtype=float32), 'RosenbrockOriginal_best': DeviceArray(0.00326236, dtype=float32), 'EllipsoidalRotated_best': DeviceArray(0.02993175, dtype=float32), 'BentCigar_best': DeviceArray(0.0161166, dtype=float32), 'SharpRidge_best': DeviceArray(0.07531463, dtype=float32), 'DifferentPowers_best': DeviceArray(0.00032425, dtype=float32), 'SchaffersF7IllConditioned_best': DeviceArray(0.1057654, dtype=float32), 'Lunacek_best': DeviceArray(6.985003, dtype=float32), 'Gallagher101Me_best': DeviceArray(5.4784004e-09, dtype=float32), 'Gallagher21Hi_best': DeviceArray(1.3490084e-07, dtype=float32)}\n",
      "\n"
     ]
    },
    {
     "data": {
      "text/html": [
       "<pre style=\"white-space:pre;overflow-x:auto;line-height:normal;font-family:Menlo,'DejaVu Sans Mono',consolas,'Courier New',monospace\">   ┏━━━━━━━━━━━━━━━┳━━━━┳━━━━━━━━━┳━━━━━━━━━━━━━━━━━━━━━━━━━━━━━━━━━━━━━━━━┓    \n",
       "   ┃<span style=\"font-weight: bold\"> 📥 Total: 49  </span>┃<span style=\"font-weight: bold\"> ID </span>┃<span style=\"font-weight: bold\"> Obj. 📉 </span>┃<span style=\"font-weight: bold\"> Configuration 🔖 - 06/12/2023 16:21:42 </span>┃    \n",
       "   ┡━━━━━━━━━━━━━━━╇━━━━╇━━━━━━━━━╇━━━━━━━━━━━━━━━━━━━━━━━━━━━━━━━━━━━━━━━━┩    \n",
       "   │<span style=\"color: #7f7f7f; text-decoration-color: #7f7f7f\"> Best Overall  </span>│ 43 │ -3.201  │ 'sigma_init': 0.056                    │    \n",
       "   │<span style=\"color: #7f7f7f; text-decoration-color: #7f7f7f\"> Best in Batch </span>│ 48 │ -3.878  │ 'sigma_init': 0.105                    │    \n",
       "   └───────────────┴────┴─────────┴────────────────────────────────────────┘    \n",
       "</pre>\n"
      ],
      "text/plain": [
       "   ┏━━━━━━━━━━━━━━━┳━━━━┳━━━━━━━━━┳━━━━━━━━━━━━━━━━━━━━━━━━━━━━━━━━━━━━━━━━┓    \n",
       "   ┃\u001b[1m \u001b[0m\u001b[1m📥 Total: 49 \u001b[0m\u001b[1m \u001b[0m┃\u001b[1m \u001b[0m\u001b[1mID\u001b[0m\u001b[1m \u001b[0m┃\u001b[1m \u001b[0m\u001b[1mObj. 📉\u001b[0m\u001b[1m \u001b[0m┃\u001b[1m \u001b[0m\u001b[1mConfiguration 🔖 - 06/12/2023 16:21:42\u001b[0m\u001b[1m \u001b[0m┃    \n",
       "   ┡━━━━━━━━━━━━━━━╇━━━━╇━━━━━━━━━╇━━━━━━━━━━━━━━━━━━━━━━━━━━━━━━━━━━━━━━━━┩    \n",
       "   │\u001b[2m \u001b[0m\u001b[2mBest Overall \u001b[0m\u001b[2m \u001b[0m│ 43 │ -3.201  │ 'sigma_init': 0.056                    │    \n",
       "   │\u001b[2m \u001b[0m\u001b[2mBest in Batch\u001b[0m\u001b[2m \u001b[0m│ 48 │ -3.878  │ 'sigma_init': 0.105                    │    \n",
       "   └───────────────┴────┴─────────┴────────────────────────────────────────┘    \n"
      ]
     },
     "metadata": {},
     "output_type": "display_data"
    },
    {
     "name": "stdout",
     "output_type": "stream",
     "text": [
      "bbob: START EVOLVING 2 PARAMETERS.\n",
      "{'num_gens': 50, 'iter_id': 49} {'Sphere_mean': DeviceArray(2.694503e-05, dtype=float32), 'RosenbrockRotated_mean': DeviceArray(0.1593236, dtype=float32), 'Discus_mean': DeviceArray(27.199385, dtype=float32), 'RastriginRotated_mean': DeviceArray(0.0814672, dtype=float32), 'Schwefel_mean': DeviceArray(2.3467827, dtype=float32), 'BuecheRastrigin_mean': DeviceArray(-19.008253, dtype=float32), 'AttractiveSector_mean': DeviceArray(0.02135505, dtype=float32), 'Weierstrass_mean': DeviceArray(0.0705408, dtype=float32), 'SchaffersF7_mean': DeviceArray(0.08193102, dtype=float32), 'GriewankRosenbrock_mean': DeviceArray(2.4662683, dtype=float32), 'EllipsoidalOriginal_mean': DeviceArray(3.2557023, dtype=float32), 'RastriginOriginal_mean': DeviceArray(0.02157577, dtype=float32), 'LinearSlope_mean': DeviceArray(34.512646, dtype=float32), 'StepEllipsoidal_mean': DeviceArray(0.43062064, dtype=float32), 'RosenbrockOriginal_mean': DeviceArray(0.02994121, dtype=float32), 'EllipsoidalRotated_mean': DeviceArray(9.568431, dtype=float32), 'BentCigar_mean': DeviceArray(2.6122804, dtype=float32), 'SharpRidge_mean': DeviceArray(0.95856684, dtype=float32), 'DifferentPowers_mean': DeviceArray(0.00355479, dtype=float32), 'SchaffersF7IllConditioned_mean': DeviceArray(0.5393109, dtype=float32), 'Lunacek_mean': DeviceArray(26.396408, dtype=float32), 'Gallagher101Me_mean': DeviceArray(3.1308606e-05, dtype=float32), 'Gallagher21Hi_mean': DeviceArray(0.00028096, dtype=float32), 'Sphere_best': DeviceArray(6.8258646e-06, dtype=float32), 'RosenbrockRotated_best': DeviceArray(0.07725977, dtype=float32), 'Discus_best': DeviceArray(0.0980928, dtype=float32), 'RastriginRotated_best': DeviceArray(0.00760719, dtype=float32), 'Schwefel_best': DeviceArray(2.2085743, dtype=float32), 'BuecheRastrigin_best': DeviceArray(-19.972326, dtype=float32), 'AttractiveSector_best': DeviceArray(0.00128339, dtype=float32), 'Weierstrass_best': DeviceArray(0.00278695, dtype=float32), 'SchaffersF7_best': DeviceArray(0.00921119, dtype=float32), 'GriewankRosenbrock_best': DeviceArray(0.0001215, dtype=float32), 'EllipsoidalOriginal_best': DeviceArray(0.05501167, dtype=float32), 'RastriginOriginal_best': DeviceArray(0.00523129, dtype=float32), 'LinearSlope_best': DeviceArray(33.59841, dtype=float32), 'StepEllipsoidal_best': DeviceArray(5.677839e-07, dtype=float32), 'RosenbrockOriginal_best': DeviceArray(0.00368555, dtype=float32), 'EllipsoidalRotated_best': DeviceArray(0.02717413, dtype=float32), 'BentCigar_best': DeviceArray(0.02146542, dtype=float32), 'SharpRidge_best': DeviceArray(0.0888588, dtype=float32), 'DifferentPowers_best': DeviceArray(0.00039348, dtype=float32), 'SchaffersF7IllConditioned_best': DeviceArray(0.04651672, dtype=float32), 'Lunacek_best': DeviceArray(7.8577585, dtype=float32), 'Gallagher101Me_best': DeviceArray(9.604497e-09, dtype=float32), 'Gallagher21Hi_best': DeviceArray(1.850929e-07, dtype=float32)}\n",
      "\n"
     ]
    },
    {
     "data": {
      "text/html": [
       "<pre style=\"white-space:pre;overflow-x:auto;line-height:normal;font-family:Menlo,'DejaVu Sans Mono',consolas,'Courier New',monospace\">   ┏━━━━━━━━━━━━━━━┳━━━━┳━━━━━━━━━┳━━━━━━━━━━━━━━━━━━━━━━━━━━━━━━━━━━━━━━━━┓    \n",
       "   ┃<span style=\"font-weight: bold\"> 📥 Total: 50  </span>┃<span style=\"font-weight: bold\"> ID </span>┃<span style=\"font-weight: bold\"> Obj. 📉 </span>┃<span style=\"font-weight: bold\"> Configuration 🔖 - 06/12/2023 16:22:11 </span>┃    \n",
       "   ┡━━━━━━━━━━━━━━━╇━━━━╇━━━━━━━━━╇━━━━━━━━━━━━━━━━━━━━━━━━━━━━━━━━━━━━━━━━┩    \n",
       "   │<span style=\"color: #7f7f7f; text-decoration-color: #7f7f7f\"> Best Overall  </span>│ 43 │ -3.201  │ 'sigma_init': 0.056                    │    \n",
       "   │<span style=\"color: #7f7f7f; text-decoration-color: #7f7f7f\"> Best in Batch </span>│ 49 │ -3.989  │ 'sigma_init': 0.114                    │    \n",
       "   └───────────────┴────┴─────────┴────────────────────────────────────────┘    \n",
       "</pre>\n"
      ],
      "text/plain": [
       "   ┏━━━━━━━━━━━━━━━┳━━━━┳━━━━━━━━━┳━━━━━━━━━━━━━━━━━━━━━━━━━━━━━━━━━━━━━━━━┓    \n",
       "   ┃\u001b[1m \u001b[0m\u001b[1m📥 Total: 50 \u001b[0m\u001b[1m \u001b[0m┃\u001b[1m \u001b[0m\u001b[1mID\u001b[0m\u001b[1m \u001b[0m┃\u001b[1m \u001b[0m\u001b[1mObj. 📉\u001b[0m\u001b[1m \u001b[0m┃\u001b[1m \u001b[0m\u001b[1mConfiguration 🔖 - 06/12/2023 16:22:11\u001b[0m\u001b[1m \u001b[0m┃    \n",
       "   ┡━━━━━━━━━━━━━━━╇━━━━╇━━━━━━━━━╇━━━━━━━━━━━━━━━━━━━━━━━━━━━━━━━━━━━━━━━━┩    \n",
       "   │\u001b[2m \u001b[0m\u001b[2mBest Overall \u001b[0m\u001b[2m \u001b[0m│ 43 │ -3.201  │ 'sigma_init': 0.056                    │    \n",
       "   │\u001b[2m \u001b[0m\u001b[2mBest in Batch\u001b[0m\u001b[2m \u001b[0m│ 49 │ -3.989  │ 'sigma_init': 0.114                    │    \n",
       "   └───────────────┴────┴─────────┴────────────────────────────────────────┘    \n"
      ]
     },
     "metadata": {},
     "output_type": "display_data"
    }
   ],
   "source": [
    "# Run the random search hyperparameter optimization loop\n",
    "for search_iter in range(50):\n",
    "    # Augment the default params with the proposed parameters\n",
    "    proposal_params = hyper_strategy.ask()\n",
    "    eval_config = copy.deepcopy(config)\n",
    "    for k, v in proposal_params.items():\n",
    "        eval_config.es_config[k] = v\n",
    "\n",
    "    # Evaluate the parameter config by running a ES loop\n",
    "    performance, solution = neb_eval_loops[\"bbob\"](\n",
    "        eval_config,\n",
    "        log=None,\n",
    "        search_iter=search_iter,\n",
    "    )\n",
    "\n",
    "    # Update search strategy - Note we minimize!\n",
    "    hyper_strategy.tell(proposal_params, float(performance))"
   ]
  },
  {
   "cell_type": "code",
   "execution_count": 9,
   "id": "debc9a64",
   "metadata": {},
   "outputs": [
    {
     "data": {
      "text/plain": [
       "(<Figure size 432x288 with 1 Axes>,\n",
       " <Axes: title={'center': 'Best Objective Value'}, xlabel='# Config Evaluations', ylabel='Objective'>)"
      ]
     },
     "execution_count": 9,
     "metadata": {},
     "output_type": "execute_result"
    },
    {
     "data": {
      "image/png": "[encoded data removed]",
      "text/plain": [
       "<Figure size 432x288 with 1 Axes>"
      ]
     },
     "metadata": {
      "image/png": {
       "height": 250,
       "width": 394
      }
     },
     "output_type": "display_data"
    }
   ],
   "source": [
    "hyper_strategy.plot_best()"
   ]
  }
 ],
 "metadata": {
  "kernelspec": {
   "display_name": "mle-toolbox",
   "language": "python",
   "name": "python3"
  },
  "language_info": {
   "codemirror_mode": {
    "name": "ipython",
    "version": 3
   },
   "file_extension": ".py",
   "mimetype": "text/x-python",
   "name": "python",
   "nbconvert_exporter": "python",
   "pygments_lexer": "ipython3",
   "version": "3.9.7"
  }
 },
 "nbformat": 4,
 "nbformat_minor": 5
}
